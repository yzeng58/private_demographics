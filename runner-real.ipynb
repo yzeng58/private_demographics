{
 "cells": [
  {
   "cell_type": "code",
   "execution_count": 2,
   "id": "ad3149ba",
   "metadata": {
    "scrolled": true
   },
   "outputs": [],
   "source": [
    "from methods import run_exp\n",
    "from time import time"
   ]
  },
  {
   "cell_type": "code",
   "execution_count": 3,
   "id": "4764585f",
   "metadata": {
    "scrolled": true
   },
   "outputs": [
    {
     "name": "stderr",
     "output_type": "stream",
     "text": [
      "Epoch: 2: 100%|██████████| 38/38 [01:21<00:00,  2.14s/it]\n"
     ]
    },
    {
     "ename": "RuntimeError",
     "evalue": "Expected 4-dimensional input for 4-dimensional weight [64, 3, 7, 7], but got 3-dimensional input of size [3, 224, 224] instead",
     "output_type": "error",
     "traceback": [
      "\u001b[0;31m---------------------------------------------------------------------------\u001b[0m",
      "\u001b[0;31mRuntimeError\u001b[0m                              Traceback (most recent call last)",
      "Input \u001b[0;32mIn [3]\u001b[0m, in \u001b[0;36m<cell line: 1>\u001b[0;34m()\u001b[0m\n\u001b[0;32m----> 1\u001b[0m \u001b[43mrun_exp\u001b[49m\u001b[43m(\u001b[49m\n\u001b[1;32m      2\u001b[0m \u001b[43m    \u001b[49m\u001b[43mmethod\u001b[49m\u001b[43m \u001b[49m\u001b[38;5;241;43m=\u001b[39;49m\u001b[43m \u001b[49m\u001b[38;5;124;43m'\u001b[39;49m\u001b[38;5;124;43mgrass\u001b[39;49m\u001b[38;5;124;43m'\u001b[39;49m\u001b[43m,\u001b[49m\u001b[43m \u001b[49m\n\u001b[1;32m      3\u001b[0m \u001b[43m    \u001b[49m\u001b[43mmodel\u001b[49m\u001b[43m \u001b[49m\u001b[38;5;241;43m=\u001b[39;49m\u001b[43m \u001b[49m\u001b[38;5;124;43m'\u001b[39;49m\u001b[38;5;124;43mresnet50\u001b[39;49m\u001b[38;5;124;43m'\u001b[39;49m\u001b[43m,\u001b[49m\u001b[43m \u001b[49m\n\u001b[1;32m      4\u001b[0m \u001b[43m    \u001b[49m\u001b[43mtrain_path\u001b[49m\u001b[43m \u001b[49m\u001b[38;5;241;43m=\u001b[39;49m\u001b[43m \u001b[49m\u001b[38;5;124;43m'\u001b[39;49m\u001b[38;5;124;43m/dccstor/storage/balanceGroups/data/waterbirds\u001b[39;49m\u001b[38;5;124;43m'\u001b[39;49m\u001b[43m,\u001b[49m\n\u001b[1;32m      5\u001b[0m \u001b[43m    \u001b[49m\u001b[43mdataset_name\u001b[49m\u001b[43m \u001b[49m\u001b[38;5;241;43m=\u001b[39;49m\u001b[43m \u001b[49m\u001b[38;5;124;43m'\u001b[39;49m\u001b[38;5;124;43mwaterbirds\u001b[39;49m\u001b[38;5;124;43m'\u001b[39;49m\u001b[43m,\u001b[49m\n\u001b[1;32m      6\u001b[0m \u001b[43m    \u001b[49m\u001b[43mval_path\u001b[49m\u001b[43m \u001b[49m\u001b[38;5;241;43m=\u001b[39;49m\u001b[43m \u001b[49m\u001b[38;5;28;43;01mNone\u001b[39;49;00m\u001b[43m,\u001b[49m\n\u001b[1;32m      7\u001b[0m \u001b[43m    \u001b[49m\u001b[43mtest_path\u001b[49m\u001b[43m \u001b[49m\u001b[38;5;241;43m=\u001b[39;49m\u001b[43m \u001b[49m\u001b[38;5;28;43;01mNone\u001b[39;49;00m\u001b[43m,\u001b[49m\n\u001b[1;32m      8\u001b[0m \u001b[43m    \u001b[49m\u001b[43mbatch_size\u001b[49m\u001b[43m \u001b[49m\u001b[38;5;241;43m=\u001b[39;49m\u001b[43m \u001b[49m\u001b[38;5;241;43m128\u001b[39;49m\u001b[43m,\u001b[49m\u001b[43m \u001b[49m\n\u001b[1;32m      9\u001b[0m \u001b[43m    \u001b[49m\u001b[43mlr\u001b[49m\u001b[43m \u001b[49m\u001b[38;5;241;43m=\u001b[39;49m\u001b[43m \u001b[49m\u001b[38;5;241;43m0.02\u001b[39;49m\u001b[43m,\u001b[49m\n\u001b[1;32m     10\u001b[0m \u001b[43m    \u001b[49m\u001b[43mlr_q\u001b[49m\u001b[43m \u001b[49m\u001b[38;5;241;43m=\u001b[39;49m\u001b[43m \u001b[49m\u001b[38;5;241;43m.001\u001b[39;49m\u001b[43m,\u001b[49m\n\u001b[1;32m     11\u001b[0m \u001b[43m    \u001b[49m\u001b[43mnum_epoch\u001b[49m\u001b[38;5;241;43m=\u001b[39;49m\u001b[43m \u001b[49m\u001b[38;5;241;43m10\u001b[39;49m\u001b[43m,\u001b[49m\n\u001b[1;32m     12\u001b[0m \u001b[43m    \u001b[49m\u001b[43mseed\u001b[49m\u001b[43m \u001b[49m\u001b[38;5;241;43m=\u001b[39;49m\u001b[43m \u001b[49m\u001b[38;5;241;43m123\u001b[39;49m\u001b[43m,\u001b[49m\n\u001b[1;32m     13\u001b[0m \u001b[43m    \u001b[49m\u001b[43mtarget_var\u001b[49m\u001b[43m \u001b[49m\u001b[38;5;241;43m=\u001b[39;49m\u001b[43m \u001b[49m\u001b[38;5;124;43m'\u001b[39;49m\u001b[38;5;124;43my\u001b[39;49m\u001b[38;5;124;43m'\u001b[39;49m\u001b[43m,\u001b[49m\n\u001b[1;32m     14\u001b[0m \u001b[43m    \u001b[49m\u001b[43mdomain\u001b[49m\u001b[43m \u001b[49m\u001b[38;5;241;43m=\u001b[39;49m\u001b[43m \u001b[49m\u001b[38;5;124;43m'\u001b[39;49m\u001b[38;5;124;43ma\u001b[39;49m\u001b[38;5;124;43m'\u001b[39;49m\u001b[43m,\u001b[49m\n\u001b[1;32m     15\u001b[0m \u001b[43m    \u001b[49m\u001b[43mdevice\u001b[49m\u001b[43m \u001b[49m\u001b[38;5;241;43m=\u001b[39;49m\u001b[43m \u001b[49m\u001b[38;5;124;43m'\u001b[39;49m\u001b[38;5;124;43mcuda:0\u001b[39;49m\u001b[38;5;124;43m'\u001b[39;49m\u001b[43m,\u001b[49m\n\u001b[1;32m     16\u001b[0m \u001b[43m    \u001b[49m\u001b[43msubsample\u001b[49m\u001b[43m \u001b[49m\u001b[38;5;241;43m=\u001b[39;49m\u001b[43m \u001b[49m\u001b[38;5;28;43;01mFalse\u001b[39;49;00m\u001b[43m,\u001b[49m\n\u001b[1;32m     17\u001b[0m \u001b[43m    \u001b[49m\u001b[43mtrain_supp_frac\u001b[49m\u001b[43m \u001b[49m\u001b[38;5;241;43m=\u001b[39;49m\u001b[43m \u001b[49m\u001b[38;5;241;43m0\u001b[39;49m\u001b[43m,\u001b[49m\u001b[43m \u001b[49m\n\u001b[1;32m     18\u001b[0m \u001b[43m    \u001b[49m\u001b[43mnum_workers\u001b[49m\u001b[43m \u001b[49m\u001b[38;5;241;43m=\u001b[39;49m\u001b[43m \u001b[49m\u001b[38;5;241;43m0\u001b[39;49m\u001b[43m,\u001b[49m\n\u001b[1;32m     19\u001b[0m \u001b[43m    \u001b[49m\u001b[43mlog_wandb\u001b[49m\u001b[43m \u001b[49m\u001b[38;5;241;43m=\u001b[39;49m\u001b[43m \u001b[49m\u001b[38;5;241;43m0\u001b[39;49m\u001b[43m,\u001b[49m\n\u001b[1;32m     20\u001b[0m \u001b[43m    \u001b[49m\u001b[43mpin_memory\u001b[49m\u001b[43m \u001b[49m\u001b[38;5;241;43m=\u001b[39;49m\u001b[43m \u001b[49m\u001b[38;5;28;43;01mFalse\u001b[39;49;00m\u001b[43m,\u001b[49m\n\u001b[1;32m     21\u001b[0m \u001b[43m)\u001b[49m\n",
      "File \u001b[0;32m/dccstor/storage/privateDemographics/methods.py:578\u001b[0m, in \u001b[0;36mrun_exp\u001b[0;34m(method, model, train_path, dataset_name, val_path, test_path, batch_size, lr, lr_q, num_epoch, weight_decay, seed, target_var, domain, device, subsample, train_supp_frac, num_workers, pin_memory, log_wandb, wandb_group_name, task, start_model_path, pred_domains_path)\u001b[0m\n\u001b[1;32m    576\u001b[0m data_json \u001b[38;5;241m=\u001b[39m defaultdict(\u001b[38;5;28mlist\u001b[39m)\n\u001b[1;32m    577\u001b[0m \u001b[38;5;28;01mif\u001b[39;00m method \u001b[38;5;241m==\u001b[39m \u001b[38;5;124m'\u001b[39m\u001b[38;5;124mgrass\u001b[39m\u001b[38;5;124m'\u001b[39m:\n\u001b[0;32m--> 578\u001b[0m     domain_loader \u001b[38;5;241m=\u001b[39m \u001b[43mget_domain\u001b[49m\u001b[43m(\u001b[49m\n\u001b[1;32m    579\u001b[0m \u001b[43m        \u001b[49m\u001b[43mm\u001b[49m\u001b[43m,\u001b[49m\u001b[43m \u001b[49m\n\u001b[1;32m    580\u001b[0m \u001b[43m        \u001b[49m\u001b[43mloader\u001b[49m\u001b[43m,\u001b[49m\n\u001b[1;32m    581\u001b[0m \u001b[43m        \u001b[49m\u001b[43mdevice\u001b[49m\u001b[43m,\u001b[49m\u001b[43m \u001b[49m\n\u001b[1;32m    582\u001b[0m \u001b[43m        \u001b[49m\u001b[43moptim\u001b[49m\u001b[43m,\u001b[49m\u001b[43m \u001b[49m\n\u001b[1;32m    583\u001b[0m \u001b[43m        \u001b[49m\u001b[43mmodel\u001b[49m\u001b[43m,\u001b[49m\n\u001b[1;32m    584\u001b[0m \u001b[43m        \u001b[49m\u001b[43mdataset_name\u001b[49m\u001b[43m,\u001b[49m\n\u001b[1;32m    585\u001b[0m \u001b[43m        \u001b[49m\u001b[43mbatch_size\u001b[49m\u001b[43m,\u001b[49m\n\u001b[1;32m    586\u001b[0m \u001b[43m        \u001b[49m\u001b[43mnum_class\u001b[49m\u001b[43m,\u001b[49m\n\u001b[1;32m    587\u001b[0m \u001b[43m        \u001b[49m\u001b[43mnum_domain\u001b[49m\u001b[43m,\u001b[49m\u001b[43m \u001b[49m\n\u001b[1;32m    588\u001b[0m \u001b[43m        \u001b[49m\u001b[43mnum_group\u001b[49m\u001b[43m,\u001b[49m\n\u001b[1;32m    589\u001b[0m \u001b[43m        \u001b[49m\u001b[43mtask\u001b[49m\u001b[43m,\u001b[49m\n\u001b[1;32m    590\u001b[0m \u001b[43m        \u001b[49m\u001b[43mlr_q\u001b[49m\u001b[43m,\u001b[49m\n\u001b[1;32m    591\u001b[0m \u001b[43m        \u001b[49m\u001b[43mlr_scheduler\u001b[49m\u001b[43m,\u001b[49m\n\u001b[1;32m    592\u001b[0m \u001b[43m        \u001b[49m\u001b[43mpred_domains_path\u001b[49m\u001b[43m,\u001b[49m\n\u001b[1;32m    593\u001b[0m \u001b[43m    \u001b[49m\u001b[43m)\u001b[49m\n\u001b[1;32m    594\u001b[0m     domain_loader[\u001b[38;5;124m'\u001b[39m\u001b[38;5;124mtrain_iter\u001b[39m\u001b[38;5;124m'\u001b[39m] \u001b[38;5;241m=\u001b[39m \u001b[38;5;28miter\u001b[39m(domain_loader[\u001b[38;5;124m'\u001b[39m\u001b[38;5;124mtrain\u001b[39m\u001b[38;5;124m'\u001b[39m])\n\u001b[1;32m    595\u001b[0m     domain_loader[\u001b[38;5;124m'\u001b[39m\u001b[38;5;124mval_iter\u001b[39m\u001b[38;5;124m'\u001b[39m] \u001b[38;5;241m=\u001b[39m \u001b[38;5;28miter\u001b[39m(domain_loader[\u001b[38;5;124m'\u001b[39m\u001b[38;5;124mval\u001b[39m\u001b[38;5;124m'\u001b[39m])\n",
      "File \u001b[0;32m/dccstor/storage/privateDemographics/methods.py:124\u001b[0m, in \u001b[0;36mget_domain\u001b[0;34m(m, loader, device, optim, model, dataset_name, batch_size, num_class, num_domain, num_group, task, lr_q, lr_scheduler, pred_domains_path)\u001b[0m\n\u001b[1;32m    122\u001b[0m features, labels \u001b[38;5;241m=\u001b[39m features\u001b[38;5;241m.\u001b[39mto(device), labels\u001b[38;5;241m.\u001b[39mto(device)\n\u001b[1;32m    123\u001b[0m \u001b[38;5;28;01mfor\u001b[39;00m feature, label \u001b[38;5;129;01min\u001b[39;00m \u001b[38;5;28mzip\u001b[39m(features, labels):\n\u001b[0;32m--> 124\u001b[0m     output \u001b[38;5;241m=\u001b[39m \u001b[43mm\u001b[49m\u001b[43m(\u001b[49m\u001b[43mfeature\u001b[49m\u001b[43m)\u001b[49m\n\u001b[1;32m    125\u001b[0m     \u001b[38;5;28;01mif\u001b[39;00m \u001b[38;5;28mlen\u001b[39m(output) \u001b[38;5;241m==\u001b[39m \u001b[38;5;241m2\u001b[39m:\n\u001b[1;32m    126\u001b[0m         _, output \u001b[38;5;241m=\u001b[39m output\n",
      "File \u001b[0;32m~/.conda/envs/balancinggroups/lib/python3.8/site-packages/torch/nn/modules/module.py:1102\u001b[0m, in \u001b[0;36mModule._call_impl\u001b[0;34m(self, *input, **kwargs)\u001b[0m\n\u001b[1;32m   1098\u001b[0m \u001b[38;5;66;03m# If we don't have any hooks, we want to skip the rest of the logic in\u001b[39;00m\n\u001b[1;32m   1099\u001b[0m \u001b[38;5;66;03m# this function, and just call forward.\u001b[39;00m\n\u001b[1;32m   1100\u001b[0m \u001b[38;5;28;01mif\u001b[39;00m \u001b[38;5;129;01mnot\u001b[39;00m (\u001b[38;5;28mself\u001b[39m\u001b[38;5;241m.\u001b[39m_backward_hooks \u001b[38;5;129;01mor\u001b[39;00m \u001b[38;5;28mself\u001b[39m\u001b[38;5;241m.\u001b[39m_forward_hooks \u001b[38;5;129;01mor\u001b[39;00m \u001b[38;5;28mself\u001b[39m\u001b[38;5;241m.\u001b[39m_forward_pre_hooks \u001b[38;5;129;01mor\u001b[39;00m _global_backward_hooks\n\u001b[1;32m   1101\u001b[0m         \u001b[38;5;129;01mor\u001b[39;00m _global_forward_hooks \u001b[38;5;129;01mor\u001b[39;00m _global_forward_pre_hooks):\n\u001b[0;32m-> 1102\u001b[0m     \u001b[38;5;28;01mreturn\u001b[39;00m \u001b[43mforward_call\u001b[49m\u001b[43m(\u001b[49m\u001b[38;5;241;43m*\u001b[39;49m\u001b[38;5;28;43minput\u001b[39;49m\u001b[43m,\u001b[49m\u001b[43m \u001b[49m\u001b[38;5;241;43m*\u001b[39;49m\u001b[38;5;241;43m*\u001b[39;49m\u001b[43mkwargs\u001b[49m\u001b[43m)\u001b[49m\n\u001b[1;32m   1103\u001b[0m \u001b[38;5;66;03m# Do not call functions when jit is used\u001b[39;00m\n\u001b[1;32m   1104\u001b[0m full_backward_hooks, non_full_backward_hooks \u001b[38;5;241m=\u001b[39m [], []\n",
      "File \u001b[0;32m~/.conda/envs/balancinggroups/lib/python3.8/site-packages/torchvision/models/resnet.py:249\u001b[0m, in \u001b[0;36mResNet.forward\u001b[0;34m(self, x)\u001b[0m\n\u001b[1;32m    248\u001b[0m \u001b[38;5;28;01mdef\u001b[39;00m \u001b[38;5;21mforward\u001b[39m(\u001b[38;5;28mself\u001b[39m, x: Tensor) \u001b[38;5;241m-\u001b[39m\u001b[38;5;241m>\u001b[39m Tensor:\n\u001b[0;32m--> 249\u001b[0m     \u001b[38;5;28;01mreturn\u001b[39;00m \u001b[38;5;28;43mself\u001b[39;49m\u001b[38;5;241;43m.\u001b[39;49m\u001b[43m_forward_impl\u001b[49m\u001b[43m(\u001b[49m\u001b[43mx\u001b[49m\u001b[43m)\u001b[49m\n",
      "File \u001b[0;32m~/.conda/envs/balancinggroups/lib/python3.8/site-packages/torchvision/models/resnet.py:232\u001b[0m, in \u001b[0;36mResNet._forward_impl\u001b[0;34m(self, x)\u001b[0m\n\u001b[1;32m    230\u001b[0m \u001b[38;5;28;01mdef\u001b[39;00m \u001b[38;5;21m_forward_impl\u001b[39m(\u001b[38;5;28mself\u001b[39m, x: Tensor) \u001b[38;5;241m-\u001b[39m\u001b[38;5;241m>\u001b[39m Tensor:\n\u001b[1;32m    231\u001b[0m     \u001b[38;5;66;03m# See note [TorchScript super()]\u001b[39;00m\n\u001b[0;32m--> 232\u001b[0m     x \u001b[38;5;241m=\u001b[39m \u001b[38;5;28;43mself\u001b[39;49m\u001b[38;5;241;43m.\u001b[39;49m\u001b[43mconv1\u001b[49m\u001b[43m(\u001b[49m\u001b[43mx\u001b[49m\u001b[43m)\u001b[49m\n\u001b[1;32m    233\u001b[0m     x \u001b[38;5;241m=\u001b[39m \u001b[38;5;28mself\u001b[39m\u001b[38;5;241m.\u001b[39mbn1(x)\n\u001b[1;32m    234\u001b[0m     x \u001b[38;5;241m=\u001b[39m \u001b[38;5;28mself\u001b[39m\u001b[38;5;241m.\u001b[39mrelu(x)\n",
      "File \u001b[0;32m~/.conda/envs/balancinggroups/lib/python3.8/site-packages/torch/nn/modules/module.py:1102\u001b[0m, in \u001b[0;36mModule._call_impl\u001b[0;34m(self, *input, **kwargs)\u001b[0m\n\u001b[1;32m   1098\u001b[0m \u001b[38;5;66;03m# If we don't have any hooks, we want to skip the rest of the logic in\u001b[39;00m\n\u001b[1;32m   1099\u001b[0m \u001b[38;5;66;03m# this function, and just call forward.\u001b[39;00m\n\u001b[1;32m   1100\u001b[0m \u001b[38;5;28;01mif\u001b[39;00m \u001b[38;5;129;01mnot\u001b[39;00m (\u001b[38;5;28mself\u001b[39m\u001b[38;5;241m.\u001b[39m_backward_hooks \u001b[38;5;129;01mor\u001b[39;00m \u001b[38;5;28mself\u001b[39m\u001b[38;5;241m.\u001b[39m_forward_hooks \u001b[38;5;129;01mor\u001b[39;00m \u001b[38;5;28mself\u001b[39m\u001b[38;5;241m.\u001b[39m_forward_pre_hooks \u001b[38;5;129;01mor\u001b[39;00m _global_backward_hooks\n\u001b[1;32m   1101\u001b[0m         \u001b[38;5;129;01mor\u001b[39;00m _global_forward_hooks \u001b[38;5;129;01mor\u001b[39;00m _global_forward_pre_hooks):\n\u001b[0;32m-> 1102\u001b[0m     \u001b[38;5;28;01mreturn\u001b[39;00m \u001b[43mforward_call\u001b[49m\u001b[43m(\u001b[49m\u001b[38;5;241;43m*\u001b[39;49m\u001b[38;5;28;43minput\u001b[39;49m\u001b[43m,\u001b[49m\u001b[43m \u001b[49m\u001b[38;5;241;43m*\u001b[39;49m\u001b[38;5;241;43m*\u001b[39;49m\u001b[43mkwargs\u001b[49m\u001b[43m)\u001b[49m\n\u001b[1;32m   1103\u001b[0m \u001b[38;5;66;03m# Do not call functions when jit is used\u001b[39;00m\n\u001b[1;32m   1104\u001b[0m full_backward_hooks, non_full_backward_hooks \u001b[38;5;241m=\u001b[39m [], []\n",
      "File \u001b[0;32m~/.conda/envs/balancinggroups/lib/python3.8/site-packages/torch/nn/modules/conv.py:446\u001b[0m, in \u001b[0;36mConv2d.forward\u001b[0;34m(self, input)\u001b[0m\n\u001b[1;32m    445\u001b[0m \u001b[38;5;28;01mdef\u001b[39;00m \u001b[38;5;21mforward\u001b[39m(\u001b[38;5;28mself\u001b[39m, \u001b[38;5;28minput\u001b[39m: Tensor) \u001b[38;5;241m-\u001b[39m\u001b[38;5;241m>\u001b[39m Tensor:\n\u001b[0;32m--> 446\u001b[0m     \u001b[38;5;28;01mreturn\u001b[39;00m \u001b[38;5;28;43mself\u001b[39;49m\u001b[38;5;241;43m.\u001b[39;49m\u001b[43m_conv_forward\u001b[49m\u001b[43m(\u001b[49m\u001b[38;5;28;43minput\u001b[39;49m\u001b[43m,\u001b[49m\u001b[43m \u001b[49m\u001b[38;5;28;43mself\u001b[39;49m\u001b[38;5;241;43m.\u001b[39;49m\u001b[43mweight\u001b[49m\u001b[43m,\u001b[49m\u001b[43m \u001b[49m\u001b[38;5;28;43mself\u001b[39;49m\u001b[38;5;241;43m.\u001b[39;49m\u001b[43mbias\u001b[49m\u001b[43m)\u001b[49m\n",
      "File \u001b[0;32m~/.conda/envs/balancinggroups/lib/python3.8/site-packages/torch/nn/modules/conv.py:442\u001b[0m, in \u001b[0;36mConv2d._conv_forward\u001b[0;34m(self, input, weight, bias)\u001b[0m\n\u001b[1;32m    438\u001b[0m \u001b[38;5;28;01mif\u001b[39;00m \u001b[38;5;28mself\u001b[39m\u001b[38;5;241m.\u001b[39mpadding_mode \u001b[38;5;241m!=\u001b[39m \u001b[38;5;124m'\u001b[39m\u001b[38;5;124mzeros\u001b[39m\u001b[38;5;124m'\u001b[39m:\n\u001b[1;32m    439\u001b[0m     \u001b[38;5;28;01mreturn\u001b[39;00m F\u001b[38;5;241m.\u001b[39mconv2d(F\u001b[38;5;241m.\u001b[39mpad(\u001b[38;5;28minput\u001b[39m, \u001b[38;5;28mself\u001b[39m\u001b[38;5;241m.\u001b[39m_reversed_padding_repeated_twice, mode\u001b[38;5;241m=\u001b[39m\u001b[38;5;28mself\u001b[39m\u001b[38;5;241m.\u001b[39mpadding_mode),\n\u001b[1;32m    440\u001b[0m                     weight, bias, \u001b[38;5;28mself\u001b[39m\u001b[38;5;241m.\u001b[39mstride,\n\u001b[1;32m    441\u001b[0m                     _pair(\u001b[38;5;241m0\u001b[39m), \u001b[38;5;28mself\u001b[39m\u001b[38;5;241m.\u001b[39mdilation, \u001b[38;5;28mself\u001b[39m\u001b[38;5;241m.\u001b[39mgroups)\n\u001b[0;32m--> 442\u001b[0m \u001b[38;5;28;01mreturn\u001b[39;00m \u001b[43mF\u001b[49m\u001b[38;5;241;43m.\u001b[39;49m\u001b[43mconv2d\u001b[49m\u001b[43m(\u001b[49m\u001b[38;5;28;43minput\u001b[39;49m\u001b[43m,\u001b[49m\u001b[43m \u001b[49m\u001b[43mweight\u001b[49m\u001b[43m,\u001b[49m\u001b[43m \u001b[49m\u001b[43mbias\u001b[49m\u001b[43m,\u001b[49m\u001b[43m \u001b[49m\u001b[38;5;28;43mself\u001b[39;49m\u001b[38;5;241;43m.\u001b[39;49m\u001b[43mstride\u001b[49m\u001b[43m,\u001b[49m\n\u001b[1;32m    443\u001b[0m \u001b[43m                \u001b[49m\u001b[38;5;28;43mself\u001b[39;49m\u001b[38;5;241;43m.\u001b[39;49m\u001b[43mpadding\u001b[49m\u001b[43m,\u001b[49m\u001b[43m \u001b[49m\u001b[38;5;28;43mself\u001b[39;49m\u001b[38;5;241;43m.\u001b[39;49m\u001b[43mdilation\u001b[49m\u001b[43m,\u001b[49m\u001b[43m \u001b[49m\u001b[38;5;28;43mself\u001b[39;49m\u001b[38;5;241;43m.\u001b[39;49m\u001b[43mgroups\u001b[49m\u001b[43m)\u001b[49m\n",
      "\u001b[0;31mRuntimeError\u001b[0m: Expected 4-dimensional input for 4-dimensional weight [64, 3, 7, 7], but got 3-dimensional input of size [3, 224, 224] instead"
     ]
    }
   ],
   "source": [
    "run_exp(\n",
    "    method = 'grass', \n",
    "    model = 'resnet50', \n",
    "    train_path = '/dccstor/storage/balanceGroups/data/waterbirds',\n",
    "    dataset_name = 'waterbirds',\n",
    "    val_path = None,\n",
    "    test_path = None,\n",
    "    batch_size = 128, \n",
    "    lr = 0.02,\n",
    "    lr_q = .001,\n",
    "    num_epoch= 10,\n",
    "    seed = 123,\n",
    "    target_var = 'y',\n",
    "    domain = 'a',\n",
    "    device = 'cuda:0',\n",
    "    subsample = False,\n",
    "    train_supp_frac = 0, \n",
    "    num_workers = 0,\n",
    "    log_wandb = 0,\n",
    "    pin_memory = False,\n",
    ")"
   ]
  },
  {
   "cell_type": "code",
   "execution_count": 4,
   "id": "44ad666d",
   "metadata": {
    "scrolled": true
   },
   "outputs": [
    {
     "name": "stdout",
     "output_type": "stream",
     "text": [
      "=============== Training ===============\n"
     ]
    },
    {
     "name": "stderr",
     "output_type": "stream",
     "text": [
      "Epoch: 1: 100%|██████████| 38/38 [00:42<00:00,  1.11s/it]\n"
     ]
    },
    {
     "name": "stdout",
     "output_type": "stream",
     "text": [
      "------------------------------------------------------\n",
      "|      metric    | group 0| group 1| group 2| group 3|\n",
      "|    accuracy    | 99.34% | 46.20% | 26.79% | 93.00% |\n",
      "|      loss      |   0.02 |   4.59 |   7.23 |   0.41 |\n",
      "------------------------------------------------------\n",
      "| Accuracy Loss: 0.3689\n",
      "| Worst-case Accuracy: 26.79%\n",
      "| Average Accuracy: 95.06%\n",
      "| Reweighted Accuracy: 95.06%\n",
      "=============== Validation ===============\n",
      "------------------------------------------------------\n",
      "|      metric    | group 0| group 1| group 2| group 3|\n",
      "|    accuracy    | 98.29% | 46.57% | 30.08% | 96.99% |\n",
      "|      loss      |   0.05 |   4.73 |   7.54 |   0.29 |\n",
      "------------------------------------------------------\n",
      "| Accuracy Loss: 2.7268\n",
      "| Worst-case Accuracy: 30.08%\n",
      "| Average Accuracy: 70.48%\n",
      "| Reweighted Accuracy: 95.22%\n",
      "=============== Training ===============\n"
     ]
    },
    {
     "name": "stderr",
     "output_type": "stream",
     "text": [
      "Epoch: 2: 100%|██████████| 38/38 [00:43<00:00,  1.15s/it]\n"
     ]
    },
    {
     "name": "stdout",
     "output_type": "stream",
     "text": [
      "------------------------------------------------------\n",
      "|      metric    | group 0| group 1| group 2| group 3|\n",
      "|    accuracy    |99.91% | 91.30% | 30.36% | 81.74% |\n",
      "|      loss      |   0.00 |   0.34 |   6.61 |   1.01 |\n",
      "------------------------------------------------------\n",
      "| Accuracy Loss: 0.3155\n",
      "| Worst-case Accuracy: 30.36%\n",
      "| Average Accuracy: 94.77%\n",
      "| Reweighted Accuracy: 94.77%\n",
      "=============== Validation ===============\n",
      "------------------------------------------------------\n",
      "|      metric    | group 0| group 1| group 2| group 3|\n",
      "|    accuracy    |99.79% | 86.27% | 21.80% | 84.96% |\n",
      "|      loss      |   0.01 |   0.60 |   7.67 |   0.80 |\n",
      "------------------------------------------------------\n",
      "| Accuracy Loss: 1.1770\n",
      "| Worst-case Accuracy: 21.80%\n",
      "| Average Accuracy: 84.24%\n",
      "| Reweighted Accuracy: 95.09%\n",
      "=============== Training ===============\n"
     ]
    },
    {
     "name": "stderr",
     "output_type": "stream",
     "text": [
      "Epoch: 3: 100%|██████████| 38/38 [00:42<00:00,  1.11s/it]\n"
     ]
    },
    {
     "name": "stdout",
     "output_type": "stream",
     "text": [
      "------------------------------------------------------\n",
      "|      metric    | group 0| group 1| group 2| group 3|\n",
      "|    accuracy    |99.83% | 92.93% | 51.79% | 86.19% |\n",
      "|      loss      |   0.01 |   0.25 |   2.92 |   0.56 |\n",
      "------------------------------------------------------\n",
      "| Accuracy Loss: 0.1713\n",
      "| Worst-case Accuracy: 51.79%\n",
      "| Average Accuracy: 96.00%\n",
      "| Reweighted Accuracy: 96.00%\n",
      "=============== Validation ===============\n",
      "------------------------------------------------------\n",
      "|      metric    | group 0| group 1| group 2| group 3|\n",
      "|    accuracy    |99.79% | 86.05% | 37.59% | 86.47% |\n",
      "|      loss      |   0.01 |   0.56 |   4.28 |   0.58 |\n",
      "------------------------------------------------------\n",
      "| Accuracy Loss: 0.7634\n",
      "| Worst-case Accuracy: 37.59%\n",
      "| Average Accuracy: 86.07%\n",
      "| Reweighted Accuracy: 95.60%\n",
      "=============== Training ===============\n"
     ]
    },
    {
     "name": "stderr",
     "output_type": "stream",
     "text": [
      "Epoch: 4: 100%|██████████| 38/38 [00:40<00:00,  1.08s/it]\n"
     ]
    },
    {
     "name": "stdout",
     "output_type": "stream",
     "text": [
      "------------------------------------------------------\n",
      "|      metric    | group 0| group 1| group 2| group 3|\n",
      "|    accuracy    |99.66% | 79.35% | 66.07% | 93.85% |\n",
      "|      loss      |   0.01 |   0.63 |   1.52 |   0.19 |\n",
      "------------------------------------------------------\n",
      "| Accuracy Loss: 0.0935\n",
      "| Worst-case Accuracy: 66.07%\n",
      "| Average Accuracy: 97.21%\n",
      "| Reweighted Accuracy: 97.21%\n",
      "=============== Validation ===============\n",
      "------------------------------------------------------\n",
      "|      metric    | group 0| group 1| group 2| group 3|\n",
      "|    accuracy    | 99.36% | 69.53% | 52.63% | 94.74% |\n",
      "|      loss      |   0.02 |   1.21 |   2.84 |   0.30 |\n",
      "------------------------------------------------------\n",
      "| Accuracy Loss: 0.8274\n",
      "| Worst-case Accuracy: 52.63%\n",
      "| Average Accuracy: 82.07%\n",
      "| Reweighted Accuracy: 96.65%\n",
      "=============== Training ===============\n"
     ]
    },
    {
     "name": "stderr",
     "output_type": "stream",
     "text": [
      "Epoch: 5: 100%|██████████| 38/38 [00:40<00:00,  1.07s/it]\n"
     ]
    },
    {
     "name": "stdout",
     "output_type": "stream",
     "text": [
      "------------------------------------------------------\n",
      "|      metric    | group 0| group 1| group 2| group 3|\n",
      "|    accuracy    | 93.65% | 21.20% | 89.29% | 99.43% |\n",
      "|      loss      |   0.18 |   4.25 |   0.37 |   0.01 |\n",
      "------------------------------------------------------\n",
      "| Accuracy Loss: 0.3042\n",
      "| Worst-case Accuracy: 21.20%\n",
      "| Average Accuracy: 92.10%\n",
      "| Reweighted Accuracy: 92.10%\n",
      "=============== Validation ===============\n",
      "------------------------------------------------------\n",
      "|      metric    | group 0| group 1| group 2| group 3|\n",
      "|    accuracy    | 92.51% | 28.33% | 72.93% | 98.50% |\n",
      "|      loss      |   0.23 |   4.96 |   1.06 |   0.06 |\n",
      "------------------------------------------------------\n",
      "| Accuracy Loss: 2.1414\n",
      "| Worst-case Accuracy: 28.33%\n",
      "| Average Accuracy: 66.06%\n",
      "| Reweighted Accuracy: 91.13%\n",
      "=============== Training ===============\n"
     ]
    },
    {
     "name": "stderr",
     "output_type": "stream",
     "text": [
      "Epoch: 6: 100%|██████████| 38/38 [00:40<00:00,  1.08s/it]\n"
     ]
    },
    {
     "name": "stdout",
     "output_type": "stream",
     "text": [
      "------------------------------------------------------\n",
      "|      metric    | group 0| group 1| group 2| group 3|\n",
      "|    accuracy    | 99.23% | 78.80% | 76.79% | 96.12% |\n",
      "|      loss      |   0.03 |   0.59 |   0.91 |   0.12 |\n",
      "------------------------------------------------------\n",
      "| Accuracy Loss: 0.0779\n",
      "| Worst-case Accuracy: 76.79%\n",
      "| Average Accuracy: 97.50%\n",
      "| Reweighted Accuracy: 97.50%\n",
      "=============== Validation ===============\n",
      "------------------------------------------------------\n",
      "|      metric    | group 0| group 1| group 2| group 3|\n",
      "|    accuracy    | 98.29% | 67.38% | 57.14% | 95.49% |\n",
      "|      loss      |   0.05 |   1.28 |   2.22 |   0.24 |\n",
      "------------------------------------------------------\n",
      "| Accuracy Loss: 0.7919\n",
      "| Worst-case Accuracy: 57.14%\n",
      "| Average Accuracy: 81.40%\n",
      "| Reweighted Accuracy: 96.00%\n",
      "=============== Training ===============\n"
     ]
    },
    {
     "name": "stderr",
     "output_type": "stream",
     "text": [
      "Epoch: 7: 100%|██████████| 38/38 [00:40<00:00,  1.07s/it]\n"
     ]
    },
    {
     "name": "stdout",
     "output_type": "stream",
     "text": [
      "------------------------------------------------------\n",
      "|      metric    | group 0| group 1| group 2| group 3|\n",
      "|    accuracy    | 99.20% | 76.09% | 80.36% | 96.97% |\n",
      "|      loss      |   0.02 |   0.57 |   0.77 |   0.08 |\n",
      "------------------------------------------------------\n",
      "| Accuracy Loss: 0.0650\n",
      "| Worst-case Accuracy: 76.09%\n",
      "| Average Accuracy: 97.60%\n",
      "| Reweighted Accuracy: 97.60%\n",
      "=============== Validation ===============\n",
      "------------------------------------------------------\n",
      "|      metric    | group 0| group 1| group 2| group 3|\n",
      "|    accuracy    | 98.72% | 63.73% | 55.64% | 95.49% |\n",
      "|      loss      |   0.04 |   1.36 |   2.13 |   0.21 |\n",
      "------------------------------------------------------\n",
      "| Accuracy Loss: 0.8036\n",
      "| Worst-case Accuracy: 55.64%\n",
      "| Average Accuracy: 79.98%\n",
      "| Reweighted Accuracy: 96.16%\n",
      "=============== Training ===============\n"
     ]
    },
    {
     "name": "stderr",
     "output_type": "stream",
     "text": [
      "Epoch: 8: 100%|██████████| 38/38 [00:40<00:00,  1.07s/it]\n"
     ]
    },
    {
     "name": "stdout",
     "output_type": "stream",
     "text": [
      "------------------------------------------------------\n",
      "|      metric    | group 0| group 1| group 2| group 3|\n",
      "|    accuracy    |99.77% | 90.22% | 48.21% | 93.95% |\n",
      "|      loss      |   0.01 |   0.28 |   1.65 |   0.19 |\n",
      "------------------------------------------------------\n",
      "| Accuracy Loss: 0.0753\n",
      "| Worst-case Accuracy: 48.21%\n",
      "| Average Accuracy: 97.52%\n",
      "| Reweighted Accuracy: 97.52%\n",
      "=============== Validation ===============\n",
      "------------------------------------------------------\n",
      "|      metric    | group 0| group 1| group 2| group 3|\n",
      "|    accuracy    |99.57% | 74.25% | 43.61% | 93.23% |\n",
      "|      loss      |   0.02 |   0.93 |   3.22 |   0.32 |\n",
      "------------------------------------------------------\n",
      "| Accuracy Loss: 0.7594\n",
      "| Worst-case Accuracy: 43.61%\n",
      "| Average Accuracy: 82.82%\n",
      "| Reweighted Accuracy: 96.55%\n",
      "=============== Training ===============\n"
     ]
    },
    {
     "name": "stderr",
     "output_type": "stream",
     "text": [
      "Epoch: 9: 100%|██████████| 38/38 [00:41<00:00,  1.09s/it]\n"
     ]
    },
    {
     "name": "stdout",
     "output_type": "stream",
     "text": [
      "------------------------------------------------------\n",
      "|      metric    | group 0| group 1| group 2| group 3|\n",
      "|    accuracy    |100.00% | 99.46% | 14.29% | 64.43% |\n",
      "|      loss      |   0.00 |   0.01 |   5.70 |   1.39 |\n",
      "------------------------------------------------------\n",
      "| Accuracy Loss: 0.3741\n",
      "| Worst-case Accuracy: 14.29%\n",
      "| Average Accuracy: 91.14%\n",
      "| Reweighted Accuracy: 91.14%\n",
      "=============== Validation ===============\n",
      "------------------------------------------------------\n",
      "|      metric    | group 0| group 1| group 2| group 3|\n",
      "|    accuracy    |100.00% | 95.71% | 13.53% | 63.16% |\n",
      "|      loss      |   0.00 |   0.13 |   7.60 |   1.54 |\n",
      "------------------------------------------------------\n",
      "| Accuracy Loss: 1.0665\n",
      "| Worst-case Accuracy: 13.53%\n",
      "| Average Accuracy: 84.65%\n",
      "| Reweighted Accuracy: 90.70%\n",
      "=============== Training ===============\n"
     ]
    },
    {
     "name": "stderr",
     "output_type": "stream",
     "text": [
      "Epoch: 10: 100%|██████████| 38/38 [00:42<00:00,  1.11s/it]\n"
     ]
    },
    {
     "name": "stdout",
     "output_type": "stream",
     "text": [
      "------------------------------------------------------\n",
      "|      metric    | group 0| group 1| group 2| group 3|\n",
      "|    accuracy    |99.91% | 91.30% | 46.43% | 91.20% |\n",
      "|      loss      |   0.00 |   0.24 |   3.10 |   0.32 |\n",
      "------------------------------------------------------\n",
      "| Accuracy Loss: 0.1166\n",
      "| Worst-case Accuracy: 46.43%\n",
      "| Average Accuracy: 97.04%\n",
      "| Reweighted Accuracy: 97.04%\n",
      "=============== Validation ===============\n",
      "------------------------------------------------------\n",
      "|      metric    | group 0| group 1| group 2| group 3|\n",
      "|    accuracy    |99.79% | 78.97% | 35.34% | 91.73% |\n",
      "|      loss      |   0.01 |   0.90 |   4.86 |   0.44 |\n",
      "------------------------------------------------------\n",
      "| Accuracy Loss: 0.9420\n",
      "| Worst-case Accuracy: 35.34%\n",
      "| Average Accuracy: 83.65%\n",
      "| Reweighted Accuracy: 96.46%\n",
      "=============== Test ================\n",
      " | selected the model from epoch 10 | \n",
      "------------------------------------------------------\n",
      "|      metric    | group 0| group 1| group 2| group 3|\n",
      "|    accuracy    |99.82% | 86.16% | 43.61% | 86.45% |\n",
      "|      loss      |   0.01 |   0.47 |   3.52 |   0.63 |\n",
      "------------------------------------------------------\n",
      "| Accuracy Loss: 0.6476\n",
      "| Worst-case Accuracy: 43.61%\n",
      "| Average Accuracy: 86.80%\n",
      "| Reweighted Accuracy: 95.69%\n",
      "Results saved in /dccstor/storage/privateDemographics/results/waterbirds/erm_num_epoch_10_batch_size_128_lr_0.02_subsample_False_weight_decay_0.0001.json!\n",
      "Best model is saved in /dccstor/storage/privateDemographics/models/waterbirds/erm_num_epoch_10_batch_size_128_lr_0.02_subsample_False_weight_decay_0.0001_best.model\n"
     ]
    }
   ],
   "source": [
    "run_exp(\n",
    "    method = 'erm', \n",
    "    model = 'resnet50', \n",
    "    train_path = '/dccstor/storage/balanceGroups/data/waterbirds',\n",
    "    dataset_name = 'waterbirds',\n",
    "    val_path = None,\n",
    "    test_path = None,\n",
    "    batch_size = 128, \n",
    "    lr = 0.02,\n",
    "    lr_q = .001,\n",
    "    num_epoch= 10,\n",
    "    seed = 123,\n",
    "    target_var = 'y',\n",
    "    domain = 'a',\n",
    "    device = 'cuda:0',\n",
    "    subsample = False,\n",
    "    train_supp_frac = 0, \n",
    "    num_workers = 0,\n",
    "    log_wandb = 0,\n",
    "    pin_memory = False,\n",
    ")"
   ]
  },
  {
   "cell_type": "code",
   "execution_count": 2,
   "id": "048f8429",
   "metadata": {
    "scrolled": true
   },
   "outputs": [
    {
     "name": "stdout",
     "output_type": "stream",
     "text": [
      "=============== Training ===============\n"
     ]
    },
    {
     "name": "stderr",
     "output_type": "stream",
     "text": [
      "Epoch: 1: 100%|██████████| 625/625 [00:00<00:00, 721.29it/s]\n"
     ]
    },
    {
     "name": "stdout",
     "output_type": "stream",
     "text": [
      "---------------------------------------------\n",
      "|      metric    | group 0| group 1| group 2|\n",
      "|    accuracy    | 90.93% | 94.04% |  0.00% |\n",
      "|      loss      |   0.23 |   0.17 |   0.00 |\n",
      "---------------------------------------------\n",
      "| Accuracy Loss: 0.2016\n",
      "| Diversity Loss: 0.0000\n",
      "| Worst-case Accuracy: 0.00%\n",
      "| Average Accuracy: 92.48%\n",
      "| Reweighted Accuracy: 92.48%\n",
      "=============== Validation ===============\n",
      "---------------------------------------------\n",
      "|      metric    | group 0| group 1| group 2|\n",
      "|    accuracy    | 90.79% | 93.69% |  0.00% |\n",
      "|      loss      |   0.23 |   0.18 |   0.00 |\n",
      "---------------------------------------------\n",
      "| Accuracy Loss: 0.2022\n",
      "| Worst-case Accuracy: 0.00%\n",
      "| Average Accuracy: 92.26%\n",
      "| Reweighted Accuracy: 92.23%\n",
      "=============== Training ===============\n"
     ]
    },
    {
     "name": "stderr",
     "output_type": "stream",
     "text": [
      "Epoch: 2: 100%|██████████| 625/625 [00:00<00:00, 727.69it/s]\n"
     ]
    },
    {
     "name": "stdout",
     "output_type": "stream",
     "text": [
      "---------------------------------------------\n",
      "|      metric    | group 0| group 1| group 2|\n",
      "|    accuracy    | 94.76% | 96.34% |  0.00% |\n",
      "|      loss      |   0.14 |   0.11 |   0.00 |\n",
      "---------------------------------------------\n",
      "| Accuracy Loss: 0.1265\n",
      "| Diversity Loss: 0.0000\n",
      "| Worst-case Accuracy: 0.00%\n",
      "| Average Accuracy: 95.55%\n",
      "| Reweighted Accuracy: 95.55%\n",
      "=============== Validation ===============\n",
      "---------------------------------------------\n",
      "|      metric    | group 0| group 1| group 2|\n",
      "|    accuracy    | 94.42% | 95.76% |  0.00% |\n",
      "|      loss      |   0.15 |   0.12 |   0.00 |\n",
      "---------------------------------------------\n",
      "| Accuracy Loss: 0.1343\n",
      "| Worst-case Accuracy: 0.00%\n",
      "| Average Accuracy: 95.10%\n",
      "| Reweighted Accuracy: 95.09%\n",
      "=============== Test ================\n",
      " | selected the model from epoch 1 | \n",
      "---------------------------------------------\n",
      "|      metric    | group 0| group 1| group 2|\n",
      "|    accuracy    |  0.00% |  0.00% | 84.72% |\n",
      "|      loss      |   0.00 |   0.00 |   0.37 |\n",
      "---------------------------------------------\n",
      "| Accuracy Loss: 0.3651\n",
      "| Worst-case Accuracy: 0.00%\n",
      "| Average Accuracy: 84.72%\n",
      "| Reweighted Accuracy: 0.00%\n",
      "Results saved in /dccstor/storage/noHarmFairness/results/cmnist/sgd_m_1_num_epoch_2_batch_size_64_lr_0.0001_optimizer_sgd_subsample_False.json!\n",
      "Best model is saved in /dccstor/storage/noHarmFairness/models/cmnist/sgd_m_1_num_epoch_2_batch_size_64_lr_0.0001_optimizer_sgd_subsample_False_best.model\n",
      "-7.9891357421875\n"
     ]
    }
   ],
   "source": [
    "start = time()\n",
    "run_exp(\n",
    "    method = 'sgd', \n",
    "    model = 'cmnist_mlp', \n",
    "    m = 1,\n",
    "    train_path = '/dccstor/storage/balanceGroups/data/cmnist',\n",
    "    dataset_name = 'cmnist',\n",
    "    val_path = None,\n",
    "    test_path = None,\n",
    "    batch_size = 64, \n",
    "    lr = 0.0001,\n",
    "    inner_lr = .00005,\n",
    "    outer_lr = 1,\n",
    "    lr_w = .01,\n",
    "    lr_q = .001,\n",
    "    num_epoch = 2,\n",
    "    seed = 123,\n",
    "    target_var = 'y',\n",
    "    domain = 'a',\n",
    "    ord = 'fro',\n",
    "    s = 1,\n",
    "    warmup_epoch = 10,\n",
    "    device = 'cuda:0',\n",
    "    optimizer = 'sgd',\n",
    "    subsample = False,\n",
    "    diverse_lambda = 0,\n",
    "    train_supp_frac = 0, \n",
    "    num_workers = 0,\n",
    "    pin_memory = False,\n",
    "    log_wandb = 0,\n",
    "    task = 'irm',\n",
    "    start_model_path = '/dccstor/storage/noHarmFairness/models/cmnist/sgd_m_1_num_epoch_500_batch_size_32_lr_1e-05_optimizer_adam_subsample_0_weight_decay_0.001_best.model',\n",
    ")\n",
    "end = time()\n",
    "print(start - end)"
   ]
  },
  {
   "cell_type": "code",
   "execution_count": 3,
   "id": "8f678fd2",
   "metadata": {
    "scrolled": true
   },
   "outputs": [
    {
     "name": "stdout",
     "output_type": "stream",
     "text": [
      "Load the best model! Start training from there...\n",
      "=============== Validation ===============\n",
      "---------------------------------------------\n",
      "|      metric    | group 0| group 1| group 2|\n",
      "|    accuracy    | 97.85% | 98.46% |  0.00% |\n",
      "|      loss      |   0.11 |   0.06 |   0.00 |\n",
      "---------------------------------------------\n",
      "| Accuracy Loss: 0.0844\n",
      "| Worst-case Accuracy: 0.00%\n",
      "| Average Accuracy: 98.16%\n",
      "| Reweighted Accuracy: 98.15%\n",
      "=============== Training ===============\n"
     ]
    },
    {
     "name": "stderr",
     "output_type": "stream",
     "text": [
      "Epoch: 1: 100%|██████████| 625/625 [00:03<00:00, 202.97it/s]\n"
     ]
    },
    {
     "name": "stdout",
     "output_type": "stream",
     "text": [
      "---------------------------------------------\n",
      "|      metric    | group 0| group 1| group 2|\n",
      "|    accuracy    |100.00% |100.00% |  0.00% |\n",
      "|      loss      |   0.00 |   0.00 |   0.00 |\n",
      "---------------------------------------------\n",
      "| Accuracy Loss: 0.0003\n",
      "| Diversity Loss: 0.0000\n",
      "| Worst-case Accuracy: 0.00%\n",
      "| Average Accuracy: 100.00%\n",
      "| Reweighted Accuracy: 100.00%\n",
      "=============== Validation ===============\n",
      "---------------------------------------------\n",
      "|      metric    | group 0| group 1| group 2|\n",
      "|    accuracy    | 97.73% | 98.50% |  0.00% |\n",
      "|      loss      |   0.11 |   0.06 |   0.00 |\n",
      "---------------------------------------------\n",
      "| Accuracy Loss: 0.0849\n",
      "| Worst-case Accuracy: 0.00%\n",
      "| Average Accuracy: 98.12%\n",
      "| Reweighted Accuracy: 98.11%\n",
      "=============== Training ===============\n"
     ]
    },
    {
     "name": "stderr",
     "output_type": "stream",
     "text": [
      "Epoch: 2: 100%|██████████| 625/625 [00:03<00:00, 202.13it/s]\n"
     ]
    },
    {
     "name": "stdout",
     "output_type": "stream",
     "text": [
      "---------------------------------------------\n",
      "|      metric    | group 0| group 1| group 2|\n",
      "|    accuracy    |100.00% |100.00% |  0.00% |\n",
      "|      loss      |   0.00 |   0.00 |   0.00 |\n",
      "---------------------------------------------\n",
      "| Accuracy Loss: 0.0003\n",
      "| Diversity Loss: 0.0000\n",
      "| Worst-case Accuracy: 0.00%\n",
      "| Average Accuracy: 100.00%\n",
      "| Reweighted Accuracy: 100.00%\n",
      "=============== Validation ===============\n",
      "---------------------------------------------\n",
      "|      metric    | group 0| group 1| group 2|\n",
      "|    accuracy    | 97.73% | 98.50% |  0.00% |\n",
      "|      loss      |   0.11 |   0.06 |   0.00 |\n",
      "---------------------------------------------\n",
      "| Accuracy Loss: 0.0850\n",
      "| Worst-case Accuracy: 0.00%\n",
      "| Average Accuracy: 98.12%\n",
      "| Reweighted Accuracy: 98.11%\n",
      "=============== Test ================\n",
      " | selected the model from epoch 0 | \n",
      "---------------------------------------------\n",
      "|      metric    | group 0| group 1| group 2|\n",
      "|    accuracy    |  0.00% |  0.00% | 92.93% |\n",
      "|      loss      |   0.00 |   0.00 |   0.32 |\n",
      "---------------------------------------------\n",
      "| Accuracy Loss: 0.3202\n",
      "| Worst-case Accuracy: 0.00%\n",
      "| Average Accuracy: 92.93%\n",
      "| Reweighted Accuracy: 0.00%\n",
      "Results saved in /dccstor/storage/noHarmFairness/results/cmnist/irm_m_1_num_epoch_2_batch_size_64_inner_lr_5e-05_outer_lr_1_optimizer_sgd_warmup_epoch_10.json!\n",
      "Best model is saved in /dccstor/storage/noHarmFairness/models/cmnist/irm_m_1_num_epoch_2_batch_size_64_inner_lr_5e-05_outer_lr_1_optimizer_sgd_warmup_epoch_10_best.model\n",
      "-9.501961946487427\n"
     ]
    }
   ],
   "source": [
    "start = time()\n",
    "run_exp(\n",
    "    method = 'irm', \n",
    "    model = 'cmnist_mlp', \n",
    "    m = 1,\n",
    "    train_path = '/dccstor/storage/balanceGroups/data/cmnist',\n",
    "    dataset_name = 'cmnist',\n",
    "    val_path = None,\n",
    "    test_path = None,\n",
    "    batch_size = 64, \n",
    "    lr = 0.0001,\n",
    "    inner_lr = .00005,\n",
    "    outer_lr = 1,\n",
    "    lr_w = .01,\n",
    "    lr_q = .001,\n",
    "    num_epoch = 2,\n",
    "    seed = 123,\n",
    "    target_var = 'y',\n",
    "    domain = 'a',\n",
    "    ord = 'fro',\n",
    "    s = 1,\n",
    "    warmup_epoch = 10,\n",
    "    device = 'cuda:0',\n",
    "    optimizer = 'sgd',\n",
    "    subsample = False,\n",
    "    diverse_lambda = 0,\n",
    "    train_supp_frac = 0, \n",
    "    num_workers = 0,\n",
    "    pin_memory = False,\n",
    "    log_wandb = 0,\n",
    "    task = 'irm',\n",
    "    start_model_path = '/dccstor/storage/noHarmFairness/models/cmnist/sgd_m_1_num_epoch_500_batch_size_32_lr_1e-05_optimizer_adam_subsample_0_weight_decay_0.001_best.model',\n",
    ")\n",
    "end = time()\n",
    "print(start - end)"
   ]
  },
  {
   "cell_type": "code",
   "execution_count": 2,
   "id": "d73ec2b8",
   "metadata": {
    "scrolled": true
   },
   "outputs": [
    {
     "name": "stderr",
     "output_type": "stream",
     "text": [
      "Some weights of the model checkpoint at bert-base-uncased were not used when initializing BertForSequenceClassification: ['cls.predictions.transform.dense.weight', 'cls.seq_relationship.bias', 'cls.seq_relationship.weight', 'cls.predictions.transform.LayerNorm.bias', 'cls.predictions.bias', 'cls.predictions.transform.dense.bias', 'cls.predictions.decoder.weight', 'cls.predictions.transform.LayerNorm.weight']\n",
      "- This IS expected if you are initializing BertForSequenceClassification from the checkpoint of a model trained on another task or with another architecture (e.g. initializing a BertForSequenceClassification model from a BertForPreTraining model).\n",
      "- This IS NOT expected if you are initializing BertForSequenceClassification from the checkpoint of a model that you expect to be exactly identical (initializing a BertForSequenceClassification model from a BertForSequenceClassification model).\n",
      "Some weights of BertForSequenceClassification were not initialized from the model checkpoint at bert-base-uncased and are newly initialized: ['classifier.weight', 'classifier.bias']\n",
      "You should probably TRAIN this model on a down-stream task to be able to use it for predictions and inference.\n"
     ]
    },
    {
     "name": "stdout",
     "output_type": "stream",
     "text": [
      "=============== Training ===============\n"
     ]
    },
    {
     "name": "stderr",
     "output_type": "stream",
     "text": [
      "Epoch: 1:  34%|███▍      | 1428/4204 [19:41<39:05,  1.18it/s]Exception ignored in: <generator object tqdm.__iter__ at 0x145decb0cac0>\n",
      "Traceback (most recent call last):\n",
      "  File \"/u/yzeng58/.conda/envs/balancinggroups/lib/python3.8/site-packages/tqdm/std.py\", line 1196, in __iter__\n",
      "    yield obj\n",
      "KeyboardInterrupt: \n",
      "\n",
      "KeyboardInterrupt\n",
      "\n"
     ]
    }
   ],
   "source": [
    "run_exp(\n",
    "    method = 'robust_dro', \n",
    "    model = 'bert', \n",
    "    m = 1,\n",
    "    train_path = '/dccstor/storage/balanceGroups/data/civilcomments',\n",
    "    dataset_name = 'civilcomments',\n",
    "    val_path = None,\n",
    "    test_path = None,\n",
    "    batch_size = 64, \n",
    "    lr = 0.0001,\n",
    "    inner_lr = .001,\n",
    "    outer_lr = .01,\n",
    "    lr_w = .01,\n",
    "    lr_q = .001,\n",
    "    num_epoch = 1,\n",
    "    seed = 123,\n",
    "    target_var = 'y',\n",
    "    domain = 'a',\n",
    "    ord = 'fro',\n",
    "    s = 1,\n",
    "    device = 'cuda:0',\n",
    "    optimizer = 'sgd',\n",
    "    subsample = False,\n",
    "    diverse_lambda = 0,\n",
    "    train_supp_frac = 0, \n",
    "    num_workers = 0,\n",
    "    pin_memory = False,\n",
    "    log_wandb = 0,\n",
    ")"
   ]
  },
  {
   "cell_type": "code",
   "execution_count": 2,
   "id": "2a805740",
   "metadata": {
    "scrolled": true
   },
   "outputs": [
    {
     "name": "stdout",
     "output_type": "stream",
     "text": [
      "{'train': tensor([ 90337., 148186.,      0.,      0.,      0.,      0.,      0.,      0.,\n",
      "         17784.,  12731.,      0.,      0.,      0.,      0.,      0.,      0.],\n",
      "       device='cuda:0'), 'val': tensor([4050., 5120., 1099., 4166., 1598.,  824., 1119., 2015.,  715.,  771.,\n",
      "         358.,  384.,  512.,  162.,  533.,  852.], device='cuda:0'), 'test': tensor([12092., 14179.,  3210., 12101.,  5355.,  2980.,  3335.,  5723.,  2203.,\n",
      "         2270.,  1216.,  1260.,  1627.,   520.,  1537.,  2246.],\n",
      "       device='cuda:0'), 'train_supp': tensor([ 90337., 148186.,  17784.,  12731.,      0.,      0.,      0.,      0.,\n",
      "             0.,      0.,      0.,      0.,      0.,      0.,      0.,      0.],\n",
      "       device='cuda:0')}\n"
     ]
    },
    {
     "name": "stderr",
     "output_type": "stream",
     "text": [
      "Some weights of the model checkpoint at bert-base-uncased were not used when initializing BertForSequenceClassification: ['cls.seq_relationship.weight', 'cls.predictions.transform.dense.weight', 'cls.predictions.transform.dense.bias', 'cls.predictions.decoder.weight', 'cls.predictions.transform.LayerNorm.bias', 'cls.predictions.bias', 'cls.seq_relationship.bias', 'cls.predictions.transform.LayerNorm.weight']\n",
      "- This IS expected if you are initializing BertForSequenceClassification from the checkpoint of a model trained on another task or with another architecture (e.g. initializing a BertForSequenceClassification model from a BertForPreTraining model).\n",
      "- This IS NOT expected if you are initializing BertForSequenceClassification from the checkpoint of a model that you expect to be exactly identical (initializing a BertForSequenceClassification model from a BertForSequenceClassification model).\n",
      "Some weights of BertForSequenceClassification were not initialized from the model checkpoint at bert-base-uncased and are newly initialized: ['classifier.weight', 'classifier.bias']\n",
      "You should probably TRAIN this model on a down-stream task to be able to use it for predictions and inference.\n"
     ]
    },
    {
     "name": "stdout",
     "output_type": "stream",
     "text": [
      "=============== Training ===============\n"
     ]
    },
    {
     "name": "stderr",
     "output_type": "stream",
     "text": [
      "Epoch: 1: 100%|██████████| 4204/4204 [57:37<00:00,  1.22it/s]\n"
     ]
    },
    {
     "name": "stdout",
     "output_type": "stream",
     "text": [
      "------------------------------------------------------------------------------------------------------------------------------------------------------------------\n",
      "|      metric    | group 0| group 1| group 2| group 3| group 4| group 5| group 6| group 7| group 8| group 9| group 10| group 11| group 12| group 13| group 14| group 15|\n",
      "|    accuracy    |100.00% |100.00% |  0.00% |  0.00% |  0.00% |  0.00% |  0.00% |  0.00% |  0.00% |  0.00% |  0.00% |  0.00% |  0.00% |  0.00% |  0.00% |  0.00% |\n",
      "|      loss      |   0.12 |   0.12 |   0.00 |   0.00 |   0.00 |   0.00 |   0.00 |   0.00 |   2.18 |   2.18 |   0.00 |   0.00 |   0.00 |   0.00 |   0.00 |   0.00 |\n",
      "------------------------------------------------------------------------------------------------------------------------------------------------------------------\n",
      "| Accuracy Loss: 0.3536\n",
      "| Diversity Loss: 0.0000\n",
      "| Worst-case Accuracy: 0.00%\n",
      "| Average Accuracy: 88.66%\n",
      "| Reweighted Accuracy: 88.66%\n",
      "=============== Validation ===============\n",
      "------------------------------------------------------------------------------------------------------------------------------------------------------------------\n",
      "|      metric    | group 0| group 1| group 2| group 3| group 4| group 5| group 6| group 7| group 8| group 9| group 10| group 11| group 12| group 13| group 14| group 15|\n",
      "|    accuracy    |100.00% |100.00% |100.00% |100.00% |100.00% |100.00% |100.00% |100.00% |  0.00% |  0.00% |  0.00% |  0.00% |  0.00% |  0.00% |  0.00% |  0.00% |\n",
      "|      loss      |   0.12 |   0.12 |   0.12 |   0.12 |   0.12 |   0.12 |   0.12 |   0.12 |   2.18 |   2.18 |   2.18 |   2.18 |   2.18 |   2.18 |   2.18 |   2.18 |\n",
      "------------------------------------------------------------------------------------------------------------------------------------------------------------------\n",
      "| Accuracy Loss: 0.4836\n",
      "| Worst-case Accuracy: 0.00%\n",
      "| Average Accuracy: 82.34%\n",
      "| Reweighted Accuracy: 88.66%\n",
      "=============== Test ================\n",
      " | selected the model from epoch 0 | \n",
      "------------------------------------------------------------------------------------------------------------------------------------------------------------------\n",
      "|      metric    | group 0| group 1| group 2| group 3| group 4| group 5| group 6| group 7| group 8| group 9| group 10| group 11| group 12| group 13| group 14| group 15|\n",
      "|    accuracy    |100.00% |100.00% |100.00% |100.00% |100.00% |100.00% |100.00% |100.00% |  0.00% |  0.00% |  0.00% |  0.00% |  0.00% |  0.00% |  0.00% |  0.00% |\n",
      "|      loss      |   0.12 |   0.12 |   0.12 |   0.12 |   0.12 |   0.12 |   0.12 |   0.12 |   2.18 |   2.18 |   2.18 |   2.18 |   2.18 |   2.18 |   2.18 |   2.18 |\n",
      "------------------------------------------------------------------------------------------------------------------------------------------------------------------\n",
      "| Accuracy Loss: 0.4891\n",
      "| Worst-case Accuracy: 0.00%\n",
      "| Average Accuracy: 82.08%\n",
      "| Reweighted Accuracy: 88.66%\n",
      "Results saved in /dccstor/storage/noHarmFairness/results/civilcomments/sgd_m_1_num_epoch_1_batch_size_64_lr_0.0001_optimizer_sgd_subsample_False_weight_decay_0.0001.json!\n",
      "Best model is saved in /dccstor/storage/noHarmFairness/models/civilcomments/sgd_m_1_num_epoch_1_batch_size_64_lr_0.0001_optimizer_sgd_subsample_False_weight_decay_0.0001_best.model\n"
     ]
    }
   ],
   "source": [
    "run_exp(\n",
    "    method = 'sgd', \n",
    "    model = 'bert', \n",
    "    m = 1,\n",
    "    train_path = '/dccstor/storage/balanceGroups/data/civilcomments',\n",
    "    dataset_name = 'civilcomments',\n",
    "    val_path = None,\n",
    "    test_path = None,\n",
    "    batch_size = 64, \n",
    "    lr = 0.0001,\n",
    "    inner_lr = .001,\n",
    "    outer_lr = .01,\n",
    "    lr_w = .01,\n",
    "    lr_q = .001,\n",
    "    num_epoch = 1,\n",
    "    seed = 123,\n",
    "    target_var = 'y',\n",
    "    domain = 'a',\n",
    "    ord = 'fro',\n",
    "    s = 1,\n",
    "    device = 'cuda:0',\n",
    "    optimizer = 'sgd',\n",
    "    subsample = False,\n",
    "    diverse_lambda = 0,\n",
    "    train_supp_frac = 0, \n",
    "    num_workers = 0,\n",
    "    pin_memory = False,\n",
    "    log_wandb = 0,\n",
    ")"
   ]
  },
  {
   "cell_type": "code",
   "execution_count": 2,
   "id": "a3a38c15",
   "metadata": {
    "scrolled": true
   },
   "outputs": [
    {
     "name": "stdout",
     "output_type": "stream",
     "text": [
      "=============== Training ===============\n"
     ]
    },
    {
     "name": "stderr",
     "output_type": "stream",
     "text": [
      "Epoch: 1: 100%|██████████| 38/38 [02:00<00:00,  3.17s/it]\n"
     ]
    },
    {
     "name": "stdout",
     "output_type": "stream",
     "text": [
      "------------------------------------------------------\n",
      "|      metric    | group 0| group 1| group 2| group 3|\n",
      "|    accuracy    |99.69% | 57.61% | 41.07% | 95.08% |\n",
      "|      loss      |   0.05 |   0.76 |   1.11 |   0.17 |\n",
      "------------------------------------------------------\n",
      "| Accuracy Loss: 0.1166\n",
      "| Diversity Loss: 0.0000\n",
      "| Worst-case Accuracy: 41.07%\n",
      "| Average Accuracy: 96.37%\n",
      "=============== Validation ===============\n",
      "------------------------------------------------------\n",
      "|      metric    | group 0| group 1| group 2| group 3|\n",
      "|    accuracy    | 98.93% | 52.79% | 34.59% | 96.24% |\n",
      "|      loss      |   0.06 |   0.82 |   1.36 |   0.17 |\n",
      "------------------------------------------------------\n",
      "| Accuracy Loss: 0.5137\n",
      "| Worst-case Accuracy: 34.59%\n",
      "| Average Accuracy: 73.56%\n",
      "=============== Training ===============\n"
     ]
    },
    {
     "name": "stderr",
     "output_type": "stream",
     "text": [
      "Epoch: 2: 100%|██████████| 38/38 [01:05<00:00,  1.74s/it]\n"
     ]
    },
    {
     "name": "stdout",
     "output_type": "stream",
     "text": [
      "------------------------------------------------------\n",
      "|      metric    | group 0| group 1| group 2| group 3|\n",
      "|    accuracy    |99.80% | 76.09% | 67.86% | 96.88% |\n",
      "|      loss      |   0.03 |   0.49 |   0.74 |   0.10 |\n",
      "------------------------------------------------------\n",
      "| Accuracy Loss: 0.0714\n",
      "| Diversity Loss: 0.0000\n",
      "| Worst-case Accuracy: 67.86%\n",
      "| Average Accuracy: 97.87%\n",
      "=============== Validation ===============\n",
      "------------------------------------------------------\n",
      "|      metric    | group 0| group 1| group 2| group 3|\n",
      "|    accuracy    | 99.36% | 62.66% | 48.87% | 96.24% |\n",
      "|      loss      |   0.04 |   0.72 |   1.28 |   0.14 |\n",
      "------------------------------------------------------\n",
      "| Accuracy Loss: 0.4538\n",
      "| Worst-case Accuracy: 48.87%\n",
      "| Average Accuracy: 79.15%\n",
      "=============== Training ===============\n"
     ]
    },
    {
     "name": "stderr",
     "output_type": "stream",
     "text": [
      "Epoch: 3: 100%|██████████| 38/38 [01:08<00:00,  1.79s/it]\n"
     ]
    },
    {
     "name": "stdout",
     "output_type": "stream",
     "text": [
      "------------------------------------------------------\n",
      "|      metric    | group 0| group 1| group 2| group 3|\n",
      "|    accuracy    |99.91% | 88.04% | 78.57% | 98.30% |\n",
      "|      loss      |   0.02 |   0.31 |   0.51 |   0.07 |\n",
      "------------------------------------------------------\n",
      "| Accuracy Loss: 0.0459\n",
      "| Diversity Loss: 0.0000\n",
      "| Worst-case Accuracy: 78.57%\n",
      "| Average Accuracy: 98.85%\n",
      "=============== Validation ===============\n",
      "------------------------------------------------------\n",
      "|      metric    | group 0| group 1| group 2| group 3|\n",
      "|    accuracy    | 99.36% | 67.38% | 49.62% | 96.24% |\n",
      "|      loss      |   0.03 |   0.67 |   1.32 |   0.13 |\n",
      "------------------------------------------------------\n",
      "| Accuracy Loss: 0.4310\n",
      "| Worst-case Accuracy: 49.62%\n",
      "| Average Accuracy: 81.07%\n",
      "=============== Training ===============\n"
     ]
    },
    {
     "name": "stderr",
     "output_type": "stream",
     "text": [
      "Epoch: 4: 100%|██████████| 38/38 [01:05<00:00,  1.72s/it]\n"
     ]
    },
    {
     "name": "stdout",
     "output_type": "stream",
     "text": [
      "------------------------------------------------------\n",
      "|      metric    | group 0| group 1| group 2| group 3|\n",
      "|    accuracy    |99.94% | 96.20% | 91.07% | 99.15% |\n",
      "|      loss      |   0.01 |   0.16 |   0.35 |   0.05 |\n",
      "------------------------------------------------------\n",
      "| Accuracy Loss: 0.0287\n",
      "| Diversity Loss: 0.0000\n",
      "| Worst-case Accuracy: 91.07%\n",
      "| Average Accuracy: 99.52%\n",
      "=============== Validation ===============\n",
      "------------------------------------------------------\n",
      "|      metric    | group 0| group 1| group 2| group 3|\n",
      "|    accuracy    |99.79% | 74.25% | 52.63% | 95.49% |\n",
      "|      loss      |   0.02 |   0.61 |   1.35 |   0.13 |\n",
      "------------------------------------------------------\n",
      "| Accuracy Loss: 0.4105\n",
      "| Worst-case Accuracy: 52.63%\n",
      "| Average Accuracy: 84.15%\n",
      "=============== Training ===============\n"
     ]
    },
    {
     "name": "stderr",
     "output_type": "stream",
     "text": [
      "Epoch: 5: 100%|██████████| 38/38 [01:04<00:00,  1.71s/it]\n"
     ]
    },
    {
     "name": "stdout",
     "output_type": "stream",
     "text": [
      "------------------------------------------------------\n",
      "|      metric    | group 0| group 1| group 2| group 3|\n",
      "|    accuracy    |100.00% |100.00% | 91.07% |99.81% |\n",
      "|      loss      |   0.01 |   0.10 |   0.24 |   0.03 |\n",
      "------------------------------------------------------\n",
      "| Accuracy Loss: 0.0188\n",
      "| Diversity Loss: 0.0000\n",
      "| Worst-case Accuracy: 91.07%\n",
      "| Average Accuracy: 99.85%\n",
      "=============== Validation ===============\n",
      "------------------------------------------------------\n",
      "|      metric    | group 0| group 1| group 2| group 3|\n",
      "|    accuracy    |99.79% | 73.39% | 53.38% | 95.49% |\n",
      "|      loss      |   0.02 |   0.63 |   1.41 |   0.13 |\n",
      "------------------------------------------------------\n",
      "| Accuracy Loss: 0.4241\n",
      "| Worst-case Accuracy: 53.38%\n",
      "| Average Accuracy: 83.90%\n",
      "=============== Training ===============\n"
     ]
    },
    {
     "name": "stderr",
     "output_type": "stream",
     "text": [
      "Epoch: 6: 100%|██████████| 38/38 [01:05<00:00,  1.73s/it]\n"
     ]
    },
    {
     "name": "stdout",
     "output_type": "stream",
     "text": [
      "------------------------------------------------------\n",
      "|      metric    | group 0| group 1| group 2| group 3|\n",
      "|    accuracy    |100.00% |100.00% | 92.86% |99.81% |\n",
      "|      loss      |   0.00 |   0.04 |   0.17 |   0.03 |\n",
      "------------------------------------------------------\n",
      "| Accuracy Loss: 0.0127\n",
      "| Diversity Loss: 0.0000\n",
      "| Worst-case Accuracy: 92.86%\n",
      "| Average Accuracy: 99.87%\n",
      "=============== Validation ===============\n",
      "------------------------------------------------------\n",
      "|      metric    | group 0| group 1| group 2| group 3|\n",
      "|    accuracy    |99.79% | 79.40% | 52.63% | 95.49% |\n",
      "|      loss      |   0.02 |   0.55 |   1.47 |   0.15 |\n",
      "------------------------------------------------------\n",
      "| Accuracy Loss: 0.4005\n",
      "| Worst-case Accuracy: 52.63%\n",
      "| Average Accuracy: 86.16%\n",
      "=============== Training ===============\n"
     ]
    },
    {
     "name": "stderr",
     "output_type": "stream",
     "text": [
      "Epoch: 7: 100%|██████████| 38/38 [01:05<00:00,  1.71s/it]\n"
     ]
    },
    {
     "name": "stdout",
     "output_type": "stream",
     "text": [
      "------------------------------------------------------\n",
      "|      metric    | group 0| group 1| group 2| group 3|\n",
      "|    accuracy    |100.00% |100.00% | 94.64% |99.91% |\n",
      "|      loss      |   0.00 |   0.03 |   0.12 |   0.02 |\n",
      "------------------------------------------------------\n",
      "| Accuracy Loss: 0.0091\n",
      "| Diversity Loss: 0.0000\n",
      "| Worst-case Accuracy: 94.64%\n",
      "| Average Accuracy: 99.92%\n",
      "=============== Validation ===============\n",
      "------------------------------------------------------\n",
      "|      metric    | group 0| group 1| group 2| group 3|\n",
      "|    accuracy    |99.79% | 78.97% | 53.38% | 95.49% |\n",
      "|      loss      |   0.01 |   0.58 |   1.49 |   0.15 |\n",
      "------------------------------------------------------\n",
      "| Accuracy Loss: 0.4141\n",
      "| Worst-case Accuracy: 53.38%\n",
      "| Average Accuracy: 86.07%\n",
      "=============== Training ===============\n"
     ]
    },
    {
     "name": "stderr",
     "output_type": "stream",
     "text": [
      "Epoch: 8: 100%|██████████| 38/38 [01:04<00:00,  1.69s/it]\n"
     ]
    },
    {
     "name": "stdout",
     "output_type": "stream",
     "text": [
      "------------------------------------------------------\n",
      "|      metric    | group 0| group 1| group 2| group 3|\n",
      "|    accuracy    |100.00% |100.00% | 96.43% |99.91% |\n",
      "|      loss      |   0.00 |   0.02 |   0.09 |   0.01 |\n",
      "------------------------------------------------------\n",
      "| Accuracy Loss: 0.0068\n",
      "| Diversity Loss: 0.0000\n",
      "| Worst-case Accuracy: 96.43%\n",
      "| Average Accuracy: 99.94%\n",
      "=============== Validation ===============\n",
      "------------------------------------------------------\n",
      "|      metric    | group 0| group 1| group 2| group 3|\n",
      "|    accuracy    |99.79% | 78.97% | 52.63% | 95.49% |\n",
      "|      loss      |   0.01 |   0.59 |   1.57 |   0.15 |\n",
      "------------------------------------------------------\n",
      "| Accuracy Loss: 0.4249\n",
      "| Worst-case Accuracy: 52.63%\n",
      "| Average Accuracy: 85.99%\n",
      "=============== Training ===============\n"
     ]
    },
    {
     "name": "stderr",
     "output_type": "stream",
     "text": [
      "Epoch: 9: 100%|██████████| 38/38 [01:04<00:00,  1.70s/it]\n"
     ]
    },
    {
     "name": "stdout",
     "output_type": "stream",
     "text": [
      "------------------------------------------------------\n",
      "|      metric    | group 0| group 1| group 2| group 3|\n",
      "|    accuracy    |100.00% |100.00% | 98.21% |99.91% |\n",
      "|      loss      |   0.00 |   0.01 |   0.07 |   0.01 |\n",
      "------------------------------------------------------\n",
      "| Accuracy Loss: 0.0052\n",
      "| Diversity Loss: 0.0000\n",
      "| Worst-case Accuracy: 98.21%\n",
      "| Average Accuracy: 99.96%\n",
      "=============== Validation ===============\n",
      "------------------------------------------------------\n",
      "|      metric    | group 0| group 1| group 2| group 3|\n",
      "|    accuracy    |99.79% | 79.40% | 54.89% | 95.49% |\n",
      "|      loss      |   0.01 |   0.62 |   1.55 |   0.15 |\n",
      "------------------------------------------------------\n",
      "| Accuracy Loss: 0.4326\n",
      "| Worst-case Accuracy: 54.89%\n",
      "| Average Accuracy: 86.41%\n",
      "=============== Training ===============\n"
     ]
    },
    {
     "name": "stderr",
     "output_type": "stream",
     "text": [
      "Epoch: 10: 100%|██████████| 38/38 [01:05<00:00,  1.73s/it]\n"
     ]
    },
    {
     "name": "stdout",
     "output_type": "stream",
     "text": [
      "------------------------------------------------------\n",
      "|      metric    | group 0| group 1| group 2| group 3|\n",
      "|    accuracy    |100.00% |100.00% | 98.21% |100.00% |\n",
      "|      loss      |   0.00 |   0.01 |   0.05 |   0.01 |\n",
      "------------------------------------------------------\n",
      "| Accuracy Loss: 0.0040\n",
      "| Diversity Loss: 0.0000\n",
      "| Worst-case Accuracy: 98.21%\n",
      "| Average Accuracy: 99.98%\n",
      "=============== Validation ===============\n",
      "------------------------------------------------------\n",
      "|      metric    | group 0| group 1| group 2| group 3|\n",
      "|    accuracy    |99.79% | 75.75% | 57.89% | 95.49% |\n",
      "|      loss      |   0.01 |   0.69 |   1.49 |   0.14 |\n",
      "------------------------------------------------------\n",
      "| Accuracy Loss: 0.4550\n",
      "| Worst-case Accuracy: 57.89%\n",
      "| Average Accuracy: 85.32%\n",
      "=============== Test ================\n",
      "------------------------------------------------------\n",
      "|      metric    | group 0| group 1| group 2| group 3|\n",
      "|    accuracy    |99.65% | 75.74% | 61.84% | 95.33% |\n",
      "|      loss      |   0.01 |   0.64 |   1.20 |   0.16 |\n",
      "------------------------------------------------------\n",
      "| Accuracy Loss: 0.4044\n",
      "| Worst-case Accuracy: 61.84%\n",
      "| Average Accuracy: 85.67%\n",
      "Results saved in /dccstor/storage/balanceGroups/data/waterbirds/sgd_m_1_num_epoch_10_batch_size_128_lr_0.0001_optimizer_sgd_subsample_False.json!\n"
     ]
    }
   ],
   "source": [
    "run_exp(\n",
    "    method = 'sgd', \n",
    "    model = 'resnet50', \n",
    "    m = 1,\n",
    "    train_path = '/dccstor/storage/balanceGroups/data/waterbirds',\n",
    "    dataset_name = 'waterbirds',\n",
    "    val_path = None,\n",
    "    test_path = None,\n",
    "    data_type = 'image',\n",
    "    batch_size = 128, \n",
    "    lr = 0.0001,\n",
    "    inner_lr = .001,\n",
    "    outer_lr = .01,\n",
    "    lr_w = .01,\n",
    "    lr_q = .001,\n",
    "    num_epoch = 10,\n",
    "    seed = 123,\n",
    "    target_var = 'y',\n",
    "    domain = 'a',\n",
    "    ord = 'fro',\n",
    "    s = 1,\n",
    "    device = 'cuda:0',\n",
    "    optimizer = 'sgd',\n",
    "    subsample = False,\n",
    "    diverse_lambda = 0,\n",
    "    train_supp_frac = 0, \n",
    "    num_workers = 0,\n",
    "    pin_memory = False,\n",
    ")"
   ]
  },
  {
   "cell_type": "code",
   "execution_count": 2,
   "id": "2d673f26",
   "metadata": {
    "scrolled": true
   },
   "outputs": [
    {
     "name": "stdout",
     "output_type": "stream",
     "text": [
      "=============== Training ===============\n"
     ]
    },
    {
     "name": "stderr",
     "output_type": "stream",
     "text": [
      "Epoch: 1:   0%|          | 0/38 [00:15<?, ?it/s]\n",
      "\n",
      "KeyboardInterrupt\n",
      "\n"
     ]
    }
   ],
   "source": [
    "\n",
    "m, seed = 3, 123\n",
    "model_list = [get_resnet50(2, True, seed*i) for i in range(m)]\n",
    "run_exp(\n",
    "    method = 'gong_et_al', \n",
    "    model_list = model_list, \n",
    "    train_path = '/dccstor/storage/balanceGroups/data/waterbirds',\n",
    "    dataset_name = 'waterbirds',\n",
    "    val_path = None,\n",
    "    test_path = None,\n",
    "    data_type = 'image',\n",
    "    batch_size = 128, \n",
    "    lr = 0.0002,\n",
    "    inner_lr = .001,\n",
    "    outer_lr = .01,\n",
    "    lr_w = .01,\n",
    "    lr_q = .001,\n",
    "    num_epoch = 10,\n",
    "    seed = 123,\n",
    "    target_var = 'y',\n",
    "    domain = 'a',\n",
    "    ord = 'fro',\n",
    "    s = 1,\n",
    "    device = 'cuda:0',\n",
    "    optimizer = 'sgd',\n",
    "    subsample = False,\n",
    "    diverse_lambda = 0,\n",
    "    train_supp_frac = 0, \n",
    "    supp_batch_size = 128,\n",
    "    num_workers = 0,\n",
    "    pin_memory = False,\n",
    ")"
   ]
  },
  {
   "cell_type": "code",
   "execution_count": null,
   "id": "ce00a2b2",
   "metadata": {},
   "outputs": [],
   "source": [
    "model = get_resnet50(2, True)\n",
    "run_exp(\n",
    "    method = 'dro', \n",
    "    model_list = [model], \n",
    "    train_path = '/dccstor/storage/balanceGroups/data/waterbirds',\n",
    "    dataset_name = 'waterbirds',\n",
    "    val_path = None,\n",
    "    test_path = None,\n",
    "    data_type = 'image',\n",
    "    batch_size = 128, \n",
    "    lr = 0.0002,\n",
    "    inner_lr = .001,\n",
    "    outer_lr = .01,\n",
    "    lr_w = .01,\n",
    "    lr_q = .001,\n",
    "    num_epoch = 10,\n",
    "    seed = 123,\n",
    "    target_var = 'y',\n",
    "    domain = 'a',\n",
    "    ord = 'fro',\n",
    "    s = 1,\n",
    "    device = 'cuda:1',\n",
    "    optimizer = 'sgd',\n",
    "    subsample = False,\n",
    "    diverse_lambda = 0,\n",
    "    train_supp_frac = 0, \n",
    "    supp_batch_size = 128,\n",
    "    num_workers = 0,\n",
    "    pin_memory = False,\n",
    ")"
   ]
  },
  {
   "cell_type": "code",
   "execution_count": null,
   "id": "3bda1477",
   "metadata": {},
   "outputs": [],
   "source": [
    "model = get_resnet50(2, True)\n",
    "run_exp(\n",
    "    method = 'robust_dro', \n",
    "    model_list = [model], \n",
    "    train_path = '/dccstor/storage/balanceGroups/data/waterbirds',\n",
    "    dataset_name = 'waterbirds',\n",
    "    val_path = None,\n",
    "    test_path = None,\n",
    "    data_type = 'image',\n",
    "    batch_size = 128, \n",
    "    lr = 0.0002,\n",
    "    inner_lr = .001,\n",
    "    outer_lr = .01,\n",
    "    lr_w = .01,\n",
    "    lr_q = .001,\n",
    "    num_epoch = 10,\n",
    "    seed = 123,\n",
    "    target_var = 'y',\n",
    "    domain = 'a',\n",
    "    ord = 'fro',\n",
    "    s = 1,\n",
    "    device = 'cuda:1',\n",
    "    optimizer = 'sgd',\n",
    "    subsample = False,\n",
    "    diverse_lambda = 0,\n",
    "    train_supp_frac = 0, \n",
    "    supp_batch_size = 128,\n",
    "    num_workers = 0,\n",
    "    pin_memory = False,\n",
    ")"
   ]
  },
  {
   "cell_type": "code",
   "execution_count": 4,
   "id": "34de3d69",
   "metadata": {
    "scrolled": true
   },
   "outputs": [
    {
     "name": "stderr",
     "output_type": "stream",
     "text": [
      "Epoch: 1: 100%|██████████| 38/38 [01:14<00:00,  1.97s/it]\n"
     ]
    },
    {
     "name": "stdout",
     "output_type": "stream",
     "text": [
      "------------------------------------\n",
      "|      metric    | group 0| group 1|\n",
      "|    accuracy    | 98.42% | 14.83% |\n",
      "|      loss      |   0.29 |   2.00 |\n",
      "------------------------------------\n",
      "| Accuracy Loss: 0.7361\n",
      "| Diversity Loss: 0.0000\n",
      "| Worst-case Accuracy: 14.83%\n",
      "| Average Accuracy: 76.79%\n",
      "=============== Validation ===============\n",
      "------------------------------------\n",
      "|      metric    | group 0| group 1|\n",
      "|    accuracy    | 77.83% | 77.80% |\n",
      "|      loss      |   0.82 |   0.55 |\n",
      "------------------------------------\n",
      "| Accuracy Loss: 0.6845\n",
      "| Worst-case Accuracy: 77.80%\n",
      "| Average Accuracy: 77.81%\n"
     ]
    },
    {
     "name": "stderr",
     "output_type": "stream",
     "text": [
      "Epoch: 2: 100%|██████████| 38/38 [01:09<00:00,  1.83s/it]\n"
     ]
    },
    {
     "name": "stdout",
     "output_type": "stream",
     "text": [
      "------------------------------------\n",
      "|      metric    | group 0| group 1|\n",
      "|    accuracy    | 98.42% | 14.83% |\n",
      "|      loss      |   0.31 |   1.38 |\n",
      "------------------------------------\n",
      "| Accuracy Loss: 0.5871\n",
      "| Diversity Loss: 0.0000\n",
      "| Worst-case Accuracy: 14.83%\n",
      "| Average Accuracy: 76.79%\n",
      "=============== Validation ===============\n",
      "------------------------------------\n",
      "|      metric    | group 0| group 1|\n",
      "|    accuracy    | 77.83% | 77.80% |\n",
      "|      loss      |   0.61 |   0.53 |\n",
      "------------------------------------\n",
      "| Accuracy Loss: 0.5722\n",
      "| Worst-case Accuracy: 77.80%\n",
      "| Average Accuracy: 77.81%\n"
     ]
    },
    {
     "name": "stderr",
     "output_type": "stream",
     "text": [
      "Epoch: 3: 100%|██████████| 38/38 [01:04<00:00,  1.69s/it]\n"
     ]
    },
    {
     "name": "stdout",
     "output_type": "stream",
     "text": [
      "------------------------------------\n",
      "|      metric    | group 0| group 1|\n",
      "|    accuracy    | 96.74% | 40.05% |\n",
      "|      loss      |   0.21 |   1.11 |\n",
      "------------------------------------\n",
      "| Accuracy Loss: 0.4416\n",
      "| Diversity Loss: 0.0000\n",
      "| Worst-case Accuracy: 40.05%\n",
      "| Average Accuracy: 82.06%\n",
      "=============== Validation ===============\n",
      "------------------------------------\n",
      "|      metric    | group 0| group 1|\n",
      "|    accuracy    | 77.00% | 67.11% |\n",
      "|      loss      |   0.64 |   0.61 |\n",
      "------------------------------------\n",
      "| Accuracy Loss: 0.6243\n",
      "| Worst-case Accuracy: 67.11%\n",
      "| Average Accuracy: 72.06%\n"
     ]
    },
    {
     "name": "stderr",
     "output_type": "stream",
     "text": [
      "Epoch: 4: 100%|██████████| 38/38 [01:04<00:00,  1.70s/it]\n"
     ]
    },
    {
     "name": "stdout",
     "output_type": "stream",
     "text": [
      "------------------------------------\n",
      "|      metric    | group 0| group 1|\n",
      "|    accuracy    | 91.39% | 69.94% |\n",
      "|      loss      |   0.23 |   0.74 |\n",
      "------------------------------------\n",
      "| Accuracy Loss: 0.3593\n",
      "| Diversity Loss: 0.0000\n",
      "| Worst-case Accuracy: 69.94%\n",
      "| Average Accuracy: 85.84%\n",
      "=============== Validation ===============\n",
      "------------------------------------\n",
      "|      metric    | group 0| group 1|\n",
      "|    accuracy    | 74.50% | 47.91% |\n",
      "|      loss      |   0.63 |   0.82 |\n",
      "------------------------------------\n",
      "| Accuracy Loss: 0.7280\n",
      "| Worst-case Accuracy: 47.91%\n",
      "| Average Accuracy: 61.22%\n"
     ]
    },
    {
     "name": "stderr",
     "output_type": "stream",
     "text": [
      "Epoch: 5: 100%|██████████| 38/38 [01:06<00:00,  1.76s/it]\n"
     ]
    },
    {
     "name": "stdout",
     "output_type": "stream",
     "text": [
      "------------------------------------\n",
      "|      metric    | group 0| group 1|\n",
      "|    accuracy    | 92.04% | 72.12% |\n",
      "|      loss      |   0.21 |   0.66 |\n",
      "------------------------------------\n",
      "| Accuracy Loss: 0.3284\n",
      "| Diversity Loss: 0.0000\n",
      "| Worst-case Accuracy: 72.12%\n",
      "| Average Accuracy: 86.88%\n",
      "=============== Validation ===============\n",
      "------------------------------------\n",
      "|      metric    | group 0| group 1|\n",
      "|    accuracy    | 75.50% | 41.40% |\n",
      "|      loss      |   0.66 |   1.20 |\n",
      "------------------------------------\n",
      "| Accuracy Loss: 0.9292\n",
      "| Worst-case Accuracy: 41.40%\n",
      "| Average Accuracy: 58.47%\n"
     ]
    },
    {
     "name": "stderr",
     "output_type": "stream",
     "text": [
      "Epoch: 6: 100%|██████████| 38/38 [01:03<00:00,  1.67s/it]\n"
     ]
    },
    {
     "name": "stdout",
     "output_type": "stream",
     "text": [
      "------------------------------------\n",
      "|      metric    | group 0| group 1|\n",
      "|    accuracy    | 95.64% | 69.86% |\n",
      "|      loss      |   0.15 |   0.78 |\n",
      "------------------------------------\n",
      "| Accuracy Loss: 0.3126\n",
      "| Diversity Loss: 0.0000\n",
      "| Worst-case Accuracy: 69.86%\n",
      "| Average Accuracy: 88.97%\n",
      "=============== Validation ===============\n",
      "------------------------------------\n",
      "|      metric    | group 0| group 1|\n",
      "|    accuracy    | 77.17% | 48.91% |\n",
      "|      loss      |   0.72 |   0.91 |\n",
      "------------------------------------\n",
      "| Accuracy Loss: 0.8150\n",
      "| Worst-case Accuracy: 48.91%\n",
      "| Average Accuracy: 63.05%\n"
     ]
    },
    {
     "name": "stderr",
     "output_type": "stream",
     "text": [
      "Epoch: 7: 100%|██████████| 38/38 [01:04<00:00,  1.70s/it]\n"
     ]
    },
    {
     "name": "stdout",
     "output_type": "stream",
     "text": [
      "------------------------------------\n",
      "|      metric    | group 0| group 1|\n",
      "|    accuracy    | 94.68% | 71.39% |\n",
      "|      loss      |   0.17 |   0.66 |\n",
      "------------------------------------\n",
      "| Accuracy Loss: 0.2996\n",
      "| Diversity Loss: 0.0000\n",
      "| Worst-case Accuracy: 71.39%\n",
      "| Average Accuracy: 88.65%\n",
      "=============== Validation ===============\n",
      "------------------------------------\n",
      "|      metric    | group 0| group 1|\n",
      "|    accuracy    | 77.00% | 44.07% |\n",
      "|      loss      |   0.66 |   1.04 |\n",
      "------------------------------------\n",
      "| Accuracy Loss: 0.8470\n",
      "| Worst-case Accuracy: 44.07%\n",
      "| Average Accuracy: 60.55%\n"
     ]
    },
    {
     "name": "stderr",
     "output_type": "stream",
     "text": [
      "Epoch: 8: 100%|██████████| 38/38 [01:03<00:00,  1.66s/it]\n"
     ]
    },
    {
     "name": "stdout",
     "output_type": "stream",
     "text": [
      "------------------------------------\n",
      "|      metric    | group 0| group 1|\n",
      "|    accuracy    | 92.37% | 72.84% |\n",
      "|      loss      |   0.22 |   0.63 |\n",
      "------------------------------------\n",
      "| Accuracy Loss: 0.3280\n",
      "| Diversity Loss: 0.0000\n",
      "| Worst-case Accuracy: 72.84%\n",
      "| Average Accuracy: 87.32%\n",
      "=============== Validation ===============\n",
      "------------------------------------\n",
      "|      metric    | group 0| group 1|\n",
      "|    accuracy    | 74.83% | 41.90% |\n",
      "|      loss      |   0.66 |   1.00 |\n",
      "------------------------------------\n",
      "| Accuracy Loss: 0.8301\n",
      "| Worst-case Accuracy: 41.90%\n",
      "| Average Accuracy: 58.38%\n"
     ]
    },
    {
     "name": "stderr",
     "output_type": "stream",
     "text": [
      "Epoch: 9: 100%|██████████| 38/38 [01:03<00:00,  1.67s/it]\n"
     ]
    },
    {
     "name": "stdout",
     "output_type": "stream",
     "text": [
      "------------------------------------\n",
      "|      metric    | group 0| group 1|\n",
      "|    accuracy    | 94.54% | 72.36% |\n",
      "|      loss      |   0.16 |   0.65 |\n",
      "------------------------------------\n",
      "| Accuracy Loss: 0.2871\n",
      "| Diversity Loss: 0.0000\n",
      "| Worst-case Accuracy: 72.36%\n",
      "| Average Accuracy: 88.80%\n",
      "=============== Validation ===============\n",
      "------------------------------------\n",
      "|      metric    | group 0| group 1|\n",
      "|    accuracy    | 76.17% | 44.07% |\n",
      "|      loss      |   0.84 |   1.02 |\n",
      "------------------------------------\n",
      "| Accuracy Loss: 0.9289\n",
      "| Worst-case Accuracy: 44.07%\n",
      "| Average Accuracy: 60.13%\n"
     ]
    },
    {
     "name": "stderr",
     "output_type": "stream",
     "text": [
      "Epoch: 10: 100%|██████████| 38/38 [01:03<00:00,  1.67s/it]\n"
     ]
    },
    {
     "name": "stdout",
     "output_type": "stream",
     "text": [
      "------------------------------------\n",
      "|      metric    | group 0| group 1|\n",
      "|    accuracy    | 80.16% | 79.69% |\n",
      "|      loss      |   0.40 |   0.51 |\n",
      "------------------------------------\n",
      "| Accuracy Loss: 0.4251\n",
      "| Diversity Loss: 0.0000\n",
      "| Worst-case Accuracy: 79.69%\n",
      "| Average Accuracy: 80.04%\n",
      "=============== Validation ===============\n",
      "------------------------------------\n",
      "|      metric    | group 0| group 1|\n",
      "|    accuracy    | 71.00% | 33.72% |\n",
      "|      loss      |   0.66 |   1.19 |\n",
      "------------------------------------\n",
      "| Accuracy Loss: 0.9268\n",
      "| Worst-case Accuracy: 33.72%\n",
      "| Average Accuracy: 52.38%\n",
      "=============== Training ===============\n"
     ]
    },
    {
     "name": "stderr",
     "output_type": "stream",
     "text": [
      "Epoch: 1: 100%|██████████| 38/38 [01:57<00:00,  3.10s/it]\n"
     ]
    },
    {
     "name": "stdout",
     "output_type": "stream",
     "text": [
      "------------------------------------\n",
      "|      metric    | group 0| group 1|\n",
      "|    accuracy    | 95.19% | 72.68% |\n",
      "|      loss      |   0.17 |   0.66 |\n",
      "------------------------------------\n",
      "| Accuracy Loss: 0.2935\n",
      "| Diversity Loss: 0.0000\n",
      "| Worst-case Accuracy: 72.68%\n",
      "| Average Accuracy: 89.36%\n",
      "=============== Validation ===============\n",
      "------------------------------------\n",
      "|      metric    | group 0| group 1|\n",
      "|    accuracy    | 76.33% | 44.74% |\n",
      "|      loss      |   0.69 |   1.01 |\n",
      "------------------------------------\n",
      "| Accuracy Loss: 0.8500\n",
      "| Worst-case Accuracy: 44.74%\n",
      "| Average Accuracy: 60.55%\n",
      "=============== Training ===============\n"
     ]
    },
    {
     "name": "stderr",
     "output_type": "stream",
     "text": [
      "Epoch: 2: 100%|██████████| 38/38 [01:57<00:00,  3.08s/it]\n"
     ]
    },
    {
     "name": "stdout",
     "output_type": "stream",
     "text": [
      "------------------------------------\n",
      "|      metric    | group 0| group 1|\n",
      "|    accuracy    | 96.26% | 69.46% |\n",
      "|      loss      |   0.13 |   0.70 |\n",
      "------------------------------------\n",
      "| Accuracy Loss: 0.2812\n",
      "| Diversity Loss: 0.0000\n",
      "| Worst-case Accuracy: 69.46%\n",
      "| Average Accuracy: 89.32%\n",
      "=============== Validation ===============\n",
      "------------------------------------\n",
      "|      metric    | group 0| group 1|\n",
      "|    accuracy    | 78.00% | 47.41% |\n",
      "|      loss      |   0.75 |   0.94 |\n",
      "------------------------------------\n",
      "| Accuracy Loss: 0.8485\n",
      "| Worst-case Accuracy: 47.41%\n",
      "| Average Accuracy: 62.72%\n",
      "=============== Training ===============\n"
     ]
    },
    {
     "name": "stderr",
     "output_type": "stream",
     "text": [
      "Epoch: 3: 100%|██████████| 38/38 [01:57<00:00,  3.09s/it]\n"
     ]
    },
    {
     "name": "stdout",
     "output_type": "stream",
     "text": [
      "------------------------------------\n",
      "|      metric    | group 0| group 1|\n",
      "|    accuracy    | 96.00% | 71.31% |\n",
      "|      loss      |   0.14 |   0.70 |\n",
      "------------------------------------\n",
      "| Accuracy Loss: 0.2810\n",
      "| Diversity Loss: 0.0000\n",
      "| Worst-case Accuracy: 71.31%\n",
      "| Average Accuracy: 89.61%\n",
      "=============== Validation ===============\n",
      "------------------------------------\n",
      "|      metric    | group 0| group 1|\n",
      "|    accuracy    | 77.00% | 46.91% |\n",
      "|      loss      |   0.75 |   1.03 |\n",
      "------------------------------------\n",
      "| Accuracy Loss: 0.8898\n",
      "| Worst-case Accuracy: 46.91%\n",
      "| Average Accuracy: 61.97%\n",
      "=============== Training ===============\n"
     ]
    },
    {
     "name": "stderr",
     "output_type": "stream",
     "text": [
      "Epoch: 4: 100%|██████████| 38/38 [01:57<00:00,  3.09s/it]\n"
     ]
    },
    {
     "name": "stdout",
     "output_type": "stream",
     "text": [
      "------------------------------------\n",
      "|      metric    | group 0| group 1|\n",
      "|    accuracy    | 91.36% | 76.79% |\n",
      "|      loss      |   0.24 |   0.59 |\n",
      "------------------------------------\n",
      "| Accuracy Loss: 0.3308\n",
      "| Diversity Loss: 0.0000\n",
      "| Worst-case Accuracy: 76.79%\n",
      "| Average Accuracy: 87.59%\n",
      "=============== Validation ===============\n",
      "------------------------------------\n",
      "|      metric    | group 0| group 1|\n",
      "|    accuracy    | 75.67% | 39.23% |\n",
      "|      loss      |   0.66 |   1.10 |\n",
      "------------------------------------\n",
      "| Accuracy Loss: 0.8794\n",
      "| Worst-case Accuracy: 39.23%\n",
      "| Average Accuracy: 57.46%\n",
      "=============== Training ===============\n"
     ]
    },
    {
     "name": "stderr",
     "output_type": "stream",
     "text": [
      "Epoch: 5: 100%|██████████| 38/38 [01:57<00:00,  3.09s/it]\n"
     ]
    },
    {
     "name": "stdout",
     "output_type": "stream",
     "text": [
      "------------------------------------\n",
      "|      metric    | group 0| group 1|\n",
      "|    accuracy    | 95.19% | 74.05% |\n",
      "|      loss      |   0.15 |   0.62 |\n",
      "------------------------------------\n",
      "| Accuracy Loss: 0.2746\n",
      "| Diversity Loss: 0.0000\n",
      "| Worst-case Accuracy: 74.05%\n",
      "| Average Accuracy: 89.72%\n",
      "=============== Validation ===============\n",
      "------------------------------------\n",
      "|      metric    | group 0| group 1|\n",
      "|    accuracy    | 76.50% | 41.90% |\n",
      "|      loss      |   0.72 |   1.19 |\n",
      "------------------------------------\n",
      "| Accuracy Loss: 0.9512\n",
      "| Worst-case Accuracy: 41.90%\n",
      "| Average Accuracy: 59.22%\n",
      "=============== Training ===============\n"
     ]
    },
    {
     "name": "stderr",
     "output_type": "stream",
     "text": [
      "Epoch: 6: 100%|██████████| 38/38 [01:56<00:00,  3.08s/it]\n"
     ]
    },
    {
     "name": "stdout",
     "output_type": "stream",
     "text": [
      "------------------------------------\n",
      "|      metric    | group 0| group 1|\n",
      "|    accuracy    | 96.40% | 71.64% |\n",
      "|      loss      |   0.13 |   0.75 |\n",
      "------------------------------------\n",
      "| Accuracy Loss: 0.2865\n",
      "| Diversity Loss: 0.0000\n",
      "| Worst-case Accuracy: 71.64%\n",
      "| Average Accuracy: 89.99%\n",
      "=============== Validation ===============\n",
      "------------------------------------\n",
      "|      metric    | group 0| group 1|\n",
      "|    accuracy    | 77.50% | 49.75% |\n",
      "|      loss      |   0.85 |   0.94 |\n",
      "------------------------------------\n",
      "| Accuracy Loss: 0.8922\n",
      "| Worst-case Accuracy: 49.75%\n",
      "| Average Accuracy: 63.64%\n",
      "=============== Training ===============\n"
     ]
    },
    {
     "name": "stderr",
     "output_type": "stream",
     "text": [
      "Epoch: 7: 100%|██████████| 38/38 [01:57<00:00,  3.09s/it]\n"
     ]
    },
    {
     "name": "stdout",
     "output_type": "stream",
     "text": [
      "------------------------------------\n",
      "|      metric    | group 0| group 1|\n",
      "|    accuracy    | 96.90% | 59.71% |\n",
      "|      loss      |   0.12 |   0.99 |\n",
      "------------------------------------\n",
      "| Accuracy Loss: 0.3456\n",
      "| Diversity Loss: 0.0000\n",
      "| Worst-case Accuracy: 59.71%\n",
      "| Average Accuracy: 87.28%\n",
      "=============== Validation ===============\n",
      "------------------------------------\n",
      "|      metric    | group 0| group 1|\n",
      "|    accuracy    | 77.17% | 55.43% |\n",
      "|      loss      |   0.98 |   0.79 |\n",
      "------------------------------------\n",
      "| Accuracy Loss: 0.8848\n",
      "| Worst-case Accuracy: 55.43%\n",
      "| Average Accuracy: 66.31%\n",
      "=============== Training ===============\n"
     ]
    },
    {
     "name": "stderr",
     "output_type": "stream",
     "text": [
      "Epoch: 8: 100%|██████████| 38/38 [02:02<00:00,  3.23s/it]\n"
     ]
    },
    {
     "name": "stdout",
     "output_type": "stream",
     "text": [
      "------------------------------------\n",
      "|      metric    | group 0| group 1|\n",
      "|    accuracy    | 94.65% | 75.26% |\n",
      "|      loss      |   0.16 |   0.58 |\n",
      "------------------------------------\n",
      "| Accuracy Loss: 0.2709\n",
      "| Diversity Loss: 0.0000\n",
      "| Worst-case Accuracy: 75.26%\n",
      "| Average Accuracy: 89.64%\n",
      "=============== Validation ===============\n",
      "------------------------------------\n",
      "|      metric    | group 0| group 1|\n",
      "|    accuracy    | 76.50% | 39.90% |\n",
      "|      loss      |   0.79 |   1.19 |\n",
      "------------------------------------\n",
      "| Accuracy Loss: 0.9881\n",
      "| Worst-case Accuracy: 39.90%\n",
      "| Average Accuracy: 58.22%\n",
      "=============== Training ===============\n"
     ]
    },
    {
     "name": "stderr",
     "output_type": "stream",
     "text": [
      "Epoch: 9: 100%|██████████| 38/38 [02:02<00:00,  3.21s/it]\n"
     ]
    },
    {
     "name": "stdout",
     "output_type": "stream",
     "text": [
      "------------------------------------\n",
      "|      metric    | group 0| group 1|\n",
      "|    accuracy    | 95.19% | 74.70% |\n",
      "|      loss      |   0.16 |   0.60 |\n",
      "------------------------------------\n",
      "| Accuracy Loss: 0.2742\n",
      "| Diversity Loss: 0.0000\n",
      "| Worst-case Accuracy: 74.70%\n",
      "| Average Accuracy: 89.89%\n",
      "=============== Validation ===============\n",
      "------------------------------------\n",
      "|      metric    | group 0| group 1|\n",
      "|    accuracy    | 77.67% | 42.24% |\n",
      "|      loss      |   0.65 |   1.16 |\n",
      "------------------------------------\n",
      "| Accuracy Loss: 0.9034\n",
      "| Worst-case Accuracy: 42.24%\n",
      "| Average Accuracy: 59.97%\n",
      "=============== Training ===============\n"
     ]
    },
    {
     "name": "stderr",
     "output_type": "stream",
     "text": [
      "Epoch: 10: 100%|██████████| 38/38 [02:02<00:00,  3.24s/it]\n"
     ]
    },
    {
     "name": "stdout",
     "output_type": "stream",
     "text": [
      "------------------------------------\n",
      "|      metric    | group 0| group 1|\n",
      "|    accuracy    | 95.36% | 75.26% |\n",
      "|      loss      |   0.16 |   0.57 |\n",
      "------------------------------------\n",
      "| Accuracy Loss: 0.2630\n",
      "| Diversity Loss: 0.0000\n",
      "| Worst-case Accuracy: 75.26%\n",
      "| Average Accuracy: 90.16%\n",
      "=============== Validation ===============\n",
      "------------------------------------\n",
      "|      metric    | group 0| group 1|\n",
      "|    accuracy    | 76.50% | 41.24% |\n",
      "|      loss      |   0.69 |   1.11 |\n",
      "------------------------------------\n",
      "| Accuracy Loss: 0.9011\n",
      "| Worst-case Accuracy: 41.24%\n",
      "| Average Accuracy: 58.88%\n",
      "=============== Test ================\n",
      "------------------------------------\n",
      "|      metric    | group 0| group 1|\n",
      "|    accuracy    | 75.80% | 38.49% |\n",
      "|      loss      |   0.71 |   1.18 |\n",
      "------------------------------------\n",
      "| Accuracy Loss: 0.9428\n",
      "| Worst-case Accuracy: 38.49%\n",
      "| Average Accuracy: 57.15%\n",
      "Results saved in /dccstor/storage/balanceGroups/data/waterbirds/fair_robust_dro_and_diverse_m_1_epoch_10_bs_128_lr_w_0.0100_lr_q_0.0010_outer_lr_0.0100_diverse_lambda_0.00_train_supp_frac_0.00.json!\n"
     ]
    }
   ],
   "source": [
    "run_exp(\n",
    "    method = 'fair_robust_dro_and_diverse', \n",
    "    model = 'resnet50',\n",
    "    m = 1,\n",
    "    train_path = '/dccstor/storage/balanceGroups/data/waterbirds',\n",
    "    dataset_name = 'waterbirds',\n",
    "    val_path = None,\n",
    "    test_path = None,\n",
    "    data_type = 'image',\n",
    "    batch_size = 128, \n",
    "    lr = 0.0002,\n",
    "    inner_lr = .001,\n",
    "    outer_lr = .01,\n",
    "    lr_w = .01,\n",
    "    lr_q = .001,\n",
    "    num_epoch = 10,\n",
    "    seed = 123,\n",
    "    target_var = 'y',\n",
    "    domain = 'a',\n",
    "    ord = 'fro',\n",
    "    warmup_epoch = 10,\n",
    "    s = 1,\n",
    "    device = 'cuda:0',\n",
    "    optimizer = 'sgd',\n",
    "    subsample = False,\n",
    "    diverse_lambda = 0,\n",
    "    train_supp_frac = 0, \n",
    "    supp_batch_size = 128,\n",
    "    num_workers = 0,\n",
    "    pin_memory = False,\n",
    ")"
   ]
  },
  {
   "cell_type": "code",
   "execution_count": null,
   "id": "c4ddc299",
   "metadata": {},
   "outputs": [
    {
     "name": "stdout",
     "output_type": "stream",
     "text": [
      "=============== Training ===============\n"
     ]
    },
    {
     "name": "stderr",
     "output_type": "stream",
     "text": [
      "Epoch: 1: 100%|██████████| 38/38 [03:57<00:00,  6.24s/it]\n"
     ]
    },
    {
     "name": "stdout",
     "output_type": "stream",
     "text": [
      "------------------------------------------------------\n",
      "|      metric    | group 0| group 1| group 2| group 3|\n",
      "|    accuracy    |100.00% |100.00% |  0.00% |  0.00% |\n",
      "|      loss      |   0.00 |   0.00 | 12719.19 | 13757.39 |\n",
      "------------------------------------------------------\n",
      "| Accuracy Loss: 3181.1973\n",
      "| Diversity Loss: 0.0000\n",
      "| Worst-case Accuracy: 0.00%\n",
      "| Average Accuracy: 76.79%\n",
      "| Reweighted Accuracy: 76.79%\n",
      "=============== Validation ===============\n",
      "------------------------------------------------------\n",
      "|      metric    | group 0| group 1| group 2| group 3|\n",
      "|    accuracy    |100.00% |100.00% |  0.00% |  0.00% |\n",
      "|      loss      |   0.00 |   0.00 | 12540.44 | 13476.82 |\n",
      "------------------------------------------------------\n",
      "| Accuracy Loss: 2885.9851\n",
      "| Worst-case Accuracy: 0.00%\n",
      "| Average Accuracy: 77.81%\n",
      "| Reweighted Accuracy: 76.79%\n",
      "=============== Training ===============\n"
     ]
    },
    {
     "name": "stderr",
     "output_type": "stream",
     "text": [
      "Epoch: 2: 100%|██████████| 38/38 [02:05<00:00,  3.29s/it]\n"
     ]
    },
    {
     "name": "stdout",
     "output_type": "stream",
     "text": [
      "------------------------------------------------------\n",
      "|      metric    | group 0| group 1| group 2| group 3|\n",
      "|    accuracy    | 87.28% | 41.85% | 16.07% | 69.35% |\n",
      "|      loss      |   0.31 |   1.18 |   1.94 |   3.02 |\n",
      "------------------------------------------------------\n",
      "| Accuracy Loss: 0.9617\n",
      "| Diversity Loss: 0.0000\n",
      "| Worst-case Accuracy: 16.07%\n",
      "| Average Accuracy: 80.75%\n",
      "| Reweighted Accuracy: 80.75%\n",
      "=============== Validation ===============\n",
      "------------------------------------------------------\n",
      "|      metric    | group 0| group 1| group 2| group 3|\n",
      "|    accuracy    | 89.72% | 42.06% | 25.56% | 66.17% |\n",
      "|      loss      |   0.30 |   1.16 |   5.54 |   1.23 |\n",
      "------------------------------------------------------\n",
      "| Accuracy Loss: 1.3181\n",
      "| Worst-case Accuracy: 25.56%\n",
      "| Average Accuracy: 61.47%\n",
      "| Reweighted Accuracy: 81.95%\n",
      "=============== Training ===============\n"
     ]
    },
    {
     "name": "stderr",
     "output_type": "stream",
     "text": [
      "Epoch: 3: 100%|██████████| 38/38 [02:06<00:00,  3.32s/it]\n"
     ]
    },
    {
     "name": "stdout",
     "output_type": "stream",
     "text": [
      "------------------------------------------------------\n",
      "|      metric    | group 0| group 1| group 2| group 3|\n",
      "|    accuracy    | 97.97% | 70.11% |  7.14% | 40.87% |\n",
      "|      loss      |   0.12 |   0.54 |   2.41 |   1.54 |\n",
      "------------------------------------------------------\n",
      "| Accuracy Loss: 0.4768\n",
      "| Diversity Loss: 0.0000\n",
      "| Worst-case Accuracy: 7.14%\n",
      "| Average Accuracy: 83.25%\n",
      "| Reweighted Accuracy: 83.25%\n",
      "=============== Validation ===============\n",
      "------------------------------------------------------\n",
      "|      metric    | group 0| group 1| group 2| group 3|\n",
      "|    accuracy    | 97.86% | 68.45% |  4.51% | 36.09% |\n",
      "|      loss      |   0.11 |   0.53 |   2.69 |   1.22 |\n",
      "------------------------------------------------------\n",
      "| Accuracy Loss: 0.6850\n",
      "| Worst-case Accuracy: 4.51%\n",
      "| Average Accuracy: 69.22%\n",
      "| Reweighted Accuracy: 82.02%\n",
      "=============== Training ===============\n"
     ]
    },
    {
     "name": "stderr",
     "output_type": "stream",
     "text": [
      "Epoch: 4: 100%|██████████| 38/38 [02:06<00:00,  3.32s/it]\n"
     ]
    },
    {
     "name": "stdout",
     "output_type": "stream",
     "text": [
      "------------------------------------------------------\n",
      "|      metric    | group 0| group 1| group 2| group 3|\n",
      "|    accuracy    | 90.08% | 36.41% | 16.07% | 72.09% |\n",
      "|      loss      |   0.72 |   1.89 |   1.69 |   0.56 |\n",
      "------------------------------------------------------\n",
      "| Accuracy Loss: 0.7394\n",
      "| Diversity Loss: 0.0000\n",
      "| Worst-case Accuracy: 16.07%\n",
      "| Average Accuracy: 83.19%\n",
      "| Reweighted Accuracy: 83.19%\n",
      "=============== Validation ===============\n",
      "------------------------------------------------------\n",
      "|      metric    | group 0| group 1| group 2| group 3|\n",
      "|    accuracy    | 92.93% | 36.91% | 18.80% | 69.17% |\n",
      "|      loss      |   0.74 |   1.95 |   1.53 |   0.66 |\n",
      "------------------------------------------------------\n",
      "| Accuracy Loss: 1.2900\n",
      "| Worst-case Accuracy: 18.80%\n",
      "| Average Accuracy: 60.30%\n",
      "| Reweighted Accuracy: 84.68%\n",
      "=============== Training ===============\n"
     ]
    },
    {
     "name": "stderr",
     "output_type": "stream",
     "text": [
      "Epoch: 5: 100%|██████████| 38/38 [02:05<00:00,  3.31s/it]\n"
     ]
    },
    {
     "name": "stdout",
     "output_type": "stream",
     "text": [
      "------------------------------------------------------\n",
      "|      metric    | group 0| group 1| group 2| group 3|\n",
      "|    accuracy    | 88.31% | 24.46% | 17.86% | 82.50% |\n",
      "|      loss      |   0.47 |   2.15 |   1.63 |   0.38 |\n",
      "------------------------------------------------------\n",
      "| Accuracy Loss: 0.5266\n",
      "| Diversity Loss: 0.0000\n",
      "| Worst-case Accuracy: 17.86%\n",
      "| Average Accuracy: 83.75%\n",
      "| Reweighted Accuracy: 83.75%\n",
      "=============== Validation ===============\n",
      "------------------------------------------------------\n",
      "|      metric    | group 0| group 1| group 2| group 3|\n",
      "|    accuracy    | 90.79% | 27.25% | 21.80% | 78.20% |\n",
      "|      loss      |   0.48 |   2.18 |   1.52 |   0.47 |\n",
      "------------------------------------------------------\n",
      "| Accuracy Loss: 1.2533\n",
      "| Worst-case Accuracy: 21.80%\n",
      "| Average Accuracy: 57.05%\n",
      "| Reweighted Accuracy: 84.77%\n",
      "=============== Training ===============\n"
     ]
    },
    {
     "name": "stderr",
     "output_type": "stream",
     "text": [
      "Epoch: 6: 100%|██████████| 38/38 [02:07<00:00,  3.35s/it]\n"
     ]
    },
    {
     "name": "stdout",
     "output_type": "stream",
     "text": [
      "------------------------------------------------------\n",
      "|      metric    | group 0| group 1| group 2| group 3|\n",
      "|    accuracy    | 94.25% | 29.89% | 12.50% | 76.35% |\n",
      "|      loss      |   0.17 |   1.26 |   2.36 |   1.07 |\n",
      "------------------------------------------------------\n",
      "| Accuracy Loss: 0.4341\n",
      "| Diversity Loss: 0.0000\n",
      "| Worst-case Accuracy: 12.50%\n",
      "| Average Accuracy: 86.88%\n",
      "| Reweighted Accuracy: 86.88%\n",
      "=============== Validation ===============\n",
      "------------------------------------------------------\n",
      "|      metric    | group 0| group 1| group 2| group 3|\n",
      "|    accuracy    | 95.50% | 34.98% | 12.78% | 72.93% |\n",
      "|      loss      |   0.16 |   1.24 |   2.70 |   0.64 |\n",
      "------------------------------------------------------\n",
      "| Accuracy Loss: 0.9138\n",
      "| Worst-case Accuracy: 12.78%\n",
      "| Average Accuracy: 60.30%\n",
      "| Reweighted Accuracy: 87.24%\n",
      "=============== Training ===============\n"
     ]
    },
    {
     "name": "stderr",
     "output_type": "stream",
     "text": [
      "Epoch: 7:  63%|██████▎   | 24/38 [01:21<00:47,  3.42s/it]"
     ]
    }
   ],
   "source": [
    "run_exp(\n",
    "    method = 'irm', \n",
    "    model = 'resnet50',\n",
    "    m = 1,\n",
    "    train_path = '/dccstor/storage/balanceGroups/data/waterbirds',\n",
    "    dataset_name = 'waterbirds',\n",
    "    val_path = None,\n",
    "    test_path = None,\n",
    "    data_type = 'image',\n",
    "    batch_size = 128, \n",
    "    lr = 0.0002,\n",
    "    inner_lr = .001,\n",
    "    outer_lr = .01,\n",
    "    lr_w = .01,\n",
    "    lr_q = .001,\n",
    "    num_epoch = 10,\n",
    "    seed = 123,\n",
    "    target_var = 'y',\n",
    "    domain = 'a',\n",
    "    ord = 'fro',\n",
    "    warmup_epoch = 10,\n",
    "    s = 1,\n",
    "    device = 'cuda:0',\n",
    "    optimizer = 'sgd',\n",
    "    subsample = False,\n",
    "    diverse_lambda = 0,\n",
    "    train_supp_frac = 0, \n",
    "    num_workers = 0,\n",
    "    log_wandb = 0,\n",
    "    pin_memory = False,\n",
    ")"
   ]
  },
  {
   "cell_type": "code",
   "execution_count": null,
   "id": "a7a32af7",
   "metadata": {},
   "outputs": [],
   "source": []
  }
 ],
 "metadata": {
  "kernelspec": {
   "display_name": "Python 3",
   "language": "python",
   "name": "python3"
  },
  "language_info": {
   "codemirror_mode": {
    "name": "ipython",
    "version": 3
   },
   "file_extension": ".py",
   "mimetype": "text/x-python",
   "name": "python",
   "nbconvert_exporter": "python",
   "pygments_lexer": "ipython3",
   "version": "3.8.13"
  }
 },
 "nbformat": 4,
 "nbformat_minor": 5
}
