{
 "cells": [
  {
   "cell_type": "code",
   "execution_count": 1,
   "id": "60b00cb4",
   "metadata": {},
   "outputs": [],
   "source": [
    "from methods import *"
   ]
  },
  {
   "cell_type": "code",
   "execution_count": 2,
   "id": "ffc26b6e",
   "metadata": {},
   "outputs": [
    {
     "name": "stdout",
     "output_type": "stream",
     "text": [
      "Representations are loaded from folder /mnt/cloud/yzeng58/privateDemographics/data/waterbirds_resnet50_representation!\n"
     ]
    }
   ],
   "source": [
    "(\n",
    "    m,\n",
    "    loader,\n",
    "    optim,\n",
    "    model,\n",
    "    num_domain,\n",
    "    num_group,\n",
    "    lr_scheduler,\n",
    "    device,\n",
    "    n,\n",
    "    num_feature,\n",
    "    num_class,\n",
    ") = exp_init(\n",
    "    'waterbirds',\n",
    "    128,\n",
    "    'y',\n",
    "    'a',\n",
    "    0,\n",
    "    0,\n",
    "    'fairness',\n",
    "    0,\n",
    "    True,\n",
    "    '%s/privateDemographics/models/waterbirds/erm_num_epoch_360_batch_size_128_lr_1e-05_subsample_False_weight_decay_1_best.model' % root_dir,\n",
    "    123,\n",
    "    'erm',\n",
    "    torch.device('cpu'),\n",
    ")"
   ]
  },
  {
   "cell_type": "code",
   "execution_count": 3,
   "id": "cc1728e1",
   "metadata": {},
   "outputs": [
    {
     "ename": "AttributeError",
     "evalue": "'Tensor' object has no attribute 'items'",
     "output_type": "error",
     "traceback": [
      "\u001b[0;31m---------------------------------------------------------------------------\u001b[0m",
      "\u001b[0;31mAttributeError\u001b[0m                            Traceback (most recent call last)",
      "Input \u001b[0;32mIn [3]\u001b[0m, in \u001b[0;36m<cell line: 1>\u001b[0;34m()\u001b[0m\n\u001b[0;32m----> 1\u001b[0m results \u001b[38;5;241m=\u001b[39m \u001b[43mget_domain_george\u001b[49m\u001b[43m(\u001b[49m\n\u001b[1;32m      2\u001b[0m \u001b[43m    \u001b[49m\u001b[43mloader\u001b[49m\u001b[43m,\u001b[49m\n\u001b[1;32m      3\u001b[0m \u001b[43m    \u001b[49m\u001b[43mnum_domain\u001b[49m\u001b[43m,\u001b[49m\n\u001b[1;32m      4\u001b[0m \u001b[43m    \u001b[49m\u001b[43mnum_class\u001b[49m\u001b[43m,\u001b[49m\n\u001b[1;32m      5\u001b[0m \u001b[43m    \u001b[49m\u001b[38;5;241;43m4\u001b[39;49m\u001b[43m,\u001b[49m\n\u001b[1;32m      6\u001b[0m \u001b[43m    \u001b[49m\u001b[43mdevice\u001b[49m\u001b[43m,\u001b[49m\n\u001b[1;32m      7\u001b[0m \u001b[43m    \u001b[49m\u001b[38;5;241;43m123\u001b[39;49m\u001b[43m,\u001b[49m\n\u001b[1;32m      8\u001b[0m \u001b[43m)\u001b[49m\n",
      "File \u001b[0;32m/mnt/cloud/yzeng58/privateDemographics/methods.py:707\u001b[0m, in \u001b[0;36mget_domain_george\u001b[0;34m(loader, num_domain, num_class, max_k, device, seed, overcluster_factor, search_k, n_components, n_neighbors, min_dist, cluster_method, metric_types)\u001b[0m\n\u001b[1;32m    697\u001b[0m cluster_model \u001b[38;5;241m=\u001b[39m OverclusterModel(\n\u001b[1;32m    698\u001b[0m     cluster_method \u001b[38;5;241m=\u001b[39m cluster_method, \n\u001b[1;32m    699\u001b[0m     max_k \u001b[38;5;241m=\u001b[39m max_k, \n\u001b[0;32m   (...)\u001b[0m\n\u001b[1;32m    703\u001b[0m     oc_fac \u001b[38;5;241m=\u001b[39m overcluster_factor,\n\u001b[1;32m    704\u001b[0m )\n\u001b[1;32m    706\u001b[0m c_trainer \u001b[38;5;241m=\u001b[39m GEORGECluster(metric_types, superclasses_to_ignore \u001b[38;5;241m=\u001b[39m \u001b[38;5;28;01mNone\u001b[39;00m)\n\u001b[0;32m--> 707\u001b[0m group_to_models \u001b[38;5;241m=\u001b[39m \u001b[43mc_trainer\u001b[49m\u001b[38;5;241;43m.\u001b[39;49m\u001b[43mtrain\u001b[49m\u001b[43m(\u001b[49m\n\u001b[1;32m    708\u001b[0m \u001b[43m    \u001b[49m\u001b[43mcluster_model\u001b[49m\u001b[43m,\u001b[49m\u001b[43m \u001b[49m\n\u001b[1;32m    709\u001b[0m \u001b[43m    \u001b[49m\u001b[43m{\u001b[49m\n\u001b[1;32m    710\u001b[0m \u001b[43m        \u001b[49m\u001b[38;5;124;43m'\u001b[39;49m\u001b[38;5;124;43mtrain\u001b[39;49m\u001b[38;5;124;43m'\u001b[39;49m\u001b[43m:\u001b[49m\u001b[43m \u001b[49m\u001b[43minputs_trans\u001b[49m\u001b[43m[\u001b[49m\u001b[43midx_mode\u001b[49m\u001b[43m \u001b[49m\u001b[38;5;241;43m==\u001b[39;49m\u001b[43m \u001b[49m\u001b[38;5;124;43m'\u001b[39;49m\u001b[38;5;124;43mtrain\u001b[39;49m\u001b[38;5;124;43m'\u001b[39;49m\u001b[43m]\u001b[49m\u001b[43m,\u001b[49m\n\u001b[1;32m    711\u001b[0m \u001b[43m        \u001b[49m\u001b[38;5;124;43m'\u001b[39;49m\u001b[38;5;124;43mval\u001b[39;49m\u001b[38;5;124;43m'\u001b[39;49m\u001b[43m:\u001b[49m\u001b[43m \u001b[49m\u001b[43minputs_trans\u001b[49m\u001b[43m[\u001b[49m\u001b[43midx_mode\u001b[49m\u001b[43m \u001b[49m\u001b[38;5;241;43m==\u001b[39;49m\u001b[43m \u001b[49m\u001b[38;5;124;43m'\u001b[39;49m\u001b[38;5;124;43mval\u001b[39;49m\u001b[38;5;124;43m'\u001b[39;49m\u001b[43m]\u001b[49m\u001b[43m,\u001b[49m\n\u001b[1;32m    712\u001b[0m \u001b[43m    \u001b[49m\u001b[43m}\u001b[49m\u001b[43m,\u001b[49m\n\u001b[1;32m    713\u001b[0m \u001b[43m\u001b[49m\u001b[43m)\u001b[49m\n\u001b[1;32m    714\u001b[0m \u001b[38;5;28;01mreturn\u001b[39;00m group_to_models\n",
      "File \u001b[0;32m/mnt/cloud/yzeng58/privateDemographics/utils.py:1024\u001b[0m, in \u001b[0;36mGEORGECluster.train\u001b[0;34m(self, cluster_model, inputs)\u001b[0m\n\u001b[1;32m   1021\u001b[0m inputs_val \u001b[38;5;241m=\u001b[39m inputs[\u001b[38;5;124m'\u001b[39m\u001b[38;5;124mval\u001b[39m\u001b[38;5;124m'\u001b[39m]\n\u001b[1;32m   1023\u001b[0m group_to_models \u001b[38;5;241m=\u001b[39m []\n\u001b[0;32m-> 1024\u001b[0m \u001b[38;5;28;01mfor\u001b[39;00m group, group_data \u001b[38;5;129;01min\u001b[39;00m \u001b[43minputs_tr\u001b[49m\u001b[43m[\u001b[49m\u001b[38;5;241;43m0\u001b[39;49m\u001b[43m]\u001b[49m\u001b[38;5;241;43m.\u001b[39;49m\u001b[43mitems\u001b[49m():\n\u001b[1;32m   1025\u001b[0m     \u001b[38;5;28;01mif\u001b[39;00m group \u001b[38;5;129;01min\u001b[39;00m \u001b[38;5;28mself\u001b[39m\u001b[38;5;241m.\u001b[39msuperclasses_to_ignore:\n\u001b[1;32m   1026\u001b[0m         \u001b[38;5;66;03m# Keep this superclass in a single \"cluster\"\u001b[39;00m\n\u001b[1;32m   1027\u001b[0m         \u001b[38;5;28mprint\u001b[39m(\u001b[38;5;124mf\u001b[39m\u001b[38;5;124m'\u001b[39m\u001b[38;5;124mNot clustering superclass \u001b[39m\u001b[38;5;132;01m{\u001b[39;00mgroup\u001b[38;5;132;01m}\u001b[39;00m\u001b[38;5;124m...\u001b[39m\u001b[38;5;124m'\u001b[39m)\n",
      "\u001b[0;31mAttributeError\u001b[0m: 'Tensor' object has no attribute 'items'"
     ]
    }
   ],
   "source": [
    "results = get_domain_george(\n",
    "    loader,\n",
    "    num_domain,\n",
    "    num_class,\n",
    "    4,\n",
    "    device,\n",
    "    123,\n",
    ")"
   ]
  },
  {
   "cell_type": "code",
   "execution_count": 4,
   "id": "586740fd",
   "metadata": {},
   "outputs": [],
   "source": [
    "import umap"
   ]
  },
  {
   "cell_type": "code",
   "execution_count": 10,
   "id": "444c21df",
   "metadata": {},
   "outputs": [
    {
     "data": {
      "text/plain": [
       "array([[0., 0.],\n",
       "       [0., 0.]])"
      ]
     },
     "execution_count": 10,
     "metadata": {},
     "output_type": "execute_result"
    }
   ],
   "source": [
    "np.zeros((2,2))"
   ]
  },
  {
   "cell_type": "code",
   "execution_count": 5,
   "id": "e932e9e4",
   "metadata": {},
   "outputs": [
    {
     "data": {
      "text/plain": [
       "array([[0.19409652, 0.30253813, 1.0947552 , ..., 0.10340346, 0.15202883,\n",
       "        0.17909719],\n",
       "       [0.22415239, 0.27610916, 0.23466566, ..., 0.41363716, 0.53521764,\n",
       "        0.22774148],\n",
       "       [0.0500348 , 0.26553   , 0.48521304, ..., 0.6409122 , 0.31423807,\n",
       "        0.27291188],\n",
       "       ...,\n",
       "       [0.798796  , 0.552743  , 0.19613914, ..., 0.39260322, 0.13164362,\n",
       "        0.1376287 ],\n",
       "       [0.68545634, 0.86812115, 0.14870302, ..., 0.32641524, 0.17164503,\n",
       "        0.24192645],\n",
       "       [0.9258263 , 0.46162266, 0.32339785, ..., 0.41059187, 0.67685294,\n",
       "        0.29472074]], dtype=float32)"
      ]
     },
     "execution_count": 5,
     "metadata": {},
     "output_type": "execute_result"
    }
   ],
   "source": [
    "inputs"
   ]
  },
  {
   "cell_type": "code",
   "execution_count": 6,
   "id": "7d1481e2",
   "metadata": {},
   "outputs": [],
   "source": [
    "for y in range(num_class):\n",
    "    y_idx = idx_class == y\n",
    "    reducer = umap.UMAP(random_state = seed, n_components = 2, n_neighbors = 10, min_dist = 0)\n",
    "    umap_labels = reducer.fit_transform(inputs[y_idx])\n",
    "#     print(np.unique(umap_labels))"
   ]
  },
  {
   "cell_type": "code",
   "execution_count": 7,
   "id": "9c33ee4b",
   "metadata": {},
   "outputs": [
    {
     "name": "stdout",
     "output_type": "stream",
     "text": [
      "[ 2.9524755  2.998944   3.016039  ... 12.758354  12.767308  12.779216 ]\n"
     ]
    }
   ],
   "source": [
    "print(np.unique(umap_labels))"
   ]
  },
  {
   "cell_type": "code",
   "execution_count": 8,
   "id": "d295eb19",
   "metadata": {},
   "outputs": [
    {
     "data": {
      "text/plain": [
       "array([[ 9.076679 , 11.984409 ],\n",
       "       [ 8.367124 , 10.402316 ],\n",
       "       [ 7.5135937, 11.094875 ],\n",
       "       ...,\n",
       "       [ 9.7546   , 10.051958 ],\n",
       "       [ 8.216393 ,  9.572042 ],\n",
       "       [ 9.030809 , 12.073336 ]], dtype=float32)"
      ]
     },
     "execution_count": 8,
     "metadata": {},
     "output_type": "execute_result"
    }
   ],
   "source": [
    "umap_labels"
   ]
  },
  {
   "cell_type": "code",
   "execution_count": null,
   "id": "32e5efe1",
   "metadata": {},
   "outputs": [],
   "source": []
  }
 ],
 "metadata": {
  "kernelspec": {
   "display_name": "Python 3 (ipykernel)",
   "language": "python",
   "name": "python3"
  },
  "language_info": {
   "codemirror_mode": {
    "name": "ipython",
    "version": 3
   },
   "file_extension": ".py",
   "mimetype": "text/x-python",
   "name": "python",
   "nbconvert_exporter": "python",
   "pygments_lexer": "ipython3",
   "version": "3.8.13"
  }
 },
 "nbformat": 4,
 "nbformat_minor": 5
}
