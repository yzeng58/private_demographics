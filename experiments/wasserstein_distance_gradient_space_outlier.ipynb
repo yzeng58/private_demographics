{
 "cells": [
  {
   "cell_type": "code",
   "execution_count": 1,
   "id": "2ada21d9",
   "metadata": {},
   "outputs": [],
   "source": [
    "from scipy.stats import wasserstein_distance\n",
    "import os, ot\n",
    "os.chdir('../')\n",
    "from root_dir import * \n",
    "import pandas as pd\n",
    "import numpy as np\n",
    "from functools import partial"
   ]
  },
  {
   "cell_type": "code",
   "execution_count": 7,
   "id": "de7679a7",
   "metadata": {},
   "outputs": [],
   "source": [
    "seed = 123\n",
    "np.random.seed(seed)\n",
    "file_path = '%s/privateDemographics/data/toy/%s_outlierflag.csv' % (root_dir, 'train')\n",
    "csv_df = pd.read_csv(file_path)\n",
    "drop_idx = np.random.choice(csv_df[(csv_df.a == 2) & (csv_df.y == 1)].index, size = 16, replace = False)\n",
    "csv_df = csv_df.drop(index = drop_idx)\n",
    "kept_idx = csv_df.index\n",
    "csv_df = csv_df.reset_index(drop = True)\n",
    "df = [csv_df[csv_df.y == 0].reset_index(drop = True), csv_df[csv_df.y == 1].reset_index(drop = True)]\n",
    "regular_set = [df[0][df[0].a <= 1].index, df[1][df[1].a <= 1].index]\n",
    "outlier_set = [df[0][df[0].a == 2].index, df[1][df[1].a == 2].index]\n",
    "n_regular, n_outlier = np.array([len(regular_set[0]), len(regular_set[1])]), np.array([len(outlier_set[0]), len(outlier_set[1])])\n",
    "n = n_regular + n_outlier\n",
    "orig_data = [df[0][['x1', 'x2', 'y']].values, df[1][['x1', 'x2', 'y']].values]\n",
    "orig_weight = [np.ones((n[0],))/n[0], np.ones((n[1],))/n[1]]\n"
   ]
  },
  {
   "cell_type": "markdown",
   "id": "0d168e39",
   "metadata": {},
   "source": [
    "# Extract gradients"
   ]
  },
  {
   "cell_type": "code",
   "execution_count": 8,
   "id": "55ead8e2",
   "metadata": {},
   "outputs": [],
   "source": [
    "from methods import *\n",
    "from datasets import toyData"
   ]
  },
  {
   "cell_type": "code",
   "execution_count": 9,
   "id": "9d16ac4c",
   "metadata": {},
   "outputs": [
    {
     "name": "stdout",
     "output_type": "stream",
     "text": [
      "Loading the toy dataset with outlier = 1!\n",
      "Loaded all the gradient information into folder /skunk-pod-storage-yzeng58-40wisc-2eedu-pvc/privateDemographics/results/toy/outliers...\n"
     ]
    }
   ],
   "source": [
    "dataset_name = 'toy'\n",
    "\n",
    "# This chunk is just to quickly load all the necessary variables...\n",
    "# No need to understand this chunk!\n",
    "\n",
    "(\n",
    "    m,\n",
    "    loader,\n",
    "    optim,\n",
    "    model,\n",
    "    num_domain,\n",
    "    num_group,\n",
    "    lr_scheduler,\n",
    "    device,\n",
    "    n,\n",
    "    num_feature,\n",
    "    num_class,\n",
    ") = exp_init(\n",
    "    dataset_name,\n",
    "    128,\n",
    "    'y',\n",
    "    'a',\n",
    "    0,\n",
    "    0,\n",
    "    'fairness',\n",
    "    outlier = 1,\n",
    "    load_representations = True,\n",
    "    start_model_path = f'{root_dir}/privateDemographics/models/toy/erm_num_epoch_100_batch_size_128_lr_0.01_subsample_0_weight_decay_0.0001_outlier_0_model_logreg_best.model',\n",
    "    seed = 123,\n",
    "    method = 'grass',\n",
    "    device = torch.device('cpu'),\n",
    "    lr = 1e-3,\n",
    "    weight_decay = 1e-5,\n",
    "    model = '',\n",
    ")\n",
    "\n",
    "grad, true_domain, idx_class, true_group, idx_mode = collect_gradient(\n",
    "    model,\n",
    "    m,\n",
    "    loader,\n",
    "    device, \n",
    "    optim,\n",
    "    num_domain,\n",
    "    num_group,\n",
    "    'fairness',\n",
    "    lr_scheduler,\n",
    "    dataset_name,\n",
    "    num_class,\n",
    "    outlier = 1,\n",
    ")"
   ]
  },
  {
   "cell_type": "code",
   "execution_count": 10,
   "id": "c7aeaa98",
   "metadata": {},
   "outputs": [],
   "source": [
    "orig_grad = [\n",
    "    grad[kept_idx][idx_mode[kept_idx] == 'train'][csv_df.y == 0], \n",
    "    grad[kept_idx][idx_mode[kept_idx] == 'train'][csv_df.y == 1]\n",
    "]\n",
    "\n",
    "n = n_regular + n_outlier"
   ]
  },
  {
   "cell_type": "markdown",
   "id": "e0d54d38",
   "metadata": {},
   "source": [
    "# 1-Wasserstein Distance"
   ]
  },
  {
   "cell_type": "code",
   "execution_count": 11,
   "id": "1ac257a3",
   "metadata": {},
   "outputs": [],
   "source": [
    "y = 0"
   ]
  },
  {
   "cell_type": "code",
   "execution_count": 12,
   "id": "9c801656",
   "metadata": {},
   "outputs": [],
   "source": [
    "np.random.seed(seed)\n",
    "plot1_regular = {1: 0}\n",
    "for weight in np.arange(1.25, 5, .25):\n",
    "    dist = np.zeros(n_regular[y])\n",
    "    for i, idx in enumerate(regular_set[y]):\n",
    "        new_weight = np.ones((n[y],))\n",
    "        new_weight[idx] = weight\n",
    "        new_weight = new_weight / new_weight.sum()\n",
    "        M = ot.dist(orig_grad[y], orig_grad[y])\n",
    "        # new_grad = orig_grad[np.random.choice(np.arange(n), n, p = new_weight)]\n",
    "        dist[i] = ot.emd2(orig_weight[y], new_weight, M)\n",
    "    plot1_regular[weight] = dist.mean()\n",
    "    \n",
    "plot1_outlier = {1: 0}\n",
    "for weight in np.arange(1.25, 5, .25):\n",
    "    dist = np.zeros(n_outlier[y])\n",
    "    for i, idx in enumerate(outlier_set[y]):\n",
    "        new_weight = np.ones((n[y],))\n",
    "        new_weight[idx] = weight\n",
    "        new_weight = new_weight / new_weight.sum()\n",
    "        M = ot.dist(orig_grad[y], orig_grad[y])\n",
    "        # new_grad = orig_grad[np.random.choice(np.arange(n), n, p = new_weight)]\n",
    "        dist[i] = ot.emd2(orig_weight[y], new_weight, M)\n",
    "    plot1_outlier[weight] = dist.mean()\n",
    "    \n",
    "plot1 = pd.DataFrame([pd.Series(plot1_regular), pd.Series(plot1_outlier)]).T\n",
    "plot1 = plot1.reset_index()\n",
    "plot1.columns = ['weight','regular', 'outlier']"
   ]
  },
  {
   "cell_type": "code",
   "execution_count": 13,
   "id": "53755649",
   "metadata": {},
   "outputs": [
    {
     "data": {
      "text/plain": [
       "Text(0, 0.5, '1-Wasserstein Distance')"
      ]
     },
     "execution_count": 13,
     "metadata": {},
     "output_type": "execute_result"
    },
    {
     "data": {
      "image/png": "[encoded data removed]",
      "text/plain": [
       "<Figure size 432x288 with 1 Axes>"
      ]
     },
     "metadata": {
      "needs_background": "light"
     },
     "output_type": "display_data"
    }
   ],
   "source": [
    "plot1.to_csv('%s/privateDemographics/results/toy/outliers/W1ball_grad_y_%d.csv' % (root_dir, y)) \n",
    "ax = plot1.plot('weight', 'regular')\n",
    "plot1.plot('weight', 'outlier', ax = ax)\n",
    "ax.set_ylabel('1-Wasserstein Distance')"
   ]
  },
  {
   "cell_type": "code",
   "execution_count": 14,
   "id": "0354275c",
   "metadata": {},
   "outputs": [],
   "source": [
    "y = 1"
   ]
  },
  {
   "cell_type": "code",
   "execution_count": 15,
   "id": "e2dbfbb4",
   "metadata": {},
   "outputs": [],
   "source": [
    "np.random.seed(seed)\n",
    "plot1_regular = {1: 0}\n",
    "for weight in np.arange(1.25, 5, .25):\n",
    "    dist = np.zeros(n_regular[y])\n",
    "    for i, idx in enumerate(regular_set[y]):\n",
    "        new_weight = np.ones((n[y],))\n",
    "        new_weight[idx] = weight\n",
    "        new_weight = new_weight / new_weight.sum()\n",
    "        M = ot.dist(orig_grad[y], orig_grad[y])\n",
    "        # new_grad = orig_grad[np.random.choice(np.arange(n), n, p = new_weight)]\n",
    "        dist[i] = ot.emd2(orig_weight[y], new_weight, M)\n",
    "    plot1_regular[weight] = dist.mean()\n",
    "    \n",
    "plot1_outlier = {1: 0}\n",
    "for weight in np.arange(1.25, 5, .25):\n",
    "    dist = np.zeros(n_outlier[y])\n",
    "    for i, idx in enumerate(outlier_set[y]):\n",
    "        new_weight = np.ones((n[y],))\n",
    "        new_weight[idx] = weight\n",
    "        new_weight = new_weight / new_weight.sum()\n",
    "        M = ot.dist(orig_grad[y], orig_grad[y])\n",
    "        # new_grad = orig_grad[np.random.choice(np.arange(n), n, p = new_weight)]\n",
    "        dist[i] = ot.emd2(orig_weight[y], new_weight, M)\n",
    "    plot1_outlier[weight] = dist.mean()\n",
    "    \n",
    "plot1 = pd.DataFrame([pd.Series(plot1_regular), pd.Series(plot1_outlier)]).T\n",
    "plot1 = plot1.reset_index()\n",
    "plot1.columns = ['weight','regular', 'outlier']"
   ]
  },
  {
   "cell_type": "code",
   "execution_count": 16,
   "id": "20fb385f",
   "metadata": {},
   "outputs": [
    {
     "data": {
      "text/plain": [
       "Text(0, 0.5, '1-Wasserstein Distance')"
      ]
     },
     "execution_count": 16,
     "metadata": {},
     "output_type": "execute_result"
    },
    {
     "data": {
      "image/png": "[encoded data removed]",
      "text/plain": [
       "<Figure size 432x288 with 1 Axes>"
      ]
     },
     "metadata": {
      "needs_background": "light"
     },
     "output_type": "display_data"
    }
   ],
   "source": [
    "plot1.to_csv('%s/privateDemographics/results/toy/outliers/W1ball_grad_y_%d.csv' % (root_dir, y)) \n",
    "ax = plot1.plot('weight', 'regular')\n",
    "plot1.plot('weight', 'outlier', ax = ax)\n",
    "ax.set_ylabel('1-Wasserstein Distance')"
   ]
  },
  {
   "cell_type": "markdown",
   "id": "976dec58",
   "metadata": {},
   "source": [
    "# 2-Wasserstein Distance"
   ]
  },
  {
   "cell_type": "code",
   "execution_count": 17,
   "id": "17d4763f",
   "metadata": {},
   "outputs": [],
   "source": [
    "y = 0"
   ]
  },
  {
   "cell_type": "code",
   "execution_count": 18,
   "id": "fb8a501a",
   "metadata": {},
   "outputs": [],
   "source": [
    "np.random.seed(seed)\n",
    "plot2_regular = {1: 0}\n",
    "for weight in np.arange(1.25, 5, .25):\n",
    "    dist = np.zeros(n_regular[y])\n",
    "    for i, idx in enumerate(regular_set[y]):\n",
    "        new_weight = np.ones((n[y],))\n",
    "        new_weight[idx] = weight\n",
    "        new_weight = new_weight / new_weight.sum()\n",
    "        M = ot.dist(orig_grad[y], orig_grad[y])**2\n",
    "        # new_grad = orig_grad[np.random.choice(np.arange(n), n, p = new_weight)]\n",
    "        dist[i] = ot.emd2(orig_weight[y], new_weight, M)\n",
    "    plot2_regular[weight] = dist.mean()\n",
    "    \n",
    "plot2_outlier = {1: 0}\n",
    "for weight in np.arange(1.25, 5, .25):\n",
    "    dist = np.zeros(n_outlier[y])\n",
    "    for i, idx in enumerate(outlier_set[y]):\n",
    "        new_weight = np.ones((n[y],))\n",
    "        new_weight[idx] = weight\n",
    "        new_weight = new_weight / new_weight.sum()\n",
    "        M = ot.dist(orig_grad[y], orig_grad[y])**2\n",
    "        # new_grad = orig_grad[np.random.choice(np.arange(n), n, p = new_weight)]\n",
    "        dist[i] = ot.emd2(orig_weight[y], new_weight, M)\n",
    "    plot2_outlier[weight] = dist.mean()\n",
    "    \n",
    "plot2 = pd.DataFrame([pd.Series(plot2_regular), pd.Series(plot2_outlier)]).T\n",
    "plot2 = plot2.reset_index()\n",
    "plot2.columns = ['weight','regular', 'outlier']"
   ]
  },
  {
   "cell_type": "code",
   "execution_count": 19,
   "id": "6e2f116d",
   "metadata": {},
   "outputs": [],
   "source": [
    "plot2.regular = plot2.regular**.5\n",
    "plot2.outlier = plot2.outlier**.5"
   ]
  },
  {
   "cell_type": "code",
   "execution_count": 20,
   "id": "256a6b94",
   "metadata": {},
   "outputs": [
    {
     "data": {
      "text/plain": [
       "Text(0, 0.5, '2-Wasserstein Distance')"
      ]
     },
     "execution_count": 20,
     "metadata": {},
     "output_type": "execute_result"
    },
    {
     "data": {
      "image/png": "[encoded data removed]",
      "text/plain": [
       "<Figure size 432x288 with 1 Axes>"
      ]
     },
     "metadata": {
      "needs_background": "light"
     },
     "output_type": "display_data"
    }
   ],
   "source": [
    "plot2.to_csv('%s/privateDemographics/results/toy/outliers/W2ball_grad_y_%d.csv' % (root_dir, y)) \n",
    "ax = plot2.plot('weight', 'regular')\n",
    "plot2.plot('weight', 'outlier', ax = ax)\n",
    "ax.set_ylabel('2-Wasserstein Distance')"
   ]
  },
  {
   "cell_type": "code",
   "execution_count": 21,
   "id": "67d5ff6f",
   "metadata": {},
   "outputs": [],
   "source": [
    "y = 1"
   ]
  },
  {
   "cell_type": "code",
   "execution_count": 22,
   "id": "277f918d",
   "metadata": {},
   "outputs": [],
   "source": [
    "np.random.seed(seed)\n",
    "plot2_regular = {1: 0}\n",
    "for weight in np.arange(1.25, 5, .25):\n",
    "    dist = np.zeros(n_regular[y])\n",
    "    for i, idx in enumerate(regular_set[y]):\n",
    "        new_weight = np.ones((n[y],))\n",
    "        new_weight[idx] = weight\n",
    "        new_weight = new_weight / new_weight.sum()\n",
    "        M = ot.dist(orig_grad[y], orig_grad[y])**2\n",
    "        # new_grad = orig_grad[np.random.choice(np.arange(n), n, p = new_weight)]\n",
    "        dist[i] = ot.emd2(orig_weight[y], new_weight, M)\n",
    "    plot2_regular[weight] = dist.mean()\n",
    "    \n",
    "plot2_outlier = {1: 0}\n",
    "for weight in np.arange(1.25, 5, .25):\n",
    "    dist = np.zeros(n_outlier[y])\n",
    "    for i, idx in enumerate(outlier_set[y]):\n",
    "        new_weight = np.ones((n[y],))\n",
    "        new_weight[idx] = weight\n",
    "        new_weight = new_weight / new_weight.sum()\n",
    "        M = ot.dist(orig_grad[y], orig_grad[y])**2\n",
    "        # new_grad = orig_grad[np.random.choice(np.arange(n), n, p = new_weight)]\n",
    "        dist[i] = ot.emd2(orig_weight[y], new_weight, M)\n",
    "    plot2_outlier[weight] = dist.mean()\n",
    "    \n",
    "plot2 = pd.DataFrame([pd.Series(plot2_regular), pd.Series(plot2_outlier)]).T\n",
    "plot2 = plot2.reset_index()\n",
    "plot2.columns = ['weight','regular', 'outlier']"
   ]
  },
  {
   "cell_type": "code",
   "execution_count": 23,
   "id": "df7a8d2e",
   "metadata": {},
   "outputs": [],
   "source": [
    "plot2.regular = plot2.regular**.5\n",
    "plot2.outlier = plot2.outlier**.5"
   ]
  },
  {
   "cell_type": "code",
   "execution_count": 24,
   "id": "7184ef5c",
   "metadata": {},
   "outputs": [
    {
     "data": {
      "text/plain": [
       "Text(0, 0.5, '2-Wasserstein Distance')"
      ]
     },
     "execution_count": 24,
     "metadata": {},
     "output_type": "execute_result"
    },
    {
     "data": {
      "image/png": "[encoded data removed]",
      "text/plain": [
       "<Figure size 432x288 with 1 Axes>"
      ]
     },
     "metadata": {
      "needs_background": "light"
     },
     "output_type": "display_data"
    }
   ],
   "source": [
    "plot2.to_csv('%s/privateDemographics/results/toy/outliers/W2ball_grad_y_%d.csv' % (root_dir, y)) \n",
    "ax = plot2.plot('weight', 'regular')\n",
    "plot2.plot('weight', 'outlier', ax = ax)\n",
    "ax.set_ylabel('2-Wasserstein Distance')"
   ]
  },
  {
   "cell_type": "code",
   "execution_count": null,
   "id": "3278c2e0",
   "metadata": {},
   "outputs": [],
   "source": []
  },
  {
   "cell_type": "code",
   "execution_count": null,
   "id": "5cce5918",
   "metadata": {},
   "outputs": [],
   "source": []
  }
 ],
 "metadata": {
  "kernelspec": {
   "display_name": "Python 3 (ipykernel)",
   "language": "python",
   "name": "python3"
  },
  "language_info": {
   "codemirror_mode": {
    "name": "ipython",
    "version": 3
   },
   "file_extension": ".py",
   "mimetype": "text/x-python",
   "name": "python",
   "nbconvert_exporter": "python",
   "pygments_lexer": "ipython3",
   "version": "3.8.13"
  }
 },
 "nbformat": 4,
 "nbformat_minor": 5
}
