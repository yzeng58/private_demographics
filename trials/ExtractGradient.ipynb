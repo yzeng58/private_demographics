{
 "cells": [
  {
   "cell_type": "markdown",
   "id": "559df3b4",
   "metadata": {},
   "source": [
    "In this notebook, I will introduce how to use function `collect_gradient` to extract the gradient. \n",
    "\n",
    "    \"\"\"\n",
    "    This function will return \n",
    "\n",
    "    grad: np.array gradients \n",
    "    true_domain: np.array true domain \n",
    "    idx_class: np.array true class\n",
    "    true_group: np.array true subgroup\n",
    "    idx_mode: np.array the mode of the samples ('train' or 'val')\n",
    "\n",
    "    And will also save the numpy.array above into folder '%s/privateDemographics/results/%s' % (root_dir, dataset_name)\n",
    "\n",
    "    Parameters\n",
    "    -----------\n",
    "    model: the name of the models. Please refer the possible choices of model in settings.py. \n",
    "            Actually, this parameter doesn't matter that much. \n",
    "    m: the model. \n",
    "    loader: dict: {\n",
    "        'train': data loader,\n",
    "        'val': data loader,\n",
    "        'test': data loader,\n",
    "    },\n",
    "    device: torch.device('cpu') or torch.device('cuda')\n",
    "    optim: torch.optimizer\n",
    "    num_domain: the number of domains\n",
    "    num_group: the number of groups (number of classes * number of domain)\n",
    "    task: 'fairness' or 'irm', always set as 'fairness'\n",
    "    lr_scheduler: set it as None unless you are using Bert\n",
    "    dataset_name: select the folder to save the results\n",
    "    num_class: the number of class\n",
    "    --------------\n",
    "    \"\"\""
   ]
  },
  {
   "cell_type": "markdown",
   "id": "38379c35",
   "metadata": {},
   "source": [
    "Step 1: Go to my ccc folder, go to 'privateDemographics'\n",
    "\n",
    "Step 2: use `git pull master` to sync (There might be some issues... please discard the local changes I had in ccc)\n",
    "\n",
    "Step 3: create a file named root_dir.py, and add a line: root_dir = '/dccstore/storage'\n",
    "\n",
    "Step 4: conda activate balancinggroups (maybe some additional packeges will be required)\n",
    "\n",
    "Step 5: create a folder `trials`, and you can create new files there! (I have added this folder into .gitignore)\n",
    "\n",
    "That's it! Here I provide an exmaple of using the function `collect_gradient`"
   ]
  },
  {
   "cell_type": "code",
   "execution_count": 1,
   "id": "4edf6e4f",
   "metadata": {},
   "outputs": [],
   "source": [
    "import os, sys\n",
    "os.chdir('../')\n",
    "from methods import *\n",
    "from datasets import toyData"
   ]
  },
  {
   "cell_type": "code",
   "execution_count": 128,
   "id": "0b97fe18",
   "metadata": {},
   "outputs": [],
   "source": [
    "\n",
    "def dbscan_results(grad, process_grad=0, outlier=0, use_val_group=0, metric = 'euclidean'):\n",
    "\n",
    "    pred_domain = np.zeros(true_domain.shape)\n",
    "    num_group = 0\n",
    "\n",
    "    for y in range(num_class):\n",
    "        idx_y = idx_class == y\n",
    "        grad_y = grad[idx_class == y]\n",
    "        if process_grad:\n",
    "            center = grad_y.mean(axis=0)\n",
    "            grad_y = grad_y - center\n",
    "            grad_y = normalize(grad_y)\n",
    "\n",
    "        best_ars = -np.inf\n",
    "        best_ss = -np.inf\n",
    "        \n",
    "\n",
    "        for eps in np.linspace(0.1, 0.7, 13):\n",
    "            for min_samples in [5, 10, 20, 30, 40, 50, 60, 100]:\n",
    "\n",
    "                dbscan = DBSCAN(eps=eps, min_samples=min_samples, metric=metric) # , metric='cosine'\n",
    "                dbscan.fit(grad_y)\n",
    "                \n",
    "                \n",
    "                ars = ARS(true_domain[idx_y], dbscan.labels_)\n",
    "                try:\n",
    "                    ss = silhouette_score(grad_y, dbscan.labels_)\n",
    "                except: \n",
    "                    ss = -1\n",
    "\n",
    "                update_pred_domain = False\n",
    "                if use_val_group:\n",
    "                    if ars > best_ars:\n",
    "                        update_pred_domain = True\n",
    "\n",
    "                else:\n",
    "                    if ss > best_ss:\n",
    "                        update_pred_domain = True\n",
    "\n",
    "                if update_pred_domain:\n",
    "                    best_ars = ars\n",
    "                    best_ss = ss\n",
    "\n",
    "                    idx = idx_class == y\n",
    "                    idx[idx] = dbscan.labels_ >= 0\n",
    "                    pred_domain[idx] = dbscan.labels_[dbscan.labels_ >= 0] + num_group\n",
    "                    # detect the outliers\n",
    "                    idx = idx_class == y\n",
    "                    idx[idx] = dbscan.labels_ < 0\n",
    "                    pred_domain[idx] = -1\n",
    "                    \n",
    "                    best_params = {'eps': eps, 'min_samples': min_samples}\n",
    "        print(ars, ss)\n",
    "\n",
    "        num_group = len(np.unique(pred_domain)) - int(-1 in pred_domain)\n",
    "        print(\"Number of group: %d\" % num_group)\n",
    "        print(\"Best parameter: \", best_params)\n",
    "\n",
    "    ars_score = ARS(true_group, pred_domain)\n",
    "    try:\n",
    "        ss = silhouette_score(grad, pred_domain)\n",
    "    except:\n",
    "        ss = -1\n",
    "    print(\"ARS: \", ars_score)\n",
    "    print(\"SS: \", ss)\n",
    "    return pred_domain, num_group"
   ]
  },
  {
   "cell_type": "code",
   "execution_count": 2,
   "id": "5302dcd2",
   "metadata": {},
   "outputs": [
    {
     "data": {
      "text/plain": [
       "0.3076923076923077"
      ]
     },
     "execution_count": 2,
     "metadata": {},
     "output_type": "execute_result"
    }
   ],
   "source": [
    "ARS([1,1,1,1,1,1,1,1,1,2,2,2,0], [1,1,1,1,1,1,2,2,2,2,2,2,0])"
   ]
  },
  {
   "cell_type": "code",
   "execution_count": 3,
   "id": "de433bf3",
   "metadata": {},
   "outputs": [],
   "source": [
    "def kmeans_results(inputs, use_val_group = 1):\n",
    "    pred_domain = np.zeros(true_domain.shape)\n",
    "    num_group = 0\n",
    "\n",
    "    for y in range(2):\n",
    "        idx_y = idx_class == y\n",
    "        inputs_y = inputs[idx_y]\n",
    "        best_ss, best_ars = -np.inf, -np.inf\n",
    "        \n",
    "        for n_clusters in range(2,10,2):\n",
    "            kmeans = KMeans(n_clusters = n_clusters, random_state = 0).fit(inputs_y)\n",
    "            ars = ARS(true_domain[idx_y], kmeans.labels_)\n",
    "            ss = silhouette_score(inputs_y, kmeans.labels_)\n",
    "            update = False\n",
    "\n",
    "            if use_val_group:\n",
    "                if ars > best_ars:\n",
    "                    update = True\n",
    "\n",
    "            else:\n",
    "                if ss > best_ss:\n",
    "                    update = True\n",
    "\n",
    "            if update:\n",
    "                best_ars = ars\n",
    "                best_ss = ss\n",
    "                pred_domain[idx_y] = kmeans.labels_ + num_group\n",
    "\n",
    "        num_group = len(np.unique(pred_domain)) - int(-1 in pred_domain)\n",
    "        print(\"Number of group: %d\" % num_group)\n",
    "\n",
    "    ars = ARS(true_group, pred_domain)\n",
    "    ss = silhouette_score(inputs, pred_domain)\n",
    "    print(\"ARS: \", ars)\n",
    "    print(\"SS: \", ss)\n",
    "    return pred_domain, num_group"
   ]
  },
  {
   "cell_type": "markdown",
   "id": "c7e38269",
   "metadata": {},
   "source": [
    "# Toy dataset (w/o outliers)"
   ]
  },
  {
   "cell_type": "code",
   "execution_count": 129,
   "id": "8a65b0a5",
   "metadata": {},
   "outputs": [],
   "source": [
    "dataset_name = 'toy'"
   ]
  },
  {
   "cell_type": "code",
   "execution_count": 146,
   "id": "19a8be45",
   "metadata": {},
   "outputs": [
    {
     "name": "stdout",
     "output_type": "stream",
     "text": [
      "Loading the toy dataset with outlier = 0!\n"
     ]
    }
   ],
   "source": [
    "# This chunk is just to quickly load all the necessary variables...\n",
    "# No need to understand this chunk!\n",
    "\n",
    "(\n",
    "    m,\n",
    "    loader,\n",
    "    optim,\n",
    "    model,\n",
    "    num_domain,\n",
    "    num_group,\n",
    "    lr_scheduler,\n",
    "    device,\n",
    "    n,\n",
    "    num_feature,\n",
    "    num_class,\n",
    ") = exp_init(\n",
    "    dataset_name,\n",
    "    128,\n",
    "    'y',\n",
    "    'a',\n",
    "    0,\n",
    "    0,\n",
    "    'fairness',\n",
    "    0,\n",
    "    True,\n",
    "    '/mnt/cloud/yzeng58/privateDemographics/models/toy/erm_num_epoch_100_batch_size_128_lr_0.01_subsample_0_weight_decay_0.0001_outlier_0_model_logreg_best.model',\n",
    "    123,\n",
    "    'grass',\n",
    "    torch.device('cpu'),\n",
    "    1e-3,\n",
    "    1e-5,\n",
    "    '',\n",
    ")\n"
   ]
  },
  {
   "cell_type": "code",
   "execution_count": 147,
   "id": "8c2c503e",
   "metadata": {},
   "outputs": [
    {
     "name": "stdout",
     "output_type": "stream",
     "text": [
      "Loaded all the gradient information into folder /mnt/cloud/yzeng58/privateDemographics/results/toy...\n"
     ]
    }
   ],
   "source": [
    "grad, true_domain, idx_class, true_group, idx_mode = collect_gradient(\n",
    "    model,\n",
    "    m,\n",
    "    loader,\n",
    "    device, \n",
    "    optim,\n",
    "    num_domain,\n",
    "    num_group,\n",
    "    'fairness',\n",
    "    lr_scheduler,\n",
    "    dataset_name,\n",
    "    num_class,\n",
    "    outlier = 0,\n",
    ")"
   ]
  },
  {
   "cell_type": "code",
   "execution_count": 148,
   "id": "c7c8d7dc",
   "metadata": {},
   "outputs": [
    {
     "name": "stdout",
     "output_type": "stream",
     "text": [
      "Loaded all the input information into folder /mnt/cloud/yzeng58/privateDemographics/results/toy...\n"
     ]
    }
   ],
   "source": [
    "inputs, true_domain, idx_class, true_group, idx_mode, losses = collect_representations(\n",
    "    dataset_name,\n",
    "    loader,\n",
    "    device,\n",
    "    m,\n",
    "    num_domain,\n",
    "    outlier = 0,\n",
    ")"
   ]
  },
  {
   "cell_type": "code",
   "execution_count": 150,
   "id": "ea741f98",
   "metadata": {
    "scrolled": true
   },
   "outputs": [
    {
     "name": "stdout",
     "output_type": "stream",
     "text": [
      "0.0 -1\n",
      "Number of group: 2\n",
      "Best parameter:  {'eps': 0.25, 'min_samples': 30}\n",
      "0.0 -1\n",
      "Number of group: 4\n",
      "Best parameter:  {'eps': 0.25, 'min_samples': 20}\n",
      "ARS:  0.6966440200001294\n",
      "SS:  0.5643024\n"
     ]
    }
   ],
   "source": [
    "_, _ = dbscan_results(grad, process_grad=1, outlier=0, use_val_group=0, metric = 'cosine')"
   ]
  },
  {
   "cell_type": "code",
   "execution_count": 151,
   "id": "95221df1",
   "metadata": {
    "scrolled": true
   },
   "outputs": [
    {
     "name": "stdout",
     "output_type": "stream",
     "text": [
      "0.7068731811386562 0.69892865\n",
      "Number of group: 1\n",
      "Best parameter:  {'eps': 0.7, 'min_samples': 100}\n",
      "0.6830485693803716 0.722774\n",
      "Number of group: 2\n",
      "Best parameter:  {'eps': 0.44999999999999996, 'min_samples': 40}\n",
      "ARS:  0.7724033035163413\n",
      "SS:  0.3843489\n"
     ]
    }
   ],
   "source": [
    "_, _ = dbscan_results(grad, process_grad=0, outlier=0, use_val_group=0, metric = 'euclidean')"
   ]
  },
  {
   "cell_type": "code",
   "execution_count": 156,
   "id": "4f1a7a44",
   "metadata": {
    "scrolled": true
   },
   "outputs": [
    {
     "name": "stdout",
     "output_type": "stream",
     "text": [
      "-0.004181181871991912 0.17610690112763216\n",
      "Number of group: 2\n",
      "Best parameter:  {'eps': 0.5499999999999999, 'min_samples': 50}\n",
      "0.332921183540846 0.5719091922902078\n",
      "Number of group: 3\n",
      "Best parameter:  {'eps': 0.7, 'min_samples': 100}\n",
      "ARS:  0.592309923279124\n",
      "SS:  0.17036510670376573\n"
     ]
    }
   ],
   "source": [
    "_, _ = dbscan_results(inputs, process_grad=0, outlier=0, use_val_group=0, metric = 'euclidean')"
   ]
  },
  {
   "cell_type": "code",
   "execution_count": 152,
   "id": "858da257",
   "metadata": {
    "scrolled": true
   },
   "outputs": [
    {
     "name": "stdout",
     "output_type": "stream",
     "text": [
      "0.0 -1\n",
      "Number of group: 2\n",
      "Best parameter:  {'eps': 0.3, 'min_samples': 100}\n",
      "0.0 -1\n",
      "Number of group: 4\n",
      "Best parameter:  {'eps': 0.2, 'min_samples': 40}\n",
      "ARS:  0.5132519195124181\n",
      "SS:  0.17234407291090542\n"
     ]
    }
   ],
   "source": [
    "_, _ = dbscan_results(inputs, process_grad=1, outlier=0, use_val_group=0, metric = 'cosine')"
   ]
  },
  {
   "cell_type": "code",
   "execution_count": 153,
   "id": "909a8074",
   "metadata": {
    "scrolled": true
   },
   "outputs": [
    {
     "name": "stdout",
     "output_type": "stream",
     "text": [
      "-0.004181181871991912 0.17610690112763216\n",
      "Number of group: 2\n",
      "Best parameter:  {'eps': 0.5499999999999999, 'min_samples': 50}\n",
      "0.332921183540846 0.5719091922902078\n",
      "Number of group: 3\n",
      "Best parameter:  {'eps': 0.7, 'min_samples': 100}\n",
      "ARS:  0.592309923279124\n",
      "SS:  0.17036510670376573\n"
     ]
    }
   ],
   "source": [
    "_, _ = dbscan_results(inputs, process_grad=0, outlier=0, use_val_group=0, metric = 'euclidean')"
   ]
  },
  {
   "cell_type": "code",
   "execution_count": 154,
   "id": "bfde26e6",
   "metadata": {
    "scrolled": true
   },
   "outputs": [
    {
     "name": "stdout",
     "output_type": "stream",
     "text": [
      "Number of group: 2\n",
      "Number of group: 4\n",
      "ARS:  0.550487214885703\n",
      "SS:  0.17740029780313202\n"
     ]
    },
    {
     "data": {
      "text/plain": [
       "(array([1., 1., 0., 2., 1., 2., 1., 3., 3., 3., 0., 1., 1., 1., 1., 1., 2.,\n",
       "        1., 1., 3., 1., 1., 1., 0., 2., 3., 2., 0., 0., 0., 2., 0., 3., 1.,\n",
       "        0., 2., 1., 1., 1., 2., 2., 1., 2., 1., 2., 2., 1., 3., 1., 1., 1.,\n",
       "        3., 2., 3., 1., 1., 2., 1., 3., 1., 0., 3., 1., 0., 1., 2., 2., 2.,\n",
       "        3., 1., 1., 0., 0., 1., 3., 2., 3., 3., 1., 2., 3., 1., 0., 3., 2.,\n",
       "        1., 2., 3., 3., 0., 2., 3., 3., 0., 0., 3., 0., 3., 0., 3., 0., 3.,\n",
       "        0., 0., 2., 3., 1., 2., 3., 0., 0., 2., 1., 3., 1., 3., 3., 3., 1.,\n",
       "        3., 0., 2., 0., 0., 3., 1., 2., 0., 1., 0., 3., 3., 2., 3., 3., 2.,\n",
       "        2., 1., 2., 3., 1., 0., 1., 0., 1., 2., 2., 0., 3., 0., 3., 1., 2.,\n",
       "        2., 1., 2., 1., 0., 1., 2., 1., 0., 1., 1., 0., 3., 0., 0., 1., 3.,\n",
       "        0., 0., 0., 3., 2., 1., 2., 1., 2., 1., 3., 1., 2., 1., 1., 2., 3.,\n",
       "        1., 1., 0., 1., 0., 2., 2., 1., 0., 1., 2., 1., 1., 3., 2., 3., 3.,\n",
       "        1., 2., 0., 1., 3., 0., 0., 2., 3., 1., 0., 3., 0., 0., 0., 1., 0.,\n",
       "        3., 1., 2., 3., 2., 3., 2., 2., 1., 0., 3., 1., 0., 0., 1., 1., 3.,\n",
       "        1., 0., 3., 3., 3., 1., 1., 2., 0., 1., 2., 1., 0., 3., 1., 3., 1.,\n",
       "        0., 2., 3., 2., 1., 1., 3., 0., 3., 1., 1., 1., 0., 3., 1., 0., 3.,\n",
       "        2., 2., 1., 1., 2., 1., 3., 3., 2., 1., 3., 1., 3., 2., 1., 0., 2.,\n",
       "        3., 3., 0., 3., 2., 1., 2., 2., 3., 2., 0., 3., 1., 1., 1., 1., 2.,\n",
       "        1., 1., 1., 2., 2., 1., 1., 1., 1., 3., 1., 0., 1., 3., 1., 2., 0.,\n",
       "        0., 2., 1., 2., 3., 1., 2., 2., 2., 2., 1., 2., 3., 3., 2., 1., 2.,\n",
       "        2., 3., 2., 3., 2., 0., 1., 0., 2., 1., 1., 3., 0., 1., 1., 1., 3.,\n",
       "        1., 1., 2., 3., 1., 1., 3., 3., 0., 0., 1., 2., 1., 0., 1., 1., 2.,\n",
       "        3., 2., 0., 2., 2., 1., 0., 3., 2., 2., 1., 3., 1., 1., 1., 3., 2.,\n",
       "        0., 2., 3., 0., 0., 0., 1., 0., 1., 3., 1., 2., 1., 0., 3., 3., 0.,\n",
       "        0., 1., 0., 2., 1., 1., 0., 1., 2., 2., 0., 1., 0., 1., 0., 3., 0.,\n",
       "        1., 1., 2., 2., 3., 3., 3., 0., 3., 0., 1., 2., 2., 1., 1., 2., 3.,\n",
       "        3., 3., 1., 3., 1., 2., 3., 3., 2., 1., 3., 0., 2., 2., 2., 0., 0.,\n",
       "        3., 0., 3., 0., 1., 1., 0., 3., 2., 3., 0., 2., 0., 2., 1., 0., 2.,\n",
       "        0., 2., 2., 3., 0., 2., 2., 2., 3., 2., 0., 3., 1., 3., 2., 2., 2.,\n",
       "        1., 1., 2., 3., 3., 3., 3., 2., 0., 0., 0., 1., 0., 2., 0., 0., 2.,\n",
       "        2., 2., 3., 3., 3., 1., 2., 0., 2., 2., 0., 0., 2., 1., 1., 2., 3.,\n",
       "        3., 1., 3., 1., 2., 3., 1., 2., 2., 0., 0., 1., 1., 2., 3., 0., 2.,\n",
       "        2., 2., 0., 1., 1., 1., 1., 2., 2., 1., 3., 3., 2., 0., 0., 2., 1.,\n",
       "        2., 3., 0., 2., 3., 0., 0., 0., 2., 1., 2., 1., 1., 3., 1., 2., 0.,\n",
       "        3., 1., 2., 2., 0., 3., 3., 2., 0., 1., 1., 1., 1., 0., 1., 0., 0.,\n",
       "        3., 3., 2., 2., 1., 1., 3., 1., 0., 2., 1., 3., 3., 2., 0., 3., 2.,\n",
       "        2., 1., 2., 1., 1., 0., 3., 3., 1., 2., 0., 2., 3., 0., 3., 2., 2.,\n",
       "        0., 3., 3., 0., 0., 0., 2., 2., 0., 2., 2., 0., 3., 2., 3., 0., 2.,\n",
       "        0., 3., 2., 3., 1., 1., 2., 2., 3., 2., 2., 3., 2., 2., 0., 3., 0.,\n",
       "        1., 1., 0., 2., 0., 0., 1., 2., 3., 3., 1., 0., 3., 1., 0., 3., 1.,\n",
       "        3., 3., 3., 0., 3., 0., 3., 3., 0., 3., 3., 0., 2., 1., 3., 3., 2.,\n",
       "        3., 0., 1., 0., 1., 3., 2., 2., 0., 1., 2., 1., 1., 1., 3., 2., 0.,\n",
       "        2., 3., 2., 3., 1., 0., 1., 1., 3., 1., 2., 1., 3., 3., 0., 2., 3.,\n",
       "        1., 2., 1., 2., 0., 3., 3., 3., 0., 3., 1., 3., 3., 2., 2., 0., 3.,\n",
       "        2., 1., 1., 1., 2., 0., 2., 1., 2., 3., 0., 1., 1., 2., 1., 3., 2.,\n",
       "        1., 2., 2., 0., 2., 2., 3., 1., 3., 1., 3., 2., 2., 3., 0., 3., 2.,\n",
       "        2., 2., 3., 2., 2., 3., 3., 3., 2., 1., 3., 2., 2., 1., 1., 2., 0.,\n",
       "        3.]),\n",
       " 4)"
      ]
     },
     "execution_count": 154,
     "metadata": {},
     "output_type": "execute_result"
    }
   ],
   "source": [
    "kmeans_results(inputs, use_val_group = 0)"
   ]
  },
  {
   "cell_type": "code",
   "execution_count": 155,
   "id": "f4a2da75",
   "metadata": {
    "scrolled": true
   },
   "outputs": [
    {
     "name": "stdout",
     "output_type": "stream",
     "text": [
      "Number of group: 2\n",
      "Number of group: 4\n",
      "ARS:  0.8409292726685735\n",
      "SS:  0.60995096\n"
     ]
    },
    {
     "data": {
      "text/plain": [
       "(array([1., 1., 1., 2., 1., 2., 1., 2., 3., 3., 1., 1., 1., 1., 1., 1., 2.,\n",
       "        1., 1., 2., 1., 1., 1., 0., 2., 3., 2., 1., 0., 1., 2., 1., 2., 1.,\n",
       "        0., 2., 1., 1., 1., 2., 2., 1., 2., 1., 2., 2., 1., 3., 1., 1., 1.,\n",
       "        3., 2., 3., 1., 1., 2., 1., 2., 1., 0., 2., 1., 0., 1., 2., 2., 2.,\n",
       "        3., 1., 1., 0., 0., 1., 2., 2., 3., 3., 1., 2., 3., 1., 0., 2., 2.,\n",
       "        1., 2., 3., 2., 1., 2., 3., 3., 0., 1., 3., 0., 3., 0., 3., 0., 3.,\n",
       "        0., 0., 2., 3., 1., 2., 3., 1., 0., 2., 1., 2., 1., 2., 3., 3., 1.,\n",
       "        2., 0., 2., 1., 0., 3., 1., 2., 1., 1., 0., 3., 2., 2., 2., 3., 2.,\n",
       "        2., 1., 2., 3., 1., 0., 1., 0., 1., 2., 2., 1., 3., 0., 3., 1., 2.,\n",
       "        2., 1., 2., 1., 1., 1., 2., 1., 0., 1., 1., 1., 2., 0., 0., 1., 2.,\n",
       "        0., 1., 0., 3., 2., 1., 2., 1., 2., 1., 3., 1., 2., 1., 1., 2., 3.,\n",
       "        1., 1., 0., 1., 1., 2., 2., 1., 0., 1., 2., 1., 1., 2., 2., 3., 3.,\n",
       "        1., 2., 0., 1., 2., 1., 1., 2., 3., 1., 0., 3., 0., 1., 0., 1., 0.,\n",
       "        3., 1., 2., 2., 2., 2., 2., 2., 1., 1., 2., 1., 0., 1., 1., 1., 2.,\n",
       "        1., 0., 3., 2., 3., 1., 1., 2., 1., 1., 2., 1., 0., 3., 1., 2., 1.,\n",
       "        1., 2., 3., 2., 1., 1., 3., 0., 3., 1., 1., 1., 0., 3., 1., 1., 2.,\n",
       "        2., 2., 1., 1., 2., 1., 3., 3., 2., 1., 3., 1., 3., 2., 1., 0., 2.,\n",
       "        3., 3., 0., 3., 2., 1., 2., 2., 3., 2., 1., 2., 1., 1., 1., 1., 2.,\n",
       "        1., 1., 1., 2., 2., 1., 1., 1., 1., 3., 1., 0., 1., 3., 1., 2., 1.,\n",
       "        1., 2., 1., 2., 2., 1., 2., 2., 2., 2., 1., 2., 3., 3., 2., 1., 2.,\n",
       "        2., 2., 2., 2., 2., 0., 1., 0., 2., 1., 1., 2., 0., 1., 1., 1., 3.,\n",
       "        1., 1., 2., 2., 1., 1., 3., 2., 1., 0., 1., 2., 1., 1., 1., 1., 2.,\n",
       "        3., 2., 1., 2., 2., 1., 0., 3., 2., 2., 1., 2., 1., 1., 1., 2., 2.,\n",
       "        1., 2., 2., 0., 0., 0., 1., 1., 1., 3., 1., 2., 1., 0., 3., 3., 0.,\n",
       "        0., 1., 1., 2., 1., 1., 1., 1., 2., 2., 1., 1., 0., 1., 0., 3., 0.,\n",
       "        1., 1., 2., 2., 3., 3., 2., 1., 2., 0., 1., 2., 2., 1., 1., 2., 2.,\n",
       "        3., 3., 1., 2., 1., 2., 2., 3., 2., 1., 2., 0., 2., 2., 2., 0., 0.,\n",
       "        2., 0., 3., 0., 1., 1., 0., 3., 2., 3., 1., 2., 0., 2., 1., 1., 2.,\n",
       "        1., 2., 2., 2., 1., 2., 2., 2., 2., 2., 1., 3., 1., 2., 2., 2., 2.,\n",
       "        1., 1., 2., 3., 2., 3., 2., 2., 0., 1., 0., 1., 1., 2., 1., 1., 2.,\n",
       "        2., 2., 2., 2., 3., 1., 2., 0., 2., 2., 1., 0., 2., 1., 1., 2., 2.,\n",
       "        3., 1., 3., 1., 2., 3., 1., 2., 2., 1., 0., 1., 1., 2., 3., 0., 2.,\n",
       "        2., 2., 1., 1., 1., 1., 1., 2., 2., 1., 2., 3., 2., 0., 0., 2., 1.,\n",
       "        2., 2., 0., 2., 2., 0., 1., 0., 2., 1., 2., 1., 1., 3., 1., 2., 1.,\n",
       "        3., 1., 2., 2., 0., 2., 3., 2., 1., 1., 1., 1., 1., 0., 1., 1., 0.,\n",
       "        2., 3., 2., 2., 1., 1., 3., 1., 1., 2., 1., 2., 3., 2., 0., 2., 2.,\n",
       "        2., 1., 2., 1., 1., 0., 2., 3., 1., 2., 0., 2., 2., 0., 2., 2., 2.,\n",
       "        1., 2., 2., 0., 1., 0., 2., 2., 1., 2., 2., 0., 2., 2., 2., 0., 2.,\n",
       "        1., 3., 2., 2., 1., 1., 2., 2., 3., 2., 2., 2., 2., 2., 1., 2., 1.,\n",
       "        1., 1., 1., 2., 1., 0., 1., 2., 3., 2., 1., 0., 3., 1., 1., 3., 1.,\n",
       "        2., 2., 2., 0., 3., 0., 2., 3., 0., 3., 3., 1., 2., 1., 3., 3., 2.,\n",
       "        3., 1., 1., 1., 1., 2., 2., 2., 0., 1., 2., 1., 1., 1., 3., 2., 0.,\n",
       "        2., 2., 2., 2., 1., 0., 1., 1., 2., 1., 2., 1., 3., 2., 1., 2., 2.,\n",
       "        1., 2., 1., 2., 0., 3., 3., 3., 0., 3., 1., 3., 3., 2., 2., 0., 3.,\n",
       "        2., 1., 1., 1., 2., 0., 2., 1., 2., 2., 0., 1., 1., 2., 1., 2., 2.,\n",
       "        1., 2., 2., 0., 2., 2., 3., 1., 2., 1., 2., 2., 2., 2., 1., 2., 2.,\n",
       "        2., 2., 3., 2., 2., 3., 3., 2., 2., 1., 3., 2., 2., 1., 1., 2., 0.,\n",
       "        3.]),\n",
       " 4)"
      ]
     },
     "execution_count": 155,
     "metadata": {},
     "output_type": "execute_result"
    }
   ],
   "source": [
    "kmeans_results(grad, use_val_group = 0)"
   ]
  },
  {
   "cell_type": "code",
   "execution_count": null,
   "id": "510c0e62",
   "metadata": {},
   "outputs": [],
   "source": [
    "fig, ax = plt.subplots(nrows=1, ncols=1, sharex=True, sharey=True)\n",
    "markers = ['o', 'x']\n",
    "colors = [\n",
    "    '#073B4C',\n",
    "    '#FFD166',\n",
    "    '#06D6A0',\n",
    "    '#118AB2',\n",
    "    '#DD3497',\n",
    "]\n",
    "\n",
    "for i in range(num_group):\n",
    "    idx = pred_domain == i\n",
    "    ax.scatter(df.x1[idx], df.x2[idx], color = colors[i])"
   ]
  },
  {
   "cell_type": "markdown",
   "id": "1e4d9068",
   "metadata": {},
   "source": [
    "# Toy dataset (w. outliers)"
   ]
  },
  {
   "cell_type": "code",
   "execution_count": 179,
   "id": "f4edde40",
   "metadata": {},
   "outputs": [],
   "source": [
    "dataset_name = 'toy'"
   ]
  },
  {
   "cell_type": "code",
   "execution_count": 180,
   "id": "188cc636",
   "metadata": {},
   "outputs": [
    {
     "name": "stdout",
     "output_type": "stream",
     "text": [
      "Loading the toy dataset with outlier = 1!\n"
     ]
    }
   ],
   "source": [
    "# This chunk is just to quickly load all the necessary variables...\n",
    "# No need to understand this chunk!\n",
    "\n",
    "(\n",
    "    m,\n",
    "    loader,\n",
    "    optim,\n",
    "    model,\n",
    "    num_domain,\n",
    "    num_group,\n",
    "    lr_scheduler,\n",
    "    device,\n",
    "    n,\n",
    "    num_feature,\n",
    "    num_class,\n",
    ") = exp_init(\n",
    "    dataset_name,\n",
    "    128,\n",
    "    'y',\n",
    "    'a',\n",
    "    0,\n",
    "    0,\n",
    "    'fairness',\n",
    "    outlier = 1,\n",
    "    load_representations = True,\n",
    "    start_model_path = '/mnt/cloud/yzeng58/privateDemographics/models/toy/erm_num_epoch_100_batch_size_128_lr_0.01_subsample_0_weight_decay_0.0001_outlier_0_model_logreg_best.model',\n",
    "    seed = 123,\n",
    "    method = 'grass',\n",
    "    device = torch.device('cpu'),\n",
    "    lr = 1e-3,\n",
    "    weight_decay = 1e-5,\n",
    "    model = '',\n",
    ")\n"
   ]
  },
  {
   "cell_type": "code",
   "execution_count": 181,
   "id": "57fb94df",
   "metadata": {},
   "outputs": [
    {
     "name": "stdout",
     "output_type": "stream",
     "text": [
      "Computing the gradients...\n"
     ]
    },
    {
     "name": "stderr",
     "output_type": "stream",
     "text": [
      "Epoch: 2: 100%|██████████| 5/5 [00:00<00:00, 122.53it/s]\n"
     ]
    },
    {
     "name": "stdout",
     "output_type": "stream",
     "text": [
      "Saving all the gradient information into folder /mnt/cloud/yzeng58/privateDemographics/results/toy/outliers...\n",
      "All the gradient information are saved in folder /mnt/cloud/yzeng58/privateDemographics/results/toy/outliers!\n"
     ]
    }
   ],
   "source": [
    "grad, true_domain, idx_class, true_group, idx_mode = collect_gradient(\n",
    "    model,\n",
    "    m,\n",
    "    loader,\n",
    "    device, \n",
    "    optim,\n",
    "    num_domain,\n",
    "    num_group,\n",
    "    'fairness',\n",
    "    lr_scheduler,\n",
    "    dataset_name,\n",
    "    num_class,\n",
    "    outlier = 1\n",
    ")"
   ]
  },
  {
   "cell_type": "code",
   "execution_count": 182,
   "id": "7688fb6a",
   "metadata": {
    "scrolled": true
   },
   "outputs": [
    {
     "name": "stdout",
     "output_type": "stream",
     "text": [
      "Loaded all the input information into folder /mnt/cloud/yzeng58/privateDemographics/results/toy/outliers...\n"
     ]
    }
   ],
   "source": [
    "inputs, true_domain, idx_class, true_group, idx_mode, losses = collect_representations(\n",
    "    dataset_name,\n",
    "    loader,\n",
    "    device,\n",
    "    m,\n",
    "    num_domain,\n",
    "    outlier = 1,\n",
    ")"
   ]
  },
  {
   "cell_type": "code",
   "execution_count": 183,
   "id": "20aecee2",
   "metadata": {},
   "outputs": [
    {
     "name": "stdout",
     "output_type": "stream",
     "text": [
      "0.6606199241088908 0.6973431\n",
      "Number of group: 1\n",
      "Best parameter:  {'eps': 0.7, 'min_samples': 100}\n",
      "0.6158201914308734 0.7102526\n",
      "Number of group: 2\n",
      "Best parameter:  {'eps': 0.7, 'min_samples': 100}\n",
      "ARS:  0.719389209850952\n",
      "SS:  0.36866975\n"
     ]
    }
   ],
   "source": [
    "pred_domain, num_group = dbscan_results(grad, process_grad=0, use_val_group=0, metric = 'euclidean')"
   ]
  },
  {
   "cell_type": "code",
   "execution_count": 184,
   "id": "ed0bbc2e",
   "metadata": {},
   "outputs": [
    {
     "name": "stdout",
     "output_type": "stream",
     "text": [
      "0.0 -1\n",
      "Number of group: 2\n",
      "Best parameter:  {'eps': 0.35, 'min_samples': 60}\n",
      "0.0 -1\n",
      "Number of group: 4\n",
      "Best parameter:  {'eps': 0.4, 'min_samples': 40}\n",
      "ARS:  0.6886872861058603\n",
      "SS:  0.56382746\n"
     ]
    }
   ],
   "source": [
    "pred_domain, num_group = dbscan_results(grad, process_grad=1, use_val_group=0, metric = 'cosine')"
   ]
  },
  {
   "cell_type": "code",
   "execution_count": 185,
   "id": "1e105041",
   "metadata": {},
   "outputs": [
    {
     "name": "stdout",
     "output_type": "stream",
     "text": [
      "0.0 -1\n",
      "Number of group: 3\n",
      "Best parameter:  {'eps': 0.6, 'min_samples': 60}\n",
      "0.29881449292661977 0.5336405107805244\n",
      "Number of group: 4\n",
      "Best parameter:  {'eps': 0.7, 'min_samples': 100}\n",
      "ARS:  0.5936752764981138\n",
      "SS:  0.14414751397553743\n"
     ]
    }
   ],
   "source": [
    "pred_domain, num_group = dbscan_results(inputs, process_grad=0, use_val_group=0, metric = 'euclidean')"
   ]
  },
  {
   "cell_type": "code",
   "execution_count": 186,
   "id": "f5d2d293",
   "metadata": {
    "scrolled": true
   },
   "outputs": [
    {
     "name": "stdout",
     "output_type": "stream",
     "text": [
      "0.0 -1\n",
      "Number of group: 2\n",
      "Best parameter:  {'eps': 0.2, 'min_samples': 40}\n",
      "0.0 -1\n",
      "Number of group: 4\n",
      "Best parameter:  {'eps': 0.2, 'min_samples': 50}\n",
      "ARS:  0.5021512770536771\n",
      "SS:  0.1536745232615489\n"
     ]
    }
   ],
   "source": [
    "pred_domain, num_group = dbscan_results(inputs, process_grad=1, use_val_group=0, metric = 'cosine')"
   ]
  },
  {
   "cell_type": "code",
   "execution_count": 187,
   "id": "0d188bab",
   "metadata": {},
   "outputs": [
    {
     "name": "stdout",
     "output_type": "stream",
     "text": [
      "0.0 -1\n",
      "Number of group: 3\n",
      "Best parameter:  {'eps': 0.6, 'min_samples': 60}\n",
      "0.29881449292661977 0.5336405107805244\n",
      "Number of group: 4\n",
      "Best parameter:  {'eps': 0.7, 'min_samples': 100}\n",
      "ARS:  0.5936752764981138\n",
      "SS:  0.14414751397553743\n"
     ]
    }
   ],
   "source": [
    "pred_domain, num_group = dbscan_results(inputs, process_grad=0, outlier=0, use_val_group=0)"
   ]
  },
  {
   "cell_type": "code",
   "execution_count": 12,
   "id": "47f78ac8",
   "metadata": {},
   "outputs": [],
   "source": [
    "from utils import vis_3d_tsne_interactive\n",
    "import plotly\n",
    "from sklearn.manifold import TSNE"
   ]
  },
  {
   "cell_type": "code",
   "execution_count": 47,
   "id": "5dc42b68",
   "metadata": {},
   "outputs": [],
   "source": [
    "def vis_3d_tsne_interactive(\n",
    "    dataset = 'waterbirds', \n",
    "    mode = 'true',\n",
    "    outlier = 1,\n",
    "    vis_group = None,\n",
    "    vis_representation = 'grad',\n",
    "    y = 1,\n",
    "):\n",
    "    n_components = 3\n",
    "    # Configure the layout.\n",
    "    layout = go.Layout(\n",
    "        margin={'l': 0, 'r': 0, 'b': 0, 't': 0},\n",
    "        showlegend=True,\n",
    "    )\n",
    "    if outlier:\n",
    "        folder_name = '%s/privateDemographics/results/%s/outliers' % (root_dir, dataset)\n",
    "    else:\n",
    "        folder_name = '%s/privateDemographics/results/%s' % (root_dir, dataset)\n",
    "\n",
    "    grad_tsne = {}\n",
    "    file_name = '%s/%s_tsne_dim_%d_y_%d.npy' % (folder_name, vis_representation, n_components, y)\n",
    "    try:\n",
    "        print('Loading the TSNE results...')\n",
    "        grad_tsne[dataset] = np.load(file_name,allow_pickle=True)    \n",
    "    except:\n",
    "        print('Performing TSNE dimension reduction...')\n",
    "        grad = np.load('%s/%s.npy' % (folder_name, vis_representation),allow_pickle=True)\n",
    "        grad_tsne[dataset] = TSNE(n_components=n_components, learning_rate='auto', init='random', perplexity=3).fit_transform(grad) \n",
    "        with open('%s/%s_tsne_dim_%d_y_%d.npy' % (folder_name, vis_representation, n_components, 0), 'wb') as f:\n",
    "            print('Saving the TSNE results...')\n",
    "            np.save(f, grad_tsne[dataset][idx_class == 0])\n",
    "        with open('%s/%s_tsne_dim_%d_y_%d.npy' % (folder_name, vis_representation, n_components, 1), 'wb') as f:\n",
    "            print('Saving the TSNE results...')\n",
    "            np.save(f, grad_tsne[dataset][idx_class == 1])\n",
    "        grad_tsne[dataset] = grad_tsne[dataset][idx_class == y]\n",
    "\n",
    "    if mode == 'true':\n",
    "        true_group = np.load('%s/true_group.npy' % (folder_name))\n",
    "        vis_group = true_group[idx_class == y]\n",
    "    elif mode == 'pred':\n",
    "        try:\n",
    "            with open('%s/pred_dict_outlier_0.json' % (folder_name), 'r') as f:\n",
    "                pred_dict = json.load(f)\n",
    "        except:\n",
    "            with open('%s/pred_dict.json' % (folder_name), 'r') as f:\n",
    "                pred_dict = json.load(f)\n",
    "        pred_group = pred_dict['train'] + pred_dict['val']\n",
    "        vis_group = pred_group[idx_class == y]\n",
    "\n",
    "    groups = np.unique(vis_group)\n",
    "    data = []\n",
    "    trace = go.Scatter3d(\n",
    "        x=grad_tsne[dataset][:, 0],  # <-- Put your data instead\n",
    "        y=grad_tsne[dataset][:, 1],  # <-- Put your data instead\n",
    "        z=grad_tsne[dataset][:, 2],  # <-- Put your data instead\n",
    "        mode='markers',\n",
    "        marker={\n",
    "            'size': 4,\n",
    "            'opacity': 0.8,\n",
    "            'color': vis_group,\n",
    "        }\n",
    "    )\n",
    "\n",
    "    data.append(trace)\n",
    "    plot_figure = go.Figure(data=data, layout=layout)\n",
    "\n",
    "    # Render the plot.\n",
    "    plotly.offline.iplot(plot_figure)\n"
   ]
  },
  {
   "cell_type": "code",
   "execution_count": 121,
   "id": "5b61bc60",
   "metadata": {},
   "outputs": [],
   "source": [
    "def vis_2d_tsne_interactive(\n",
    "    dataset = 'waterbirds', \n",
    "    mode = 'true',\n",
    "    outlier = 1,\n",
    "    vis_group = None,\n",
    "    vis_representation = 'grad',\n",
    "    y = 1,\n",
    "):\n",
    "    n_components = 2\n",
    "    # Configure the layout.\n",
    "    layout = go.Layout(\n",
    "        margin={'l': 0, 'r': 0, 'b': 0, 't': 0},\n",
    "        showlegend=True,\n",
    "    )\n",
    "    if outlier:\n",
    "        folder_name = '%s/privateDemographics/results/%s/outliers' % (root_dir, dataset)\n",
    "    else:\n",
    "        folder_name = '%s/privateDemographics/results/%s' % (root_dir, dataset)\n",
    "\n",
    "    grad_tsne = {}\n",
    "    file_name = '%s/%s_tsne_dim_%d_y_%d.npy' % (folder_name, vis_representation, n_components, y)\n",
    "    try:\n",
    "        print('Loading the TSNE results...')\n",
    "        grad_tsne[dataset] = np.load(file_name,allow_pickle=True)    \n",
    "    except:\n",
    "        print('Performing TSNE dimension reduction...')\n",
    "        grad = np.load('%s/%s.npy' % (folder_name, vis_representation),allow_pickle=True)\n",
    "        grad_tsne[dataset] = TSNE(n_components=n_components, learning_rate='auto', init='random', perplexity=3).fit_transform(grad) \n",
    "        with open('%s/%s_tsne_dim_%d_y_%d.npy' % (folder_name, vis_representation, n_components, 0), 'wb') as f:\n",
    "            print('Saving the TSNE results...')\n",
    "            np.save(f, grad_tsne[dataset][idx_class == 0])\n",
    "        with open('%s/%s_tsne_dim_%d_y_%d.npy' % (folder_name, vis_representation, n_components, 1), 'wb') as f:\n",
    "            np.save(f, grad_tsne[dataset][idx_class == 1])\n",
    "        grad_tsne[dataset] = grad_tsne[dataset][idx_class == y]\n",
    "        \n",
    "    if mode == 'true':\n",
    "        true_group = np.load('%s/true_group.npy' % (folder_name))\n",
    "        vis_group = true_group[idx_class == y]\n",
    "    elif mode == 'pred':\n",
    "        try:\n",
    "            with open('%s/pred_dict_outlier_0.json' % (folder_name), 'r') as f:\n",
    "                pred_dict = json.load(f)\n",
    "        except:\n",
    "            with open('%s/pred_dict_outlier_%d_val_%d.json' % (folder_name, outlier, 1), 'r') as f:\n",
    "                pred_dict = json.load(f)\n",
    "        pred_group = np.array(pred_dict['train'] + pred_dict['val'])\n",
    "        vis_group = pred_group[idx_class == y]\n",
    "    elif mode == 'acc':\n",
    "        try:\n",
    "            with open('%s/pred_dict_outlier_%d.json' % (folder_name, outlier), 'r') as f:\n",
    "                pred_dict = json.load(f)\n",
    "        except:\n",
    "            with open('%s/pred_dict_outlier_%d_val_%d.json' % (folder_name, outlier, 1), 'r') as f:\n",
    "                pred_dict = json.load(f)\n",
    "        pred_group = np.array(pred_dict['train'] + pred_dict['val'])\n",
    "        \n",
    "        true_group = np.load('%s/true_group.npy' % (folder_name))\n",
    "        \n",
    "        vis_group = (pred_group - true_group)[idx_class == y]\n",
    "\n",
    "    fig, ax = plt.subplots(nrows=1, ncols=1, sharex=True, sharey=True)\n",
    "    markers = ['o', 'x']\n",
    "    colors = ['#26547c', '#ef476f', '#ffd166']\n",
    "    ax.scatter(\n",
    "        x=grad_tsne[dataset][:, 0],  # <-- Put your data instead\n",
    "        y=grad_tsne[dataset][:, 1],  # <-- Put your data instead\n",
    "        c = vis_group\n",
    "    )\n"
   ]
  },
  {
   "cell_type": "code",
   "execution_count": 83,
   "id": "a37b26fb",
   "metadata": {},
   "outputs": [
    {
     "name": "stdout",
     "output_type": "stream",
     "text": [
      "Loading the TSNE results...\n"
     ]
    },
    {
     "data": {
      "image/png": "[encoded data removed]",
      "text/plain": [
       "<Figure size 432x288 with 1 Axes>"
      ]
     },
     "metadata": {
      "needs_background": "light"
     },
     "output_type": "display_data"
    }
   ],
   "source": [
    "vis_2d_tsne_interactive(\n",
    "    dataset = 'toy', \n",
    "    mode = 'true',\n",
    "    outlier = 1,\n",
    "    vis_group = true_group,\n",
    "    vis_representation = 'inputs',\n",
    "    y = 1\n",
    ")"
   ]
  },
  {
   "cell_type": "code",
   "execution_count": 122,
   "id": "0e5b7097",
   "metadata": {},
   "outputs": [
    {
     "name": "stdout",
     "output_type": "stream",
     "text": [
      "Loading the TSNE results...\n"
     ]
    },
    {
     "data": {
      "image/png": "[encoded data removed]",
      "text/plain": [
       "<Figure size 432x288 with 1 Axes>"
      ]
     },
     "metadata": {
      "needs_background": "light"
     },
     "output_type": "display_data"
    }
   ],
   "source": [
    "vis_2d_tsne_interactive(\n",
    "    dataset = 'toy', \n",
    "    mode = 'pred',\n",
    "    outlier = 1,\n",
    "    vis_group = true_group,\n",
    "    vis_representation = 'inputs',\n",
    "    y = 1\n",
    ")"
   ]
  },
  {
   "cell_type": "code",
   "execution_count": 123,
   "id": "eb636a45",
   "metadata": {},
   "outputs": [
    {
     "name": "stdout",
     "output_type": "stream",
     "text": [
      "Loading the TSNE results...\n"
     ]
    },
    {
     "data": {
      "image/png": "[encoded data removed]",
      "text/plain": [
       "<Figure size 432x288 with 1 Axes>"
      ]
     },
     "metadata": {
      "needs_background": "light"
     },
     "output_type": "display_data"
    }
   ],
   "source": [
    "vis_2d_tsne_interactive(\n",
    "    dataset = 'toy', \n",
    "    mode = 'acc',\n",
    "    outlier = 1,\n",
    "    vis_group = true_group,\n",
    "    vis_representation = 'inputs',\n",
    "    y = 1\n",
    ")"
   ]
  },
  {
   "cell_type": "code",
   "execution_count": 84,
   "id": "0b9ddb10",
   "metadata": {},
   "outputs": [
    {
     "name": "stdout",
     "output_type": "stream",
     "text": [
      "Loading the TSNE results...\n"
     ]
    },
    {
     "data": {
      "image/png": "[encoded data removed]",
      "text/plain": [
       "<Figure size 432x288 with 1 Axes>"
      ]
     },
     "metadata": {
      "needs_background": "light"
     },
     "output_type": "display_data"
    }
   ],
   "source": [
    "vis_2d_tsne_interactive(\n",
    "    dataset = 'toy', \n",
    "    mode = 'true',\n",
    "    outlier = 0,\n",
    "    vis_group = true_group,\n",
    "    vis_representation = 'grad',\n",
    "    y = 1\n",
    ")"
   ]
  },
  {
   "cell_type": "code",
   "execution_count": 125,
   "id": "12892dcd",
   "metadata": {},
   "outputs": [
    {
     "name": "stdout",
     "output_type": "stream",
     "text": [
      "Loading the TSNE results...\n"
     ]
    },
    {
     "data": {
      "image/png": "[encoded data removed]",
      "text/plain": [
       "<Figure size 432x288 with 1 Axes>"
      ]
     },
     "metadata": {
      "needs_background": "light"
     },
     "output_type": "display_data"
    }
   ],
   "source": [
    "vis_2d_tsne_interactive(\n",
    "    dataset = 'toy', \n",
    "    mode = 'pred',\n",
    "    outlier = 1,\n",
    "    vis_group = true_group,\n",
    "    vis_representation = 'grad',\n",
    "    y = 1\n",
    ")"
   ]
  },
  {
   "cell_type": "code",
   "execution_count": 126,
   "id": "f958ecc2",
   "metadata": {},
   "outputs": [
    {
     "name": "stdout",
     "output_type": "stream",
     "text": [
      "Loading the TSNE results...\n"
     ]
    },
    {
     "data": {
      "image/png": "[encoded data removed]",
      "text/plain": [
       "<Figure size 432x288 with 1 Axes>"
      ]
     },
     "metadata": {
      "needs_background": "light"
     },
     "output_type": "display_data"
    }
   ],
   "source": [
    "vis_2d_tsne_interactive(\n",
    "    dataset = 'toy', \n",
    "    mode = 'acc',\n",
    "    outlier = 1,\n",
    "    vis_group = true_group,\n",
    "    vis_representation = 'grad',\n",
    "    y = 1\n",
    ")"
   ]
  },
  {
   "cell_type": "code",
   "execution_count": 91,
   "id": "f62108b1",
   "metadata": {},
   "outputs": [
    {
     "name": "stdout",
     "output_type": "stream",
     "text": [
      "Loading the TSNE results...\n"
     ]
    },
    {
     "data": {
      "application/vnd.plotly.v1+json": {
       "config": {
        "linkText": "Export to plot.ly",
        "plotlyServerURL": "https://plot.ly",
        "showLink": false
       },
       "data": [
        {
         "marker": {
          "color": [
           0,
           0,
           0,
           0,
           0,
           0,
           0,
           0,
           0,
           0,
           0,
           0,
           0,
           0,
           0,
           1,
           0,
           1,
           0,
           0,
           1,
           0,
           0,
           0,
           0,
           0,
           0,
           0,
           0,
           0,
           0,
           0,
           1,
           0,
           1,
           0,
           0,
           0,
           1,
           1,
           0,
           2,
           2,
           0,
           1,
           0,
           0,
           2,
           0,
           0,
           1,
           1,
           1,
           1,
           1,
           0,
           1,
           0,
           0,
           2,
           0,
           1,
           0,
           1,
           0,
           0,
           0,
           0,
           0,
           0,
           1,
           0,
           0,
           0,
           0,
           0,
           0,
           0,
           0,
           0,
           0,
           0,
           1,
           0,
           0,
           1,
           0,
           1,
           1,
           1,
           0,
           0,
           0,
           0,
           0,
           0,
           0,
           1,
           0,
           0,
           0,
           0,
           0,
           0,
           0,
           0,
           0,
           0,
           0,
           0,
           0,
           1,
           1,
           0,
           1,
           0,
           1,
           0,
           0,
           0,
           1,
           0,
           0,
           0,
           0,
           0,
           0,
           0,
           0,
           0,
           0,
           1,
           0,
           0,
           0,
           0,
           0,
           1,
           0,
           0,
           0,
           1,
           0,
           0,
           0,
           0,
           0,
           0,
           1,
           0,
           0,
           0,
           0,
           0,
           0,
           0,
           0,
           0,
           0,
           0,
           0,
           0,
           0,
           0,
           0,
           0,
           0,
           0,
           0,
           0,
           0,
           1,
           0,
           0,
           0,
           0,
           0,
           0,
           0,
           1,
           0,
           0,
           0,
           0,
           0,
           0,
           1,
           0,
           0,
           0,
           0,
           0,
           1,
           1,
           0,
           0,
           0,
           0,
           0,
           0,
           1,
           1,
           1,
           0,
           0,
           0,
           0,
           0,
           0,
           0,
           0,
           1,
           0,
           1,
           0,
           0,
           0,
           0,
           1,
           0,
           0,
           0,
           2,
           0,
           0,
           0,
           0,
           1,
           1,
           1,
           0,
           0,
           0,
           0,
           0,
           1,
           0,
           0,
           0,
           0,
           0,
           0,
           2,
           0,
           0,
           1,
           0,
           0,
           0,
           0,
           0,
           0,
           2,
           0,
           0,
           0,
           0,
           0,
           0,
           0,
           0,
           0,
           0,
           0,
           0,
           0,
           1,
           0,
           0,
           0,
           0,
           0,
           1,
           1,
           0,
           0,
           1,
           0,
           1,
           0,
           0,
           0,
           0,
           0,
           0,
           1,
           0,
           0,
           0,
           0,
           0,
           0,
           0,
           1,
           0,
           0,
           0,
           1,
           0,
           1,
           0,
           0,
           0,
           1,
           0,
           0,
           1,
           0,
           0,
           0,
           1,
           0,
           1,
           1,
           0,
           0,
           0,
           0,
           0,
           0,
           0,
           0,
           0,
           0,
           0,
           0,
           0,
           0,
           0,
           0,
           1,
           1,
           1,
           0,
           0,
           0,
           0,
           0,
           0,
           1,
           0,
           0,
           0,
           0,
           0,
           0,
           1,
           0,
           0,
           0,
           0,
           1,
           0,
           0,
           1,
           1,
           0,
           0,
           0,
           0,
           0,
           0,
           0,
           1,
           0,
           0,
           0,
           0,
           1,
           0,
           0,
           0,
           0,
           0,
           0,
           1
          ],
          "opacity": 0.8,
          "size": 4
         },
         "mode": "markers",
         "type": "scatter3d",
         "x": [
          0.7266703844070435,
          22.912153244018555,
          -29.578615188598633,
          -23.86650848388672,
          -25.150806427001953,
          -4.474985122680664,
          7.482481479644775,
          0.5816985964775085,
          -3.1236071586608887,
          8.835577964782715,
          7.606351375579834,
          -3.2913596630096436,
          -0.18072018027305603,
          -0.1737707257270813,
          -4.2348551750183105,
          -7.434513092041016,
          -2.816375494003296,
          -12.054826736450195,
          -3.962512254714966,
          18.513710021972656,
          -6.219059944152832,
          6.588673114776611,
          -3.0879247188568115,
          9.782289505004883,
          6.790782451629639,
          -0.09757207334041595,
          24.400693893432617,
          14.789525032043457,
          4.582172393798828,
          10.206106185913086,
          -1.564759373664856,
          16.832805633544922,
          -11.48636531829834,
          23.083873748779297,
          -14.561506271362305,
          -3.0563101768493652,
          -25.055038452148438,
          18.48562240600586,
          -7.719320297241211,
          -4.8303375244140625,
          23.378616333007812,
          -16.243188858032227,
          -14.863180160522461,
          -3.0100739002227783,
          -7.4127678871154785,
          -2.0995242595672607,
          -5.860569477081299,
          -15.60443115234375,
          -1.3023731708526611,
          -18.281259536743164,
          -7.917348384857178,
          -5.434096813201904,
          -10.726360321044922,
          6.003296852111816,
          6.2464704513549805,
          -3.0151803493499756,
          -14.499285697937012,
          20.454057693481445,
          16.51595115661621,
          -14.147661209106445,
          0.7550756931304932,
          -13.341139793395996,
          -29.3856201171875,
          -14.34493637084961,
          -4.820384979248047,
          -20.782291412353516,
          -17.025177001953125,
          6.431153774261475,
          -17.040037155151367,
          4.3470988273620605,
          -14.543330192565918,
          1.078944444656372,
          3.3877806663513184,
          -1.7221287488937378,
          -10.662717819213867,
          3.5189266204833984,
          -0.955044686794281,
          7.489266395568848,
          5.498204708099365,
          -28.771928787231445,
          -12.569646835327148,
          -3.740967035293579,
          -5.373600482940674,
          21.97602081298828,
          -27.73044204711914,
          7.903557300567627,
          -16.1385498046875,
          -10.43768310546875,
          -30.0260009765625,
          3.0917084217071533,
          19.11167335510254,
          -21.130319595336914,
          22.30521011352539,
          12.099639892578125,
          2.5659725666046143,
          21.67594337463379,
          16.730152130126953,
          -13.510516166687012,
          18.58441162109375,
          -29.82111930847168,
          11.469179153442383,
          2.5949418544769287,
          -1.6152113676071167,
          4.702878475189209,
          18.594635009765625,
          7.280834197998047,
          2.5955426692962646,
          -2.42159366607666,
          -26.87788963317871,
          -28.80955696105957,
          12.554349899291992,
          -10.796443939208984,
          -13.244096755981445,
          -16.39642333984375,
          -13.100918769836426,
          -2.9555368423461914,
          -12.445345878601074,
          21.556028366088867,
          -14.407785415649414,
          26.057558059692383,
          -3.4131627082824707,
          -11.951947212219238,
          20.60240936279297,
          -2.9805119037628174,
          -17.077333450317383,
          -2.4295079708099365,
          -2.9678244590759277,
          -2.129554271697998,
          -3.3571419715881348,
          -23.560537338256836,
          -4.873265743255615,
          -4.2004547119140625,
          -2.410099744796753,
          10.430174827575684,
          -27.31971549987793,
          -14.49912166595459,
          20.392986297607422,
          -6.2996087074279785,
          -2.8264498710632324,
          -3.33638334274292,
          -4.4253034591674805,
          -5.353407859802246,
          -0.8772600889205933,
          8.194109916687012,
          21.528812408447266,
          5.099804401397705,
          20.469131469726562,
          -3.247896671295166,
          -4.596246242523193,
          4.232888698577881,
          -3.1485519409179688,
          -17.61284637451172,
          -2.1852145195007324,
          7.946041584014893,
          12.979257583618164,
          -2.256850242614746,
          -1.4254977703094482,
          9.929485321044922,
          -14.234877586364746,
          -20.700725555419922,
          -25.055749893188477,
          22.595531463623047,
          17.34949493408203,
          -29.933446884155273,
          -29.452428817749023,
          -1.1847120523452759,
          -10.03841781616211,
          12.29819393157959,
          6.396922588348389,
          -16.873132705688477,
          9.546079635620117,
          -5.673015594482422,
          -17.579111099243164,
          -12.486523628234863,
          2.326545476913452,
          19.667022705078125,
          2.332115650177002,
          -23.936918258666992,
          7.589425563812256,
          -8.084843635559082,
          14.282477378845215,
          22.93843650817871,
          -6.90100622177124,
          -16.30714225769043,
          -10.383932113647461,
          3.643878936767578,
          7.517226696014404,
          -2.321451425552368,
          -14.68201732635498,
          6.734257698059082,
          -23.587108612060547,
          -20.413137435913086,
          -13.074758529663086,
          -4.976516246795654,
          3.131681442260742,
          0.5100034475326538,
          -29.06538963317871,
          0.6419349908828735,
          0.3932294249534607,
          -15.725561141967773,
          -8.684165000915527,
          6.622041702270508,
          -13.251801490783691,
          1.5445377826690674,
          -5.464196681976318,
          -2.9993629455566406,
          -20.50432014465332,
          -20.384592056274414,
          -16.8653621673584,
          -18.429290771484375,
          16.290802001953125,
          -11.515244483947754,
          13.454318046569824,
          -14.285524368286133,
          5.787956237792969,
          -2.9593002796173096,
          -17.26781463623047,
          -11.089961051940918,
          -8.389680862426758,
          -15.237553596496582,
          22.410175323486328,
          1.1954219341278076,
          -4.624394416809082,
          -16.648557662963867,
          -1.1915498971939087,
          0.2680417597293854,
          3.213467836380005,
          -6.591259002685547,
          -5.534674644470215,
          6.957970142364502,
          -1.7202142477035522,
          2.6396310329437256,
          -17.22351837158203,
          1.4337410926818848,
          -20.232595443725586,
          -11.764975547790527,
          -25.070995330810547,
          -7.018467903137207,
          -8.208149909973145,
          -3.1645355224609375,
          -6.541045188903809,
          9.316673278808594,
          -14.457335472106934,
          -3.1258389949798584,
          0.7141844034194946,
          -13.922087669372559,
          -20.51272964477539,
          -14.705571174621582,
          -0.9643495678901672,
          -5.620195388793945,
          -2.8120791912078857,
          -29.862911224365234,
          -13.716134071350098,
          3.396003007888794,
          0.0581844225525856,
          -8.465181350708008,
          6.097776889801025,
          -1.6608983278274536,
          -3.013018846511841,
          -3.3390774726867676,
          -12.473140716552734,
          -15.564534187316895,
          -22.95142936706543,
          3.240116834640503,
          -14.304750442504883,
          24.8887882232666,
          -11.554413795471191,
          -29.113964080810547,
          3.6016900539398193,
          22.92995834350586,
          2.9491727352142334,
          22.934200286865234,
          -7.358503341674805,
          -12.047897338867188,
          -2.858250856399536,
          3.1503076553344727,
          -6.4642462730407715,
          -3.135162830352783,
          -6.039517402648926,
          -15.396135330200195,
          -17.023691177368164,
          13.987789154052734,
          4.286323070526123,
          -9.00668716430664,
          2.335409164428711,
          -13.122513771057129,
          -20.783031463623047,
          5.319622993469238,
          -3.561262845993042,
          -2.993032455444336,
          -11.070777893066406,
          26.02312660217285,
          -3.8346805572509766,
          -5.769059181213379,
          -16.84848976135254,
          -14.279888153076172,
          -4.521721363067627,
          -16.999292373657227,
          10.874269485473633,
          -11.795367240905762,
          -1.4360380172729492,
          -4.3150153160095215,
          -22.026979446411133,
          -8.808486938476562,
          21.83674430847168,
          1.4025709629058838,
          5.908514499664307,
          -27.09880256652832,
          -1.1645984649658203,
          2.5528011322021484,
          -12.76208209991455,
          -6.94624662399292,
          -11.687594413757324,
          -11.398544311523438,
          -3.140812873840332,
          -17.17955780029297,
          -1.6124932765960693,
          -3.1991007328033447,
          -27.06406021118164,
          13.392130851745605,
          -23.122861862182617,
          -27.76848030090332,
          -3.405627489089966,
          -0.9003065824508667,
          -16.654882431030273,
          11.983532905578613,
          1.638806700706482,
          26.529664993286133,
          -19.148828506469727,
          -5.15989875793457,
          -7.312467098236084,
          5.614696979522705,
          -6.505205154418945,
          -13.922080039978027,
          -4.144787788391113,
          3.1330883502960205,
          -2.559147834777832,
          -6.867908954620361,
          -1.6931813955307007,
          -5.874237537384033,
          3.808504581451416,
          -25.10832977294922,
          19.609905242919922,
          0.8834080696105957,
          -4.624855995178223,
          5.206964015960693,
          -14.344490051269531,
          -13.301286697387695,
          2.280106782913208,
          -15.437958717346191,
          -3.888737201690674,
          -6.647684097290039,
          17.98224639892578,
          -17.629661560058594,
          -8.891736030578613,
          -8.970500946044922,
          -4.173978805541992,
          1.4421998262405396,
          -2.9374523162841797,
          -0.11911312490701675,
          13.754339218139648,
          0.31132566928863525,
          -10.372395515441895,
          -12.400742530822754,
          -19.6959171295166,
          13.669550895690918,
          16.72419548034668,
          9.862068176269531,
          -14.498397827148438,
          22.48259735107422,
          -2.476621627807617,
          -4.883248329162598,
          -4.902261257171631,
          22.865488052368164,
          2.5908541679382324,
          -3.3232815265655518
         ],
         "y": [
          -3.632052183151245,
          7.372335433959961,
          3.2193853855133057,
          7.64170503616333,
          11.927118301391602,
          15.362703323364258,
          19.299531936645508,
          19.65605354309082,
          10.379312515258789,
          6.192935466766357,
          0.06669987738132477,
          4.77353572845459,
          19.109603881835938,
          -0.9845654368400574,
          2.546083927154541,
          -5.2391839027404785,
          3.600585699081421,
          9.974089622497559,
          -1.5627076625823975,
          15.956208229064941,
          -7.751645088195801,
          0.06483455002307892,
          11.169642448425293,
          12.433063507080078,
          1.5266034603118896,
          20.55259132385254,
          6.783509254455566,
          2.8913776874542236,
          19.780109405517578,
          14.747669219970703,
          -6.160586833953857,
          16.05672836303711,
          9.671477317810059,
          11.088776588439941,
          1.6783274412155151,
          11.200469017028809,
          9.47530746459961,
          15.667962074279785,
          -5.879815101623535,
          -14.694051742553711,
          11.495574951171875,
          -15.686856269836426,
          9.03661823272705,
          -4.10188102722168,
          -5.229211330413818,
          15.041926383972168,
          -5.072945594787598,
          -16.25365447998047,
          -18.38273811340332,
          12.341477394104004,
          6.127330303192139,
          -7.431347846984863,
          -2.2233684062957764,
          -7.625006198883057,
          -8.831952095031738,
          5.638956069946289,
          6.722024440765381,
          12.768266677856445,
          16.217660903930664,
          -1.6625241041183472,
          -3.8466684818267822,
          15.725748062133789,
          1.9896446466445923,
          4.173801422119141,
          -9.190753936767578,
          -14.02462100982666,
          3.3816819190979004,
          -12.603598594665527,
          -7.7967753410339355,
          17.5938663482666,
          2.2856996059417725,
          14.262494087219238,
          -11.629263877868652,
          -6.650417327880859,
          -19.68080711364746,
          -11.977530479431152,
          2.9143176078796387,
          2.0172507762908936,
          19.306346893310547,
          -1.433406949043274,
          -10.785337448120117,
          2.83909273147583,
          -7.3107686042785645,
          10.004386901855469,
          -6.722958087921143,
          -9.2992582321167,
          -9.175108909606934,
          -1.9525121450424194,
          6.982563495635986,
          -9.877971649169922,
          15.60053539276123,
          0.4132184386253357,
          7.176153659820557,
          9.609183311462402,
          0.6690433025360107,
          6.916813850402832,
          13.05860424041748,
          -2.0330379009246826,
          15.526668548583984,
          5.074618816375732,
          9.958166122436523,
          -20.014902114868164,
          15.821370124816895,
          21.45931625366211,
          16.170618057250977,
          0.06322545558214188,
          -20.014102935791016,
          4.978088855743408,
          -9.542189598083496,
          -1.2343783378601074,
          16.64998435974121,
          -2.4753682613372803,
          14.863057136535645,
          -15.548991203308105,
          13.456737518310547,
          6.412546157836914,
          6.107433795928955,
          5.33865213394165,
          -1.6558789014816284,
          5.91069221496582,
          -17.05720329284668,
          -18.976991653442383,
          12.681540489196777,
          8.957368850708008,
          1.0602425336837769,
          -17.093664169311523,
          5.72233772277832,
          1.4633023738861084,
          -0.21757911145687103,
          7.094798564910889,
          15.377549171447754,
          -15.719771385192871,
          8.333793640136719,
          15.048688888549805,
          -8.021340370178223,
          -0.9633547067642212,
          13.381779670715332,
          -6.207468032836914,
          8.38193416595459,
          4.510295391082764,
          14.058931350708008,
          -7.287112236022949,
          2.8661253452301025,
          2.4813482761383057,
          5.271321773529053,
          0.13409306108951569,
          13.02331256866455,
          9.871047019958496,
          -14.898670196533203,
          18.395858764648438,
          7.956980228424072,
          1.6540130376815796,
          17.888084411621094,
          2.3181300163269043,
          4.922577381134033,
          4.739023685455322,
          0.933280885219574,
          11.388199806213379,
          -0.393863320350647,
          0.636100709438324,
          9.849454879760742,
          7.087001323699951,
          15.92289924621582,
          6.091673374176025,
          2.4031667709350586,
          16.398534774780273,
          -11.176156044006348,
          16.557193756103516,
          -12.722949981689453,
          0.8170186281204224,
          6.8645830154418945,
          -7.6429314613342285,
          11.943021774291992,
          -1.6371809244155884,
          19.55782127380371,
          14.587791442871094,
          0.7002238631248474,
          7.774146556854248,
          19.297786712646484,
          6.36460542678833,
          16.85836410522461,
          12.162538528442383,
          -8.934577941894531,
          11.883944511413574,
          -19.641386032104492,
          18.4371337890625,
          -10.002836227416992,
          12.940363883972168,
          -9.960630416870117,
          1.5130692720413208,
          -0.7602243423461914,
          -13.499993324279785,
          11.132715225219727,
          -14.285697937011719,
          -7.936843395233154,
          -0.1197056770324707,
          0.14405392110347748,
          -0.4781844913959503,
          0.192178875207901,
          -9.34212589263916,
          -4.315779209136963,
          -11.012450218200684,
          14.929014205932617,
          14.557631492614746,
          -4.306121826171875,
          -4.773917198181152,
          0.7313185334205627,
          -11.8253173828125,
          -8.04594612121582,
          12.495816230773926,
          16.281421661376953,
          8.74111557006836,
          16.885589599609375,
          5.14186954498291,
          -6.823673725128174,
          -5.186461925506592,
          10.146406173706055,
          -19.384145736694336,
          -4.996118545532227,
          -0.7422860860824585,
          7.461513042449951,
          20.6848201751709,
          -8.560243606567383,
          7.756223201751709,
          3.210629463195801,
          13.820807456970215,
          -10.98447036743164,
          -7.300881862640381,
          -6.928145885467529,
          -10.039190292358398,
          -17.75946044921875,
          15.451836585998535,
          4.8465352058410645,
          -11.891121864318848,
          -12.886082649230957,
          3.9724299907684326,
          10.740676879882812,
          -8.014798164367676,
          -19.978578567504883,
          9.054898262023926,
          -6.543691635131836,
          6.660271167755127,
          7.448968887329102,
          5.9413371086120605,
          -3.1248395442962646,
          -1.9209407567977905,
          -11.544624328613281,
          -2.419255256652832,
          18.771568298339844,
          -4.585338115692139,
          3.4586780071258545,
          5.433267593383789,
          9.67699909210205,
          20.95783233642578,
          -19.074100494384766,
          -19.947040557861328,
          -13.338069915771484,
          -6.485933303833008,
          -4.348998546600342,
          2.273451805114746,
          -1.6515816450119019,
          8.784313201904297,
          -0.5044645071029663,
          -20.1507625579834,
          -1.6266788244247437,
          6.541261672973633,
          9.260904312133789,
          0.4120170474052429,
          0.5844137072563171,
          10.07715129852295,
          15.749125480651855,
          7.681976795196533,
          -5.276317596435547,
          2.3266208171844482,
          2.0298850536346436,
          -7.9587483406066895,
          -11.726265907287598,
          0.9663240909576416,
          -6.429850101470947,
          1.0594478845596313,
          6.7518510818481445,
          3.5950820446014404,
          17.515640258789062,
          -19.86587905883789,
          18.976594924926758,
          13.735616683959961,
          -10.66613483428955,
          21.688278198242188,
          10.991056442260742,
          -3.9214119911193848,
          -11.032842636108398,
          5.924033164978027,
          -1.3143043518066406,
          -12.866573333740234,
          7.474532127380371,
          -1.2915514707565308,
          15.438695907592773,
          -15.005668640136719,
          15.541125297546387,
          4.3354902267456055,
          18.42204475402832,
          -8.74563217163086,
          -0.04562217742204666,
          7.344514846801758,
          10.29697322845459,
          -19.642047882080078,
          -9.08669662475586,
          -8.701786041259766,
          -18.22913932800293,
          21.03985595703125,
          10.492018699645996,
          -8.598052978515625,
          2.348461866378784,
          1.8474113941192627,
          6.768749713897705,
          3.6884396076202393,
          15.94024658203125,
          7.025930404663086,
          -8.889816284179688,
          4.305784702301025,
          -0.5704404711723328,
          -6.630055904388428,
          -0.183656245470047,
          -18.53891372680664,
          2.781837224960327,
          9.669413566589355,
          -19.733684539794922,
          5.651230812072754,
          -13.376994132995605,
          -9.119651794433594,
          -6.442391395568848,
          -6.762191295623779,
          -8.628999710083008,
          -10.354719161987305,
          13.070584297180176,
          20.894319534301758,
          12.911710739135742,
          -8.956755638122559,
          13.23603343963623,
          -12.71375846862793,
          18.429370880126953,
          10.918657302856445,
          14.702481269836426,
          20.729717254638672,
          -8.55968189239502,
          19.378646850585938,
          5.796491622924805,
          -10.601491928100586,
          19.07392692565918,
          1.0471292734146118,
          12.15015983581543,
          -6.8354339599609375,
          15.878129959106445,
          11.278375625610352,
          -4.091287136077881,
          7.560894966125488,
          13.176470756530762,
          -11.893217086791992,
          6.739781856536865,
          -0.9606497883796692,
          17.020174026489258,
          -19.192232131958008,
          -11.132530212402344,
          6.026226997375488,
          1.1303850412368774,
          3.819530487060547,
          13.054804801940918,
          11.80986213684082,
          3.0439419746398926,
          7.718690395355225,
          14.353325843811035,
          -3.278101921081543,
          -9.174500465393066,
          11.93730354309082,
          18.628799438476562,
          -17.168363571166992
         ],
         "z": [
          -16.68408966064453,
          1.559888243675232,
          2.5258848667144775,
          -11.364405632019043,
          -7.9929962158203125,
          -11.096733093261719,
          -9.452945709228516,
          -13.447361946105957,
          -5.5655517578125,
          -20.78466796875,
          -26.87919807434082,
          -21.80436897277832,
          -13.365031242370605,
          -26.555362701416016,
          -23.69797706604004,
          1.2153325080871582,
          -6.513380527496338,
          -1.3383938074111938,
          -6.686291217803955,
          -3.9427690505981445,
          7.890987873077393,
          -26.89776611328125,
          -5.5173258781433105,
          -16.53398323059082,
          -23.704811096191406,
          -14.97967529296875,
          0.5005449056625366,
          -19.908994674682617,
          -9.992637634277344,
          -15.384413719177246,
          -18.43130111694336,
          -9.336993217468262,
          -0.5334299206733704,
          9.823455810546875,
          -1.676942229270935,
          -5.664189338684082,
          -8.845341682434082,
          -5.083242416381836,
          6.0086445808410645,
          10.212553977966309,
          10.149165153503418,
          -7.764122009277344,
          -12.972394943237305,
          -24.393468856811523,
          -0.41721901297569275,
          -1.9409607648849487,
          -8.080514907836914,
          -8.17440414428711,
          14.266935348510742,
          -15.12309741973877,
          3.8531155586242676,
          4.594954967498779,
          2.581127643585205,
          -3.2947933673858643,
          -2.681495428085327,
          -5.984847068786621,
          -2.950596332550049,
          -1.3493998050689697,
          -9.703865051269531,
          -1.3192319869995117,
          -16.82088279724121,
          -4.474645137786865,
          2.3157620429992676,
          -1.8916391134262085,
          -16.318172454833984,
          -5.6683783531188965,
          -14.306137084960938,
          -0.261474072933197,
          -14.968097686767578,
          -7.737384796142578,
          -1.7494641542434692,
          -8.670455932617188,
          1.4771946668624878,
          -18.06442642211914,
          -10.806096076965332,
          1.6051194667816162,
          -13.726582527160645,
          -22.868759155273438,
          -9.419442176818848,
          1.6690741777420044,
          -16.683414459228516,
          -23.472434997558594,
          3.81178879737854,
          -0.026982367038726807,
          -0.2294227033853531,
          -3.681588888168335,
          -15.432391166687012,
          3.197814702987671,
          3.0970802307128906,
          0.5464631915092468,
          -1.2399343252182007,
          -8.911364555358887,
          7.44914436340332,
          -14.978245735168457,
          -25.76638412475586,
          2.5473792552948,
          -11.545007705688477,
          -0.6824288964271545,
          -5.172121047973633,
          2.8127377033233643,
          -15.55502986907959,
          8.032814979553223,
          -1.4553996324539185,
          0.61421138048172,
          -2.7435591220855713,
          -26.890661239624023,
          8.031035423278809,
          -15.064180374145508,
          -0.9353317618370056,
          1.7108945846557617,
          -13.335687637329102,
          2.247844934463501,
          -4.16976261138916,
          -7.665060997009277,
          -3.668807029724121,
          -20.055774688720703,
          0.2575325071811676,
          7.721950054168701,
          -13.529609680175781,
          -0.39257577061653137,
          8.794832229614258,
          -10.119038581848145,
          -0.45743483304977417,
          -20.881906509399414,
          -11.677057266235352,
          12.79355525970459,
          -14.519587516784668,
          -24.637426376342773,
          -6.423406600952148,
          -11.46058177947998,
          -11.22331714630127,
          9.812376022338867,
          -21.923341751098633,
          -15.148941993713379,
          -0.5705849528312683,
          -15.696358680725098,
          0.7888867259025574,
          1.349135398864746,
          -21.008333206176758,
          -22.037010192871094,
          -20.216960906982422,
          3.5007264614105225,
          -13.134178161621094,
          -22.062171936035156,
          7.729160785675049,
          -26.77079200744629,
          -0.16832706332206726,
          -20.67106819152832,
          10.486725807189941,
          -4.440654754638672,
          -5.836909770965576,
          -11.800015449523926,
          -13.357709884643555,
          -22.342185974121094,
          -19.591064453125,
          -14.918591499328613,
          -25.0605411529541,
          -16.747591018676758,
          -16.73394203186035,
          -9.316605567932129,
          -8.771212577819824,
          2.3189430236816406,
          -8.537335395812988,
          2.9653139114379883,
          2.3877270221710205,
          -1.1464563608169556,
          -17.171066284179688,
          -13.545524597167969,
          -0.1529654711484909,
          -11.619906425476074,
          -20.223831176757812,
          8.10911750793457,
          -14.842394828796387,
          -18.640628814697266,
          0.14267468452453613,
          -0.7658825516700745,
          -25.725515365600586,
          -11.352850914001465,
          -9.441123962402344,
          3.6333422660827637,
          -11.893784523010254,
          10.521771430969238,
          -12.367451667785645,
          -14.501551628112793,
          -10.928945541381836,
          -3.355445384979248,
          -2.9011619091033936,
          -7.903539657592773,
          -16.005897521972656,
          -23.729328155517578,
          -6.621316432952881,
          -5.594757556915283,
          -3.0380513668060303,
          10.568199157714844,
          -0.7821321487426758,
          -14.820258140563965,
          1.9818546772003174,
          -14.93765926361084,
          -14.717217445373535,
          -15.589836120605469,
          2.886255979537964,
          -1.499367117881775,
          -4.193667888641357,
          -8.672260284423828,
          -7.639037609100342,
          -23.09391212463379,
          -9.496061325073242,
          -4.976803302764893,
          -15.056836128234863,
          -15.199657440185547,
          -10.001291275024414,
          -0.11816097050905228,
          -12.595946311950684,
          -2.089714527130127,
          -3.6615993976593018,
          -22.245655059814453,
          -14.258353233337402,
          -10.57036304473877,
          5.316900253295898,
          -15.634784698486328,
          7.432135581970215,
          -14.201245307922363,
          -0.8925681710243225,
          -13.451620101928711,
          -14.374873161315918,
          -8.618179321289062,
          1.18718683719635,
          7.321288585662842,
          1.6239092350006104,
          -2.4311795234680176,
          12.887776374816895,
          -8.481091499328613,
          -13.562273979187012,
          3.300950288772583,
          -5.426938533782959,
          2.6535909175872803,
          -8.539505004882812,
          -10.461578369140625,
          -11.963053703308105,
          -5.6034674644470215,
          -9.119135856628418,
          -20.401227951049805,
          -3.2056150436401367,
          -14.417840957641602,
          -16.368804931640625,
          -1.0942820310592651,
          -4.825618743896484,
          -1.8726719617843628,
          -13.534327507019043,
          -7.771482944488525,
          -6.535299301147461,
          2.8671371936798096,
          -3.281750202178955,
          1.2370936870574951,
          10.974711418151855,
          -11.847015380859375,
          0.5028548240661621,
          -18.179241180419922,
          -23.934629440307617,
          -23.961183547973633,
          -18.652341842651367,
          -13.216156005859375,
          -7.199301242828369,
          7.334692001342773,
          -13.891145706176758,
          0.2167930155992508,
          -0.41363751888275146,
          2.0329408645629883,
          -25.91767692565918,
          9.116827011108398,
          -8.384726524353027,
          1.1337326765060425,
          -0.4034101665019989,
          3.464125394821167,
          -24.178699493408203,
          -0.781891405582428,
          10.96285343170166,
          -6.4389328956604,
          1.270357370376587,
          -16.980566024780273,
          -13.460817337036133,
          -19.933231353759766,
          -7.630847454071045,
          -11.59042739868164,
          -0.8355424404144287,
          -3.762986898422241,
          -4.39349889755249,
          0.3112090528011322,
          -20.496633529663086,
          -24.732088088989258,
          -16.996700286865234,
          -0.3690541088581085,
          -6.623631477355957,
          10.768790245056152,
          -13.48209285736084,
          -15.154951095581055,
          -11.19364070892334,
          -7.274593353271484,
          -14.724034309387207,
          2.4368159770965576,
          -13.46304988861084,
          -16.39401626586914,
          -8.064291000366211,
          2.6937880516052246,
          -0.11449703574180603,
          9.297998428344727,
          -2.244497060775757,
          -0.7492814660072327,
          12.635607719421387,
          2.291680335998535,
          -2.4131317138671875,
          -11.666128158569336,
          3.340977191925049,
          3.4193575382232666,
          -5.541227340698242,
          -13.797672271728516,
          -1.3262745141983032,
          -5.223010540008545,
          -0.7823349833488464,
          -19.792287826538086,
          -7.045078754425049,
          -0.22164283692836761,
          -6.466968536376953,
          13.02587890625,
          -15.310282707214355,
          -15.086572647094727,
          9.02824592590332,
          -0.6310310363769531,
          -5.974245071411133,
          -15.506149291992188,
          6.554351329803467,
          -3.5621252059936523,
          8.42070484161377,
          -16.28956413269043,
          -20.281206130981445,
          1.4226518869400024,
          -7.891554355621338,
          -12.44550895690918,
          -8.224263191223145,
          10.807279586791992,
          -3.6388490200042725,
          -8.390469551086426,
          -0.7873490452766418,
          -14.479119300842285,
          -0.8915985226631165,
          -9.508389472961426,
          -2.3876636028289795,
          -16.490707397460938,
          -0.6092664003372192,
          -16.925771713256836,
          -20.369916915893555,
          -9.37074089050293,
          -6.418391704559326,
          -14.67135238647461,
          2.777148723602295,
          2.4795899391174316,
          -20.269330978393555,
          3.2952723503112793,
          -20.180906295776367,
          -26.556222915649414,
          -12.353060722351074,
          10.560569763183594,
          -17.115694046020508,
          0.3802206218242645,
          -10.237833023071289,
          -19.97953987121582,
          -11.553284645080566,
          -16.667255401611328,
          -1.8354990482330322,
          7.610284805297852,
          -2.410578966140747,
          -7.171285629272461,
          -16.118833541870117,
          10.359363555908203,
          -1.7215790748596191,
          8.75597095489502
         ]
        }
       ],
       "layout": {
        "margin": {
         "b": 0,
         "l": 0,
         "r": 0,
         "t": 0
        },
        "showlegend": true,
        "template": {
         "data": {
          "bar": [
           {
            "error_x": {
             "color": "#2a3f5f"
            },
            "error_y": {
             "color": "#2a3f5f"
            },
            "marker": {
             "line": {
              "color": "#E5ECF6",
              "width": 0.5
             },
             "pattern": {
              "fillmode": "overlay",
              "size": 10,
              "solidity": 0.2
             }
            },
            "type": "bar"
           }
          ],
          "barpolar": [
           {
            "marker": {
             "line": {
              "color": "#E5ECF6",
              "width": 0.5
             },
             "pattern": {
              "fillmode": "overlay",
              "size": 10,
              "solidity": 0.2
             }
            },
            "type": "barpolar"
           }
          ],
          "carpet": [
           {
            "aaxis": {
             "endlinecolor": "#2a3f5f",
             "gridcolor": "white",
             "linecolor": "white",
             "minorgridcolor": "white",
             "startlinecolor": "#2a3f5f"
            },
            "baxis": {
             "endlinecolor": "#2a3f5f",
             "gridcolor": "white",
             "linecolor": "white",
             "minorgridcolor": "white",
             "startlinecolor": "#2a3f5f"
            },
            "type": "carpet"
           }
          ],
          "choropleth": [
           {
            "colorbar": {
             "outlinewidth": 0,
             "ticks": ""
            },
            "type": "choropleth"
           }
          ],
          "contour": [
           {
            "colorbar": {
             "outlinewidth": 0,
             "ticks": ""
            },
            "colorscale": [
             [
              0,
              "#0d0887"
             ],
             [
              0.1111111111111111,
              "#46039f"
             ],
             [
              0.2222222222222222,
              "#7201a8"
             ],
             [
              0.3333333333333333,
              "#9c179e"
             ],
             [
              0.4444444444444444,
              "#bd3786"
             ],
             [
              0.5555555555555556,
              "#d8576b"
             ],
             [
              0.6666666666666666,
              "#ed7953"
             ],
             [
              0.7777777777777778,
              "#fb9f3a"
             ],
             [
              0.8888888888888888,
              "#fdca26"
             ],
             [
              1,
              "#f0f921"
             ]
            ],
            "type": "contour"
           }
          ],
          "contourcarpet": [
           {
            "colorbar": {
             "outlinewidth": 0,
             "ticks": ""
            },
            "type": "contourcarpet"
           }
          ],
          "heatmap": [
           {
            "colorbar": {
             "outlinewidth": 0,
             "ticks": ""
            },
            "colorscale": [
             [
              0,
              "#0d0887"
             ],
             [
              0.1111111111111111,
              "#46039f"
             ],
             [
              0.2222222222222222,
              "#7201a8"
             ],
             [
              0.3333333333333333,
              "#9c179e"
             ],
             [
              0.4444444444444444,
              "#bd3786"
             ],
             [
              0.5555555555555556,
              "#d8576b"
             ],
             [
              0.6666666666666666,
              "#ed7953"
             ],
             [
              0.7777777777777778,
              "#fb9f3a"
             ],
             [
              0.8888888888888888,
              "#fdca26"
             ],
             [
              1,
              "#f0f921"
             ]
            ],
            "type": "heatmap"
           }
          ],
          "heatmapgl": [
           {
            "colorbar": {
             "outlinewidth": 0,
             "ticks": ""
            },
            "colorscale": [
             [
              0,
              "#0d0887"
             ],
             [
              0.1111111111111111,
              "#46039f"
             ],
             [
              0.2222222222222222,
              "#7201a8"
             ],
             [
              0.3333333333333333,
              "#9c179e"
             ],
             [
              0.4444444444444444,
              "#bd3786"
             ],
             [
              0.5555555555555556,
              "#d8576b"
             ],
             [
              0.6666666666666666,
              "#ed7953"
             ],
             [
              0.7777777777777778,
              "#fb9f3a"
             ],
             [
              0.8888888888888888,
              "#fdca26"
             ],
             [
              1,
              "#f0f921"
             ]
            ],
            "type": "heatmapgl"
           }
          ],
          "histogram": [
           {
            "marker": {
             "pattern": {
              "fillmode": "overlay",
              "size": 10,
              "solidity": 0.2
             }
            },
            "type": "histogram"
           }
          ],
          "histogram2d": [
           {
            "colorbar": {
             "outlinewidth": 0,
             "ticks": ""
            },
            "colorscale": [
             [
              0,
              "#0d0887"
             ],
             [
              0.1111111111111111,
              "#46039f"
             ],
             [
              0.2222222222222222,
              "#7201a8"
             ],
             [
              0.3333333333333333,
              "#9c179e"
             ],
             [
              0.4444444444444444,
              "#bd3786"
             ],
             [
              0.5555555555555556,
              "#d8576b"
             ],
             [
              0.6666666666666666,
              "#ed7953"
             ],
             [
              0.7777777777777778,
              "#fb9f3a"
             ],
             [
              0.8888888888888888,
              "#fdca26"
             ],
             [
              1,
              "#f0f921"
             ]
            ],
            "type": "histogram2d"
           }
          ],
          "histogram2dcontour": [
           {
            "colorbar": {
             "outlinewidth": 0,
             "ticks": ""
            },
            "colorscale": [
             [
              0,
              "#0d0887"
             ],
             [
              0.1111111111111111,
              "#46039f"
             ],
             [
              0.2222222222222222,
              "#7201a8"
             ],
             [
              0.3333333333333333,
              "#9c179e"
             ],
             [
              0.4444444444444444,
              "#bd3786"
             ],
             [
              0.5555555555555556,
              "#d8576b"
             ],
             [
              0.6666666666666666,
              "#ed7953"
             ],
             [
              0.7777777777777778,
              "#fb9f3a"
             ],
             [
              0.8888888888888888,
              "#fdca26"
             ],
             [
              1,
              "#f0f921"
             ]
            ],
            "type": "histogram2dcontour"
           }
          ],
          "mesh3d": [
           {
            "colorbar": {
             "outlinewidth": 0,
             "ticks": ""
            },
            "type": "mesh3d"
           }
          ],
          "parcoords": [
           {
            "line": {
             "colorbar": {
              "outlinewidth": 0,
              "ticks": ""
             }
            },
            "type": "parcoords"
           }
          ],
          "pie": [
           {
            "automargin": true,
            "type": "pie"
           }
          ],
          "scatter": [
           {
            "fillpattern": {
             "fillmode": "overlay",
             "size": 10,
             "solidity": 0.2
            },
            "type": "scatter"
           }
          ],
          "scatter3d": [
           {
            "line": {
             "colorbar": {
              "outlinewidth": 0,
              "ticks": ""
             }
            },
            "marker": {
             "colorbar": {
              "outlinewidth": 0,
              "ticks": ""
             }
            },
            "type": "scatter3d"
           }
          ],
          "scattercarpet": [
           {
            "marker": {
             "colorbar": {
              "outlinewidth": 0,
              "ticks": ""
             }
            },
            "type": "scattercarpet"
           }
          ],
          "scattergeo": [
           {
            "marker": {
             "colorbar": {
              "outlinewidth": 0,
              "ticks": ""
             }
            },
            "type": "scattergeo"
           }
          ],
          "scattergl": [
           {
            "marker": {
             "colorbar": {
              "outlinewidth": 0,
              "ticks": ""
             }
            },
            "type": "scattergl"
           }
          ],
          "scattermapbox": [
           {
            "marker": {
             "colorbar": {
              "outlinewidth": 0,
              "ticks": ""
             }
            },
            "type": "scattermapbox"
           }
          ],
          "scatterpolar": [
           {
            "marker": {
             "colorbar": {
              "outlinewidth": 0,
              "ticks": ""
             }
            },
            "type": "scatterpolar"
           }
          ],
          "scatterpolargl": [
           {
            "marker": {
             "colorbar": {
              "outlinewidth": 0,
              "ticks": ""
             }
            },
            "type": "scatterpolargl"
           }
          ],
          "scatterternary": [
           {
            "marker": {
             "colorbar": {
              "outlinewidth": 0,
              "ticks": ""
             }
            },
            "type": "scatterternary"
           }
          ],
          "surface": [
           {
            "colorbar": {
             "outlinewidth": 0,
             "ticks": ""
            },
            "colorscale": [
             [
              0,
              "#0d0887"
             ],
             [
              0.1111111111111111,
              "#46039f"
             ],
             [
              0.2222222222222222,
              "#7201a8"
             ],
             [
              0.3333333333333333,
              "#9c179e"
             ],
             [
              0.4444444444444444,
              "#bd3786"
             ],
             [
              0.5555555555555556,
              "#d8576b"
             ],
             [
              0.6666666666666666,
              "#ed7953"
             ],
             [
              0.7777777777777778,
              "#fb9f3a"
             ],
             [
              0.8888888888888888,
              "#fdca26"
             ],
             [
              1,
              "#f0f921"
             ]
            ],
            "type": "surface"
           }
          ],
          "table": [
           {
            "cells": {
             "fill": {
              "color": "#EBF0F8"
             },
             "line": {
              "color": "white"
             }
            },
            "header": {
             "fill": {
              "color": "#C8D4E3"
             },
             "line": {
              "color": "white"
             }
            },
            "type": "table"
           }
          ]
         },
         "layout": {
          "annotationdefaults": {
           "arrowcolor": "#2a3f5f",
           "arrowhead": 0,
           "arrowwidth": 1
          },
          "autotypenumbers": "strict",
          "coloraxis": {
           "colorbar": {
            "outlinewidth": 0,
            "ticks": ""
           }
          },
          "colorscale": {
           "diverging": [
            [
             0,
             "#8e0152"
            ],
            [
             0.1,
             "#c51b7d"
            ],
            [
             0.2,
             "#de77ae"
            ],
            [
             0.3,
             "#f1b6da"
            ],
            [
             0.4,
             "#fde0ef"
            ],
            [
             0.5,
             "#f7f7f7"
            ],
            [
             0.6,
             "#e6f5d0"
            ],
            [
             0.7,
             "#b8e186"
            ],
            [
             0.8,
             "#7fbc41"
            ],
            [
             0.9,
             "#4d9221"
            ],
            [
             1,
             "#276419"
            ]
           ],
           "sequential": [
            [
             0,
             "#0d0887"
            ],
            [
             0.1111111111111111,
             "#46039f"
            ],
            [
             0.2222222222222222,
             "#7201a8"
            ],
            [
             0.3333333333333333,
             "#9c179e"
            ],
            [
             0.4444444444444444,
             "#bd3786"
            ],
            [
             0.5555555555555556,
             "#d8576b"
            ],
            [
             0.6666666666666666,
             "#ed7953"
            ],
            [
             0.7777777777777778,
             "#fb9f3a"
            ],
            [
             0.8888888888888888,
             "#fdca26"
            ],
            [
             1,
             "#f0f921"
            ]
           ],
           "sequentialminus": [
            [
             0,
             "#0d0887"
            ],
            [
             0.1111111111111111,
             "#46039f"
            ],
            [
             0.2222222222222222,
             "#7201a8"
            ],
            [
             0.3333333333333333,
             "#9c179e"
            ],
            [
             0.4444444444444444,
             "#bd3786"
            ],
            [
             0.5555555555555556,
             "#d8576b"
            ],
            [
             0.6666666666666666,
             "#ed7953"
            ],
            [
             0.7777777777777778,
             "#fb9f3a"
            ],
            [
             0.8888888888888888,
             "#fdca26"
            ],
            [
             1,
             "#f0f921"
            ]
           ]
          },
          "colorway": [
           "#636efa",
           "#EF553B",
           "#00cc96",
           "#ab63fa",
           "#FFA15A",
           "#19d3f3",
           "#FF6692",
           "#B6E880",
           "#FF97FF",
           "#FECB52"
          ],
          "font": {
           "color": "#2a3f5f"
          },
          "geo": {
           "bgcolor": "white",
           "lakecolor": "white",
           "landcolor": "#E5ECF6",
           "showlakes": true,
           "showland": true,
           "subunitcolor": "white"
          },
          "hoverlabel": {
           "align": "left"
          },
          "hovermode": "closest",
          "mapbox": {
           "style": "light"
          },
          "paper_bgcolor": "white",
          "plot_bgcolor": "#E5ECF6",
          "polar": {
           "angularaxis": {
            "gridcolor": "white",
            "linecolor": "white",
            "ticks": ""
           },
           "bgcolor": "#E5ECF6",
           "radialaxis": {
            "gridcolor": "white",
            "linecolor": "white",
            "ticks": ""
           }
          },
          "scene": {
           "xaxis": {
            "backgroundcolor": "#E5ECF6",
            "gridcolor": "white",
            "gridwidth": 2,
            "linecolor": "white",
            "showbackground": true,
            "ticks": "",
            "zerolinecolor": "white"
           },
           "yaxis": {
            "backgroundcolor": "#E5ECF6",
            "gridcolor": "white",
            "gridwidth": 2,
            "linecolor": "white",
            "showbackground": true,
            "ticks": "",
            "zerolinecolor": "white"
           },
           "zaxis": {
            "backgroundcolor": "#E5ECF6",
            "gridcolor": "white",
            "gridwidth": 2,
            "linecolor": "white",
            "showbackground": true,
            "ticks": "",
            "zerolinecolor": "white"
           }
          },
          "shapedefaults": {
           "line": {
            "color": "#2a3f5f"
           }
          },
          "ternary": {
           "aaxis": {
            "gridcolor": "white",
            "linecolor": "white",
            "ticks": ""
           },
           "baxis": {
            "gridcolor": "white",
            "linecolor": "white",
            "ticks": ""
           },
           "bgcolor": "#E5ECF6",
           "caxis": {
            "gridcolor": "white",
            "linecolor": "white",
            "ticks": ""
           }
          },
          "title": {
           "x": 0.05
          },
          "xaxis": {
           "automargin": true,
           "gridcolor": "white",
           "linecolor": "white",
           "ticks": "",
           "title": {
            "standoff": 15
           },
           "zerolinecolor": "white",
           "zerolinewidth": 2
          },
          "yaxis": {
           "automargin": true,
           "gridcolor": "white",
           "linecolor": "white",
           "ticks": "",
           "title": {
            "standoff": 15
           },
           "zerolinecolor": "white",
           "zerolinewidth": 2
          }
         }
        }
       }
      },
      "text/html": [
       "<div>                            <div id=\"27b260b3-1590-4df2-9845-e5a183b86672\" class=\"plotly-graph-div\" style=\"height:525px; width:100%;\"></div>            <script type=\"text/javascript\">                require([\"plotly\"], function(Plotly) {                    window.PLOTLYENV=window.PLOTLYENV || {};                                    if (document.getElementById(\"27b260b3-1590-4df2-9845-e5a183b86672\")) {                    Plotly.newPlot(                        \"27b260b3-1590-4df2-9845-e5a183b86672\",                        [{\"marker\":{\"color\":[0,0,0,0,0,0,0,0,0,0,0,0,0,0,0,1,0,1,0,0,1,0,0,0,0,0,0,0,0,0,0,0,1,0,1,0,0,0,1,1,0,2,2,0,1,0,0,2,0,0,1,1,1,1,1,0,1,0,0,2,0,1,0,1,0,0,0,0,0,0,1,0,0,0,0,0,0,0,0,0,0,0,1,0,0,1,0,1,1,1,0,0,0,0,0,0,0,1,0,0,0,0,0,0,0,0,0,0,0,0,0,1,1,0,1,0,1,0,0,0,1,0,0,0,0,0,0,0,0,0,0,1,0,0,0,0,0,1,0,0,0,1,0,0,0,0,0,0,1,0,0,0,0,0,0,0,0,0,0,0,0,0,0,0,0,0,0,0,0,0,0,1,0,0,0,0,0,0,0,1,0,0,0,0,0,0,1,0,0,0,0,0,1,1,0,0,0,0,0,0,1,1,1,0,0,0,0,0,0,0,0,1,0,1,0,0,0,0,1,0,0,0,2,0,0,0,0,1,1,1,0,0,0,0,0,1,0,0,0,0,0,0,2,0,0,1,0,0,0,0,0,0,2,0,0,0,0,0,0,0,0,0,0,0,0,0,1,0,0,0,0,0,1,1,0,0,1,0,1,0,0,0,0,0,0,1,0,0,0,0,0,0,0,1,0,0,0,1,0,1,0,0,0,1,0,0,1,0,0,0,1,0,1,1,0,0,0,0,0,0,0,0,0,0,0,0,0,0,0,0,1,1,1,0,0,0,0,0,0,1,0,0,0,0,0,0,1,0,0,0,0,1,0,0,1,1,0,0,0,0,0,0,0,1,0,0,0,0,1,0,0,0,0,0,0,1],\"opacity\":0.8,\"size\":4},\"mode\":\"markers\",\"x\":[0.7266703844070435,22.912153244018555,-29.578615188598633,-23.86650848388672,-25.150806427001953,-4.474985122680664,7.482481479644775,0.5816985964775085,-3.1236071586608887,8.835577964782715,7.606351375579834,-3.2913596630096436,-0.18072018027305603,-0.1737707257270813,-4.2348551750183105,-7.434513092041016,-2.816375494003296,-12.054826736450195,-3.962512254714966,18.513710021972656,-6.219059944152832,6.588673114776611,-3.0879247188568115,9.782289505004883,6.790782451629639,-0.09757207334041595,24.400693893432617,14.789525032043457,4.582172393798828,10.206106185913086,-1.564759373664856,16.832805633544922,-11.48636531829834,23.083873748779297,-14.561506271362305,-3.0563101768493652,-25.055038452148438,18.48562240600586,-7.719320297241211,-4.8303375244140625,23.378616333007812,-16.243188858032227,-14.863180160522461,-3.0100739002227783,-7.4127678871154785,-2.0995242595672607,-5.860569477081299,-15.60443115234375,-1.3023731708526611,-18.281259536743164,-7.917348384857178,-5.434096813201904,-10.726360321044922,6.003296852111816,6.2464704513549805,-3.0151803493499756,-14.499285697937012,20.454057693481445,16.51595115661621,-14.147661209106445,0.7550756931304932,-13.341139793395996,-29.3856201171875,-14.34493637084961,-4.820384979248047,-20.782291412353516,-17.025177001953125,6.431153774261475,-17.040037155151367,4.3470988273620605,-14.543330192565918,1.078944444656372,3.3877806663513184,-1.7221287488937378,-10.662717819213867,3.5189266204833984,-0.955044686794281,7.489266395568848,5.498204708099365,-28.771928787231445,-12.569646835327148,-3.740967035293579,-5.373600482940674,21.97602081298828,-27.73044204711914,7.903557300567627,-16.1385498046875,-10.43768310546875,-30.0260009765625,3.0917084217071533,19.11167335510254,-21.130319595336914,22.30521011352539,12.099639892578125,2.5659725666046143,21.67594337463379,16.730152130126953,-13.510516166687012,18.58441162109375,-29.82111930847168,11.469179153442383,2.5949418544769287,-1.6152113676071167,4.702878475189209,18.594635009765625,7.280834197998047,2.5955426692962646,-2.42159366607666,-26.87788963317871,-28.80955696105957,12.554349899291992,-10.796443939208984,-13.244096755981445,-16.39642333984375,-13.100918769836426,-2.9555368423461914,-12.445345878601074,21.556028366088867,-14.407785415649414,26.057558059692383,-3.4131627082824707,-11.951947212219238,20.60240936279297,-2.9805119037628174,-17.077333450317383,-2.4295079708099365,-2.9678244590759277,-2.129554271697998,-3.3571419715881348,-23.560537338256836,-4.873265743255615,-4.2004547119140625,-2.410099744796753,10.430174827575684,-27.31971549987793,-14.49912166595459,20.392986297607422,-6.2996087074279785,-2.8264498710632324,-3.33638334274292,-4.4253034591674805,-5.353407859802246,-0.8772600889205933,8.194109916687012,21.528812408447266,5.099804401397705,20.469131469726562,-3.247896671295166,-4.596246242523193,4.232888698577881,-3.1485519409179688,-17.61284637451172,-2.1852145195007324,7.946041584014893,12.979257583618164,-2.256850242614746,-1.4254977703094482,9.929485321044922,-14.234877586364746,-20.700725555419922,-25.055749893188477,22.595531463623047,17.34949493408203,-29.933446884155273,-29.452428817749023,-1.1847120523452759,-10.03841781616211,12.29819393157959,6.396922588348389,-16.873132705688477,9.546079635620117,-5.673015594482422,-17.579111099243164,-12.486523628234863,2.326545476913452,19.667022705078125,2.332115650177002,-23.936918258666992,7.589425563812256,-8.084843635559082,14.282477378845215,22.93843650817871,-6.90100622177124,-16.30714225769043,-10.383932113647461,3.643878936767578,7.517226696014404,-2.321451425552368,-14.68201732635498,6.734257698059082,-23.587108612060547,-20.413137435913086,-13.074758529663086,-4.976516246795654,3.131681442260742,0.5100034475326538,-29.06538963317871,0.6419349908828735,0.3932294249534607,-15.725561141967773,-8.684165000915527,6.622041702270508,-13.251801490783691,1.5445377826690674,-5.464196681976318,-2.9993629455566406,-20.50432014465332,-20.384592056274414,-16.8653621673584,-18.429290771484375,16.290802001953125,-11.515244483947754,13.454318046569824,-14.285524368286133,5.787956237792969,-2.9593002796173096,-17.26781463623047,-11.089961051940918,-8.389680862426758,-15.237553596496582,22.410175323486328,1.1954219341278076,-4.624394416809082,-16.648557662963867,-1.1915498971939087,0.2680417597293854,3.213467836380005,-6.591259002685547,-5.534674644470215,6.957970142364502,-1.7202142477035522,2.6396310329437256,-17.22351837158203,1.4337410926818848,-20.232595443725586,-11.764975547790527,-25.070995330810547,-7.018467903137207,-8.208149909973145,-3.1645355224609375,-6.541045188903809,9.316673278808594,-14.457335472106934,-3.1258389949798584,0.7141844034194946,-13.922087669372559,-20.51272964477539,-14.705571174621582,-0.9643495678901672,-5.620195388793945,-2.8120791912078857,-29.862911224365234,-13.716134071350098,3.396003007888794,0.0581844225525856,-8.465181350708008,6.097776889801025,-1.6608983278274536,-3.013018846511841,-3.3390774726867676,-12.473140716552734,-15.564534187316895,-22.95142936706543,3.240116834640503,-14.304750442504883,24.8887882232666,-11.554413795471191,-29.113964080810547,3.6016900539398193,22.92995834350586,2.9491727352142334,22.934200286865234,-7.358503341674805,-12.047897338867188,-2.858250856399536,3.1503076553344727,-6.4642462730407715,-3.135162830352783,-6.039517402648926,-15.396135330200195,-17.023691177368164,13.987789154052734,4.286323070526123,-9.00668716430664,2.335409164428711,-13.122513771057129,-20.783031463623047,5.319622993469238,-3.561262845993042,-2.993032455444336,-11.070777893066406,26.02312660217285,-3.8346805572509766,-5.769059181213379,-16.84848976135254,-14.279888153076172,-4.521721363067627,-16.999292373657227,10.874269485473633,-11.795367240905762,-1.4360380172729492,-4.3150153160095215,-22.026979446411133,-8.808486938476562,21.83674430847168,1.4025709629058838,5.908514499664307,-27.09880256652832,-1.1645984649658203,2.5528011322021484,-12.76208209991455,-6.94624662399292,-11.687594413757324,-11.398544311523438,-3.140812873840332,-17.17955780029297,-1.6124932765960693,-3.1991007328033447,-27.06406021118164,13.392130851745605,-23.122861862182617,-27.76848030090332,-3.405627489089966,-0.9003065824508667,-16.654882431030273,11.983532905578613,1.638806700706482,26.529664993286133,-19.148828506469727,-5.15989875793457,-7.312467098236084,5.614696979522705,-6.505205154418945,-13.922080039978027,-4.144787788391113,3.1330883502960205,-2.559147834777832,-6.867908954620361,-1.6931813955307007,-5.874237537384033,3.808504581451416,-25.10832977294922,19.609905242919922,0.8834080696105957,-4.624855995178223,5.206964015960693,-14.344490051269531,-13.301286697387695,2.280106782913208,-15.437958717346191,-3.888737201690674,-6.647684097290039,17.98224639892578,-17.629661560058594,-8.891736030578613,-8.970500946044922,-4.173978805541992,1.4421998262405396,-2.9374523162841797,-0.11911312490701675,13.754339218139648,0.31132566928863525,-10.372395515441895,-12.400742530822754,-19.6959171295166,13.669550895690918,16.72419548034668,9.862068176269531,-14.498397827148438,22.48259735107422,-2.476621627807617,-4.883248329162598,-4.902261257171631,22.865488052368164,2.5908541679382324,-3.3232815265655518],\"y\":[-3.632052183151245,7.372335433959961,3.2193853855133057,7.64170503616333,11.927118301391602,15.362703323364258,19.299531936645508,19.65605354309082,10.379312515258789,6.192935466766357,0.06669987738132477,4.77353572845459,19.109603881835938,-0.9845654368400574,2.546083927154541,-5.2391839027404785,3.600585699081421,9.974089622497559,-1.5627076625823975,15.956208229064941,-7.751645088195801,0.06483455002307892,11.169642448425293,12.433063507080078,1.5266034603118896,20.55259132385254,6.783509254455566,2.8913776874542236,19.780109405517578,14.747669219970703,-6.160586833953857,16.05672836303711,9.671477317810059,11.088776588439941,1.6783274412155151,11.200469017028809,9.47530746459961,15.667962074279785,-5.879815101623535,-14.694051742553711,11.495574951171875,-15.686856269836426,9.03661823272705,-4.10188102722168,-5.229211330413818,15.041926383972168,-5.072945594787598,-16.25365447998047,-18.38273811340332,12.341477394104004,6.127330303192139,-7.431347846984863,-2.2233684062957764,-7.625006198883057,-8.831952095031738,5.638956069946289,6.722024440765381,12.768266677856445,16.217660903930664,-1.6625241041183472,-3.8466684818267822,15.725748062133789,1.9896446466445923,4.173801422119141,-9.190753936767578,-14.02462100982666,3.3816819190979004,-12.603598594665527,-7.7967753410339355,17.5938663482666,2.2856996059417725,14.262494087219238,-11.629263877868652,-6.650417327880859,-19.68080711364746,-11.977530479431152,2.9143176078796387,2.0172507762908936,19.306346893310547,-1.433406949043274,-10.785337448120117,2.83909273147583,-7.3107686042785645,10.004386901855469,-6.722958087921143,-9.2992582321167,-9.175108909606934,-1.9525121450424194,6.982563495635986,-9.877971649169922,15.60053539276123,0.4132184386253357,7.176153659820557,9.609183311462402,0.6690433025360107,6.916813850402832,13.05860424041748,-2.0330379009246826,15.526668548583984,5.074618816375732,9.958166122436523,-20.014902114868164,15.821370124816895,21.45931625366211,16.170618057250977,0.06322545558214188,-20.014102935791016,4.978088855743408,-9.542189598083496,-1.2343783378601074,16.64998435974121,-2.4753682613372803,14.863057136535645,-15.548991203308105,13.456737518310547,6.412546157836914,6.107433795928955,5.33865213394165,-1.6558789014816284,5.91069221496582,-17.05720329284668,-18.976991653442383,12.681540489196777,8.957368850708008,1.0602425336837769,-17.093664169311523,5.72233772277832,1.4633023738861084,-0.21757911145687103,7.094798564910889,15.377549171447754,-15.719771385192871,8.333793640136719,15.048688888549805,-8.021340370178223,-0.9633547067642212,13.381779670715332,-6.207468032836914,8.38193416595459,4.510295391082764,14.058931350708008,-7.287112236022949,2.8661253452301025,2.4813482761383057,5.271321773529053,0.13409306108951569,13.02331256866455,9.871047019958496,-14.898670196533203,18.395858764648438,7.956980228424072,1.6540130376815796,17.888084411621094,2.3181300163269043,4.922577381134033,4.739023685455322,0.933280885219574,11.388199806213379,-0.393863320350647,0.636100709438324,9.849454879760742,7.087001323699951,15.92289924621582,6.091673374176025,2.4031667709350586,16.398534774780273,-11.176156044006348,16.557193756103516,-12.722949981689453,0.8170186281204224,6.8645830154418945,-7.6429314613342285,11.943021774291992,-1.6371809244155884,19.55782127380371,14.587791442871094,0.7002238631248474,7.774146556854248,19.297786712646484,6.36460542678833,16.85836410522461,12.162538528442383,-8.934577941894531,11.883944511413574,-19.641386032104492,18.4371337890625,-10.002836227416992,12.940363883972168,-9.960630416870117,1.5130692720413208,-0.7602243423461914,-13.499993324279785,11.132715225219727,-14.285697937011719,-7.936843395233154,-0.1197056770324707,0.14405392110347748,-0.4781844913959503,0.192178875207901,-9.34212589263916,-4.315779209136963,-11.012450218200684,14.929014205932617,14.557631492614746,-4.306121826171875,-4.773917198181152,0.7313185334205627,-11.8253173828125,-8.04594612121582,12.495816230773926,16.281421661376953,8.74111557006836,16.885589599609375,5.14186954498291,-6.823673725128174,-5.186461925506592,10.146406173706055,-19.384145736694336,-4.996118545532227,-0.7422860860824585,7.461513042449951,20.6848201751709,-8.560243606567383,7.756223201751709,3.210629463195801,13.820807456970215,-10.98447036743164,-7.300881862640381,-6.928145885467529,-10.039190292358398,-17.75946044921875,15.451836585998535,4.8465352058410645,-11.891121864318848,-12.886082649230957,3.9724299907684326,10.740676879882812,-8.014798164367676,-19.978578567504883,9.054898262023926,-6.543691635131836,6.660271167755127,7.448968887329102,5.9413371086120605,-3.1248395442962646,-1.9209407567977905,-11.544624328613281,-2.419255256652832,18.771568298339844,-4.585338115692139,3.4586780071258545,5.433267593383789,9.67699909210205,20.95783233642578,-19.074100494384766,-19.947040557861328,-13.338069915771484,-6.485933303833008,-4.348998546600342,2.273451805114746,-1.6515816450119019,8.784313201904297,-0.5044645071029663,-20.1507625579834,-1.6266788244247437,6.541261672973633,9.260904312133789,0.4120170474052429,0.5844137072563171,10.07715129852295,15.749125480651855,7.681976795196533,-5.276317596435547,2.3266208171844482,2.0298850536346436,-7.9587483406066895,-11.726265907287598,0.9663240909576416,-6.429850101470947,1.0594478845596313,6.7518510818481445,3.5950820446014404,17.515640258789062,-19.86587905883789,18.976594924926758,13.735616683959961,-10.66613483428955,21.688278198242188,10.991056442260742,-3.9214119911193848,-11.032842636108398,5.924033164978027,-1.3143043518066406,-12.866573333740234,7.474532127380371,-1.2915514707565308,15.438695907592773,-15.005668640136719,15.541125297546387,4.3354902267456055,18.42204475402832,-8.74563217163086,-0.04562217742204666,7.344514846801758,10.29697322845459,-19.642047882080078,-9.08669662475586,-8.701786041259766,-18.22913932800293,21.03985595703125,10.492018699645996,-8.598052978515625,2.348461866378784,1.8474113941192627,6.768749713897705,3.6884396076202393,15.94024658203125,7.025930404663086,-8.889816284179688,4.305784702301025,-0.5704404711723328,-6.630055904388428,-0.183656245470047,-18.53891372680664,2.781837224960327,9.669413566589355,-19.733684539794922,5.651230812072754,-13.376994132995605,-9.119651794433594,-6.442391395568848,-6.762191295623779,-8.628999710083008,-10.354719161987305,13.070584297180176,20.894319534301758,12.911710739135742,-8.956755638122559,13.23603343963623,-12.71375846862793,18.429370880126953,10.918657302856445,14.702481269836426,20.729717254638672,-8.55968189239502,19.378646850585938,5.796491622924805,-10.601491928100586,19.07392692565918,1.0471292734146118,12.15015983581543,-6.8354339599609375,15.878129959106445,11.278375625610352,-4.091287136077881,7.560894966125488,13.176470756530762,-11.893217086791992,6.739781856536865,-0.9606497883796692,17.020174026489258,-19.192232131958008,-11.132530212402344,6.026226997375488,1.1303850412368774,3.819530487060547,13.054804801940918,11.80986213684082,3.0439419746398926,7.718690395355225,14.353325843811035,-3.278101921081543,-9.174500465393066,11.93730354309082,18.628799438476562,-17.168363571166992],\"z\":[-16.68408966064453,1.559888243675232,2.5258848667144775,-11.364405632019043,-7.9929962158203125,-11.096733093261719,-9.452945709228516,-13.447361946105957,-5.5655517578125,-20.78466796875,-26.87919807434082,-21.80436897277832,-13.365031242370605,-26.555362701416016,-23.69797706604004,1.2153325080871582,-6.513380527496338,-1.3383938074111938,-6.686291217803955,-3.9427690505981445,7.890987873077393,-26.89776611328125,-5.5173258781433105,-16.53398323059082,-23.704811096191406,-14.97967529296875,0.5005449056625366,-19.908994674682617,-9.992637634277344,-15.384413719177246,-18.43130111694336,-9.336993217468262,-0.5334299206733704,9.823455810546875,-1.676942229270935,-5.664189338684082,-8.845341682434082,-5.083242416381836,6.0086445808410645,10.212553977966309,10.149165153503418,-7.764122009277344,-12.972394943237305,-24.393468856811523,-0.41721901297569275,-1.9409607648849487,-8.080514907836914,-8.17440414428711,14.266935348510742,-15.12309741973877,3.8531155586242676,4.594954967498779,2.581127643585205,-3.2947933673858643,-2.681495428085327,-5.984847068786621,-2.950596332550049,-1.3493998050689697,-9.703865051269531,-1.3192319869995117,-16.82088279724121,-4.474645137786865,2.3157620429992676,-1.8916391134262085,-16.318172454833984,-5.6683783531188965,-14.306137084960938,-0.261474072933197,-14.968097686767578,-7.737384796142578,-1.7494641542434692,-8.670455932617188,1.4771946668624878,-18.06442642211914,-10.806096076965332,1.6051194667816162,-13.726582527160645,-22.868759155273438,-9.419442176818848,1.6690741777420044,-16.683414459228516,-23.472434997558594,3.81178879737854,-0.026982367038726807,-0.2294227033853531,-3.681588888168335,-15.432391166687012,3.197814702987671,3.0970802307128906,0.5464631915092468,-1.2399343252182007,-8.911364555358887,7.44914436340332,-14.978245735168457,-25.76638412475586,2.5473792552948,-11.545007705688477,-0.6824288964271545,-5.172121047973633,2.8127377033233643,-15.55502986907959,8.032814979553223,-1.4553996324539185,0.61421138048172,-2.7435591220855713,-26.890661239624023,8.031035423278809,-15.064180374145508,-0.9353317618370056,1.7108945846557617,-13.335687637329102,2.247844934463501,-4.16976261138916,-7.665060997009277,-3.668807029724121,-20.055774688720703,0.2575325071811676,7.721950054168701,-13.529609680175781,-0.39257577061653137,8.794832229614258,-10.119038581848145,-0.45743483304977417,-20.881906509399414,-11.677057266235352,12.79355525970459,-14.519587516784668,-24.637426376342773,-6.423406600952148,-11.46058177947998,-11.22331714630127,9.812376022338867,-21.923341751098633,-15.148941993713379,-0.5705849528312683,-15.696358680725098,0.7888867259025574,1.349135398864746,-21.008333206176758,-22.037010192871094,-20.216960906982422,3.5007264614105225,-13.134178161621094,-22.062171936035156,7.729160785675049,-26.77079200744629,-0.16832706332206726,-20.67106819152832,10.486725807189941,-4.440654754638672,-5.836909770965576,-11.800015449523926,-13.357709884643555,-22.342185974121094,-19.591064453125,-14.918591499328613,-25.0605411529541,-16.747591018676758,-16.73394203186035,-9.316605567932129,-8.771212577819824,2.3189430236816406,-8.537335395812988,2.9653139114379883,2.3877270221710205,-1.1464563608169556,-17.171066284179688,-13.545524597167969,-0.1529654711484909,-11.619906425476074,-20.223831176757812,8.10911750793457,-14.842394828796387,-18.640628814697266,0.14267468452453613,-0.7658825516700745,-25.725515365600586,-11.352850914001465,-9.441123962402344,3.6333422660827637,-11.893784523010254,10.521771430969238,-12.367451667785645,-14.501551628112793,-10.928945541381836,-3.355445384979248,-2.9011619091033936,-7.903539657592773,-16.005897521972656,-23.729328155517578,-6.621316432952881,-5.594757556915283,-3.0380513668060303,10.568199157714844,-0.7821321487426758,-14.820258140563965,1.9818546772003174,-14.93765926361084,-14.717217445373535,-15.589836120605469,2.886255979537964,-1.499367117881775,-4.193667888641357,-8.672260284423828,-7.639037609100342,-23.09391212463379,-9.496061325073242,-4.976803302764893,-15.056836128234863,-15.199657440185547,-10.001291275024414,-0.11816097050905228,-12.595946311950684,-2.089714527130127,-3.6615993976593018,-22.245655059814453,-14.258353233337402,-10.57036304473877,5.316900253295898,-15.634784698486328,7.432135581970215,-14.201245307922363,-0.8925681710243225,-13.451620101928711,-14.374873161315918,-8.618179321289062,1.18718683719635,7.321288585662842,1.6239092350006104,-2.4311795234680176,12.887776374816895,-8.481091499328613,-13.562273979187012,3.300950288772583,-5.426938533782959,2.6535909175872803,-8.539505004882812,-10.461578369140625,-11.963053703308105,-5.6034674644470215,-9.119135856628418,-20.401227951049805,-3.2056150436401367,-14.417840957641602,-16.368804931640625,-1.0942820310592651,-4.825618743896484,-1.8726719617843628,-13.534327507019043,-7.771482944488525,-6.535299301147461,2.8671371936798096,-3.281750202178955,1.2370936870574951,10.974711418151855,-11.847015380859375,0.5028548240661621,-18.179241180419922,-23.934629440307617,-23.961183547973633,-18.652341842651367,-13.216156005859375,-7.199301242828369,7.334692001342773,-13.891145706176758,0.2167930155992508,-0.41363751888275146,2.0329408645629883,-25.91767692565918,9.116827011108398,-8.384726524353027,1.1337326765060425,-0.4034101665019989,3.464125394821167,-24.178699493408203,-0.781891405582428,10.96285343170166,-6.4389328956604,1.270357370376587,-16.980566024780273,-13.460817337036133,-19.933231353759766,-7.630847454071045,-11.59042739868164,-0.8355424404144287,-3.762986898422241,-4.39349889755249,0.3112090528011322,-20.496633529663086,-24.732088088989258,-16.996700286865234,-0.3690541088581085,-6.623631477355957,10.768790245056152,-13.48209285736084,-15.154951095581055,-11.19364070892334,-7.274593353271484,-14.724034309387207,2.4368159770965576,-13.46304988861084,-16.39401626586914,-8.064291000366211,2.6937880516052246,-0.11449703574180603,9.297998428344727,-2.244497060775757,-0.7492814660072327,12.635607719421387,2.291680335998535,-2.4131317138671875,-11.666128158569336,3.340977191925049,3.4193575382232666,-5.541227340698242,-13.797672271728516,-1.3262745141983032,-5.223010540008545,-0.7823349833488464,-19.792287826538086,-7.045078754425049,-0.22164283692836761,-6.466968536376953,13.02587890625,-15.310282707214355,-15.086572647094727,9.02824592590332,-0.6310310363769531,-5.974245071411133,-15.506149291992188,6.554351329803467,-3.5621252059936523,8.42070484161377,-16.28956413269043,-20.281206130981445,1.4226518869400024,-7.891554355621338,-12.44550895690918,-8.224263191223145,10.807279586791992,-3.6388490200042725,-8.390469551086426,-0.7873490452766418,-14.479119300842285,-0.8915985226631165,-9.508389472961426,-2.3876636028289795,-16.490707397460938,-0.6092664003372192,-16.925771713256836,-20.369916915893555,-9.37074089050293,-6.418391704559326,-14.67135238647461,2.777148723602295,2.4795899391174316,-20.269330978393555,3.2952723503112793,-20.180906295776367,-26.556222915649414,-12.353060722351074,10.560569763183594,-17.115694046020508,0.3802206218242645,-10.237833023071289,-19.97953987121582,-11.553284645080566,-16.667255401611328,-1.8354990482330322,7.610284805297852,-2.410578966140747,-7.171285629272461,-16.118833541870117,10.359363555908203,-1.7215790748596191,8.75597095489502],\"type\":\"scatter3d\"}],                        {\"margin\":{\"b\":0,\"l\":0,\"r\":0,\"t\":0},\"showlegend\":true,\"template\":{\"data\":{\"barpolar\":[{\"marker\":{\"line\":{\"color\":\"#E5ECF6\",\"width\":0.5},\"pattern\":{\"fillmode\":\"overlay\",\"size\":10,\"solidity\":0.2}},\"type\":\"barpolar\"}],\"bar\":[{\"error_x\":{\"color\":\"#2a3f5f\"},\"error_y\":{\"color\":\"#2a3f5f\"},\"marker\":{\"line\":{\"color\":\"#E5ECF6\",\"width\":0.5},\"pattern\":{\"fillmode\":\"overlay\",\"size\":10,\"solidity\":0.2}},\"type\":\"bar\"}],\"carpet\":[{\"aaxis\":{\"endlinecolor\":\"#2a3f5f\",\"gridcolor\":\"white\",\"linecolor\":\"white\",\"minorgridcolor\":\"white\",\"startlinecolor\":\"#2a3f5f\"},\"baxis\":{\"endlinecolor\":\"#2a3f5f\",\"gridcolor\":\"white\",\"linecolor\":\"white\",\"minorgridcolor\":\"white\",\"startlinecolor\":\"#2a3f5f\"},\"type\":\"carpet\"}],\"choropleth\":[{\"colorbar\":{\"outlinewidth\":0,\"ticks\":\"\"},\"type\":\"choropleth\"}],\"contourcarpet\":[{\"colorbar\":{\"outlinewidth\":0,\"ticks\":\"\"},\"type\":\"contourcarpet\"}],\"contour\":[{\"colorbar\":{\"outlinewidth\":0,\"ticks\":\"\"},\"colorscale\":[[0.0,\"#0d0887\"],[0.1111111111111111,\"#46039f\"],[0.2222222222222222,\"#7201a8\"],[0.3333333333333333,\"#9c179e\"],[0.4444444444444444,\"#bd3786\"],[0.5555555555555556,\"#d8576b\"],[0.6666666666666666,\"#ed7953\"],[0.7777777777777778,\"#fb9f3a\"],[0.8888888888888888,\"#fdca26\"],[1.0,\"#f0f921\"]],\"type\":\"contour\"}],\"heatmapgl\":[{\"colorbar\":{\"outlinewidth\":0,\"ticks\":\"\"},\"colorscale\":[[0.0,\"#0d0887\"],[0.1111111111111111,\"#46039f\"],[0.2222222222222222,\"#7201a8\"],[0.3333333333333333,\"#9c179e\"],[0.4444444444444444,\"#bd3786\"],[0.5555555555555556,\"#d8576b\"],[0.6666666666666666,\"#ed7953\"],[0.7777777777777778,\"#fb9f3a\"],[0.8888888888888888,\"#fdca26\"],[1.0,\"#f0f921\"]],\"type\":\"heatmapgl\"}],\"heatmap\":[{\"colorbar\":{\"outlinewidth\":0,\"ticks\":\"\"},\"colorscale\":[[0.0,\"#0d0887\"],[0.1111111111111111,\"#46039f\"],[0.2222222222222222,\"#7201a8\"],[0.3333333333333333,\"#9c179e\"],[0.4444444444444444,\"#bd3786\"],[0.5555555555555556,\"#d8576b\"],[0.6666666666666666,\"#ed7953\"],[0.7777777777777778,\"#fb9f3a\"],[0.8888888888888888,\"#fdca26\"],[1.0,\"#f0f921\"]],\"type\":\"heatmap\"}],\"histogram2dcontour\":[{\"colorbar\":{\"outlinewidth\":0,\"ticks\":\"\"},\"colorscale\":[[0.0,\"#0d0887\"],[0.1111111111111111,\"#46039f\"],[0.2222222222222222,\"#7201a8\"],[0.3333333333333333,\"#9c179e\"],[0.4444444444444444,\"#bd3786\"],[0.5555555555555556,\"#d8576b\"],[0.6666666666666666,\"#ed7953\"],[0.7777777777777778,\"#fb9f3a\"],[0.8888888888888888,\"#fdca26\"],[1.0,\"#f0f921\"]],\"type\":\"histogram2dcontour\"}],\"histogram2d\":[{\"colorbar\":{\"outlinewidth\":0,\"ticks\":\"\"},\"colorscale\":[[0.0,\"#0d0887\"],[0.1111111111111111,\"#46039f\"],[0.2222222222222222,\"#7201a8\"],[0.3333333333333333,\"#9c179e\"],[0.4444444444444444,\"#bd3786\"],[0.5555555555555556,\"#d8576b\"],[0.6666666666666666,\"#ed7953\"],[0.7777777777777778,\"#fb9f3a\"],[0.8888888888888888,\"#fdca26\"],[1.0,\"#f0f921\"]],\"type\":\"histogram2d\"}],\"histogram\":[{\"marker\":{\"pattern\":{\"fillmode\":\"overlay\",\"size\":10,\"solidity\":0.2}},\"type\":\"histogram\"}],\"mesh3d\":[{\"colorbar\":{\"outlinewidth\":0,\"ticks\":\"\"},\"type\":\"mesh3d\"}],\"parcoords\":[{\"line\":{\"colorbar\":{\"outlinewidth\":0,\"ticks\":\"\"}},\"type\":\"parcoords\"}],\"pie\":[{\"automargin\":true,\"type\":\"pie\"}],\"scatter3d\":[{\"line\":{\"colorbar\":{\"outlinewidth\":0,\"ticks\":\"\"}},\"marker\":{\"colorbar\":{\"outlinewidth\":0,\"ticks\":\"\"}},\"type\":\"scatter3d\"}],\"scattercarpet\":[{\"marker\":{\"colorbar\":{\"outlinewidth\":0,\"ticks\":\"\"}},\"type\":\"scattercarpet\"}],\"scattergeo\":[{\"marker\":{\"colorbar\":{\"outlinewidth\":0,\"ticks\":\"\"}},\"type\":\"scattergeo\"}],\"scattergl\":[{\"marker\":{\"colorbar\":{\"outlinewidth\":0,\"ticks\":\"\"}},\"type\":\"scattergl\"}],\"scattermapbox\":[{\"marker\":{\"colorbar\":{\"outlinewidth\":0,\"ticks\":\"\"}},\"type\":\"scattermapbox\"}],\"scatterpolargl\":[{\"marker\":{\"colorbar\":{\"outlinewidth\":0,\"ticks\":\"\"}},\"type\":\"scatterpolargl\"}],\"scatterpolar\":[{\"marker\":{\"colorbar\":{\"outlinewidth\":0,\"ticks\":\"\"}},\"type\":\"scatterpolar\"}],\"scatter\":[{\"fillpattern\":{\"fillmode\":\"overlay\",\"size\":10,\"solidity\":0.2},\"type\":\"scatter\"}],\"scatterternary\":[{\"marker\":{\"colorbar\":{\"outlinewidth\":0,\"ticks\":\"\"}},\"type\":\"scatterternary\"}],\"surface\":[{\"colorbar\":{\"outlinewidth\":0,\"ticks\":\"\"},\"colorscale\":[[0.0,\"#0d0887\"],[0.1111111111111111,\"#46039f\"],[0.2222222222222222,\"#7201a8\"],[0.3333333333333333,\"#9c179e\"],[0.4444444444444444,\"#bd3786\"],[0.5555555555555556,\"#d8576b\"],[0.6666666666666666,\"#ed7953\"],[0.7777777777777778,\"#fb9f3a\"],[0.8888888888888888,\"#fdca26\"],[1.0,\"#f0f921\"]],\"type\":\"surface\"}],\"table\":[{\"cells\":{\"fill\":{\"color\":\"#EBF0F8\"},\"line\":{\"color\":\"white\"}},\"header\":{\"fill\":{\"color\":\"#C8D4E3\"},\"line\":{\"color\":\"white\"}},\"type\":\"table\"}]},\"layout\":{\"annotationdefaults\":{\"arrowcolor\":\"#2a3f5f\",\"arrowhead\":0,\"arrowwidth\":1},\"autotypenumbers\":\"strict\",\"coloraxis\":{\"colorbar\":{\"outlinewidth\":0,\"ticks\":\"\"}},\"colorscale\":{\"diverging\":[[0,\"#8e0152\"],[0.1,\"#c51b7d\"],[0.2,\"#de77ae\"],[0.3,\"#f1b6da\"],[0.4,\"#fde0ef\"],[0.5,\"#f7f7f7\"],[0.6,\"#e6f5d0\"],[0.7,\"#b8e186\"],[0.8,\"#7fbc41\"],[0.9,\"#4d9221\"],[1,\"#276419\"]],\"sequential\":[[0.0,\"#0d0887\"],[0.1111111111111111,\"#46039f\"],[0.2222222222222222,\"#7201a8\"],[0.3333333333333333,\"#9c179e\"],[0.4444444444444444,\"#bd3786\"],[0.5555555555555556,\"#d8576b\"],[0.6666666666666666,\"#ed7953\"],[0.7777777777777778,\"#fb9f3a\"],[0.8888888888888888,\"#fdca26\"],[1.0,\"#f0f921\"]],\"sequentialminus\":[[0.0,\"#0d0887\"],[0.1111111111111111,\"#46039f\"],[0.2222222222222222,\"#7201a8\"],[0.3333333333333333,\"#9c179e\"],[0.4444444444444444,\"#bd3786\"],[0.5555555555555556,\"#d8576b\"],[0.6666666666666666,\"#ed7953\"],[0.7777777777777778,\"#fb9f3a\"],[0.8888888888888888,\"#fdca26\"],[1.0,\"#f0f921\"]]},\"colorway\":[\"#636efa\",\"#EF553B\",\"#00cc96\",\"#ab63fa\",\"#FFA15A\",\"#19d3f3\",\"#FF6692\",\"#B6E880\",\"#FF97FF\",\"#FECB52\"],\"font\":{\"color\":\"#2a3f5f\"},\"geo\":{\"bgcolor\":\"white\",\"lakecolor\":\"white\",\"landcolor\":\"#E5ECF6\",\"showlakes\":true,\"showland\":true,\"subunitcolor\":\"white\"},\"hoverlabel\":{\"align\":\"left\"},\"hovermode\":\"closest\",\"mapbox\":{\"style\":\"light\"},\"paper_bgcolor\":\"white\",\"plot_bgcolor\":\"#E5ECF6\",\"polar\":{\"angularaxis\":{\"gridcolor\":\"white\",\"linecolor\":\"white\",\"ticks\":\"\"},\"bgcolor\":\"#E5ECF6\",\"radialaxis\":{\"gridcolor\":\"white\",\"linecolor\":\"white\",\"ticks\":\"\"}},\"scene\":{\"xaxis\":{\"backgroundcolor\":\"#E5ECF6\",\"gridcolor\":\"white\",\"gridwidth\":2,\"linecolor\":\"white\",\"showbackground\":true,\"ticks\":\"\",\"zerolinecolor\":\"white\"},\"yaxis\":{\"backgroundcolor\":\"#E5ECF6\",\"gridcolor\":\"white\",\"gridwidth\":2,\"linecolor\":\"white\",\"showbackground\":true,\"ticks\":\"\",\"zerolinecolor\":\"white\"},\"zaxis\":{\"backgroundcolor\":\"#E5ECF6\",\"gridcolor\":\"white\",\"gridwidth\":2,\"linecolor\":\"white\",\"showbackground\":true,\"ticks\":\"\",\"zerolinecolor\":\"white\"}},\"shapedefaults\":{\"line\":{\"color\":\"#2a3f5f\"}},\"ternary\":{\"aaxis\":{\"gridcolor\":\"white\",\"linecolor\":\"white\",\"ticks\":\"\"},\"baxis\":{\"gridcolor\":\"white\",\"linecolor\":\"white\",\"ticks\":\"\"},\"bgcolor\":\"#E5ECF6\",\"caxis\":{\"gridcolor\":\"white\",\"linecolor\":\"white\",\"ticks\":\"\"}},\"title\":{\"x\":0.05},\"xaxis\":{\"automargin\":true,\"gridcolor\":\"white\",\"linecolor\":\"white\",\"ticks\":\"\",\"title\":{\"standoff\":15},\"zerolinecolor\":\"white\",\"zerolinewidth\":2},\"yaxis\":{\"automargin\":true,\"gridcolor\":\"white\",\"linecolor\":\"white\",\"ticks\":\"\",\"title\":{\"standoff\":15},\"zerolinecolor\":\"white\",\"zerolinewidth\":2}}}},                        {\"responsive\": true}                    ).then(function(){\n",
       "                            \n",
       "var gd = document.getElementById('27b260b3-1590-4df2-9845-e5a183b86672');\n",
       "var x = new MutationObserver(function (mutations, observer) {{\n",
       "        var display = window.getComputedStyle(gd).display;\n",
       "        if (!display || display === 'none') {{\n",
       "            console.log([gd, 'removed!']);\n",
       "            Plotly.purge(gd);\n",
       "            observer.disconnect();\n",
       "        }}\n",
       "}});\n",
       "\n",
       "// Listen for the removal of the full notebook cells\n",
       "var notebookContainer = gd.closest('#notebook-container');\n",
       "if (notebookContainer) {{\n",
       "    x.observe(notebookContainer, {childList: true});\n",
       "}}\n",
       "\n",
       "// Listen for the clearing of the current output cell\n",
       "var outputEl = gd.closest('.output');\n",
       "if (outputEl) {{\n",
       "    x.observe(outputEl, {childList: true});\n",
       "}}\n",
       "\n",
       "                        })                };                });            </script>        </div>"
      ]
     },
     "metadata": {},
     "output_type": "display_data"
    }
   ],
   "source": [
    "vis_3d_tsne_interactive(\n",
    "    dataset = 'toy', \n",
    "    mode = 'acc',\n",
    "    outlier = 1,\n",
    "    vis_group = true_group,\n",
    "    vis_representation = 'grad',\n",
    "    y = 0\n",
    ")"
   ]
  },
  {
   "cell_type": "code",
   "execution_count": 92,
   "id": "323b69b2",
   "metadata": {},
   "outputs": [
    {
     "name": "stdout",
     "output_type": "stream",
     "text": [
      "Loading the TSNE results...\n"
     ]
    },
    {
     "data": {
      "application/vnd.plotly.v1+json": {
       "config": {
        "linkText": "Export to plot.ly",
        "plotlyServerURL": "https://plot.ly",
        "showLink": false
       },
       "data": [
        {
         "marker": {
          "color": [
           0,
           0,
           0,
           0,
           0,
           0,
           0,
           0,
           0,
           0,
           0,
           0,
           0,
           0,
           0,
           1,
           0,
           1,
           0,
           0,
           1,
           0,
           0,
           0,
           0,
           0,
           0,
           0,
           0,
           0,
           0,
           0,
           1,
           0,
           1,
           0,
           0,
           0,
           1,
           1,
           0,
           2,
           2,
           0,
           1,
           0,
           0,
           2,
           0,
           0,
           1,
           1,
           1,
           1,
           1,
           0,
           1,
           0,
           0,
           2,
           0,
           1,
           0,
           1,
           0,
           0,
           0,
           0,
           0,
           0,
           1,
           0,
           0,
           0,
           0,
           0,
           0,
           0,
           0,
           0,
           0,
           0,
           1,
           0,
           0,
           1,
           0,
           1,
           1,
           1,
           0,
           0,
           0,
           0,
           0,
           0,
           0,
           1,
           0,
           0,
           0,
           0,
           0,
           0,
           0,
           0,
           0,
           0,
           0,
           0,
           0,
           1,
           1,
           0,
           1,
           0,
           1,
           0,
           0,
           0,
           1,
           0,
           0,
           0,
           0,
           0,
           0,
           0,
           0,
           0,
           0,
           1,
           0,
           0,
           0,
           0,
           0,
           1,
           0,
           0,
           0,
           1,
           0,
           0,
           0,
           0,
           0,
           0,
           1,
           0,
           0,
           0,
           0,
           0,
           0,
           0,
           0,
           0,
           0,
           0,
           0,
           0,
           0,
           0,
           0,
           0,
           0,
           0,
           0,
           0,
           0,
           1,
           0,
           0,
           0,
           0,
           0,
           0,
           0,
           1,
           0,
           0,
           0,
           0,
           0,
           0,
           1,
           0,
           0,
           0,
           0,
           0,
           1,
           1,
           0,
           0,
           0,
           0,
           0,
           0,
           1,
           1,
           1,
           0,
           0,
           0,
           0,
           0,
           0,
           0,
           0,
           1,
           0,
           1,
           0,
           0,
           0,
           0,
           1,
           0,
           0,
           0,
           2,
           0,
           0,
           0,
           0,
           1,
           1,
           1,
           0,
           0,
           0,
           0,
           0,
           1,
           0,
           0,
           0,
           0,
           0,
           0,
           2,
           0,
           0,
           1,
           0,
           0,
           0,
           0,
           0,
           0,
           2,
           0,
           0,
           0,
           0,
           0,
           0,
           0,
           0,
           0,
           0,
           0,
           0,
           0,
           1,
           0,
           0,
           0,
           0,
           0,
           1,
           1,
           0,
           0,
           1,
           0,
           1,
           0,
           0,
           0,
           0,
           0,
           0,
           1,
           0,
           0,
           0,
           0,
           0,
           0,
           0,
           1,
           0,
           0,
           0,
           1,
           0,
           1,
           0,
           0,
           0,
           1,
           0,
           0,
           1,
           0,
           0,
           0,
           1,
           0,
           1,
           1,
           0,
           0,
           0,
           0,
           0,
           0,
           0,
           0,
           0,
           0,
           0,
           0,
           0,
           0,
           0,
           0,
           1,
           1,
           1,
           0,
           0,
           0,
           0,
           0,
           0,
           1,
           0,
           0,
           0,
           0,
           0,
           0,
           1,
           0,
           0,
           0,
           0,
           1,
           0,
           0,
           1,
           1,
           0,
           0,
           0,
           0,
           0,
           0,
           0,
           1,
           0,
           0,
           0,
           0,
           1,
           0,
           0,
           0,
           0,
           0,
           0,
           1
          ],
          "opacity": 0.8,
          "size": 4
         },
         "mode": "markers",
         "type": "scatter3d",
         "x": [
          0.6279452443122864,
          25.105731964111328,
          -7.032637119293213,
          2.724764585494995,
          5.365467071533203,
          13.786245346069336,
          19.057415008544922,
          17.10414695739746,
          2.2245545387268066,
          19.035215377807617,
          -1.1979198455810547,
          13.530614852905273,
          16.91602325439453,
          11.709050178527832,
          12.186380386352539,
          -12.718926429748535,
          -14.17009449005127,
          -15.806366920471191,
          -5.889192581176758,
          25.818248748779297,
          11.550444602966309,
          -2.1559929847717285,
          2.196458578109741,
          20.72146987915039,
          -3.70700740814209,
          16.660634994506836,
          22.476308822631836,
          -6.761328220367432,
          18.096202850341797,
          21.18550682067871,
          0.3015913963317871,
          23.978961944580078,
          -15.764945983886719,
          -0.2399870753288269,
          -13.555316925048828,
          -1.7956907749176025,
          -5.352675437927246,
          28.55059814453125,
          2.2110328674316406,
          7.602131366729736,
          2.412111520767212,
          11.072092056274414,
          -8.711392402648926,
          9.194113731384277,
          -14.32051944732666,
          -1.1984039545059204,
          -13.286786079406738,
          18.290456771850586,
          -19.848289489746094,
          4.303724765777588,
          11.822705268859863,
          11.085529327392578,
          -12.928274154663086,
          -1.3909523487091064,
          7.176258087158203,
          -6.406453609466553,
          -18.881664276123047,
          27.979724884033203,
          24.312732696533203,
          -17.000507354736328,
          0.35955512523651123,
          9.89543342590332,
          -6.180975437164307,
          -13.846250534057617,
          -0.14973802864551544,
          -10.030538558959961,
          -0.2571733295917511,
          1.06917142868042,
          6.744729518890381,
          15.991333961486816,
          -13.14358139038086,
          16.425039291381836,
          0.4799288511276245,
          5.700355052947998,
          -19.46102523803711,
          -21.10079002380371,
          3.2514548301696777,
          -3.9565627574920654,
          20.079471588134766,
          -5.308778285980225,
          -0.21033822000026703,
          12.137462615966797,
          10.878568649291992,
          25.68045997619629,
          -5.439057350158691,
          7.011425495147705,
          -0.5682938098907471,
          10.028136253356934,
          16.324148178100586,
          9.28657341003418,
          26.152868270874023,
          -1.5679776668548584,
          24.57100486755371,
          23.444133758544922,
          12.237289428710938,
          -1.0208319425582886,
          22.925418853759766,
          -20.424762725830078,
          28.55490493774414,
          -6.962760925292969,
          23.481975555419922,
          1.2630188465118408,
          1.7050021886825562,
          -1.4099615812301636,
          25.617246627807617,
          -1.6471360921859741,
          1.5676032304763794,
          1.1343474388122559,
          -19.945505142211914,
          -9.893683433532715,
          22.75691032409668,
          -12.765377044677734,
          9.820232391357422,
          11.383723258972168,
          9.358078002929688,
          -1.9208271503448486,
          -14.361093521118164,
          21.911508560180664,
          5.785252094268799,
          25.27823829650879,
          14.720118522644043,
          -12.761945724487305,
          27.05173110961914,
          12.258152961730957,
          5.968554973602295,
          -0.762074887752533,
          2.926699161529541,
          10.154349327087402,
          -19.43256378173828,
          2.917067527770996,
          13.541820526123047,
          14.104748725891113,
          11.519136428833008,
          21.346527099609375,
          -9.540068626403809,
          6.161250591278076,
          27.201902389526367,
          -12.728479385375977,
          12.795817375183105,
          11.093668937683105,
          14.572488784790039,
          -12.696636199951172,
          16.63146209716797,
          -4.588177680969238,
          21.484941482543945,
          -0.15263468027114868,
          27.50787353515625,
          11.47158145904541,
          13.366887092590332,
          17.094308853149414,
          15.77710247039795,
          5.743826866149902,
          14.16357135772705,
          -4.568604469299316,
          -7.060867786407471,
          2.0846848487854004,
          11.839913368225098,
          20.234790802001953,
          4.753218173980713,
          -1.5092190504074097,
          -5.464081764221191,
          23.417037963867188,
          23.962093353271484,
          -6.111572265625,
          -6.976044654846191,
          1.4195663928985596,
          -0.15285992622375488,
          22.598451614379883,
          1.1268399953842163,
          6.354075908660889,
          19.98700714111328,
          -12.748754501342773,
          -6.819678783416748,
          7.162238597869873,
          -0.005256259813904762,
          28.23163604736328,
          12.256549835205078,
          2.7539560794830322,
          21.014511108398438,
          10.284514427185059,
          23.768821716308594,
          -0.5005403757095337,
          8.357146263122559,
          -10.373918533325195,
          -14.664274215698242,
          20.695117950439453,
          15.320571899414062,
          -1.6487754583358765,
          5.1867804527282715,
          -3.6194863319396973,
          0.11209885776042938,
          -8.457000732421875,
          -19.630935668945312,
          7.777616500854492,
          -1.3718247413635254,
          3.3192436695098877,
          -9.438817977905273,
          3.236703634262085,
          1.5102674961090088,
          -0.34607362747192383,
          10.181888580322266,
          15.561120986938477,
          9.804173469543457,
          15.996410369873047,
          -15.547730445861816,
          11.405137062072754,
          -1.344022274017334,
          -8.022273063659668,
          -0.8009110689163208,
          4.587111473083496,
          24.178531646728516,
          -14.48433780670166,
          23.26529884338379,
          -14.926342010498047,
          -1.0893981456756592,
          -2.0947329998016357,
          1.9377063512802124,
          -14.413208961486816,
          10.888011932373047,
          4.752330780029297,
          23.237483978271484,
          16.784400939941406,
          -18.823320388793945,
          -1.0780689716339111,
          0.8279505372047424,
          19.75050926208496,
          0.40306511521339417,
          8.745217323303223,
          -13.792768478393555,
          16.11893081665039,
          2.5949642658233643,
          15.207114219665527,
          1.895129919052124,
          0.30354011058807373,
          -8.204951286315918,
          9.593925476074219,
          -6.002164363861084,
          6.237071514129639,
          -5.3053741455078125,
          16.36924934387207,
          -5.722967147827148,
          19.531761169433594,
          -22.536556243896484,
          2.8199970722198486,
          3.4951841831207275,
          -16.876209259033203,
          -17.977458953857422,
          -18.30535125732422,
          16.68927764892578,
          -18.84030532836914,
          -19.37081527709961,
          -7.830932140350342,
          -24.574848175048828,
          2.553014039993286,
          -19.989734649658203,
          -12.560672760009766,
          -21.380884170532227,
          5.911937236785889,
          10.232275009155273,
          11.031426429748535,
          6.1680684089660645,
          -8.663016319274902,
          6.34226131439209,
          0.7227625846862793,
          6.0546464920043945,
          24.23667335510254,
          -15.02367877960205,
          -7.428166389465332,
          0.012482612393796444,
          -1.3705962896347046,
          15.570348739624023,
          25.306316375732422,
          -14.29979419708252,
          -13.015434265136719,
          10.559410095214844,
          -1.4510244131088257,
          3.5733113288879395,
          -4.543942451477051,
          -13.43460750579834,
          0.39621424674987793,
          -5.682239055633545,
          -6.699618816375732,
          15.887495994567871,
          -12.865506172180176,
          0.6436560153961182,
          9.392322540283203,
          -19.22901153564453,
          21.827407836914062,
          12.934674263000488,
          9.078850746154785,
          -0.408718079328537,
          24.352296829223633,
          -14.719399452209473,
          4.636600017547607,
          -0.27258020639419556,
          5.887378692626953,
          13.302499771118164,
          17.704116821289062,
          21.55537986755371,
          9.550989151000977,
          16.269906997680664,
          6.136544704437256,
          3.688356876373291,
          11.013636589050293,
          -2.0136942863464355,
          1.7030150890350342,
          7.704648971557617,
          -18.414716720581055,
          2.205235242843628,
          -20.06943702697754,
          -17.928085327148438,
          15.853703498840332,
          9.767167091369629,
          9.852659225463867,
          -7.651699066162109,
          2.8620033264160156,
          -0.44295692443847656,
          -7.201771259307861,
          -18.20176124572754,
          -6.934989929199219,
          3.8374831676483154,
          -5.375683307647705,
          -15.298859596252441,
          -20.207487106323242,
          -0.8850848078727722,
          23.43093490600586,
          1.9724897146224976,
          25.390642166137695,
          -4.826494216918945,
          6.470275402069092,
          2.322563648223877,
          -1.1672773361206055,
          8.384279251098633,
          8.770233154296875,
          14.816638946533203,
          3.406954288482666,
          -1.7141519784927368,
          14.558015823364258,
          19.482126235961914,
          4.191225528717041,
          20.72994041442871,
          3.873704195022583,
          28.302745819091797,
          16.715608596801758,
          -18.737573623657227,
          20.104053497314453,
          -15.402793884277344,
          8.06467056274414,
          1.057586431503296,
          0.3791436553001404,
          13.09145736694336,
          -3.9691078662872314,
          25.07845687866211,
          -9.350444793701172,
          10.571599960327148,
          10.598045349121094,
          14.827322959899902,
          -20.996973037719727,
          14.046697616577148,
          11.646005630493164,
          23.192724227905273,
          1.8981711864471436,
          0.008579356595873833,
          -13.929277420043945,
          3.202195644378662,
          -6.823117733001709,
          23.1656494140625,
          20.315519332885742,
          -14.765073776245117,
          22.68454933166504,
          2.1782820224761963,
          0.7293059229850769,
          -0.20127302408218384,
          -0.5618878602981567,
          -1.4510561227798462,
          -1.1377424001693726
         ],
         "y": [
          -3.558328866958618,
          -5.141547203063965,
          5.947011947631836,
          1.7103815078735352,
          -12.266392707824707,
          0.13888102769851685,
          14.300771713256836,
          14.696093559265137,
          -15.377924919128418,
          4.162906646728516,
          11.37641716003418,
          -6.321393013000488,
          9.125656127929688,
          11.227338790893555,
          -7.131490707397461,
          -6.736827850341797,
          18.392553329467773,
          0.7520473003387451,
          17.132450103759766,
          1.7741734981536865,
          -18.997173309326172,
          10.77059555053711,
          -15.62319564819336,
          0.32577601075172424,
          11.609940528869629,
          14.808680534362793,
          10.031557083129883,
          20.82277488708496,
          14.689751625061035,
          -0.7517029047012329,
          -5.042226314544678,
          2.6088638305664062,
          5.738983154296875,
          -21.246843338012695,
          10.380959510803223,
          -18.005109786987305,
          -7.569783687591553,
          2.811115264892578,
          -17.914386749267578,
          -20.490720748901367,
          -18.834169387817383,
          3.0258564949035645,
          -20.623605728149414,
          0.7561420798301697,
          -11.796850204467773,
          -18.188114166259766,
          19.184707641601562,
          -7.527393817901611,
          5.60026741027832,
          -11.014031410217285,
          12.37625503540039,
          -19.347766876220703,
          -4.811037063598633,
          -12.105255126953125,
          -18.0235652923584,
          16.253192901611328,
          4.409858703613281,
          0.7162202000617981,
          1.3857918977737427,
          10.551511764526367,
          -3.276470184326172,
          3.629603862762451,
          13.129661560058594,
          7.158080101013184,
          -4.847902774810791,
          19.610759735107422,
          3.486135244369507,
          17.394603729248047,
          0.09450630843639374,
          6.318479537963867,
          8.81130313873291,
          2.8069491386413574,
          26.46805191040039,
          -9.454854965209961,
          17.189207077026367,
          7.157847881317139,
          -9.389425277709961,
          12.21475601196289,
          12.943404197692871,
          8.953740119934082,
          -5.380231857299805,
          -5.997677803039551,
          -19.520097732543945,
          -4.220783233642578,
          9.914216995239258,
          -18.2285099029541,
          -5.482758522033691,
          -20.308481216430664,
          -13.32890510559082,
          -19.505340576171875,
          1.8592480421066284,
          -3.3830373287200928,
          -5.99547815322876,
          7.411807060241699,
          14.311037063598633,
          -21.95078468322754,
          6.470720291137695,
          -10.193242073059082,
          2.7944746017456055,
          14.747069358825684,
          7.617920875549316,
          23.25411605834961,
          -25.18739128112793,
          -22.440628051757812,
          3.1331686973571777,
          11.226516723632812,
          22.019468307495117,
          -4.266504287719727,
          16.394596099853516,
          18.847827911376953,
          -1.7907755374908447,
          -6.075448513031006,
          3.271541118621826,
          2.9466724395751953,
          3.6311209201812744,
          -20.459985733032227,
          -0.8328749537467957,
          10.590412139892578,
          2.329153537750244,
          9.062119483947754,
          -16.484586715698242,
          19.50942611694336,
          -1.68948495388031,
          1.9768396615982056,
          0.4068746268749237,
          -27.912813186645508,
          -12.663932800292969,
          1.7689921855926514,
          17.844486236572266,
          1.703505516052246,
          0.062103621661663055,
          -16.915773391723633,
          2.368213653564453,
          -0.9545342922210693,
          19.08388328552246,
          1.9534416198730469,
          -1.3392950296401978,
          -8.10589599609375,
          -0.639802873134613,
          -3.757081985473633,
          15.312965393066406,
          -7.57138729095459,
          0.06061256676912308,
          13.984383583068848,
          11.227593421936035,
          6.450588703155518,
          -0.5854301452636719,
          3.3121674060821533,
          -17.48613739013672,
          1.9930723905563354,
          1.5191153287887573,
          0.47654983401298523,
          7.741096496582031,
          13.933151245117188,
          20.374113082885742,
          -6.4623799324035645,
          10.64231014251709,
          1.6251906156539917,
          1.6674221754074097,
          -2.458732843399048,
          -7.572145462036133,
          -6.269144058227539,
          3.4245758056640625,
          12.98783016204834,
          14.76699161529541,
          -25.007776260375977,
          -3.014268398284912,
          -1.9660284519195557,
          18.028535842895508,
          0.2763361632823944,
          3.501343250274658,
          -9.76663589477539,
          -7.532168388366699,
          1.4825947284698486,
          -18.54803466796875,
          1.471147060394287,
          14.29385757446289,
          1.734436273574829,
          11.835811614990234,
          4.908666610717773,
          -0.03385491669178009,
          -21.69207191467285,
          -9.673312187194824,
          -6.4308624267578125,
          19.43719482421875,
          -7.666283130645752,
          -16.18630027770996,
          -21.59010124206543,
          -9.64089298248291,
          11.396873474121094,
          -7.662428855895996,
          20.868927001953125,
          3.0894036293029785,
          -20.506458282470703,
          -8.807489395141602,
          -7.91438102722168,
          18.846866607666016,
          -12.02815055847168,
          -5.848914623260498,
          -5.805236339569092,
          -20.144886016845703,
          -14.923436164855957,
          3.340926170349121,
          4.257369041442871,
          19.020164489746094,
          -5.4477009773254395,
          -2.0295894145965576,
          21.19524383544922,
          -1.9151322841644287,
          -11.365705490112305,
          1.1487442255020142,
          -0.7434508204460144,
          -1.1819859743118286,
          6.63155460357666,
          -10.449958801269531,
          -18.970169067382812,
          1.4385690689086914,
          19.45484161376953,
          6.631045341491699,
          1.6702700853347778,
          -6.404693126678467,
          17.015108108520508,
          5.748678207397461,
          1.3191947937011719,
          -3.8134925365448,
          -7.966434478759766,
          15.469775199890137,
          -20.513259887695312,
          -11.066240310668945,
          -16.204254150390625,
          18.689865112304688,
          6.914134502410889,
          1.4455416202545166,
          27.10675621032715,
          21.066814422607422,
          -20.75672721862793,
          -7.569127559661865,
          4.857593536376953,
          18.454620361328125,
          0.6004361510276794,
          17.643047332763672,
          3.586827278137207,
          2.2204434871673584,
          -12.94399356842041,
          -7.740911960601807,
          10.817970275878906,
          17.145042419433594,
          5.991869926452637,
          8.925830841064453,
          18.373186111450195,
          18.011552810668945,
          16.34927749633789,
          -4.327709197998047,
          -18.79471778869629,
          5.668820381164551,
          19.387056350708008,
          6.978304862976074,
          -8.453062057495117,
          -1.1086320877075195,
          -3.620725393295288,
          3.654693126678467,
          -1.7674750089645386,
          -10.484884262084961,
          25.527894973754883,
          3.333000898361206,
          9.45758056640625,
          0.5486456751823425,
          15.628501892089844,
          7.431251049041748,
          -22.84285545349121,
          6.50914192199707,
          -4.806399345397949,
          -11.765196800231934,
          -4.300391674041748,
          -1.2992794513702393,
          -11.20246410369873,
          -15.691914558410645,
          13.876055717468262,
          -10.533501625061035,
          3.3469345569610596,
          2.9185712337493896,
          20.225919723510742,
          5.454432010650635,
          19.48680305480957,
          -24.490633010864258,
          3.5999913215637207,
          16.81117820739746,
          -7.148871421813965,
          8.79179859161377,
          1.0507689714431763,
          -2.4213738441467285,
          9.42428970336914,
          18.918842315673828,
          -17.7016658782959,
          1.3686858415603638,
          2.648366928100586,
          1.418498158454895,
          -8.495634078979492,
          -1.2202436923980713,
          -20.79900360107422,
          8.383638381958008,
          -8.47171401977539,
          -9.551809310913086,
          -0.13019195199012756,
          -22.972810745239258,
          18.683486938476562,
          -18.193241119384766,
          17.00211524963379,
          22.40289306640625,
          17.74236488342285,
          4.542766571044922,
          -5.207539081573486,
          -20.579193115234375,
          -20.49053192138672,
          16.029436111450195,
          1.619819164276123,
          -18.412914276123047,
          16.10349464416504,
          17.032360076904297,
          20.29666519165039,
          -9.817878723144531,
          9.500679969787598,
          18.923309326171875,
          5.8206939697265625,
          3.073436737060547,
          7.396518230438232,
          16.962316513061523,
          9.020356178283691,
          8.27915096282959,
          -7.953868865966797,
          -17.85875129699707,
          -10.412076950073242,
          -20.520771026611328,
          -9.625866889953613,
          9.007172584533691,
          -18.92436408996582,
          -21.29761505126953,
          -6.013795852661133,
          -8.041114807128906,
          -17.23120880126953,
          -7.656909942626953,
          -10.273486137390137,
          1.6861674785614014,
          16.965129852294922,
          5.76632022857666,
          12.897948265075684,
          9.252201080322266,
          -9.705410957336426,
          -24.772785186767578,
          3.390308141708374,
          8.639288902282715,
          12.40013313293457,
          1.1823383569717407,
          -6.609494209289551,
          -19.79152488708496,
          0.9266608953475952,
          9.00943374633789,
          7.3337531089782715,
          -6.304483890533447,
          12.147955894470215,
          -2.5694189071655273,
          22.13865852355957,
          -4.370458126068115,
          -1.7327228784561157,
          1.2766362428665161,
          20.221607208251953,
          6.39199686050415,
          1.3825435638427734,
          9.81533432006836,
          -6.7075090408325195,
          -16.048736572265625,
          6.406112194061279,
          -4.881068229675293,
          -21.770830154418945,
          -22.266918182373047,
          -28.51127815246582
         ],
         "z": [
          19.623409271240234,
          1.386475920677185,
          12.4171781539917,
          11.172371864318848,
          6.153149127960205,
          -0.6907545328140259,
          6.044349670410156,
          6.200497627258301,
          20.218412399291992,
          -18.50641441345215,
          -17.24098777770996,
          -4.243448257446289,
          8.002386093139648,
          5.014949798583984,
          -4.668166637420654,
          -19.675064086914062,
          10.282468795776367,
          -21.732036590576172,
          14.6670503616333,
          -5.664290428161621,
          -5.991543292999268,
          -14.788450241088867,
          20.092666625976562,
          -15.622589111328125,
          -12.08918285369873,
          6.210808277130127,
          3.3213067054748535,
          -10.760455131530762,
          6.166308879852295,
          -14.579339027404785,
          24.003942489624023,
          -7.880598068237305,
          -17.608366012573242,
          13.665837287902832,
          -17.028963088989258,
          16.871347427368164,
          15.199409484863281,
          -1.9040844440460205,
          -3.5879836082458496,
          -3.481372594833374,
          18.22292137145996,
          24.472888946533203,
          -7.974352836608887,
          -0.639173686504364,
          -17.345975875854492,
          16.92993927001953,
          7.825446128845215,
          10.094077110290527,
          9.415559768676758,
          8.619736671447754,
          -11.042723655700684,
          -6.649223804473877,
          -20.278749465942383,
          1.9127728939056396,
          2.695189952850342,
          15.702821731567383,
          -1.9902888536453247,
          0.2230822741985321,
          -7.756501197814941,
          -6.858457088470459,
          18.5451602935791,
          -18.090167999267578,
          1.6821277141571045,
          -18.91383934020996,
          24.726055145263672,
          3.099885940551758,
          -2.300640821456909,
          5.634647369384766,
          11.77229118347168,
          3.9291720390319824,
          -18.782991409301758,
          1.6302238702774048,
          -0.6610859036445618,
          21.602741241455078,
          3.210496187210083,
          12.94448184967041,
          21.97089958190918,
          -11.787232398986816,
          5.541298866271973,
          8.743551254272461,
          14.819904327392578,
          -4.042661666870117,
          -7.140720367431641,
          1.546970248222351,
          6.397572040557861,
          2.1960015296936035,
          13.930621147155762,
          -10.449138641357422,
          2.3223042488098145,
          3.618863105773926,
          -5.188654899597168,
          13.29757022857666,
          1.2509913444519043,
          -10.718803405761719,
          5.443562984466553,
          11.562515258789062,
          -8.060420036315918,
          -14.909360885620117,
          -1.8616141080856323,
          1.3431212902069092,
          -11.127433776855469,
          2.213210105895996,
          10.73453426361084,
          7.535414695739746,
          -5.607804775238037,
          -15.861345291137695,
          3.3486223220825195,
          20.751689910888672,
          2.007091522216797,
          0.9705959558486938,
          -11.151031494140625,
          -19.889556884765625,
          -19.11855125427246,
          23.99363136291504,
          -20.98432731628418,
          4.125365734100342,
          -21.214506149291992,
          3.818126678466797,
          1.5509603023529053,
          1.5207611322402954,
          -2.544522762298584,
          5.015553951263428,
          1.6493467092514038,
          -0.09855452179908752,
          8.661881446838379,
          -2.922224521636963,
          21.38318634033203,
          -0.27156397700309753,
          5.065756320953369,
          9.825949668884277,
          -0.7414418458938599,
          -3.12373948097229,
          -0.022053800523281097,
          -14.215873718261719,
          2.1579902172088623,
          0.7915329337120056,
          1.5106956958770752,
          -19.200407028198242,
          -1.09319007396698,
          -2.850736618041992,
          6.068915367126465,
          -19.39687156677246,
          16.569137573242188,
          -11.1920747756958,
          4.277469635009766,
          -9.619359016418457,
          1.1378262042999268,
          0.27212288975715637,
          -3.8779516220092773,
          1.2706702947616577,
          16.757137298583984,
          8.524494171142578,
          4.769320487976074,
          -11.211786270141602,
          -7.786664009094238,
          22.504680633544922,
          4.991674423217773,
          -16.74702262878418,
          -1.1674224138259888,
          13.746626853942871,
          15.276111602783203,
          -0.3841540813446045,
          -7.6956000328063965,
          1.7146228551864624,
          1.3574520349502563,
          10.419050216674805,
          16.54031753540039,
          -11.488614082336426,
          5.323629379272461,
          9.357149124145508,
          -18.48488998413086,
          -18.617969512939453,
          16.231924057006836,
          0.050805460661649704,
          17.068470001220703,
          -0.40955641865730286,
          5.446378707885742,
          10.580873489379883,
          4.734553337097168,
          -14.589588165283203,
          -8.973410606384277,
          12.72546100616455,
          16.996435165405273,
          18.196653366088867,
          4.095394134521484,
          -2.9919466972351074,
          -2.1579537391662598,
          5.718498229980469,
          14.303030967712402,
          -12.196952819824219,
          13.168464660644531,
          3.6643245220184326,
          -16.40981674194336,
          -3.6961143016815186,
          2.0754544734954834,
          22.304466247558594,
          1.8329076766967773,
          21.57587432861328,
          22.727155685424805,
          14.135382652282715,
          -9.580158233642578,
          -0.2810439467430115,
          -19.0787296295166,
          2.5020036697387695,
          8.730698585510254,
          -3.714459180831909,
          14.210497856140137,
          3.837986707687378,
          15.417621612548828,
          7.864105701446533,
          -8.009624481201172,
          -21.26585578918457,
          -10.06163215637207,
          -17.929224014282227,
          -0.8791391849517822,
          3.0239312648773193,
          7.338720798492432,
          4.221940517425537,
          -11.421982765197754,
          -1.1180202960968018,
          -0.5231441855430603,
          6.506755352020264,
          6.593610763549805,
          3.9735946655273438,
          20.046051025390625,
          -3.753443479537964,
          6.329866409301758,
          -4.9345173835754395,
          -17.784414291381836,
          -2.256206750869751,
          5.784621238708496,
          4.387714862823486,
          2.314924478530884,
          -1.2619528770446777,
          3.7573399543762207,
          -12.935689926147461,
          15.660539627075195,
          21.157949447631836,
          13.312962532043457,
          16.6245059967041,
          14.000277519226074,
          -18.271081924438477,
          -0.7794860601425171,
          21.29878044128418,
          22.35330581665039,
          -6.758840084075928,
          0.4384247660636902,
          4.216526508331299,
          7.846149921417236,
          5.411569118499756,
          5.502715110778809,
          1.3262977600097656,
          10.11670207977295,
          18.34451675415039,
          9.796161651611328,
          6.976494789123535,
          13.716943740844727,
          22.06850814819336,
          -1.4560518264770508,
          -2.7762112617492676,
          3.0964272022247314,
          4.456403732299805,
          13.258085250854492,
          0.19277769327163696,
          2.7517380714416504,
          2.2093992233276367,
          -21.309812545776367,
          1.3173141479492188,
          -9.771660804748535,
          8.952265739440918,
          4.097803115844727,
          1.4280203580856323,
          -17.363525390625,
          -20.429061889648438,
          -1.5339934825897217,
          2.035601854324341,
          -3.0585858821868896,
          16.41967010498047,
          -18.10087776184082,
          -3.055386781692505,
          -0.4156492054462433,
          -9.612253189086914,
          3.338690757751465,
          5.302199363708496,
          9.648162841796875,
          -20.856643676757812,
          1.7700704336166382,
          -1.9264897108078003,
          5.069891452789307,
          -0.49301767349243164,
          16.161760330200195,
          2.1367461681365967,
          8.900773048400879,
          -2.434948682785034,
          4.260562419891357,
          1.926644206047058,
          -0.17352457344532013,
          8.005668640136719,
          -13.757373809814453,
          -13.175658226013184,
          7.205300331115723,
          22.061817169189453,
          12.614235877990723,
          -18.950685501098633,
          9.389229774475098,
          5.290487289428711,
          3.2154204845428467,
          0.7885301113128662,
          4.023285388946533,
          6.499881744384766,
          -16.542552947998047,
          15.821535110473633,
          -11.93323802947998,
          -11.439465522766113,
          16.492843627929688,
          2.189832925796509,
          17.01365852355957,
          16.22206687927246,
          0.45564958453178406,
          -8.360753059387207,
          11.986220359802246,
          7.393736362457275,
          8.979366302490234,
          10.371806144714355,
          -5.465492248535156,
          -10.66611385345459,
          6.361472129821777,
          1.4459786415100098,
          12.424064636230469,
          22.308900833129883,
          -3.5356972217559814,
          -0.6932901740074158,
          -4.465236663818359,
          17.199384689331055,
          9.074603080749512,
          18.815040588378906,
          5.311624050140381,
          17.101924896240234,
          -3.957728385925293,
          -2.654818534851074,
          -2.965513229370117,
          10.5657377243042,
          -0.5909228920936584,
          6.49493932723999,
          6.360827445983887,
          5.5346903800964355,
          -15.11965274810791,
          16.785696029663086,
          10.034914016723633,
          -2.704597234725952,
          5.077169895172119,
          16.371074676513672,
          -6.788659572601318,
          17.78136444091797,
          -8.130024909973145,
          -19.221689224243164,
          9.07544994354248,
          12.665313720703125,
          -4.239086151123047,
          5.088165283203125,
          -10.079127311706543,
          3.7420260906219482,
          16.02775001525879,
          -21.04119300842285,
          12.771991729736328,
          -8.858518600463867,
          -8.689587593078613,
          -16.53497886657715,
          -15.658340454101562,
          -1.0731571912765503,
          19.86199188232422,
          23.683069229125977,
          24.939546585083008,
          12.53284740447998,
          7.0832109451293945,
          -2.3657445907592773
         ]
        }
       ],
       "layout": {
        "margin": {
         "b": 0,
         "l": 0,
         "r": 0,
         "t": 0
        },
        "showlegend": true,
        "template": {
         "data": {
          "bar": [
           {
            "error_x": {
             "color": "#2a3f5f"
            },
            "error_y": {
             "color": "#2a3f5f"
            },
            "marker": {
             "line": {
              "color": "#E5ECF6",
              "width": 0.5
             },
             "pattern": {
              "fillmode": "overlay",
              "size": 10,
              "solidity": 0.2
             }
            },
            "type": "bar"
           }
          ],
          "barpolar": [
           {
            "marker": {
             "line": {
              "color": "#E5ECF6",
              "width": 0.5
             },
             "pattern": {
              "fillmode": "overlay",
              "size": 10,
              "solidity": 0.2
             }
            },
            "type": "barpolar"
           }
          ],
          "carpet": [
           {
            "aaxis": {
             "endlinecolor": "#2a3f5f",
             "gridcolor": "white",
             "linecolor": "white",
             "minorgridcolor": "white",
             "startlinecolor": "#2a3f5f"
            },
            "baxis": {
             "endlinecolor": "#2a3f5f",
             "gridcolor": "white",
             "linecolor": "white",
             "minorgridcolor": "white",
             "startlinecolor": "#2a3f5f"
            },
            "type": "carpet"
           }
          ],
          "choropleth": [
           {
            "colorbar": {
             "outlinewidth": 0,
             "ticks": ""
            },
            "type": "choropleth"
           }
          ],
          "contour": [
           {
            "colorbar": {
             "outlinewidth": 0,
             "ticks": ""
            },
            "colorscale": [
             [
              0,
              "#0d0887"
             ],
             [
              0.1111111111111111,
              "#46039f"
             ],
             [
              0.2222222222222222,
              "#7201a8"
             ],
             [
              0.3333333333333333,
              "#9c179e"
             ],
             [
              0.4444444444444444,
              "#bd3786"
             ],
             [
              0.5555555555555556,
              "#d8576b"
             ],
             [
              0.6666666666666666,
              "#ed7953"
             ],
             [
              0.7777777777777778,
              "#fb9f3a"
             ],
             [
              0.8888888888888888,
              "#fdca26"
             ],
             [
              1,
              "#f0f921"
             ]
            ],
            "type": "contour"
           }
          ],
          "contourcarpet": [
           {
            "colorbar": {
             "outlinewidth": 0,
             "ticks": ""
            },
            "type": "contourcarpet"
           }
          ],
          "heatmap": [
           {
            "colorbar": {
             "outlinewidth": 0,
             "ticks": ""
            },
            "colorscale": [
             [
              0,
              "#0d0887"
             ],
             [
              0.1111111111111111,
              "#46039f"
             ],
             [
              0.2222222222222222,
              "#7201a8"
             ],
             [
              0.3333333333333333,
              "#9c179e"
             ],
             [
              0.4444444444444444,
              "#bd3786"
             ],
             [
              0.5555555555555556,
              "#d8576b"
             ],
             [
              0.6666666666666666,
              "#ed7953"
             ],
             [
              0.7777777777777778,
              "#fb9f3a"
             ],
             [
              0.8888888888888888,
              "#fdca26"
             ],
             [
              1,
              "#f0f921"
             ]
            ],
            "type": "heatmap"
           }
          ],
          "heatmapgl": [
           {
            "colorbar": {
             "outlinewidth": 0,
             "ticks": ""
            },
            "colorscale": [
             [
              0,
              "#0d0887"
             ],
             [
              0.1111111111111111,
              "#46039f"
             ],
             [
              0.2222222222222222,
              "#7201a8"
             ],
             [
              0.3333333333333333,
              "#9c179e"
             ],
             [
              0.4444444444444444,
              "#bd3786"
             ],
             [
              0.5555555555555556,
              "#d8576b"
             ],
             [
              0.6666666666666666,
              "#ed7953"
             ],
             [
              0.7777777777777778,
              "#fb9f3a"
             ],
             [
              0.8888888888888888,
              "#fdca26"
             ],
             [
              1,
              "#f0f921"
             ]
            ],
            "type": "heatmapgl"
           }
          ],
          "histogram": [
           {
            "marker": {
             "pattern": {
              "fillmode": "overlay",
              "size": 10,
              "solidity": 0.2
             }
            },
            "type": "histogram"
           }
          ],
          "histogram2d": [
           {
            "colorbar": {
             "outlinewidth": 0,
             "ticks": ""
            },
            "colorscale": [
             [
              0,
              "#0d0887"
             ],
             [
              0.1111111111111111,
              "#46039f"
             ],
             [
              0.2222222222222222,
              "#7201a8"
             ],
             [
              0.3333333333333333,
              "#9c179e"
             ],
             [
              0.4444444444444444,
              "#bd3786"
             ],
             [
              0.5555555555555556,
              "#d8576b"
             ],
             [
              0.6666666666666666,
              "#ed7953"
             ],
             [
              0.7777777777777778,
              "#fb9f3a"
             ],
             [
              0.8888888888888888,
              "#fdca26"
             ],
             [
              1,
              "#f0f921"
             ]
            ],
            "type": "histogram2d"
           }
          ],
          "histogram2dcontour": [
           {
            "colorbar": {
             "outlinewidth": 0,
             "ticks": ""
            },
            "colorscale": [
             [
              0,
              "#0d0887"
             ],
             [
              0.1111111111111111,
              "#46039f"
             ],
             [
              0.2222222222222222,
              "#7201a8"
             ],
             [
              0.3333333333333333,
              "#9c179e"
             ],
             [
              0.4444444444444444,
              "#bd3786"
             ],
             [
              0.5555555555555556,
              "#d8576b"
             ],
             [
              0.6666666666666666,
              "#ed7953"
             ],
             [
              0.7777777777777778,
              "#fb9f3a"
             ],
             [
              0.8888888888888888,
              "#fdca26"
             ],
             [
              1,
              "#f0f921"
             ]
            ],
            "type": "histogram2dcontour"
           }
          ],
          "mesh3d": [
           {
            "colorbar": {
             "outlinewidth": 0,
             "ticks": ""
            },
            "type": "mesh3d"
           }
          ],
          "parcoords": [
           {
            "line": {
             "colorbar": {
              "outlinewidth": 0,
              "ticks": ""
             }
            },
            "type": "parcoords"
           }
          ],
          "pie": [
           {
            "automargin": true,
            "type": "pie"
           }
          ],
          "scatter": [
           {
            "fillpattern": {
             "fillmode": "overlay",
             "size": 10,
             "solidity": 0.2
            },
            "type": "scatter"
           }
          ],
          "scatter3d": [
           {
            "line": {
             "colorbar": {
              "outlinewidth": 0,
              "ticks": ""
             }
            },
            "marker": {
             "colorbar": {
              "outlinewidth": 0,
              "ticks": ""
             }
            },
            "type": "scatter3d"
           }
          ],
          "scattercarpet": [
           {
            "marker": {
             "colorbar": {
              "outlinewidth": 0,
              "ticks": ""
             }
            },
            "type": "scattercarpet"
           }
          ],
          "scattergeo": [
           {
            "marker": {
             "colorbar": {
              "outlinewidth": 0,
              "ticks": ""
             }
            },
            "type": "scattergeo"
           }
          ],
          "scattergl": [
           {
            "marker": {
             "colorbar": {
              "outlinewidth": 0,
              "ticks": ""
             }
            },
            "type": "scattergl"
           }
          ],
          "scattermapbox": [
           {
            "marker": {
             "colorbar": {
              "outlinewidth": 0,
              "ticks": ""
             }
            },
            "type": "scattermapbox"
           }
          ],
          "scatterpolar": [
           {
            "marker": {
             "colorbar": {
              "outlinewidth": 0,
              "ticks": ""
             }
            },
            "type": "scatterpolar"
           }
          ],
          "scatterpolargl": [
           {
            "marker": {
             "colorbar": {
              "outlinewidth": 0,
              "ticks": ""
             }
            },
            "type": "scatterpolargl"
           }
          ],
          "scatterternary": [
           {
            "marker": {
             "colorbar": {
              "outlinewidth": 0,
              "ticks": ""
             }
            },
            "type": "scatterternary"
           }
          ],
          "surface": [
           {
            "colorbar": {
             "outlinewidth": 0,
             "ticks": ""
            },
            "colorscale": [
             [
              0,
              "#0d0887"
             ],
             [
              0.1111111111111111,
              "#46039f"
             ],
             [
              0.2222222222222222,
              "#7201a8"
             ],
             [
              0.3333333333333333,
              "#9c179e"
             ],
             [
              0.4444444444444444,
              "#bd3786"
             ],
             [
              0.5555555555555556,
              "#d8576b"
             ],
             [
              0.6666666666666666,
              "#ed7953"
             ],
             [
              0.7777777777777778,
              "#fb9f3a"
             ],
             [
              0.8888888888888888,
              "#fdca26"
             ],
             [
              1,
              "#f0f921"
             ]
            ],
            "type": "surface"
           }
          ],
          "table": [
           {
            "cells": {
             "fill": {
              "color": "#EBF0F8"
             },
             "line": {
              "color": "white"
             }
            },
            "header": {
             "fill": {
              "color": "#C8D4E3"
             },
             "line": {
              "color": "white"
             }
            },
            "type": "table"
           }
          ]
         },
         "layout": {
          "annotationdefaults": {
           "arrowcolor": "#2a3f5f",
           "arrowhead": 0,
           "arrowwidth": 1
          },
          "autotypenumbers": "strict",
          "coloraxis": {
           "colorbar": {
            "outlinewidth": 0,
            "ticks": ""
           }
          },
          "colorscale": {
           "diverging": [
            [
             0,
             "#8e0152"
            ],
            [
             0.1,
             "#c51b7d"
            ],
            [
             0.2,
             "#de77ae"
            ],
            [
             0.3,
             "#f1b6da"
            ],
            [
             0.4,
             "#fde0ef"
            ],
            [
             0.5,
             "#f7f7f7"
            ],
            [
             0.6,
             "#e6f5d0"
            ],
            [
             0.7,
             "#b8e186"
            ],
            [
             0.8,
             "#7fbc41"
            ],
            [
             0.9,
             "#4d9221"
            ],
            [
             1,
             "#276419"
            ]
           ],
           "sequential": [
            [
             0,
             "#0d0887"
            ],
            [
             0.1111111111111111,
             "#46039f"
            ],
            [
             0.2222222222222222,
             "#7201a8"
            ],
            [
             0.3333333333333333,
             "#9c179e"
            ],
            [
             0.4444444444444444,
             "#bd3786"
            ],
            [
             0.5555555555555556,
             "#d8576b"
            ],
            [
             0.6666666666666666,
             "#ed7953"
            ],
            [
             0.7777777777777778,
             "#fb9f3a"
            ],
            [
             0.8888888888888888,
             "#fdca26"
            ],
            [
             1,
             "#f0f921"
            ]
           ],
           "sequentialminus": [
            [
             0,
             "#0d0887"
            ],
            [
             0.1111111111111111,
             "#46039f"
            ],
            [
             0.2222222222222222,
             "#7201a8"
            ],
            [
             0.3333333333333333,
             "#9c179e"
            ],
            [
             0.4444444444444444,
             "#bd3786"
            ],
            [
             0.5555555555555556,
             "#d8576b"
            ],
            [
             0.6666666666666666,
             "#ed7953"
            ],
            [
             0.7777777777777778,
             "#fb9f3a"
            ],
            [
             0.8888888888888888,
             "#fdca26"
            ],
            [
             1,
             "#f0f921"
            ]
           ]
          },
          "colorway": [
           "#636efa",
           "#EF553B",
           "#00cc96",
           "#ab63fa",
           "#FFA15A",
           "#19d3f3",
           "#FF6692",
           "#B6E880",
           "#FF97FF",
           "#FECB52"
          ],
          "font": {
           "color": "#2a3f5f"
          },
          "geo": {
           "bgcolor": "white",
           "lakecolor": "white",
           "landcolor": "#E5ECF6",
           "showlakes": true,
           "showland": true,
           "subunitcolor": "white"
          },
          "hoverlabel": {
           "align": "left"
          },
          "hovermode": "closest",
          "mapbox": {
           "style": "light"
          },
          "paper_bgcolor": "white",
          "plot_bgcolor": "#E5ECF6",
          "polar": {
           "angularaxis": {
            "gridcolor": "white",
            "linecolor": "white",
            "ticks": ""
           },
           "bgcolor": "#E5ECF6",
           "radialaxis": {
            "gridcolor": "white",
            "linecolor": "white",
            "ticks": ""
           }
          },
          "scene": {
           "xaxis": {
            "backgroundcolor": "#E5ECF6",
            "gridcolor": "white",
            "gridwidth": 2,
            "linecolor": "white",
            "showbackground": true,
            "ticks": "",
            "zerolinecolor": "white"
           },
           "yaxis": {
            "backgroundcolor": "#E5ECF6",
            "gridcolor": "white",
            "gridwidth": 2,
            "linecolor": "white",
            "showbackground": true,
            "ticks": "",
            "zerolinecolor": "white"
           },
           "zaxis": {
            "backgroundcolor": "#E5ECF6",
            "gridcolor": "white",
            "gridwidth": 2,
            "linecolor": "white",
            "showbackground": true,
            "ticks": "",
            "zerolinecolor": "white"
           }
          },
          "shapedefaults": {
           "line": {
            "color": "#2a3f5f"
           }
          },
          "ternary": {
           "aaxis": {
            "gridcolor": "white",
            "linecolor": "white",
            "ticks": ""
           },
           "baxis": {
            "gridcolor": "white",
            "linecolor": "white",
            "ticks": ""
           },
           "bgcolor": "#E5ECF6",
           "caxis": {
            "gridcolor": "white",
            "linecolor": "white",
            "ticks": ""
           }
          },
          "title": {
           "x": 0.05
          },
          "xaxis": {
           "automargin": true,
           "gridcolor": "white",
           "linecolor": "white",
           "ticks": "",
           "title": {
            "standoff": 15
           },
           "zerolinecolor": "white",
           "zerolinewidth": 2
          },
          "yaxis": {
           "automargin": true,
           "gridcolor": "white",
           "linecolor": "white",
           "ticks": "",
           "title": {
            "standoff": 15
           },
           "zerolinecolor": "white",
           "zerolinewidth": 2
          }
         }
        }
       }
      },
      "text/html": [
       "<div>                            <div id=\"46988d97-8519-41dd-aeac-bf50e2ba0b30\" class=\"plotly-graph-div\" style=\"height:525px; width:100%;\"></div>            <script type=\"text/javascript\">                require([\"plotly\"], function(Plotly) {                    window.PLOTLYENV=window.PLOTLYENV || {};                                    if (document.getElementById(\"46988d97-8519-41dd-aeac-bf50e2ba0b30\")) {                    Plotly.newPlot(                        \"46988d97-8519-41dd-aeac-bf50e2ba0b30\",                        [{\"marker\":{\"color\":[0,0,0,0,0,0,0,0,0,0,0,0,0,0,0,1,0,1,0,0,1,0,0,0,0,0,0,0,0,0,0,0,1,0,1,0,0,0,1,1,0,2,2,0,1,0,0,2,0,0,1,1,1,1,1,0,1,0,0,2,0,1,0,1,0,0,0,0,0,0,1,0,0,0,0,0,0,0,0,0,0,0,1,0,0,1,0,1,1,1,0,0,0,0,0,0,0,1,0,0,0,0,0,0,0,0,0,0,0,0,0,1,1,0,1,0,1,0,0,0,1,0,0,0,0,0,0,0,0,0,0,1,0,0,0,0,0,1,0,0,0,1,0,0,0,0,0,0,1,0,0,0,0,0,0,0,0,0,0,0,0,0,0,0,0,0,0,0,0,0,0,1,0,0,0,0,0,0,0,1,0,0,0,0,0,0,1,0,0,0,0,0,1,1,0,0,0,0,0,0,1,1,1,0,0,0,0,0,0,0,0,1,0,1,0,0,0,0,1,0,0,0,2,0,0,0,0,1,1,1,0,0,0,0,0,1,0,0,0,0,0,0,2,0,0,1,0,0,0,0,0,0,2,0,0,0,0,0,0,0,0,0,0,0,0,0,1,0,0,0,0,0,1,1,0,0,1,0,1,0,0,0,0,0,0,1,0,0,0,0,0,0,0,1,0,0,0,1,0,1,0,0,0,1,0,0,1,0,0,0,1,0,1,1,0,0,0,0,0,0,0,0,0,0,0,0,0,0,0,0,1,1,1,0,0,0,0,0,0,1,0,0,0,0,0,0,1,0,0,0,0,1,0,0,1,1,0,0,0,0,0,0,0,1,0,0,0,0,1,0,0,0,0,0,0,1],\"opacity\":0.8,\"size\":4},\"mode\":\"markers\",\"x\":[0.6279452443122864,25.105731964111328,-7.032637119293213,2.724764585494995,5.365467071533203,13.786245346069336,19.057415008544922,17.10414695739746,2.2245545387268066,19.035215377807617,-1.1979198455810547,13.530614852905273,16.91602325439453,11.709050178527832,12.186380386352539,-12.718926429748535,-14.17009449005127,-15.806366920471191,-5.889192581176758,25.818248748779297,11.550444602966309,-2.1559929847717285,2.196458578109741,20.72146987915039,-3.70700740814209,16.660634994506836,22.476308822631836,-6.761328220367432,18.096202850341797,21.18550682067871,0.3015913963317871,23.978961944580078,-15.764945983886719,-0.2399870753288269,-13.555316925048828,-1.7956907749176025,-5.352675437927246,28.55059814453125,2.2110328674316406,7.602131366729736,2.412111520767212,11.072092056274414,-8.711392402648926,9.194113731384277,-14.32051944732666,-1.1984039545059204,-13.286786079406738,18.290456771850586,-19.848289489746094,4.303724765777588,11.822705268859863,11.085529327392578,-12.928274154663086,-1.3909523487091064,7.176258087158203,-6.406453609466553,-18.881664276123047,27.979724884033203,24.312732696533203,-17.000507354736328,0.35955512523651123,9.89543342590332,-6.180975437164307,-13.846250534057617,-0.14973802864551544,-10.030538558959961,-0.2571733295917511,1.06917142868042,6.744729518890381,15.991333961486816,-13.14358139038086,16.425039291381836,0.4799288511276245,5.700355052947998,-19.46102523803711,-21.10079002380371,3.2514548301696777,-3.9565627574920654,20.079471588134766,-5.308778285980225,-0.21033822000026703,12.137462615966797,10.878568649291992,25.68045997619629,-5.439057350158691,7.011425495147705,-0.5682938098907471,10.028136253356934,16.324148178100586,9.28657341003418,26.152868270874023,-1.5679776668548584,24.57100486755371,23.444133758544922,12.237289428710938,-1.0208319425582886,22.925418853759766,-20.424762725830078,28.55490493774414,-6.962760925292969,23.481975555419922,1.2630188465118408,1.7050021886825562,-1.4099615812301636,25.617246627807617,-1.6471360921859741,1.5676032304763794,1.1343474388122559,-19.945505142211914,-9.893683433532715,22.75691032409668,-12.765377044677734,9.820232391357422,11.383723258972168,9.358078002929688,-1.9208271503448486,-14.361093521118164,21.911508560180664,5.785252094268799,25.27823829650879,14.720118522644043,-12.761945724487305,27.05173110961914,12.258152961730957,5.968554973602295,-0.762074887752533,2.926699161529541,10.154349327087402,-19.43256378173828,2.917067527770996,13.541820526123047,14.104748725891113,11.519136428833008,21.346527099609375,-9.540068626403809,6.161250591278076,27.201902389526367,-12.728479385375977,12.795817375183105,11.093668937683105,14.572488784790039,-12.696636199951172,16.63146209716797,-4.588177680969238,21.484941482543945,-0.15263468027114868,27.50787353515625,11.47158145904541,13.366887092590332,17.094308853149414,15.77710247039795,5.743826866149902,14.16357135772705,-4.568604469299316,-7.060867786407471,2.0846848487854004,11.839913368225098,20.234790802001953,4.753218173980713,-1.5092190504074097,-5.464081764221191,23.417037963867188,23.962093353271484,-6.111572265625,-6.976044654846191,1.4195663928985596,-0.15285992622375488,22.598451614379883,1.1268399953842163,6.354075908660889,19.98700714111328,-12.748754501342773,-6.819678783416748,7.162238597869873,-0.005256259813904762,28.23163604736328,12.256549835205078,2.7539560794830322,21.014511108398438,10.284514427185059,23.768821716308594,-0.5005403757095337,8.357146263122559,-10.373918533325195,-14.664274215698242,20.695117950439453,15.320571899414062,-1.6487754583358765,5.1867804527282715,-3.6194863319396973,0.11209885776042938,-8.457000732421875,-19.630935668945312,7.777616500854492,-1.3718247413635254,3.3192436695098877,-9.438817977905273,3.236703634262085,1.5102674961090088,-0.34607362747192383,10.181888580322266,15.561120986938477,9.804173469543457,15.996410369873047,-15.547730445861816,11.405137062072754,-1.344022274017334,-8.022273063659668,-0.8009110689163208,4.587111473083496,24.178531646728516,-14.48433780670166,23.26529884338379,-14.926342010498047,-1.0893981456756592,-2.0947329998016357,1.9377063512802124,-14.413208961486816,10.888011932373047,4.752330780029297,23.237483978271484,16.784400939941406,-18.823320388793945,-1.0780689716339111,0.8279505372047424,19.75050926208496,0.40306511521339417,8.745217323303223,-13.792768478393555,16.11893081665039,2.5949642658233643,15.207114219665527,1.895129919052124,0.30354011058807373,-8.204951286315918,9.593925476074219,-6.002164363861084,6.237071514129639,-5.3053741455078125,16.36924934387207,-5.722967147827148,19.531761169433594,-22.536556243896484,2.8199970722198486,3.4951841831207275,-16.876209259033203,-17.977458953857422,-18.30535125732422,16.68927764892578,-18.84030532836914,-19.37081527709961,-7.830932140350342,-24.574848175048828,2.553014039993286,-19.989734649658203,-12.560672760009766,-21.380884170532227,5.911937236785889,10.232275009155273,11.031426429748535,6.1680684089660645,-8.663016319274902,6.34226131439209,0.7227625846862793,6.0546464920043945,24.23667335510254,-15.02367877960205,-7.428166389465332,0.012482612393796444,-1.3705962896347046,15.570348739624023,25.306316375732422,-14.29979419708252,-13.015434265136719,10.559410095214844,-1.4510244131088257,3.5733113288879395,-4.543942451477051,-13.43460750579834,0.39621424674987793,-5.682239055633545,-6.699618816375732,15.887495994567871,-12.865506172180176,0.6436560153961182,9.392322540283203,-19.22901153564453,21.827407836914062,12.934674263000488,9.078850746154785,-0.408718079328537,24.352296829223633,-14.719399452209473,4.636600017547607,-0.27258020639419556,5.887378692626953,13.302499771118164,17.704116821289062,21.55537986755371,9.550989151000977,16.269906997680664,6.136544704437256,3.688356876373291,11.013636589050293,-2.0136942863464355,1.7030150890350342,7.704648971557617,-18.414716720581055,2.205235242843628,-20.06943702697754,-17.928085327148438,15.853703498840332,9.767167091369629,9.852659225463867,-7.651699066162109,2.8620033264160156,-0.44295692443847656,-7.201771259307861,-18.20176124572754,-6.934989929199219,3.8374831676483154,-5.375683307647705,-15.298859596252441,-20.207487106323242,-0.8850848078727722,23.43093490600586,1.9724897146224976,25.390642166137695,-4.826494216918945,6.470275402069092,2.322563648223877,-1.1672773361206055,8.384279251098633,8.770233154296875,14.816638946533203,3.406954288482666,-1.7141519784927368,14.558015823364258,19.482126235961914,4.191225528717041,20.72994041442871,3.873704195022583,28.302745819091797,16.715608596801758,-18.737573623657227,20.104053497314453,-15.402793884277344,8.06467056274414,1.057586431503296,0.3791436553001404,13.09145736694336,-3.9691078662872314,25.07845687866211,-9.350444793701172,10.571599960327148,10.598045349121094,14.827322959899902,-20.996973037719727,14.046697616577148,11.646005630493164,23.192724227905273,1.8981711864471436,0.008579356595873833,-13.929277420043945,3.202195644378662,-6.823117733001709,23.1656494140625,20.315519332885742,-14.765073776245117,22.68454933166504,2.1782820224761963,0.7293059229850769,-0.20127302408218384,-0.5618878602981567,-1.4510561227798462,-1.1377424001693726],\"y\":[-3.558328866958618,-5.141547203063965,5.947011947631836,1.7103815078735352,-12.266392707824707,0.13888102769851685,14.300771713256836,14.696093559265137,-15.377924919128418,4.162906646728516,11.37641716003418,-6.321393013000488,9.125656127929688,11.227338790893555,-7.131490707397461,-6.736827850341797,18.392553329467773,0.7520473003387451,17.132450103759766,1.7741734981536865,-18.997173309326172,10.77059555053711,-15.62319564819336,0.32577601075172424,11.609940528869629,14.808680534362793,10.031557083129883,20.82277488708496,14.689751625061035,-0.7517029047012329,-5.042226314544678,2.6088638305664062,5.738983154296875,-21.246843338012695,10.380959510803223,-18.005109786987305,-7.569783687591553,2.811115264892578,-17.914386749267578,-20.490720748901367,-18.834169387817383,3.0258564949035645,-20.623605728149414,0.7561420798301697,-11.796850204467773,-18.188114166259766,19.184707641601562,-7.527393817901611,5.60026741027832,-11.014031410217285,12.37625503540039,-19.347766876220703,-4.811037063598633,-12.105255126953125,-18.0235652923584,16.253192901611328,4.409858703613281,0.7162202000617981,1.3857918977737427,10.551511764526367,-3.276470184326172,3.629603862762451,13.129661560058594,7.158080101013184,-4.847902774810791,19.610759735107422,3.486135244369507,17.394603729248047,0.09450630843639374,6.318479537963867,8.81130313873291,2.8069491386413574,26.46805191040039,-9.454854965209961,17.189207077026367,7.157847881317139,-9.389425277709961,12.21475601196289,12.943404197692871,8.953740119934082,-5.380231857299805,-5.997677803039551,-19.520097732543945,-4.220783233642578,9.914216995239258,-18.2285099029541,-5.482758522033691,-20.308481216430664,-13.32890510559082,-19.505340576171875,1.8592480421066284,-3.3830373287200928,-5.99547815322876,7.411807060241699,14.311037063598633,-21.95078468322754,6.470720291137695,-10.193242073059082,2.7944746017456055,14.747069358825684,7.617920875549316,23.25411605834961,-25.18739128112793,-22.440628051757812,3.1331686973571777,11.226516723632812,22.019468307495117,-4.266504287719727,16.394596099853516,18.847827911376953,-1.7907755374908447,-6.075448513031006,3.271541118621826,2.9466724395751953,3.6311209201812744,-20.459985733032227,-0.8328749537467957,10.590412139892578,2.329153537750244,9.062119483947754,-16.484586715698242,19.50942611694336,-1.68948495388031,1.9768396615982056,0.4068746268749237,-27.912813186645508,-12.663932800292969,1.7689921855926514,17.844486236572266,1.703505516052246,0.062103621661663055,-16.915773391723633,2.368213653564453,-0.9545342922210693,19.08388328552246,1.9534416198730469,-1.3392950296401978,-8.10589599609375,-0.639802873134613,-3.757081985473633,15.312965393066406,-7.57138729095459,0.06061256676912308,13.984383583068848,11.227593421936035,6.450588703155518,-0.5854301452636719,3.3121674060821533,-17.48613739013672,1.9930723905563354,1.5191153287887573,0.47654983401298523,7.741096496582031,13.933151245117188,20.374113082885742,-6.4623799324035645,10.64231014251709,1.6251906156539917,1.6674221754074097,-2.458732843399048,-7.572145462036133,-6.269144058227539,3.4245758056640625,12.98783016204834,14.76699161529541,-25.007776260375977,-3.014268398284912,-1.9660284519195557,18.028535842895508,0.2763361632823944,3.501343250274658,-9.76663589477539,-7.532168388366699,1.4825947284698486,-18.54803466796875,1.471147060394287,14.29385757446289,1.734436273574829,11.835811614990234,4.908666610717773,-0.03385491669178009,-21.69207191467285,-9.673312187194824,-6.4308624267578125,19.43719482421875,-7.666283130645752,-16.18630027770996,-21.59010124206543,-9.64089298248291,11.396873474121094,-7.662428855895996,20.868927001953125,3.0894036293029785,-20.506458282470703,-8.807489395141602,-7.91438102722168,18.846866607666016,-12.02815055847168,-5.848914623260498,-5.805236339569092,-20.144886016845703,-14.923436164855957,3.340926170349121,4.257369041442871,19.020164489746094,-5.4477009773254395,-2.0295894145965576,21.19524383544922,-1.9151322841644287,-11.365705490112305,1.1487442255020142,-0.7434508204460144,-1.1819859743118286,6.63155460357666,-10.449958801269531,-18.970169067382812,1.4385690689086914,19.45484161376953,6.631045341491699,1.6702700853347778,-6.404693126678467,17.015108108520508,5.748678207397461,1.3191947937011719,-3.8134925365448,-7.966434478759766,15.469775199890137,-20.513259887695312,-11.066240310668945,-16.204254150390625,18.689865112304688,6.914134502410889,1.4455416202545166,27.10675621032715,21.066814422607422,-20.75672721862793,-7.569127559661865,4.857593536376953,18.454620361328125,0.6004361510276794,17.643047332763672,3.586827278137207,2.2204434871673584,-12.94399356842041,-7.740911960601807,10.817970275878906,17.145042419433594,5.991869926452637,8.925830841064453,18.373186111450195,18.011552810668945,16.34927749633789,-4.327709197998047,-18.79471778869629,5.668820381164551,19.387056350708008,6.978304862976074,-8.453062057495117,-1.1086320877075195,-3.620725393295288,3.654693126678467,-1.7674750089645386,-10.484884262084961,25.527894973754883,3.333000898361206,9.45758056640625,0.5486456751823425,15.628501892089844,7.431251049041748,-22.84285545349121,6.50914192199707,-4.806399345397949,-11.765196800231934,-4.300391674041748,-1.2992794513702393,-11.20246410369873,-15.691914558410645,13.876055717468262,-10.533501625061035,3.3469345569610596,2.9185712337493896,20.225919723510742,5.454432010650635,19.48680305480957,-24.490633010864258,3.5999913215637207,16.81117820739746,-7.148871421813965,8.79179859161377,1.0507689714431763,-2.4213738441467285,9.42428970336914,18.918842315673828,-17.7016658782959,1.3686858415603638,2.648366928100586,1.418498158454895,-8.495634078979492,-1.2202436923980713,-20.79900360107422,8.383638381958008,-8.47171401977539,-9.551809310913086,-0.13019195199012756,-22.972810745239258,18.683486938476562,-18.193241119384766,17.00211524963379,22.40289306640625,17.74236488342285,4.542766571044922,-5.207539081573486,-20.579193115234375,-20.49053192138672,16.029436111450195,1.619819164276123,-18.412914276123047,16.10349464416504,17.032360076904297,20.29666519165039,-9.817878723144531,9.500679969787598,18.923309326171875,5.8206939697265625,3.073436737060547,7.396518230438232,16.962316513061523,9.020356178283691,8.27915096282959,-7.953868865966797,-17.85875129699707,-10.412076950073242,-20.520771026611328,-9.625866889953613,9.007172584533691,-18.92436408996582,-21.29761505126953,-6.013795852661133,-8.041114807128906,-17.23120880126953,-7.656909942626953,-10.273486137390137,1.6861674785614014,16.965129852294922,5.76632022857666,12.897948265075684,9.252201080322266,-9.705410957336426,-24.772785186767578,3.390308141708374,8.639288902282715,12.40013313293457,1.1823383569717407,-6.609494209289551,-19.79152488708496,0.9266608953475952,9.00943374633789,7.3337531089782715,-6.304483890533447,12.147955894470215,-2.5694189071655273,22.13865852355957,-4.370458126068115,-1.7327228784561157,1.2766362428665161,20.221607208251953,6.39199686050415,1.3825435638427734,9.81533432006836,-6.7075090408325195,-16.048736572265625,6.406112194061279,-4.881068229675293,-21.770830154418945,-22.266918182373047,-28.51127815246582],\"z\":[19.623409271240234,1.386475920677185,12.4171781539917,11.172371864318848,6.153149127960205,-0.6907545328140259,6.044349670410156,6.200497627258301,20.218412399291992,-18.50641441345215,-17.24098777770996,-4.243448257446289,8.002386093139648,5.014949798583984,-4.668166637420654,-19.675064086914062,10.282468795776367,-21.732036590576172,14.6670503616333,-5.664290428161621,-5.991543292999268,-14.788450241088867,20.092666625976562,-15.622589111328125,-12.08918285369873,6.210808277130127,3.3213067054748535,-10.760455131530762,6.166308879852295,-14.579339027404785,24.003942489624023,-7.880598068237305,-17.608366012573242,13.665837287902832,-17.028963088989258,16.871347427368164,15.199409484863281,-1.9040844440460205,-3.5879836082458496,-3.481372594833374,18.22292137145996,24.472888946533203,-7.974352836608887,-0.639173686504364,-17.345975875854492,16.92993927001953,7.825446128845215,10.094077110290527,9.415559768676758,8.619736671447754,-11.042723655700684,-6.649223804473877,-20.278749465942383,1.9127728939056396,2.695189952850342,15.702821731567383,-1.9902888536453247,0.2230822741985321,-7.756501197814941,-6.858457088470459,18.5451602935791,-18.090167999267578,1.6821277141571045,-18.91383934020996,24.726055145263672,3.099885940551758,-2.300640821456909,5.634647369384766,11.77229118347168,3.9291720390319824,-18.782991409301758,1.6302238702774048,-0.6610859036445618,21.602741241455078,3.210496187210083,12.94448184967041,21.97089958190918,-11.787232398986816,5.541298866271973,8.743551254272461,14.819904327392578,-4.042661666870117,-7.140720367431641,1.546970248222351,6.397572040557861,2.1960015296936035,13.930621147155762,-10.449138641357422,2.3223042488098145,3.618863105773926,-5.188654899597168,13.29757022857666,1.2509913444519043,-10.718803405761719,5.443562984466553,11.562515258789062,-8.060420036315918,-14.909360885620117,-1.8616141080856323,1.3431212902069092,-11.127433776855469,2.213210105895996,10.73453426361084,7.535414695739746,-5.607804775238037,-15.861345291137695,3.3486223220825195,20.751689910888672,2.007091522216797,0.9705959558486938,-11.151031494140625,-19.889556884765625,-19.11855125427246,23.99363136291504,-20.98432731628418,4.125365734100342,-21.214506149291992,3.818126678466797,1.5509603023529053,1.5207611322402954,-2.544522762298584,5.015553951263428,1.6493467092514038,-0.09855452179908752,8.661881446838379,-2.922224521636963,21.38318634033203,-0.27156397700309753,5.065756320953369,9.825949668884277,-0.7414418458938599,-3.12373948097229,-0.022053800523281097,-14.215873718261719,2.1579902172088623,0.7915329337120056,1.5106956958770752,-19.200407028198242,-1.09319007396698,-2.850736618041992,6.068915367126465,-19.39687156677246,16.569137573242188,-11.1920747756958,4.277469635009766,-9.619359016418457,1.1378262042999268,0.27212288975715637,-3.8779516220092773,1.2706702947616577,16.757137298583984,8.524494171142578,4.769320487976074,-11.211786270141602,-7.786664009094238,22.504680633544922,4.991674423217773,-16.74702262878418,-1.1674224138259888,13.746626853942871,15.276111602783203,-0.3841540813446045,-7.6956000328063965,1.7146228551864624,1.3574520349502563,10.419050216674805,16.54031753540039,-11.488614082336426,5.323629379272461,9.357149124145508,-18.48488998413086,-18.617969512939453,16.231924057006836,0.050805460661649704,17.068470001220703,-0.40955641865730286,5.446378707885742,10.580873489379883,4.734553337097168,-14.589588165283203,-8.973410606384277,12.72546100616455,16.996435165405273,18.196653366088867,4.095394134521484,-2.9919466972351074,-2.1579537391662598,5.718498229980469,14.303030967712402,-12.196952819824219,13.168464660644531,3.6643245220184326,-16.40981674194336,-3.6961143016815186,2.0754544734954834,22.304466247558594,1.8329076766967773,21.57587432861328,22.727155685424805,14.135382652282715,-9.580158233642578,-0.2810439467430115,-19.0787296295166,2.5020036697387695,8.730698585510254,-3.714459180831909,14.210497856140137,3.837986707687378,15.417621612548828,7.864105701446533,-8.009624481201172,-21.26585578918457,-10.06163215637207,-17.929224014282227,-0.8791391849517822,3.0239312648773193,7.338720798492432,4.221940517425537,-11.421982765197754,-1.1180202960968018,-0.5231441855430603,6.506755352020264,6.593610763549805,3.9735946655273438,20.046051025390625,-3.753443479537964,6.329866409301758,-4.9345173835754395,-17.784414291381836,-2.256206750869751,5.784621238708496,4.387714862823486,2.314924478530884,-1.2619528770446777,3.7573399543762207,-12.935689926147461,15.660539627075195,21.157949447631836,13.312962532043457,16.6245059967041,14.000277519226074,-18.271081924438477,-0.7794860601425171,21.29878044128418,22.35330581665039,-6.758840084075928,0.4384247660636902,4.216526508331299,7.846149921417236,5.411569118499756,5.502715110778809,1.3262977600097656,10.11670207977295,18.34451675415039,9.796161651611328,6.976494789123535,13.716943740844727,22.06850814819336,-1.4560518264770508,-2.7762112617492676,3.0964272022247314,4.456403732299805,13.258085250854492,0.19277769327163696,2.7517380714416504,2.2093992233276367,-21.309812545776367,1.3173141479492188,-9.771660804748535,8.952265739440918,4.097803115844727,1.4280203580856323,-17.363525390625,-20.429061889648438,-1.5339934825897217,2.035601854324341,-3.0585858821868896,16.41967010498047,-18.10087776184082,-3.055386781692505,-0.4156492054462433,-9.612253189086914,3.338690757751465,5.302199363708496,9.648162841796875,-20.856643676757812,1.7700704336166382,-1.9264897108078003,5.069891452789307,-0.49301767349243164,16.161760330200195,2.1367461681365967,8.900773048400879,-2.434948682785034,4.260562419891357,1.926644206047058,-0.17352457344532013,8.005668640136719,-13.757373809814453,-13.175658226013184,7.205300331115723,22.061817169189453,12.614235877990723,-18.950685501098633,9.389229774475098,5.290487289428711,3.2154204845428467,0.7885301113128662,4.023285388946533,6.499881744384766,-16.542552947998047,15.821535110473633,-11.93323802947998,-11.439465522766113,16.492843627929688,2.189832925796509,17.01365852355957,16.22206687927246,0.45564958453178406,-8.360753059387207,11.986220359802246,7.393736362457275,8.979366302490234,10.371806144714355,-5.465492248535156,-10.66611385345459,6.361472129821777,1.4459786415100098,12.424064636230469,22.308900833129883,-3.5356972217559814,-0.6932901740074158,-4.465236663818359,17.199384689331055,9.074603080749512,18.815040588378906,5.311624050140381,17.101924896240234,-3.957728385925293,-2.654818534851074,-2.965513229370117,10.5657377243042,-0.5909228920936584,6.49493932723999,6.360827445983887,5.5346903800964355,-15.11965274810791,16.785696029663086,10.034914016723633,-2.704597234725952,5.077169895172119,16.371074676513672,-6.788659572601318,17.78136444091797,-8.130024909973145,-19.221689224243164,9.07544994354248,12.665313720703125,-4.239086151123047,5.088165283203125,-10.079127311706543,3.7420260906219482,16.02775001525879,-21.04119300842285,12.771991729736328,-8.858518600463867,-8.689587593078613,-16.53497886657715,-15.658340454101562,-1.0731571912765503,19.86199188232422,23.683069229125977,24.939546585083008,12.53284740447998,7.0832109451293945,-2.3657445907592773],\"type\":\"scatter3d\"}],                        {\"margin\":{\"b\":0,\"l\":0,\"r\":0,\"t\":0},\"showlegend\":true,\"template\":{\"data\":{\"barpolar\":[{\"marker\":{\"line\":{\"color\":\"#E5ECF6\",\"width\":0.5},\"pattern\":{\"fillmode\":\"overlay\",\"size\":10,\"solidity\":0.2}},\"type\":\"barpolar\"}],\"bar\":[{\"error_x\":{\"color\":\"#2a3f5f\"},\"error_y\":{\"color\":\"#2a3f5f\"},\"marker\":{\"line\":{\"color\":\"#E5ECF6\",\"width\":0.5},\"pattern\":{\"fillmode\":\"overlay\",\"size\":10,\"solidity\":0.2}},\"type\":\"bar\"}],\"carpet\":[{\"aaxis\":{\"endlinecolor\":\"#2a3f5f\",\"gridcolor\":\"white\",\"linecolor\":\"white\",\"minorgridcolor\":\"white\",\"startlinecolor\":\"#2a3f5f\"},\"baxis\":{\"endlinecolor\":\"#2a3f5f\",\"gridcolor\":\"white\",\"linecolor\":\"white\",\"minorgridcolor\":\"white\",\"startlinecolor\":\"#2a3f5f\"},\"type\":\"carpet\"}],\"choropleth\":[{\"colorbar\":{\"outlinewidth\":0,\"ticks\":\"\"},\"type\":\"choropleth\"}],\"contourcarpet\":[{\"colorbar\":{\"outlinewidth\":0,\"ticks\":\"\"},\"type\":\"contourcarpet\"}],\"contour\":[{\"colorbar\":{\"outlinewidth\":0,\"ticks\":\"\"},\"colorscale\":[[0.0,\"#0d0887\"],[0.1111111111111111,\"#46039f\"],[0.2222222222222222,\"#7201a8\"],[0.3333333333333333,\"#9c179e\"],[0.4444444444444444,\"#bd3786\"],[0.5555555555555556,\"#d8576b\"],[0.6666666666666666,\"#ed7953\"],[0.7777777777777778,\"#fb9f3a\"],[0.8888888888888888,\"#fdca26\"],[1.0,\"#f0f921\"]],\"type\":\"contour\"}],\"heatmapgl\":[{\"colorbar\":{\"outlinewidth\":0,\"ticks\":\"\"},\"colorscale\":[[0.0,\"#0d0887\"],[0.1111111111111111,\"#46039f\"],[0.2222222222222222,\"#7201a8\"],[0.3333333333333333,\"#9c179e\"],[0.4444444444444444,\"#bd3786\"],[0.5555555555555556,\"#d8576b\"],[0.6666666666666666,\"#ed7953\"],[0.7777777777777778,\"#fb9f3a\"],[0.8888888888888888,\"#fdca26\"],[1.0,\"#f0f921\"]],\"type\":\"heatmapgl\"}],\"heatmap\":[{\"colorbar\":{\"outlinewidth\":0,\"ticks\":\"\"},\"colorscale\":[[0.0,\"#0d0887\"],[0.1111111111111111,\"#46039f\"],[0.2222222222222222,\"#7201a8\"],[0.3333333333333333,\"#9c179e\"],[0.4444444444444444,\"#bd3786\"],[0.5555555555555556,\"#d8576b\"],[0.6666666666666666,\"#ed7953\"],[0.7777777777777778,\"#fb9f3a\"],[0.8888888888888888,\"#fdca26\"],[1.0,\"#f0f921\"]],\"type\":\"heatmap\"}],\"histogram2dcontour\":[{\"colorbar\":{\"outlinewidth\":0,\"ticks\":\"\"},\"colorscale\":[[0.0,\"#0d0887\"],[0.1111111111111111,\"#46039f\"],[0.2222222222222222,\"#7201a8\"],[0.3333333333333333,\"#9c179e\"],[0.4444444444444444,\"#bd3786\"],[0.5555555555555556,\"#d8576b\"],[0.6666666666666666,\"#ed7953\"],[0.7777777777777778,\"#fb9f3a\"],[0.8888888888888888,\"#fdca26\"],[1.0,\"#f0f921\"]],\"type\":\"histogram2dcontour\"}],\"histogram2d\":[{\"colorbar\":{\"outlinewidth\":0,\"ticks\":\"\"},\"colorscale\":[[0.0,\"#0d0887\"],[0.1111111111111111,\"#46039f\"],[0.2222222222222222,\"#7201a8\"],[0.3333333333333333,\"#9c179e\"],[0.4444444444444444,\"#bd3786\"],[0.5555555555555556,\"#d8576b\"],[0.6666666666666666,\"#ed7953\"],[0.7777777777777778,\"#fb9f3a\"],[0.8888888888888888,\"#fdca26\"],[1.0,\"#f0f921\"]],\"type\":\"histogram2d\"}],\"histogram\":[{\"marker\":{\"pattern\":{\"fillmode\":\"overlay\",\"size\":10,\"solidity\":0.2}},\"type\":\"histogram\"}],\"mesh3d\":[{\"colorbar\":{\"outlinewidth\":0,\"ticks\":\"\"},\"type\":\"mesh3d\"}],\"parcoords\":[{\"line\":{\"colorbar\":{\"outlinewidth\":0,\"ticks\":\"\"}},\"type\":\"parcoords\"}],\"pie\":[{\"automargin\":true,\"type\":\"pie\"}],\"scatter3d\":[{\"line\":{\"colorbar\":{\"outlinewidth\":0,\"ticks\":\"\"}},\"marker\":{\"colorbar\":{\"outlinewidth\":0,\"ticks\":\"\"}},\"type\":\"scatter3d\"}],\"scattercarpet\":[{\"marker\":{\"colorbar\":{\"outlinewidth\":0,\"ticks\":\"\"}},\"type\":\"scattercarpet\"}],\"scattergeo\":[{\"marker\":{\"colorbar\":{\"outlinewidth\":0,\"ticks\":\"\"}},\"type\":\"scattergeo\"}],\"scattergl\":[{\"marker\":{\"colorbar\":{\"outlinewidth\":0,\"ticks\":\"\"}},\"type\":\"scattergl\"}],\"scattermapbox\":[{\"marker\":{\"colorbar\":{\"outlinewidth\":0,\"ticks\":\"\"}},\"type\":\"scattermapbox\"}],\"scatterpolargl\":[{\"marker\":{\"colorbar\":{\"outlinewidth\":0,\"ticks\":\"\"}},\"type\":\"scatterpolargl\"}],\"scatterpolar\":[{\"marker\":{\"colorbar\":{\"outlinewidth\":0,\"ticks\":\"\"}},\"type\":\"scatterpolar\"}],\"scatter\":[{\"fillpattern\":{\"fillmode\":\"overlay\",\"size\":10,\"solidity\":0.2},\"type\":\"scatter\"}],\"scatterternary\":[{\"marker\":{\"colorbar\":{\"outlinewidth\":0,\"ticks\":\"\"}},\"type\":\"scatterternary\"}],\"surface\":[{\"colorbar\":{\"outlinewidth\":0,\"ticks\":\"\"},\"colorscale\":[[0.0,\"#0d0887\"],[0.1111111111111111,\"#46039f\"],[0.2222222222222222,\"#7201a8\"],[0.3333333333333333,\"#9c179e\"],[0.4444444444444444,\"#bd3786\"],[0.5555555555555556,\"#d8576b\"],[0.6666666666666666,\"#ed7953\"],[0.7777777777777778,\"#fb9f3a\"],[0.8888888888888888,\"#fdca26\"],[1.0,\"#f0f921\"]],\"type\":\"surface\"}],\"table\":[{\"cells\":{\"fill\":{\"color\":\"#EBF0F8\"},\"line\":{\"color\":\"white\"}},\"header\":{\"fill\":{\"color\":\"#C8D4E3\"},\"line\":{\"color\":\"white\"}},\"type\":\"table\"}]},\"layout\":{\"annotationdefaults\":{\"arrowcolor\":\"#2a3f5f\",\"arrowhead\":0,\"arrowwidth\":1},\"autotypenumbers\":\"strict\",\"coloraxis\":{\"colorbar\":{\"outlinewidth\":0,\"ticks\":\"\"}},\"colorscale\":{\"diverging\":[[0,\"#8e0152\"],[0.1,\"#c51b7d\"],[0.2,\"#de77ae\"],[0.3,\"#f1b6da\"],[0.4,\"#fde0ef\"],[0.5,\"#f7f7f7\"],[0.6,\"#e6f5d0\"],[0.7,\"#b8e186\"],[0.8,\"#7fbc41\"],[0.9,\"#4d9221\"],[1,\"#276419\"]],\"sequential\":[[0.0,\"#0d0887\"],[0.1111111111111111,\"#46039f\"],[0.2222222222222222,\"#7201a8\"],[0.3333333333333333,\"#9c179e\"],[0.4444444444444444,\"#bd3786\"],[0.5555555555555556,\"#d8576b\"],[0.6666666666666666,\"#ed7953\"],[0.7777777777777778,\"#fb9f3a\"],[0.8888888888888888,\"#fdca26\"],[1.0,\"#f0f921\"]],\"sequentialminus\":[[0.0,\"#0d0887\"],[0.1111111111111111,\"#46039f\"],[0.2222222222222222,\"#7201a8\"],[0.3333333333333333,\"#9c179e\"],[0.4444444444444444,\"#bd3786\"],[0.5555555555555556,\"#d8576b\"],[0.6666666666666666,\"#ed7953\"],[0.7777777777777778,\"#fb9f3a\"],[0.8888888888888888,\"#fdca26\"],[1.0,\"#f0f921\"]]},\"colorway\":[\"#636efa\",\"#EF553B\",\"#00cc96\",\"#ab63fa\",\"#FFA15A\",\"#19d3f3\",\"#FF6692\",\"#B6E880\",\"#FF97FF\",\"#FECB52\"],\"font\":{\"color\":\"#2a3f5f\"},\"geo\":{\"bgcolor\":\"white\",\"lakecolor\":\"white\",\"landcolor\":\"#E5ECF6\",\"showlakes\":true,\"showland\":true,\"subunitcolor\":\"white\"},\"hoverlabel\":{\"align\":\"left\"},\"hovermode\":\"closest\",\"mapbox\":{\"style\":\"light\"},\"paper_bgcolor\":\"white\",\"plot_bgcolor\":\"#E5ECF6\",\"polar\":{\"angularaxis\":{\"gridcolor\":\"white\",\"linecolor\":\"white\",\"ticks\":\"\"},\"bgcolor\":\"#E5ECF6\",\"radialaxis\":{\"gridcolor\":\"white\",\"linecolor\":\"white\",\"ticks\":\"\"}},\"scene\":{\"xaxis\":{\"backgroundcolor\":\"#E5ECF6\",\"gridcolor\":\"white\",\"gridwidth\":2,\"linecolor\":\"white\",\"showbackground\":true,\"ticks\":\"\",\"zerolinecolor\":\"white\"},\"yaxis\":{\"backgroundcolor\":\"#E5ECF6\",\"gridcolor\":\"white\",\"gridwidth\":2,\"linecolor\":\"white\",\"showbackground\":true,\"ticks\":\"\",\"zerolinecolor\":\"white\"},\"zaxis\":{\"backgroundcolor\":\"#E5ECF6\",\"gridcolor\":\"white\",\"gridwidth\":2,\"linecolor\":\"white\",\"showbackground\":true,\"ticks\":\"\",\"zerolinecolor\":\"white\"}},\"shapedefaults\":{\"line\":{\"color\":\"#2a3f5f\"}},\"ternary\":{\"aaxis\":{\"gridcolor\":\"white\",\"linecolor\":\"white\",\"ticks\":\"\"},\"baxis\":{\"gridcolor\":\"white\",\"linecolor\":\"white\",\"ticks\":\"\"},\"bgcolor\":\"#E5ECF6\",\"caxis\":{\"gridcolor\":\"white\",\"linecolor\":\"white\",\"ticks\":\"\"}},\"title\":{\"x\":0.05},\"xaxis\":{\"automargin\":true,\"gridcolor\":\"white\",\"linecolor\":\"white\",\"ticks\":\"\",\"title\":{\"standoff\":15},\"zerolinecolor\":\"white\",\"zerolinewidth\":2},\"yaxis\":{\"automargin\":true,\"gridcolor\":\"white\",\"linecolor\":\"white\",\"ticks\":\"\",\"title\":{\"standoff\":15},\"zerolinecolor\":\"white\",\"zerolinewidth\":2}}}},                        {\"responsive\": true}                    ).then(function(){\n",
       "                            \n",
       "var gd = document.getElementById('46988d97-8519-41dd-aeac-bf50e2ba0b30');\n",
       "var x = new MutationObserver(function (mutations, observer) {{\n",
       "        var display = window.getComputedStyle(gd).display;\n",
       "        if (!display || display === 'none') {{\n",
       "            console.log([gd, 'removed!']);\n",
       "            Plotly.purge(gd);\n",
       "            observer.disconnect();\n",
       "        }}\n",
       "}});\n",
       "\n",
       "// Listen for the removal of the full notebook cells\n",
       "var notebookContainer = gd.closest('#notebook-container');\n",
       "if (notebookContainer) {{\n",
       "    x.observe(notebookContainer, {childList: true});\n",
       "}}\n",
       "\n",
       "// Listen for the clearing of the current output cell\n",
       "var outputEl = gd.closest('.output');\n",
       "if (outputEl) {{\n",
       "    x.observe(outputEl, {childList: true});\n",
       "}}\n",
       "\n",
       "                        })                };                });            </script>        </div>"
      ]
     },
     "metadata": {},
     "output_type": "display_data"
    }
   ],
   "source": [
    "vis_3d_tsne_interactive(\n",
    "    dataset = 'toy', \n",
    "    mode = 'true',\n",
    "    outlier = 1,\n",
    "    vis_group = true_group,\n",
    "    vis_representation = 'inputs',\n",
    "    y = 0,\n",
    ")"
   ]
  },
  {
   "cell_type": "code",
   "execution_count": 86,
   "id": "7e0d4acb",
   "metadata": {},
   "outputs": [
    {
     "name": "stdout",
     "output_type": "stream",
     "text": [
      "Loading the TSNE results...\n"
     ]
    },
    {
     "data": {
      "application/vnd.plotly.v1+json": {
       "config": {
        "linkText": "Export to plot.ly",
        "plotlyServerURL": "https://plot.ly",
        "showLink": false
       },
       "data": [
        {
         "marker": {
          "color": [
           3,
           3,
           5,
           3,
           4,
           3,
           3,
           3,
           3,
           4,
           3,
           5,
           3,
           3,
           3,
           3,
           3,
           3,
           3,
           3,
           4,
           5,
           3,
           3,
           4,
           3,
           5,
           3,
           3,
           3,
           3,
           3,
           4,
           3,
           3,
           4,
           5,
           3,
           3,
           3,
           3,
           4,
           3,
           3,
           4,
           4,
           4,
           3,
           4,
           3,
           4,
           5,
           3,
           4,
           3,
           3,
           3,
           4,
           3,
           3,
           4,
           3,
           4,
           3,
           3,
           3,
           3,
           3,
           3,
           3,
           4,
           3,
           3,
           4,
           4,
           3,
           3,
           3,
           3,
           5,
           3,
           5,
           3,
           4,
           3,
           3,
           3,
           3,
           3,
           5,
           3,
           4,
           3,
           3,
           3,
           3,
           3,
           4,
           4,
           3,
           3,
           3,
           4,
           3,
           4,
           3,
           3,
           3,
           3,
           3,
           3,
           5,
           4,
           3,
           4,
           3,
           4,
           3,
           3,
           4,
           3,
           3,
           3,
           3,
           4,
           3,
           3,
           5,
           3,
           3,
           3,
           3,
           5,
           4,
           4,
           3,
           4,
           3,
           3,
           5,
           3,
           4,
           4,
           4,
           3,
           3,
           3,
           3,
           3,
           3,
           5,
           3,
           5,
           3,
           3,
           3,
           5,
           4,
           3,
           3,
           5,
           3,
           3,
           5,
           3,
           3,
           3,
           3,
           3,
           4,
           4,
           3,
           3,
           3,
           3,
           3,
           3,
           3,
           5,
           3,
           3,
           4,
           3,
           3,
           4,
           3,
           5,
           3,
           5,
           3,
           3,
           3,
           3,
           3,
           4,
           3,
           3,
           3,
           3,
           3,
           3,
           3,
           3,
           3,
           4,
           4,
           3,
           3,
           3,
           4,
           3,
           3,
           4,
           4,
           3,
           3,
           3,
           3,
           3,
           3,
           4,
           3,
           3,
           3,
           4,
           3,
           3,
           3,
           3,
           3,
           3,
           4,
           4,
           3,
           4,
           3,
           3,
           3,
           3,
           3,
           3,
           3,
           3,
           3,
           3,
           3,
           4,
           3,
           3,
           3,
           3,
           3,
           3,
           4,
           3,
           3,
           3,
           3,
           3,
           3,
           3,
           4,
           3,
           3,
           3,
           3,
           3,
           3,
           4,
           4,
           3,
           4,
           3,
           3,
           3,
           3,
           3,
           3,
           3,
           5,
           3,
           3,
           3,
           4,
           3,
           3,
           3,
           3,
           3,
           3,
           3,
           3,
           4,
           3,
           3,
           3,
           3,
           3,
           4,
           3,
           5,
           3,
           4,
           3,
           3,
           3,
           3,
           3,
           4,
           3,
           3,
           3,
           3,
           3,
           3,
           4,
           3,
           3,
           3,
           3,
           3,
           3,
           3,
           3,
           3,
           3,
           3,
           3,
           3,
           3,
           3,
           3,
           4,
           3,
           3,
           3,
           3,
           3,
           3,
           3,
           3,
           3,
           3,
           3,
           3,
           3,
           4,
           3,
           3,
           4,
           3,
           3,
           3,
           4,
           3,
           4,
           3,
           4,
           3,
           4,
           3,
           3,
           3,
           3,
           3,
           3,
           3,
           4,
           3,
           3,
           3,
           3,
           3,
           3,
           3,
           3,
           3,
           3,
           3,
           3,
           3,
           4,
           4,
           4,
           4,
           4,
           4,
           3,
           3,
           4,
           3,
           3,
           3,
           3,
           3,
           3,
           3,
           3,
           3,
           3,
           3,
           3,
           3,
           3,
           3,
           3,
           3,
           3,
           3,
           3,
           3,
           3,
           4,
           3,
           3,
           3,
           4,
           3,
           3,
           4,
           3,
           3,
           3,
           4
          ],
          "opacity": 0.8,
          "size": 4
         },
         "mode": "markers",
         "type": "scatter3d",
         "x": [
          -1.4002457857131958,
          12.533074378967285,
          -9.92253589630127,
          -3.4527034759521484,
          -0.27346932888031006,
          6.968522548675537,
          4.327805042266846,
          31.763057708740234,
          11.458076477050781,
          5.217741012573242,
          16.432090759277344,
          3.3898091316223145,
          0.5226762890815735,
          2.058835744857788,
          13.99770736694336,
          7.246860980987549,
          8.933486938476562,
          -4.619856834411621,
          6.765347480773926,
          -10.962252616882324,
          18.370595932006836,
          2.3314707279205322,
          2.329127311706543,
          9.613041877746582,
          4.3919148445129395,
          21.284883499145508,
          3.483116865158081,
          -9.446544647216797,
          9.833572387695312,
          15.641351699829102,
          17.408388137817383,
          -14.104220390319824,
          17.61989974975586,
          -18.114694595336914,
          -15.244483947753906,
          12.405472755432129,
          4.4071879386901855,
          13.470513343811035,
          -8.194522857666016,
          9.318035125732422,
          -11.638561248779297,
          0.2683008015155792,
          1.6728594303131104,
          -12.832290649414062,
          8.499617576599121,
          15.218703269958496,
          16.294660568237305,
          1.7749801874160767,
          -1.8405601978302002,
          1.1180169582366943,
          20.30622100830078,
          -0.8268009424209595,
          -6.578153610229492,
          18.442136764526367,
          -13.640740394592285,
          -12.788690567016602,
          4.281426906585693,
          12.681214332580566,
          -16.831796646118164,
          -14.535883903503418,
          19.217388153076172,
          14.10076904296875,
          16.67979621887207,
          -3.0381312370300293,
          2.855198860168457,
          -5.29876708984375,
          4.940487861633301,
          -18.318115234375,
          -2.9736576080322266,
          -6.993216514587402,
          5.330249786376953,
          -6.874210834503174,
          2.5401487350463867,
          8.266853332519531,
          21.03658676147461,
          20.248092651367188,
          11.178263664245605,
          8.13016414642334,
          14.22360610961914,
          -1.2097018957138062,
          2.815523624420166,
          15.899106979370117,
          -10.44177532196045,
          0.4576391577720642,
          0.7116734385490417,
          13.033720016479492,
          11.697257041931152,
          2.7805330753326416,
          -11.645354270935059,
          -1.8578288555145264,
          -8.225842475891113,
          18.843399047851562,
          2.783442497253418,
          0.5353321433067322,
          10.785758972167969,
          -19.67081069946289,
          12.931705474853516,
          8.677947044372559,
          8.020011901855469,
          7.741627216339111,
          -3.115352153778076,
          0.7110247015953064,
          18.98081398010254,
          2.0248916149139404,
          13.305126190185547,
          10.238703727722168,
          0.9819152355194092,
          -11.834120750427246,
          2.1252331733703613,
          2.260019540786743,
          -6.278724193572998,
          15.017179489135742,
          1.5366854667663574,
          -9.317785263061523,
          21.965238571166992,
          -9.485684394836426,
          2.0385141372680664,
          18.679550170898438,
          -18.3638973236084,
          -0.4125003218650818,
          0.8512951135635376,
          0.9930987358093262,
          6.157138824462891,
          5.946284294128418,
          18.91423797607422,
          8.377184867858887,
          15.203033447265625,
          -10.016005516052246,
          -3.414943218231201,
          2.579935312271118,
          18.272279739379883,
          15.41861629486084,
          -1.68697988986969,
          3.300241470336914,
          13.003743171691895,
          12.957324981689453,
          4.321465492248535,
          13.42110538482666,
          -6.6201252937316895,
          -18.191186904907227,
          17.326717376708984,
          18.349714279174805,
          22.803062438964844,
          21.639663696289062,
          10.232573509216309,
          0.19481629133224487,
          -9.453808784484863,
          6.5454792976379395,
          -18.079336166381836,
          -4.9796013832092285,
          0.025413217023015022,
          7.683004379272461,
          0.413076788187027,
          19.05692481994629,
          -7.086803436279297,
          0.9424383640289307,
          8.403504371643066,
          11.7291898727417,
          -20.91481590270996,
          0.48969778418540955,
          -10.484357833862305,
          -8.087719917297363,
          -3.7729814052581787,
          2.214885711669922,
          0.2724853754043579,
          1.6636451482772827,
          19.108688354492188,
          4.461768627166748,
          10.574100494384766,
          10.596883773803711,
          18.306655883789062,
          9.576220512390137,
          15.647919654846191,
          -2.5100765228271484,
          1.6062251329421997,
          -11.694833755493164,
          1.8986726999282837,
          4.032364845275879,
          -0.7033176422119141,
          17.045297622680664,
          -11.57906436920166,
          15.513681411743164,
          9.084355354309082,
          3.3367197513580322,
          1.8698407411575317,
          -19.44668197631836,
          1.5580672025680542,
          1.4292705059051514,
          -5.919999122619629,
          -12.898725509643555,
          7.65120792388916,
          -19.098613739013672,
          8.81333065032959,
          7.909844875335693,
          17.6220760345459,
          1.7505195140838623,
          -19.05860137939453,
          10.973857879638672,
          30.113786697387695,
          -6.798403739929199,
          3.260420322418213,
          -19.20180320739746,
          15.48602294921875,
          2.785719156265259,
          20.184785842895508,
          2.6805951595306396,
          -4.4561848640441895,
          -13.724794387817383,
          -15.037483215332031,
          2.7890117168426514,
          -7.196321487426758,
          16.899993896484375,
          9.600154876708984,
          -1.6547737121582031,
          -18.213529586791992,
          -9.874979972839355,
          4.1060075759887695,
          -20.49069595336914,
          7.262247562408447,
          -19.030241012573242,
          20.78312873840332,
          1.8602776527404785,
          -20.36323356628418,
          -12.88045883178711,
          6.861629009246826,
          -6.938286781311035,
          1.0440738201141357,
          13.017053604125977,
          17.36944580078125,
          -3.1983330249786377,
          10.800898551940918,
          9.726285934448242,
          18.363508224487305,
          -4.606171131134033,
          -0.6473397016525269,
          -11.386818885803223,
          12.409285545349121,
          -15.869074821472168,
          -7.169351577758789,
          9.334936141967773,
          -1.6428762674331665,
          4.354759216308594,
          -11.641135215759277,
          0.13143430650234222,
          2.2946085929870605,
          4.185182571411133,
          18.311979293823242,
          10.219024658203125,
          -7.0765204429626465,
          -17.495281219482422,
          -15.046304702758789,
          0.6547143459320068,
          -5.3274736404418945,
          3.5546579360961914,
          2.8736326694488525,
          11.481213569641113,
          9.518548965454102,
          0.7592079639434814,
          11.79039478302002,
          -16.524940490722656,
          -5.890539646148682,
          10.242045402526855,
          13.069189071655273,
          9.228260040283203,
          -12.487812995910645,
          13.321988105773926,
          7.678142070770264,
          -17.478050231933594,
          19.164226531982422,
          17.562856674194336,
          -11.236603736877441,
          19.42392349243164,
          2.8206543922424316,
          0.6575818061828613,
          6.378774166107178,
          17.112716674804688,
          -17.294601440429688,
          -16.58749771118164,
          11.646561622619629,
          -7.640293121337891,
          2.961928367614746,
          6.791093349456787,
          -8.16869068145752,
          6.924898624420166,
          11.212804794311523,
          20.843917846679688,
          7.054925918579102,
          -19.5651798248291,
          9.189359664916992,
          -2.5121827125549316,
          -6.260093688964844,
          -4.947836875915527,
          9.82638168334961,
          -14.940165519714355,
          1.9915452003479004,
          -19.82921600341797,
          -12.055793762207031,
          1.8147733211517334,
          17.84718894958496,
          11.105026245117188,
          -19.01897621154785,
          -16.939712524414062,
          2.9060163497924805,
          14.280801773071289,
          14.66720962524414,
          17.682565689086914,
          16.203983306884766,
          -11.254186630249023,
          21.257925033569336,
          3.2488276958465576,
          -18.95359992980957,
          2.987410306930542,
          12.556407928466797,
          12.068587303161621,
          -19.054895401000977,
          10.694238662719727,
          -1.075278401374817,
          9.370988845825195,
          -11.04325008392334,
          -3.4778542518615723,
          -11.02493667602539,
          10.332934379577637,
          -17.51565933227539,
          3.390373706817627,
          20.416536331176758,
          15.283795356750488,
          -11.97565746307373,
          2.1907386779785156,
          -5.907802581787109,
          13.81698989868164,
          -1.8181610107421875,
          -7.030444622039795,
          15.68829345703125,
          -20.314584732055664,
          30.32986068725586,
          12.314421653747559,
          -8.838143348693848,
          17.766687393188477,
          18.294797897338867,
          14.44804573059082,
          -11.500212669372559,
          11.238617897033691,
          8.744213104248047,
          -4.412979602813721,
          11.136943817138672,
          0.43809401988983154,
          -1.3584543466567993,
          9.739103317260742,
          5.834253787994385,
          -3.2288129329681396,
          1.4547570943832397,
          2.9361283779144287,
          -17.081758499145508,
          5.827917575836182,
          -1.189720869064331,
          -2.385491132736206,
          2.639387607574463,
          17.376039505004883,
          -8.66675853729248,
          8.833271026611328,
          15.63230037689209,
          -0.07655543088912964,
          17.388431549072266,
          -9.876513481140137,
          3.125499725341797,
          4.497274875640869,
          -18.71331024169922,
          -1.77232027053833,
          11.62558650970459,
          20.863515853881836,
          32.07276153564453,
          -1.2061189413070679,
          -11.025781631469727,
          1.192457914352417,
          0.18721839785575867,
          6.835779190063477,
          -9.429644584655762,
          -6.729717254638672,
          -19.214445114135742,
          -7.823308944702148,
          18.647140502929688,
          17.715862274169922,
          -2.450004816055298,
          20.032222747802734,
          10.074594497680664,
          8.535273551940918,
          21.315275192260742,
          16.75564193725586,
          2.1258833408355713,
          11.750853538513184,
          -17.525009155273438,
          -4.816042900085449,
          13.672913551330566,
          13.957335472106934,
          -17.143386840820312,
          12.05439281463623,
          -19.110925674438477,
          0.2569893002510071,
          2.075268507003784,
          3.3458964824676514,
          -16.392105102539062,
          11.476819038391113,
          12.632061004638672,
          -4.147974014282227,
          1.6938828229904175,
          -7.61115026473999,
          10.365140914916992,
          31.76212501525879,
          -3.8012099266052246,
          -11.69471263885498,
          12.617013931274414,
          11.808979988098145,
          13.033753395080566,
          -16.286373138427734,
          -7.759222984313965,
          0.5935987830162048,
          13.944364547729492,
          -5.843557357788086,
          20.695175170898438,
          20.824907302856445,
          -0.4699072241783142,
          10.685067176818848,
          8.464629173278809,
          5.9107985496521
         ],
         "y": [
          18.981996536254883,
          9.703227996826172,
          -3.2523293495178223,
          30.45453643798828,
          13.81299114227295,
          -11.28303337097168,
          -12.55506706237793,
          -5.567979335784912,
          13.60560131072998,
          6.008637428283691,
          -8.016743659973145,
          8.36984634399414,
          -0.7456451654434204,
          18.324779510498047,
          -1.1518157720565796,
          12.549598693847656,
          -11.628880500793457,
          4.966672897338867,
          1.5320851802825928,
          10.559639930725098,
          3.5530965328216553,
          -17.232036590576172,
          -15.703629493713379,
          -13.673906326293945,
          8.000903129577637,
          -1.4385747909545898,
          -17.189287185668945,
          23.18780517578125,
          15.719501495361328,
          -11.72509479522705,
          -12.09121036529541,
          8.224818229675293,
          -8.352787971496582,
          15.515422821044922,
          -14.059000968933105,
          -2.3600380420684814,
          -17.06674575805664,
          -22.4365291595459,
          -26.932268142700195,
          -12.590105056762695,
          11.400511741638184,
          8.895809173583984,
          -27.58229637145996,
          4.107304573059082,
          3.191762685775757,
          -6.238179683685303,
          4.4343743324279785,
          -18.44147491455078,
          11.800993919372559,
          -0.6045054793357849,
          -8.844122886657715,
          -16.796871185302734,
          -5.4915971755981445,
          -13.468134880065918,
          5.329428672790527,
          -28.340694427490234,
          -17.097251892089844,
          -21.413843154907227,
          16.7757625579834,
          7.911158561706543,
          2.0627715587615967,
          -3.635648250579834,
          1.169724464416504,
          -25.21880340576172,
          -13.19152545928955,
          -25.749897003173828,
          8.232516288757324,
          -10.581114768981934,
          5.121091842651367,
          -3.384739637374878,
          5.745448589324951,
          -3.9419493675231934,
          7.551400661468506,
          4.487952709197998,
          -3.563068151473999,
          -2.579646587371826,
          4.202319622039795,
          -10.473264694213867,
          0.9421330690383911,
          -2.9484362602233887,
          19.37468719482422,
          -7.621510028839111,
          -27.99286651611328,
          8.829319953918457,
          -2.0989201068878174,
          1.4977471828460693,
          9.607843399047852,
          -13.450547218322754,
          8.485356330871582,
          -18.226228713989258,
          4.789420127868652,
          -12.39821720123291,
          -0.5985971689224243,
          -0.43150922656059265,
          -8.267928123474121,
          -5.827970027923584,
          9.474861145019531,
          -10.84653377532959,
          4.5170674324035645,
          -10.2265043258667,
          -18.790847778320312,
          -3.1322062015533447,
          -9.566329956054688,
          -17.46040153503418,
          -2.5092933177948,
          -15.218127250671387,
          -21.834720611572266,
          0.7090669274330139,
          -27.887121200561523,
          -5.455833435058594,
          -5.565157890319824,
          -5.951605319976807,
          -19.424413681030273,
          21.798662185668945,
          -5.987942695617676,
          -16.89620590209961,
          1.7688413858413696,
          -4.46213960647583,
          -11.477388381958008,
          13.924492835998535,
          -22.419660568237305,
          6.934117317199707,
          -11.002309799194336,
          1.2168859243392944,
          2.68467116355896,
          2.7522473335266113,
          -8.543987274169922,
          -3.19913911819458,
          -18.799720764160156,
          -5.37098503112793,
          -6.8668012619018555,
          -5.285391330718994,
          -18.132963180541992,
          2.82674241065979,
          -19.67249870300293,
          10.239578247070312,
          8.156817436218262,
          -22.380672454833984,
          -5.466182231903076,
          13.837017059326172,
          -11.61215877532959,
          -13.674108505249023,
          -6.346804141998291,
          -6.632645130157471,
          3.245269536972046,
          16.855140686035156,
          20.7542781829834,
          -10.85166072845459,
          -11.405862808227539,
          29.008960723876953,
          -17.149024963378906,
          -10.154071807861328,
          -17.1646728515625,
          -5.036048412322998,
          -2.8784825801849365,
          -14.507219314575195,
          2.827345609664917,
          -19.941492080688477,
          1.7250866889953613,
          -2.452840566635132,
          -3.8879361152648926,
          20.76271629333496,
          30.166515350341797,
          -15.788673400878906,
          -3.421051025390625,
          0.3628053367137909,
          -4.926728248596191,
          11.930281639099121,
          -15.240656852722168,
          -1.0611844062805176,
          -0.5468605756759644,
          -15.799898147583008,
          -11.711790084838867,
          19.63506317138672,
          -27.39590072631836,
          8.325726509094238,
          -27.761571884155273,
          6.892938613891602,
          -25.03975486755371,
          -9.318011283874512,
          -15.686753273010254,
          4.329565048217773,
          -2.3875203132629395,
          -28.601980209350586,
          -18.060880661010742,
          -11.550958633422852,
          8.442038536071777,
          -0.23875851929187775,
          -18.345949172973633,
          4.290022850036621,
          -11.099818229675293,
          -5.8144450187683105,
          -11.35723876953125,
          2.005573272705078,
          -15.168122291564941,
          -0.7096885442733765,
          -4.835319519042969,
          15.633715629577637,
          -5.9222893714904785,
          -4.257122993469238,
          -5.0951008796691895,
          -9.819714546203613,
          -8.214457511901855,
          -0.5788292288780212,
          -2.458883762359619,
          2.2987680435180664,
          20.452838897705078,
          5.676536560058594,
          8.039963722229004,
          -15.364063262939453,
          4.358962059020996,
          -9.022223472595215,
          -0.09995169937610626,
          7.881819725036621,
          15.198467254638672,
          -27.746034622192383,
          -4.758781433105469,
          0.8046376705169678,
          12.55867862701416,
          -8.299705505371094,
          -8.613951683044434,
          18.141040802001953,
          0.4399069845676422,
          -28.492475509643555,
          4.53215217590332,
          0.5557035803794861,
          -21.559419631958008,
          -7.088579177856445,
          -11.861011505126953,
          5.060052871704102,
          14.862664222717285,
          -19.39755630493164,
          3.694279193878174,
          20.51556396484375,
          13.562848091125488,
          12.401660919189453,
          11.816926956176758,
          18.260438919067383,
          -0.8977279663085938,
          2.6716766357421875,
          -25.991052627563477,
          -4.667977809906006,
          0.14822080731391907,
          17.263015747070312,
          -27.855588912963867,
          -12.615008354187012,
          4.548976421356201,
          15.212410926818848,
          -5.142186164855957,
          15.518169403076172,
          -14.149282455444336,
          -14.973942756652832,
          -25.75868034362793,
          3.057326316833496,
          19.47835922241211,
          4.711752891540527,
          -12.94649600982666,
          -3.0932705402374268,
          -3.9205615520477295,
          7.891371726989746,
          -19.845569610595703,
          -0.7510768175125122,
          -7.0612030029296875,
          -12.345638275146484,
          3.3257882595062256,
          9.335975646972656,
          1.9025851488113403,
          14.446389198303223,
          -10.11652660369873,
          -15.287638664245605,
          -0.7473369240760803,
          1.4680873155593872,
          7.974482536315918,
          6.648150444030762,
          6.775435924530029,
          -10.617985725402832,
          -11.872422218322754,
          9.5097017288208,
          6.015227794647217,
          -4.787642955780029,
          -13.145029067993164,
          6.847372055053711,
          -26.919668197631836,
          4.527141571044922,
          -6.741079807281494,
          0.1422332525253296,
          6.9194159507751465,
          -11.550087928771973,
          -2.4955341815948486,
          19.637989044189453,
          -5.561226844787598,
          -18.761510848999023,
          -0.5482707023620605,
          -14.192420959472656,
          -13.567095756530762,
          -0.6954010128974915,
          10.616339683532715,
          -27.528730392456055,
          -8.50863265991211,
          -6.144985198974609,
          15.600491523742676,
          16.532007217407227,
          -15.289663314819336,
          0.6957070827484131,
          -12.850692749023438,
          -11.589949607849121,
          -10.950793266296387,
          -15.872541427612305,
          -4.051147937774658,
          9.613581657409668,
          -8.85154914855957,
          8.960546493530273,
          11.538751602172852,
          6.705740451812744,
          -7.822129726409912,
          -19.682884216308594,
          5.796496868133545,
          2.6904964447021484,
          -28.157119750976562,
          20.07033920288086,
          10.432891845703125,
          -8.541034698486328,
          14.263213157653809,
          -28.640745162963867,
          -1.947540283203125,
          -5.021998882293701,
          1.1338131427764893,
          -13.471734046936035,
          -20.27922248840332,
          -3.477135419845581,
          -25.408340454101562,
          -0.07207322120666504,
          4.383760929107666,
          0.3643053472042084,
          -5.89548921585083,
          -14.700826644897461,
          -17.270654678344727,
          -11.734513282775879,
          -6.813441753387451,
          -13.077595710754395,
          -28.731685638427734,
          -6.869615077972412,
          -11.207874298095703,
          -18.809324264526367,
          -3.887363910675049,
          17.866281509399414,
          12.345743179321289,
          16.153011322021484,
          -11.628754615783691,
          11.045376777648926,
          -27.44964027404785,
          -28.310890197753906,
          10.788402557373047,
          5.126856803894043,
          -25.19371223449707,
          11.031278610229492,
          -13.462307929992676,
          0.327786922454834,
          20.94422149658203,
          4.902848720550537,
          -8.034880638122559,
          6.222582817077637,
          -11.087885856628418,
          -16.662710189819336,
          9.351208686828613,
          11.979747772216797,
          -9.672045707702637,
          7.9270710945129395,
          5.8493571281433105,
          0.0984654501080513,
          -5.641473293304443,
          -2.9441843032836914,
          -16.001176834106445,
          -20.906455993652344,
          16.50721549987793,
          -10.925664901733398,
          23.349157333374023,
          4.146245002746582,
          -6.117704391479492,
          -2.5030336380004883,
          -4.5552287101745605,
          -0.021581610664725304,
          10.349488258361816,
          -8.839743614196777,
          -19.499032974243164,
          4.4447808265686035,
          -7.1021575927734375,
          -8.73190975189209,
          -0.14875124394893646,
          -20.06353759765625,
          15.446702003479004,
          4.947117328643799,
          1.3235752582550049,
          -2.790790557861328,
          10.954010963439941,
          6.606767654418945,
          15.623513221740723,
          17.261995315551758,
          -0.1590041220188141,
          7.332478046417236,
          17.483062744140625,
          4.657911777496338,
          -21.223773956298828,
          29.808366775512695,
          -27.787607192993164,
          -2.072413444519043,
          -3.602907419204712,
          -5.838878631591797,
          30.177629470825195,
          11.029735565185547,
          -14.571905136108398,
          12.966208457946777,
          -2.685495138168335,
          8.576330184936523,
          4.6078877449035645,
          -15.199734687805176,
          -4.259604454040527,
          -19.646142959594727,
          -1.3715319633483887,
          -3.310993194580078,
          18.401796340942383,
          -8.322298049926758,
          -10.75529956817627,
          5.088563442230225
         ],
         "z": [
          15.951035499572754,
          13.624224662780762,
          15.144967079162598,
          1.7947884798049927,
          6.454092502593994,
          -22.570301055908203,
          21.8192195892334,
          4.350185871124268,
          7.998523712158203,
          1.8156847953796387,
          7.939338207244873,
          5.436155796051025,
          11.366898536682129,
          15.898141860961914,
          9.165335655212402,
          14.883732795715332,
          15.033936500549316,
          25.353816986083984,
          14.170499801635742,
          17.334413528442383,
          -7.400973320007324,
          -7.952768325805664,
          -12.164627075195312,
          12.020548820495605,
          4.371499061584473,
          16.960803985595703,
          -8.201519966125488,
          12.919291496276855,
          8.37951946258545,
          9.531025886535645,
          3.145270824432373,
          11.801469802856445,
          -9.287867546081543,
          5.5022807121276855,
          6.94064474105835,
          -10.004180908203125,
          -8.624897956848145,
          -2.0750644207000732,
          3.6379387378692627,
          13.342447280883789,
          14.7560396194458,
          7.563936710357666,
          -7.473633289337158,
          13.401517868041992,
          -7.578939914703369,
          -10.775494575500488,
          -5.766442775726318,
          -16.40933609008789,
          7.556551933288574,
          10.550106048583984,
          -6.507761001586914,
          -8.053007125854492,
          18.64130973815918,
          -6.880092620849609,
          12.203753471374512,
          4.493409156799316,
          -8.533108711242676,
          -3.4045040607452393,
          8.229150772094727,
          11.426081657409668,
          -7.225054740905762,
          8.362564086914062,
          -3.3652162551879883,
          2.331214427947998,
          22.735334396362305,
          3.0154566764831543,
          4.237607955932617,
          7.233826160430908,
          23.77398109436035,
          23.823135375976562,
          1.4456446170806885,
          23.3051815032959,
          21.266210556030273,
          -4.51515531539917,
          -3.500528573989868,
          16.292774200439453,
          13.219817161560059,
          18.399673461914062,
          10.06048583984375,
          13.968716621398926,
          14.360259056091309,
          -11.278820037841797,
          3.84688138961792,
          7.467541217803955,
          21.598915100097656,
          10.796856880187988,
          14.396923065185547,
          -25.601179122924805,
          17.644023895263672,
          -5.774892807006836,
          24.93045425415039,
          -6.958929061889648,
          17.276803970336914,
          11.97514533996582,
          20.723941802978516,
          11.853635787963867,
          13.30651569366455,
          -22.322608947753906,
          -3.89483642578125,
          19.531808853149414,
          -4.428548812866211,
          18.85819435119629,
          -7.582745552062988,
          -15.610023498535156,
          -9.640154838562012,
          10.444439888000488,
          -18.23063850402832,
          13.812660217285156,
          -5.905388832092285,
          9.659889221191406,
          20.513153076171875,
          -10.744040489196777,
          -17.032320022583008,
          12.774399757385254,
          -4.218837738037109,
          0.22580935060977936,
          0.8984403014183044,
          14.074540138244629,
          5.525479793548584,
          6.4930901527404785,
          -18.481712341308594,
          21.52934455871582,
          -21.048629760742188,
          14.351696014404297,
          -7.355687141418457,
          -8.797313690185547,
          -13.056367874145508,
          15.072013854980469,
          -4.142117500305176,
          9.446136474609375,
          16.35089683532715,
          8.677855491638184,
          -5.966853618621826,
          0.7041796445846558,
          -4.833920001983643,
          13.099533081054688,
          4.580031394958496,
          -2.1510348320007324,
          18.491636276245117,
          5.808963298797607,
          3.9300575256347656,
          -6.865851402282715,
          -3.8660354614257812,
          -4.765836238861084,
          13.210593223571777,
          19.363033294677734,
          12.588773727416992,
          -20.827781677246094,
          5.877364158630371,
          2.9183013439178467,
          -7.7931718826293945,
          19.78303337097168,
          -7.858470916748047,
          16.881935119628906,
          24.244348526000977,
          -26.646940231323242,
          -8.570363998413086,
          -5.126401901245117,
          11.534646034240723,
          21.573579788208008,
          14.659111976623535,
          13.01109504699707,
          2.195406675338745,
          -11.897839546203613,
          19.836868286132812,
          11.513720512390137,
          16.89922523498535,
          17.144210815429688,
          10.229944229125977,
          -10.08837604522705,
          -4.1285881996154785,
          10.323476791381836,
          9.775235176086426,
          15.11660385131836,
          1.1596543788909912,
          17.66603660583496,
          -6.695436000823975,
          22.417150497436523,
          1.8873833417892456,
          6.645171165466309,
          1.3648239374160767,
          -4.731229782104492,
          5.866292953491211,
          -1.664371132850647,
          -16.134302139282227,
          4.654296398162842,
          6.896079063415527,
          10.67117977142334,
          -2.25221586227417,
          13.346904754638672,
          -22.45501708984375,
          10.487310409545898,
          15.610011100769043,
          13.829524040222168,
          -6.7611165046691895,
          20.683380126953125,
          10.534995079040527,
          6.6796674728393555,
          4.905624866485596,
          22.96656036376953,
          9.019309997558594,
          9.840911865234375,
          -12.434942245483398,
          17.335426330566406,
          -3.532871961593628,
          0.7936503887176514,
          14.038521766662598,
          12.183242797851562,
          10.995343208312988,
          -13.078950881958008,
          24.903501510620117,
          7.011937141418457,
          -9.901935577392578,
          8.998003959655762,
          5.407486915588379,
          3.7994465827941895,
          8.496134757995605,
          11.503556251525879,
          14.864803314208984,
          9.83502197265625,
          -6.130045413970947,
          16.21343231201172,
          11.516426086425781,
          4.42214822769165,
          -1.5932927131652832,
          25.015348434448242,
          -18.105960845947266,
          21.164648056030273,
          3.5244855880737305,
          23.914236068725586,
          7.737023830413818,
          -6.41664981842041,
          -7.4915032386779785,
          13.954984664916992,
          6.6719489097595215,
          14.48464584350586,
          8.422218322753906,
          8.587418556213379,
          25.131572723388672,
          13.388825416564941,
          2.17195725440979,
          8.344377517700195,
          13.926197052001953,
          18.64441680908203,
          0.1725788712501526,
          21.908628463745117,
          -8.038750648498535,
          8.293475151062012,
          17.49489402770996,
          10.289144515991211,
          6.251825332641602,
          -26.27408218383789,
          3.022876501083374,
          0.6786393523216248,
          14.20987319946289,
          22.100576400756836,
          12.716598510742188,
          18.773210525512695,
          6.862512588500977,
          9.954378128051758,
          -0.5459290742874146,
          -10.05435848236084,
          21.17294692993164,
          13.722296714782715,
          13.769393920898438,
          12.948125839233398,
          13.903307914733887,
          8.30877685546875,
          -7.26076602935791,
          -6.749866008758545,
          14.198943138122559,
          -7.000941276550293,
          20.86014747619629,
          21.835662841796875,
          23.596797943115234,
          -15.146135330200195,
          5.377629280090332,
          9.448582649230957,
          21.591773986816406,
          16.73439598083496,
          22.668794631958008,
          23.8662166595459,
          3.6348037719726562,
          -1.70257568359375,
          4.828505516052246,
          15.176725387573242,
          24.064054489135742,
          4.5785112380981445,
          5.8970866203308105,
          15.110865592956543,
          20.610912322998047,
          -2.7271835803985596,
          -10.162016868591309,
          5.867283344268799,
          -26.648706436157227,
          11.543176651000977,
          14.397673606872559,
          0.8732631802558899,
          -9.024199485778809,
          5.147930145263672,
          3.7852680683135986,
          8.27550220489502,
          -13.380941390991211,
          9.922951698303223,
          9.720029830932617,
          -16.189664840698242,
          10.210763931274414,
          1.1792186498641968,
          -3.6184849739074707,
          19.10277557373047,
          9.4857816696167,
          19.789926528930664,
          8.50299072265625,
          14.12012004852295,
          10.021140098571777,
          -5.779772758483887,
          22.76789665222168,
          13.378779411315918,
          3.961493968963623,
          14.5460844039917,
          17.30137062072754,
          20.568334579467773,
          8.407724380493164,
          -1.7658599615097046,
          16.013259887695312,
          8.710678100585938,
          13.735857009887695,
          23.145030975341797,
          -0.04107121750712395,
          8.23119831085205,
          2.142115831375122,
          25.06145668029785,
          -4.991819858551025,
          11.516274452209473,
          4.806581497192383,
          9.618904113769531,
          -0.10893695056438446,
          -16.343069076538086,
          16.36412811279297,
          9.697531700134277,
          3.7261483669281006,
          4.761011123657227,
          15.956802368164062,
          -3.1922483444213867,
          6.519179344177246,
          17.31685447692871,
          7.226546287536621,
          8.090863227844238,
          -22.903118133544922,
          8.135120391845703,
          -8.258651733398438,
          -0.8952471017837524,
          8.72591495513916,
          0.3020300269126892,
          2.007225513458252,
          7.975283622741699,
          -25.805213928222656,
          -3.5940096378326416,
          12.858546257019043,
          -5.2049407958984375,
          -12.07443904876709,
          22.244354248046875,
          -15.652542114257812,
          0.43103915452957153,
          19.38399314880371,
          17.094980239868164,
          8.627737045288086,
          9.03825569152832,
          21.661279678344727,
          15.232516288757324,
          4.055880546569824,
          13.980422973632812,
          1.0543525218963623,
          -17.80083656311035,
          19.995498657226562,
          -21.289363861083984,
          12.945531845092773,
          24.86186981201172,
          10.721944808959961,
          26.100984573364258,
          14.128835678100586,
          -3.762542963027954,
          8.2691068649292,
          -6.742335796356201,
          -6.1910223960876465,
          -5.25589656829834,
          -5.214095115661621,
          7.305239677429199,
          20.469406127929688,
          -5.008127212524414,
          10.363040924072266,
          25.478012084960938,
          10.45402717590332,
          8.547453880310059,
          8.627857208251953,
          14.087080955505371,
          3.607208013534546,
          18.571847915649414,
          20.594003677368164,
          21.733680725097656,
          8.38463306427002,
          22.118043899536133,
          -3.596224069595337,
          2.4436707496643066,
          -7.4687275886535645,
          25.760982513427734,
          6.256031036376953,
          3.9870431423187256,
          2.843353271484375,
          14.960495948791504,
          9.538393020629883,
          8.125752449035645,
          -9.879908561706543,
          9.930257797241211,
          24.929615020751953,
          -25.96872901916504,
          -10.329706192016602,
          -0.8199115991592407,
          16.006385803222656,
          -3.522310733795166,
          16.683504104614258,
          20.704113006591797,
          17.29669761657715,
          0.17858640849590302
         ]
        }
       ],
       "layout": {
        "margin": {
         "b": 0,
         "l": 0,
         "r": 0,
         "t": 0
        },
        "showlegend": true,
        "template": {
         "data": {
          "bar": [
           {
            "error_x": {
             "color": "#2a3f5f"
            },
            "error_y": {
             "color": "#2a3f5f"
            },
            "marker": {
             "line": {
              "color": "#E5ECF6",
              "width": 0.5
             },
             "pattern": {
              "fillmode": "overlay",
              "size": 10,
              "solidity": 0.2
             }
            },
            "type": "bar"
           }
          ],
          "barpolar": [
           {
            "marker": {
             "line": {
              "color": "#E5ECF6",
              "width": 0.5
             },
             "pattern": {
              "fillmode": "overlay",
              "size": 10,
              "solidity": 0.2
             }
            },
            "type": "barpolar"
           }
          ],
          "carpet": [
           {
            "aaxis": {
             "endlinecolor": "#2a3f5f",
             "gridcolor": "white",
             "linecolor": "white",
             "minorgridcolor": "white",
             "startlinecolor": "#2a3f5f"
            },
            "baxis": {
             "endlinecolor": "#2a3f5f",
             "gridcolor": "white",
             "linecolor": "white",
             "minorgridcolor": "white",
             "startlinecolor": "#2a3f5f"
            },
            "type": "carpet"
           }
          ],
          "choropleth": [
           {
            "colorbar": {
             "outlinewidth": 0,
             "ticks": ""
            },
            "type": "choropleth"
           }
          ],
          "contour": [
           {
            "colorbar": {
             "outlinewidth": 0,
             "ticks": ""
            },
            "colorscale": [
             [
              0,
              "#0d0887"
             ],
             [
              0.1111111111111111,
              "#46039f"
             ],
             [
              0.2222222222222222,
              "#7201a8"
             ],
             [
              0.3333333333333333,
              "#9c179e"
             ],
             [
              0.4444444444444444,
              "#bd3786"
             ],
             [
              0.5555555555555556,
              "#d8576b"
             ],
             [
              0.6666666666666666,
              "#ed7953"
             ],
             [
              0.7777777777777778,
              "#fb9f3a"
             ],
             [
              0.8888888888888888,
              "#fdca26"
             ],
             [
              1,
              "#f0f921"
             ]
            ],
            "type": "contour"
           }
          ],
          "contourcarpet": [
           {
            "colorbar": {
             "outlinewidth": 0,
             "ticks": ""
            },
            "type": "contourcarpet"
           }
          ],
          "heatmap": [
           {
            "colorbar": {
             "outlinewidth": 0,
             "ticks": ""
            },
            "colorscale": [
             [
              0,
              "#0d0887"
             ],
             [
              0.1111111111111111,
              "#46039f"
             ],
             [
              0.2222222222222222,
              "#7201a8"
             ],
             [
              0.3333333333333333,
              "#9c179e"
             ],
             [
              0.4444444444444444,
              "#bd3786"
             ],
             [
              0.5555555555555556,
              "#d8576b"
             ],
             [
              0.6666666666666666,
              "#ed7953"
             ],
             [
              0.7777777777777778,
              "#fb9f3a"
             ],
             [
              0.8888888888888888,
              "#fdca26"
             ],
             [
              1,
              "#f0f921"
             ]
            ],
            "type": "heatmap"
           }
          ],
          "heatmapgl": [
           {
            "colorbar": {
             "outlinewidth": 0,
             "ticks": ""
            },
            "colorscale": [
             [
              0,
              "#0d0887"
             ],
             [
              0.1111111111111111,
              "#46039f"
             ],
             [
              0.2222222222222222,
              "#7201a8"
             ],
             [
              0.3333333333333333,
              "#9c179e"
             ],
             [
              0.4444444444444444,
              "#bd3786"
             ],
             [
              0.5555555555555556,
              "#d8576b"
             ],
             [
              0.6666666666666666,
              "#ed7953"
             ],
             [
              0.7777777777777778,
              "#fb9f3a"
             ],
             [
              0.8888888888888888,
              "#fdca26"
             ],
             [
              1,
              "#f0f921"
             ]
            ],
            "type": "heatmapgl"
           }
          ],
          "histogram": [
           {
            "marker": {
             "pattern": {
              "fillmode": "overlay",
              "size": 10,
              "solidity": 0.2
             }
            },
            "type": "histogram"
           }
          ],
          "histogram2d": [
           {
            "colorbar": {
             "outlinewidth": 0,
             "ticks": ""
            },
            "colorscale": [
             [
              0,
              "#0d0887"
             ],
             [
              0.1111111111111111,
              "#46039f"
             ],
             [
              0.2222222222222222,
              "#7201a8"
             ],
             [
              0.3333333333333333,
              "#9c179e"
             ],
             [
              0.4444444444444444,
              "#bd3786"
             ],
             [
              0.5555555555555556,
              "#d8576b"
             ],
             [
              0.6666666666666666,
              "#ed7953"
             ],
             [
              0.7777777777777778,
              "#fb9f3a"
             ],
             [
              0.8888888888888888,
              "#fdca26"
             ],
             [
              1,
              "#f0f921"
             ]
            ],
            "type": "histogram2d"
           }
          ],
          "histogram2dcontour": [
           {
            "colorbar": {
             "outlinewidth": 0,
             "ticks": ""
            },
            "colorscale": [
             [
              0,
              "#0d0887"
             ],
             [
              0.1111111111111111,
              "#46039f"
             ],
             [
              0.2222222222222222,
              "#7201a8"
             ],
             [
              0.3333333333333333,
              "#9c179e"
             ],
             [
              0.4444444444444444,
              "#bd3786"
             ],
             [
              0.5555555555555556,
              "#d8576b"
             ],
             [
              0.6666666666666666,
              "#ed7953"
             ],
             [
              0.7777777777777778,
              "#fb9f3a"
             ],
             [
              0.8888888888888888,
              "#fdca26"
             ],
             [
              1,
              "#f0f921"
             ]
            ],
            "type": "histogram2dcontour"
           }
          ],
          "mesh3d": [
           {
            "colorbar": {
             "outlinewidth": 0,
             "ticks": ""
            },
            "type": "mesh3d"
           }
          ],
          "parcoords": [
           {
            "line": {
             "colorbar": {
              "outlinewidth": 0,
              "ticks": ""
             }
            },
            "type": "parcoords"
           }
          ],
          "pie": [
           {
            "automargin": true,
            "type": "pie"
           }
          ],
          "scatter": [
           {
            "fillpattern": {
             "fillmode": "overlay",
             "size": 10,
             "solidity": 0.2
            },
            "type": "scatter"
           }
          ],
          "scatter3d": [
           {
            "line": {
             "colorbar": {
              "outlinewidth": 0,
              "ticks": ""
             }
            },
            "marker": {
             "colorbar": {
              "outlinewidth": 0,
              "ticks": ""
             }
            },
            "type": "scatter3d"
           }
          ],
          "scattercarpet": [
           {
            "marker": {
             "colorbar": {
              "outlinewidth": 0,
              "ticks": ""
             }
            },
            "type": "scattercarpet"
           }
          ],
          "scattergeo": [
           {
            "marker": {
             "colorbar": {
              "outlinewidth": 0,
              "ticks": ""
             }
            },
            "type": "scattergeo"
           }
          ],
          "scattergl": [
           {
            "marker": {
             "colorbar": {
              "outlinewidth": 0,
              "ticks": ""
             }
            },
            "type": "scattergl"
           }
          ],
          "scattermapbox": [
           {
            "marker": {
             "colorbar": {
              "outlinewidth": 0,
              "ticks": ""
             }
            },
            "type": "scattermapbox"
           }
          ],
          "scatterpolar": [
           {
            "marker": {
             "colorbar": {
              "outlinewidth": 0,
              "ticks": ""
             }
            },
            "type": "scatterpolar"
           }
          ],
          "scatterpolargl": [
           {
            "marker": {
             "colorbar": {
              "outlinewidth": 0,
              "ticks": ""
             }
            },
            "type": "scatterpolargl"
           }
          ],
          "scatterternary": [
           {
            "marker": {
             "colorbar": {
              "outlinewidth": 0,
              "ticks": ""
             }
            },
            "type": "scatterternary"
           }
          ],
          "surface": [
           {
            "colorbar": {
             "outlinewidth": 0,
             "ticks": ""
            },
            "colorscale": [
             [
              0,
              "#0d0887"
             ],
             [
              0.1111111111111111,
              "#46039f"
             ],
             [
              0.2222222222222222,
              "#7201a8"
             ],
             [
              0.3333333333333333,
              "#9c179e"
             ],
             [
              0.4444444444444444,
              "#bd3786"
             ],
             [
              0.5555555555555556,
              "#d8576b"
             ],
             [
              0.6666666666666666,
              "#ed7953"
             ],
             [
              0.7777777777777778,
              "#fb9f3a"
             ],
             [
              0.8888888888888888,
              "#fdca26"
             ],
             [
              1,
              "#f0f921"
             ]
            ],
            "type": "surface"
           }
          ],
          "table": [
           {
            "cells": {
             "fill": {
              "color": "#EBF0F8"
             },
             "line": {
              "color": "white"
             }
            },
            "header": {
             "fill": {
              "color": "#C8D4E3"
             },
             "line": {
              "color": "white"
             }
            },
            "type": "table"
           }
          ]
         },
         "layout": {
          "annotationdefaults": {
           "arrowcolor": "#2a3f5f",
           "arrowhead": 0,
           "arrowwidth": 1
          },
          "autotypenumbers": "strict",
          "coloraxis": {
           "colorbar": {
            "outlinewidth": 0,
            "ticks": ""
           }
          },
          "colorscale": {
           "diverging": [
            [
             0,
             "#8e0152"
            ],
            [
             0.1,
             "#c51b7d"
            ],
            [
             0.2,
             "#de77ae"
            ],
            [
             0.3,
             "#f1b6da"
            ],
            [
             0.4,
             "#fde0ef"
            ],
            [
             0.5,
             "#f7f7f7"
            ],
            [
             0.6,
             "#e6f5d0"
            ],
            [
             0.7,
             "#b8e186"
            ],
            [
             0.8,
             "#7fbc41"
            ],
            [
             0.9,
             "#4d9221"
            ],
            [
             1,
             "#276419"
            ]
           ],
           "sequential": [
            [
             0,
             "#0d0887"
            ],
            [
             0.1111111111111111,
             "#46039f"
            ],
            [
             0.2222222222222222,
             "#7201a8"
            ],
            [
             0.3333333333333333,
             "#9c179e"
            ],
            [
             0.4444444444444444,
             "#bd3786"
            ],
            [
             0.5555555555555556,
             "#d8576b"
            ],
            [
             0.6666666666666666,
             "#ed7953"
            ],
            [
             0.7777777777777778,
             "#fb9f3a"
            ],
            [
             0.8888888888888888,
             "#fdca26"
            ],
            [
             1,
             "#f0f921"
            ]
           ],
           "sequentialminus": [
            [
             0,
             "#0d0887"
            ],
            [
             0.1111111111111111,
             "#46039f"
            ],
            [
             0.2222222222222222,
             "#7201a8"
            ],
            [
             0.3333333333333333,
             "#9c179e"
            ],
            [
             0.4444444444444444,
             "#bd3786"
            ],
            [
             0.5555555555555556,
             "#d8576b"
            ],
            [
             0.6666666666666666,
             "#ed7953"
            ],
            [
             0.7777777777777778,
             "#fb9f3a"
            ],
            [
             0.8888888888888888,
             "#fdca26"
            ],
            [
             1,
             "#f0f921"
            ]
           ]
          },
          "colorway": [
           "#636efa",
           "#EF553B",
           "#00cc96",
           "#ab63fa",
           "#FFA15A",
           "#19d3f3",
           "#FF6692",
           "#B6E880",
           "#FF97FF",
           "#FECB52"
          ],
          "font": {
           "color": "#2a3f5f"
          },
          "geo": {
           "bgcolor": "white",
           "lakecolor": "white",
           "landcolor": "#E5ECF6",
           "showlakes": true,
           "showland": true,
           "subunitcolor": "white"
          },
          "hoverlabel": {
           "align": "left"
          },
          "hovermode": "closest",
          "mapbox": {
           "style": "light"
          },
          "paper_bgcolor": "white",
          "plot_bgcolor": "#E5ECF6",
          "polar": {
           "angularaxis": {
            "gridcolor": "white",
            "linecolor": "white",
            "ticks": ""
           },
           "bgcolor": "#E5ECF6",
           "radialaxis": {
            "gridcolor": "white",
            "linecolor": "white",
            "ticks": ""
           }
          },
          "scene": {
           "xaxis": {
            "backgroundcolor": "#E5ECF6",
            "gridcolor": "white",
            "gridwidth": 2,
            "linecolor": "white",
            "showbackground": true,
            "ticks": "",
            "zerolinecolor": "white"
           },
           "yaxis": {
            "backgroundcolor": "#E5ECF6",
            "gridcolor": "white",
            "gridwidth": 2,
            "linecolor": "white",
            "showbackground": true,
            "ticks": "",
            "zerolinecolor": "white"
           },
           "zaxis": {
            "backgroundcolor": "#E5ECF6",
            "gridcolor": "white",
            "gridwidth": 2,
            "linecolor": "white",
            "showbackground": true,
            "ticks": "",
            "zerolinecolor": "white"
           }
          },
          "shapedefaults": {
           "line": {
            "color": "#2a3f5f"
           }
          },
          "ternary": {
           "aaxis": {
            "gridcolor": "white",
            "linecolor": "white",
            "ticks": ""
           },
           "baxis": {
            "gridcolor": "white",
            "linecolor": "white",
            "ticks": ""
           },
           "bgcolor": "#E5ECF6",
           "caxis": {
            "gridcolor": "white",
            "linecolor": "white",
            "ticks": ""
           }
          },
          "title": {
           "x": 0.05
          },
          "xaxis": {
           "automargin": true,
           "gridcolor": "white",
           "linecolor": "white",
           "ticks": "",
           "title": {
            "standoff": 15
           },
           "zerolinecolor": "white",
           "zerolinewidth": 2
          },
          "yaxis": {
           "automargin": true,
           "gridcolor": "white",
           "linecolor": "white",
           "ticks": "",
           "title": {
            "standoff": 15
           },
           "zerolinecolor": "white",
           "zerolinewidth": 2
          }
         }
        }
       }
      },
      "text/html": [
       "<div>                            <div id=\"0cf16b89-f883-4bf7-994e-8ec1eddc9ea8\" class=\"plotly-graph-div\" style=\"height:525px; width:100%;\"></div>            <script type=\"text/javascript\">                require([\"plotly\"], function(Plotly) {                    window.PLOTLYENV=window.PLOTLYENV || {};                                    if (document.getElementById(\"0cf16b89-f883-4bf7-994e-8ec1eddc9ea8\")) {                    Plotly.newPlot(                        \"0cf16b89-f883-4bf7-994e-8ec1eddc9ea8\",                        [{\"marker\":{\"color\":[3,3,5,3,4,3,3,3,3,4,3,5,3,3,3,3,3,3,3,3,4,5,3,3,4,3,5,3,3,3,3,3,4,3,3,4,5,3,3,3,3,4,3,3,4,4,4,3,4,3,4,5,3,4,3,3,3,4,3,3,4,3,4,3,3,3,3,3,3,3,4,3,3,4,4,3,3,3,3,5,3,5,3,4,3,3,3,3,3,5,3,4,3,3,3,3,3,4,4,3,3,3,4,3,4,3,3,3,3,3,3,5,4,3,4,3,4,3,3,4,3,3,3,3,4,3,3,5,3,3,3,3,5,4,4,3,4,3,3,5,3,4,4,4,3,3,3,3,3,3,5,3,5,3,3,3,5,4,3,3,5,3,3,5,3,3,3,3,3,4,4,3,3,3,3,3,3,3,5,3,3,4,3,3,4,3,5,3,5,3,3,3,3,3,4,3,3,3,3,3,3,3,3,3,4,4,3,3,3,4,3,3,4,4,3,3,3,3,3,3,4,3,3,3,4,3,3,3,3,3,3,4,4,3,4,3,3,3,3,3,3,3,3,3,3,3,4,3,3,3,3,3,3,4,3,3,3,3,3,3,3,4,3,3,3,3,3,3,4,4,3,4,3,3,3,3,3,3,3,5,3,3,3,4,3,3,3,3,3,3,3,3,4,3,3,3,3,3,4,3,5,3,4,3,3,3,3,3,4,3,3,3,3,3,3,4,3,3,3,3,3,3,3,3,3,3,3,3,3,3,3,3,4,3,3,3,3,3,3,3,3,3,3,3,3,3,4,3,3,4,3,3,3,4,3,4,3,4,3,4,3,3,3,3,3,3,3,4,3,3,3,3,3,3,3,3,3,3,3,3,3,4,4,4,4,4,4,3,3,4,3,3,3,3,3,3,3,3,3,3,3,3,3,3,3,3,3,3,3,3,3,3,4,3,3,3,4,3,3,4,3,3,3,4],\"opacity\":0.8,\"size\":4},\"mode\":\"markers\",\"x\":[-1.4002457857131958,12.533074378967285,-9.92253589630127,-3.4527034759521484,-0.27346932888031006,6.968522548675537,4.327805042266846,31.763057708740234,11.458076477050781,5.217741012573242,16.432090759277344,3.3898091316223145,0.5226762890815735,2.058835744857788,13.99770736694336,7.246860980987549,8.933486938476562,-4.619856834411621,6.765347480773926,-10.962252616882324,18.370595932006836,2.3314707279205322,2.329127311706543,9.613041877746582,4.3919148445129395,21.284883499145508,3.483116865158081,-9.446544647216797,9.833572387695312,15.641351699829102,17.408388137817383,-14.104220390319824,17.61989974975586,-18.114694595336914,-15.244483947753906,12.405472755432129,4.4071879386901855,13.470513343811035,-8.194522857666016,9.318035125732422,-11.638561248779297,0.2683008015155792,1.6728594303131104,-12.832290649414062,8.499617576599121,15.218703269958496,16.294660568237305,1.7749801874160767,-1.8405601978302002,1.1180169582366943,20.30622100830078,-0.8268009424209595,-6.578153610229492,18.442136764526367,-13.640740394592285,-12.788690567016602,4.281426906585693,12.681214332580566,-16.831796646118164,-14.535883903503418,19.217388153076172,14.10076904296875,16.67979621887207,-3.0381312370300293,2.855198860168457,-5.29876708984375,4.940487861633301,-18.318115234375,-2.9736576080322266,-6.993216514587402,5.330249786376953,-6.874210834503174,2.5401487350463867,8.266853332519531,21.03658676147461,20.248092651367188,11.178263664245605,8.13016414642334,14.22360610961914,-1.2097018957138062,2.815523624420166,15.899106979370117,-10.44177532196045,0.4576391577720642,0.7116734385490417,13.033720016479492,11.697257041931152,2.7805330753326416,-11.645354270935059,-1.8578288555145264,-8.225842475891113,18.843399047851562,2.783442497253418,0.5353321433067322,10.785758972167969,-19.67081069946289,12.931705474853516,8.677947044372559,8.020011901855469,7.741627216339111,-3.115352153778076,0.7110247015953064,18.98081398010254,2.0248916149139404,13.305126190185547,10.238703727722168,0.9819152355194092,-11.834120750427246,2.1252331733703613,2.260019540786743,-6.278724193572998,15.017179489135742,1.5366854667663574,-9.317785263061523,21.965238571166992,-9.485684394836426,2.0385141372680664,18.679550170898438,-18.3638973236084,-0.4125003218650818,0.8512951135635376,0.9930987358093262,6.157138824462891,5.946284294128418,18.91423797607422,8.377184867858887,15.203033447265625,-10.016005516052246,-3.414943218231201,2.579935312271118,18.272279739379883,15.41861629486084,-1.68697988986969,3.300241470336914,13.003743171691895,12.957324981689453,4.321465492248535,13.42110538482666,-6.6201252937316895,-18.191186904907227,17.326717376708984,18.349714279174805,22.803062438964844,21.639663696289062,10.232573509216309,0.19481629133224487,-9.453808784484863,6.5454792976379395,-18.079336166381836,-4.9796013832092285,0.025413217023015022,7.683004379272461,0.413076788187027,19.05692481994629,-7.086803436279297,0.9424383640289307,8.403504371643066,11.7291898727417,-20.91481590270996,0.48969778418540955,-10.484357833862305,-8.087719917297363,-3.7729814052581787,2.214885711669922,0.2724853754043579,1.6636451482772827,19.108688354492188,4.461768627166748,10.574100494384766,10.596883773803711,18.306655883789062,9.576220512390137,15.647919654846191,-2.5100765228271484,1.6062251329421997,-11.694833755493164,1.8986726999282837,4.032364845275879,-0.7033176422119141,17.045297622680664,-11.57906436920166,15.513681411743164,9.084355354309082,3.3367197513580322,1.8698407411575317,-19.44668197631836,1.5580672025680542,1.4292705059051514,-5.919999122619629,-12.898725509643555,7.65120792388916,-19.098613739013672,8.81333065032959,7.909844875335693,17.6220760345459,1.7505195140838623,-19.05860137939453,10.973857879638672,30.113786697387695,-6.798403739929199,3.260420322418213,-19.20180320739746,15.48602294921875,2.785719156265259,20.184785842895508,2.6805951595306396,-4.4561848640441895,-13.724794387817383,-15.037483215332031,2.7890117168426514,-7.196321487426758,16.899993896484375,9.600154876708984,-1.6547737121582031,-18.213529586791992,-9.874979972839355,4.1060075759887695,-20.49069595336914,7.262247562408447,-19.030241012573242,20.78312873840332,1.8602776527404785,-20.36323356628418,-12.88045883178711,6.861629009246826,-6.938286781311035,1.0440738201141357,13.017053604125977,17.36944580078125,-3.1983330249786377,10.800898551940918,9.726285934448242,18.363508224487305,-4.606171131134033,-0.6473397016525269,-11.386818885803223,12.409285545349121,-15.869074821472168,-7.169351577758789,9.334936141967773,-1.6428762674331665,4.354759216308594,-11.641135215759277,0.13143430650234222,2.2946085929870605,4.185182571411133,18.311979293823242,10.219024658203125,-7.0765204429626465,-17.495281219482422,-15.046304702758789,0.6547143459320068,-5.3274736404418945,3.5546579360961914,2.8736326694488525,11.481213569641113,9.518548965454102,0.7592079639434814,11.79039478302002,-16.524940490722656,-5.890539646148682,10.242045402526855,13.069189071655273,9.228260040283203,-12.487812995910645,13.321988105773926,7.678142070770264,-17.478050231933594,19.164226531982422,17.562856674194336,-11.236603736877441,19.42392349243164,2.8206543922424316,0.6575818061828613,6.378774166107178,17.112716674804688,-17.294601440429688,-16.58749771118164,11.646561622619629,-7.640293121337891,2.961928367614746,6.791093349456787,-8.16869068145752,6.924898624420166,11.212804794311523,20.843917846679688,7.054925918579102,-19.5651798248291,9.189359664916992,-2.5121827125549316,-6.260093688964844,-4.947836875915527,9.82638168334961,-14.940165519714355,1.9915452003479004,-19.82921600341797,-12.055793762207031,1.8147733211517334,17.84718894958496,11.105026245117188,-19.01897621154785,-16.939712524414062,2.9060163497924805,14.280801773071289,14.66720962524414,17.682565689086914,16.203983306884766,-11.254186630249023,21.257925033569336,3.2488276958465576,-18.95359992980957,2.987410306930542,12.556407928466797,12.068587303161621,-19.054895401000977,10.694238662719727,-1.075278401374817,9.370988845825195,-11.04325008392334,-3.4778542518615723,-11.02493667602539,10.332934379577637,-17.51565933227539,3.390373706817627,20.416536331176758,15.283795356750488,-11.97565746307373,2.1907386779785156,-5.907802581787109,13.81698989868164,-1.8181610107421875,-7.030444622039795,15.68829345703125,-20.314584732055664,30.32986068725586,12.314421653747559,-8.838143348693848,17.766687393188477,18.294797897338867,14.44804573059082,-11.500212669372559,11.238617897033691,8.744213104248047,-4.412979602813721,11.136943817138672,0.43809401988983154,-1.3584543466567993,9.739103317260742,5.834253787994385,-3.2288129329681396,1.4547570943832397,2.9361283779144287,-17.081758499145508,5.827917575836182,-1.189720869064331,-2.385491132736206,2.639387607574463,17.376039505004883,-8.66675853729248,8.833271026611328,15.63230037689209,-0.07655543088912964,17.388431549072266,-9.876513481140137,3.125499725341797,4.497274875640869,-18.71331024169922,-1.77232027053833,11.62558650970459,20.863515853881836,32.07276153564453,-1.2061189413070679,-11.025781631469727,1.192457914352417,0.18721839785575867,6.835779190063477,-9.429644584655762,-6.729717254638672,-19.214445114135742,-7.823308944702148,18.647140502929688,17.715862274169922,-2.450004816055298,20.032222747802734,10.074594497680664,8.535273551940918,21.315275192260742,16.75564193725586,2.1258833408355713,11.750853538513184,-17.525009155273438,-4.816042900085449,13.672913551330566,13.957335472106934,-17.143386840820312,12.05439281463623,-19.110925674438477,0.2569893002510071,2.075268507003784,3.3458964824676514,-16.392105102539062,11.476819038391113,12.632061004638672,-4.147974014282227,1.6938828229904175,-7.61115026473999,10.365140914916992,31.76212501525879,-3.8012099266052246,-11.69471263885498,12.617013931274414,11.808979988098145,13.033753395080566,-16.286373138427734,-7.759222984313965,0.5935987830162048,13.944364547729492,-5.843557357788086,20.695175170898438,20.824907302856445,-0.4699072241783142,10.685067176818848,8.464629173278809,5.9107985496521],\"y\":[18.981996536254883,9.703227996826172,-3.2523293495178223,30.45453643798828,13.81299114227295,-11.28303337097168,-12.55506706237793,-5.567979335784912,13.60560131072998,6.008637428283691,-8.016743659973145,8.36984634399414,-0.7456451654434204,18.324779510498047,-1.1518157720565796,12.549598693847656,-11.628880500793457,4.966672897338867,1.5320851802825928,10.559639930725098,3.5530965328216553,-17.232036590576172,-15.703629493713379,-13.673906326293945,8.000903129577637,-1.4385747909545898,-17.189287185668945,23.18780517578125,15.719501495361328,-11.72509479522705,-12.09121036529541,8.224818229675293,-8.352787971496582,15.515422821044922,-14.059000968933105,-2.3600380420684814,-17.06674575805664,-22.4365291595459,-26.932268142700195,-12.590105056762695,11.400511741638184,8.895809173583984,-27.58229637145996,4.107304573059082,3.191762685775757,-6.238179683685303,4.4343743324279785,-18.44147491455078,11.800993919372559,-0.6045054793357849,-8.844122886657715,-16.796871185302734,-5.4915971755981445,-13.468134880065918,5.329428672790527,-28.340694427490234,-17.097251892089844,-21.413843154907227,16.7757625579834,7.911158561706543,2.0627715587615967,-3.635648250579834,1.169724464416504,-25.21880340576172,-13.19152545928955,-25.749897003173828,8.232516288757324,-10.581114768981934,5.121091842651367,-3.384739637374878,5.745448589324951,-3.9419493675231934,7.551400661468506,4.487952709197998,-3.563068151473999,-2.579646587371826,4.202319622039795,-10.473264694213867,0.9421330690383911,-2.9484362602233887,19.37468719482422,-7.621510028839111,-27.99286651611328,8.829319953918457,-2.0989201068878174,1.4977471828460693,9.607843399047852,-13.450547218322754,8.485356330871582,-18.226228713989258,4.789420127868652,-12.39821720123291,-0.5985971689224243,-0.43150922656059265,-8.267928123474121,-5.827970027923584,9.474861145019531,-10.84653377532959,4.5170674324035645,-10.2265043258667,-18.790847778320312,-3.1322062015533447,-9.566329956054688,-17.46040153503418,-2.5092933177948,-15.218127250671387,-21.834720611572266,0.7090669274330139,-27.887121200561523,-5.455833435058594,-5.565157890319824,-5.951605319976807,-19.424413681030273,21.798662185668945,-5.987942695617676,-16.89620590209961,1.7688413858413696,-4.46213960647583,-11.477388381958008,13.924492835998535,-22.419660568237305,6.934117317199707,-11.002309799194336,1.2168859243392944,2.68467116355896,2.7522473335266113,-8.543987274169922,-3.19913911819458,-18.799720764160156,-5.37098503112793,-6.8668012619018555,-5.285391330718994,-18.132963180541992,2.82674241065979,-19.67249870300293,10.239578247070312,8.156817436218262,-22.380672454833984,-5.466182231903076,13.837017059326172,-11.61215877532959,-13.674108505249023,-6.346804141998291,-6.632645130157471,3.245269536972046,16.855140686035156,20.7542781829834,-10.85166072845459,-11.405862808227539,29.008960723876953,-17.149024963378906,-10.154071807861328,-17.1646728515625,-5.036048412322998,-2.8784825801849365,-14.507219314575195,2.827345609664917,-19.941492080688477,1.7250866889953613,-2.452840566635132,-3.8879361152648926,20.76271629333496,30.166515350341797,-15.788673400878906,-3.421051025390625,0.3628053367137909,-4.926728248596191,11.930281639099121,-15.240656852722168,-1.0611844062805176,-0.5468605756759644,-15.799898147583008,-11.711790084838867,19.63506317138672,-27.39590072631836,8.325726509094238,-27.761571884155273,6.892938613891602,-25.03975486755371,-9.318011283874512,-15.686753273010254,4.329565048217773,-2.3875203132629395,-28.601980209350586,-18.060880661010742,-11.550958633422852,8.442038536071777,-0.23875851929187775,-18.345949172973633,4.290022850036621,-11.099818229675293,-5.8144450187683105,-11.35723876953125,2.005573272705078,-15.168122291564941,-0.7096885442733765,-4.835319519042969,15.633715629577637,-5.9222893714904785,-4.257122993469238,-5.0951008796691895,-9.819714546203613,-8.214457511901855,-0.5788292288780212,-2.458883762359619,2.2987680435180664,20.452838897705078,5.676536560058594,8.039963722229004,-15.364063262939453,4.358962059020996,-9.022223472595215,-0.09995169937610626,7.881819725036621,15.198467254638672,-27.746034622192383,-4.758781433105469,0.8046376705169678,12.55867862701416,-8.299705505371094,-8.613951683044434,18.141040802001953,0.4399069845676422,-28.492475509643555,4.53215217590332,0.5557035803794861,-21.559419631958008,-7.088579177856445,-11.861011505126953,5.060052871704102,14.862664222717285,-19.39755630493164,3.694279193878174,20.51556396484375,13.562848091125488,12.401660919189453,11.816926956176758,18.260438919067383,-0.8977279663085938,2.6716766357421875,-25.991052627563477,-4.667977809906006,0.14822080731391907,17.263015747070312,-27.855588912963867,-12.615008354187012,4.548976421356201,15.212410926818848,-5.142186164855957,15.518169403076172,-14.149282455444336,-14.973942756652832,-25.75868034362793,3.057326316833496,19.47835922241211,4.711752891540527,-12.94649600982666,-3.0932705402374268,-3.9205615520477295,7.891371726989746,-19.845569610595703,-0.7510768175125122,-7.0612030029296875,-12.345638275146484,3.3257882595062256,9.335975646972656,1.9025851488113403,14.446389198303223,-10.11652660369873,-15.287638664245605,-0.7473369240760803,1.4680873155593872,7.974482536315918,6.648150444030762,6.775435924530029,-10.617985725402832,-11.872422218322754,9.5097017288208,6.015227794647217,-4.787642955780029,-13.145029067993164,6.847372055053711,-26.919668197631836,4.527141571044922,-6.741079807281494,0.1422332525253296,6.9194159507751465,-11.550087928771973,-2.4955341815948486,19.637989044189453,-5.561226844787598,-18.761510848999023,-0.5482707023620605,-14.192420959472656,-13.567095756530762,-0.6954010128974915,10.616339683532715,-27.528730392456055,-8.50863265991211,-6.144985198974609,15.600491523742676,16.532007217407227,-15.289663314819336,0.6957070827484131,-12.850692749023438,-11.589949607849121,-10.950793266296387,-15.872541427612305,-4.051147937774658,9.613581657409668,-8.85154914855957,8.960546493530273,11.538751602172852,6.705740451812744,-7.822129726409912,-19.682884216308594,5.796496868133545,2.6904964447021484,-28.157119750976562,20.07033920288086,10.432891845703125,-8.541034698486328,14.263213157653809,-28.640745162963867,-1.947540283203125,-5.021998882293701,1.1338131427764893,-13.471734046936035,-20.27922248840332,-3.477135419845581,-25.408340454101562,-0.07207322120666504,4.383760929107666,0.3643053472042084,-5.89548921585083,-14.700826644897461,-17.270654678344727,-11.734513282775879,-6.813441753387451,-13.077595710754395,-28.731685638427734,-6.869615077972412,-11.207874298095703,-18.809324264526367,-3.887363910675049,17.866281509399414,12.345743179321289,16.153011322021484,-11.628754615783691,11.045376777648926,-27.44964027404785,-28.310890197753906,10.788402557373047,5.126856803894043,-25.19371223449707,11.031278610229492,-13.462307929992676,0.327786922454834,20.94422149658203,4.902848720550537,-8.034880638122559,6.222582817077637,-11.087885856628418,-16.662710189819336,9.351208686828613,11.979747772216797,-9.672045707702637,7.9270710945129395,5.8493571281433105,0.0984654501080513,-5.641473293304443,-2.9441843032836914,-16.001176834106445,-20.906455993652344,16.50721549987793,-10.925664901733398,23.349157333374023,4.146245002746582,-6.117704391479492,-2.5030336380004883,-4.5552287101745605,-0.021581610664725304,10.349488258361816,-8.839743614196777,-19.499032974243164,4.4447808265686035,-7.1021575927734375,-8.73190975189209,-0.14875124394893646,-20.06353759765625,15.446702003479004,4.947117328643799,1.3235752582550049,-2.790790557861328,10.954010963439941,6.606767654418945,15.623513221740723,17.261995315551758,-0.1590041220188141,7.332478046417236,17.483062744140625,4.657911777496338,-21.223773956298828,29.808366775512695,-27.787607192993164,-2.072413444519043,-3.602907419204712,-5.838878631591797,30.177629470825195,11.029735565185547,-14.571905136108398,12.966208457946777,-2.685495138168335,8.576330184936523,4.6078877449035645,-15.199734687805176,-4.259604454040527,-19.646142959594727,-1.3715319633483887,-3.310993194580078,18.401796340942383,-8.322298049926758,-10.75529956817627,5.088563442230225],\"z\":[15.951035499572754,13.624224662780762,15.144967079162598,1.7947884798049927,6.454092502593994,-22.570301055908203,21.8192195892334,4.350185871124268,7.998523712158203,1.8156847953796387,7.939338207244873,5.436155796051025,11.366898536682129,15.898141860961914,9.165335655212402,14.883732795715332,15.033936500549316,25.353816986083984,14.170499801635742,17.334413528442383,-7.400973320007324,-7.952768325805664,-12.164627075195312,12.020548820495605,4.371499061584473,16.960803985595703,-8.201519966125488,12.919291496276855,8.37951946258545,9.531025886535645,3.145270824432373,11.801469802856445,-9.287867546081543,5.5022807121276855,6.94064474105835,-10.004180908203125,-8.624897956848145,-2.0750644207000732,3.6379387378692627,13.342447280883789,14.7560396194458,7.563936710357666,-7.473633289337158,13.401517868041992,-7.578939914703369,-10.775494575500488,-5.766442775726318,-16.40933609008789,7.556551933288574,10.550106048583984,-6.507761001586914,-8.053007125854492,18.64130973815918,-6.880092620849609,12.203753471374512,4.493409156799316,-8.533108711242676,-3.4045040607452393,8.229150772094727,11.426081657409668,-7.225054740905762,8.362564086914062,-3.3652162551879883,2.331214427947998,22.735334396362305,3.0154566764831543,4.237607955932617,7.233826160430908,23.77398109436035,23.823135375976562,1.4456446170806885,23.3051815032959,21.266210556030273,-4.51515531539917,-3.500528573989868,16.292774200439453,13.219817161560059,18.399673461914062,10.06048583984375,13.968716621398926,14.360259056091309,-11.278820037841797,3.84688138961792,7.467541217803955,21.598915100097656,10.796856880187988,14.396923065185547,-25.601179122924805,17.644023895263672,-5.774892807006836,24.93045425415039,-6.958929061889648,17.276803970336914,11.97514533996582,20.723941802978516,11.853635787963867,13.30651569366455,-22.322608947753906,-3.89483642578125,19.531808853149414,-4.428548812866211,18.85819435119629,-7.582745552062988,-15.610023498535156,-9.640154838562012,10.444439888000488,-18.23063850402832,13.812660217285156,-5.905388832092285,9.659889221191406,20.513153076171875,-10.744040489196777,-17.032320022583008,12.774399757385254,-4.218837738037109,0.22580935060977936,0.8984403014183044,14.074540138244629,5.525479793548584,6.4930901527404785,-18.481712341308594,21.52934455871582,-21.048629760742188,14.351696014404297,-7.355687141418457,-8.797313690185547,-13.056367874145508,15.072013854980469,-4.142117500305176,9.446136474609375,16.35089683532715,8.677855491638184,-5.966853618621826,0.7041796445846558,-4.833920001983643,13.099533081054688,4.580031394958496,-2.1510348320007324,18.491636276245117,5.808963298797607,3.9300575256347656,-6.865851402282715,-3.8660354614257812,-4.765836238861084,13.210593223571777,19.363033294677734,12.588773727416992,-20.827781677246094,5.877364158630371,2.9183013439178467,-7.7931718826293945,19.78303337097168,-7.858470916748047,16.881935119628906,24.244348526000977,-26.646940231323242,-8.570363998413086,-5.126401901245117,11.534646034240723,21.573579788208008,14.659111976623535,13.01109504699707,2.195406675338745,-11.897839546203613,19.836868286132812,11.513720512390137,16.89922523498535,17.144210815429688,10.229944229125977,-10.08837604522705,-4.1285881996154785,10.323476791381836,9.775235176086426,15.11660385131836,1.1596543788909912,17.66603660583496,-6.695436000823975,22.417150497436523,1.8873833417892456,6.645171165466309,1.3648239374160767,-4.731229782104492,5.866292953491211,-1.664371132850647,-16.134302139282227,4.654296398162842,6.896079063415527,10.67117977142334,-2.25221586227417,13.346904754638672,-22.45501708984375,10.487310409545898,15.610011100769043,13.829524040222168,-6.7611165046691895,20.683380126953125,10.534995079040527,6.6796674728393555,4.905624866485596,22.96656036376953,9.019309997558594,9.840911865234375,-12.434942245483398,17.335426330566406,-3.532871961593628,0.7936503887176514,14.038521766662598,12.183242797851562,10.995343208312988,-13.078950881958008,24.903501510620117,7.011937141418457,-9.901935577392578,8.998003959655762,5.407486915588379,3.7994465827941895,8.496134757995605,11.503556251525879,14.864803314208984,9.83502197265625,-6.130045413970947,16.21343231201172,11.516426086425781,4.42214822769165,-1.5932927131652832,25.015348434448242,-18.105960845947266,21.164648056030273,3.5244855880737305,23.914236068725586,7.737023830413818,-6.41664981842041,-7.4915032386779785,13.954984664916992,6.6719489097595215,14.48464584350586,8.422218322753906,8.587418556213379,25.131572723388672,13.388825416564941,2.17195725440979,8.344377517700195,13.926197052001953,18.64441680908203,0.1725788712501526,21.908628463745117,-8.038750648498535,8.293475151062012,17.49489402770996,10.289144515991211,6.251825332641602,-26.27408218383789,3.022876501083374,0.6786393523216248,14.20987319946289,22.100576400756836,12.716598510742188,18.773210525512695,6.862512588500977,9.954378128051758,-0.5459290742874146,-10.05435848236084,21.17294692993164,13.722296714782715,13.769393920898438,12.948125839233398,13.903307914733887,8.30877685546875,-7.26076602935791,-6.749866008758545,14.198943138122559,-7.000941276550293,20.86014747619629,21.835662841796875,23.596797943115234,-15.146135330200195,5.377629280090332,9.448582649230957,21.591773986816406,16.73439598083496,22.668794631958008,23.8662166595459,3.6348037719726562,-1.70257568359375,4.828505516052246,15.176725387573242,24.064054489135742,4.5785112380981445,5.8970866203308105,15.110865592956543,20.610912322998047,-2.7271835803985596,-10.162016868591309,5.867283344268799,-26.648706436157227,11.543176651000977,14.397673606872559,0.8732631802558899,-9.024199485778809,5.147930145263672,3.7852680683135986,8.27550220489502,-13.380941390991211,9.922951698303223,9.720029830932617,-16.189664840698242,10.210763931274414,1.1792186498641968,-3.6184849739074707,19.10277557373047,9.4857816696167,19.789926528930664,8.50299072265625,14.12012004852295,10.021140098571777,-5.779772758483887,22.76789665222168,13.378779411315918,3.961493968963623,14.5460844039917,17.30137062072754,20.568334579467773,8.407724380493164,-1.7658599615097046,16.013259887695312,8.710678100585938,13.735857009887695,23.145030975341797,-0.04107121750712395,8.23119831085205,2.142115831375122,25.06145668029785,-4.991819858551025,11.516274452209473,4.806581497192383,9.618904113769531,-0.10893695056438446,-16.343069076538086,16.36412811279297,9.697531700134277,3.7261483669281006,4.761011123657227,15.956802368164062,-3.1922483444213867,6.519179344177246,17.31685447692871,7.226546287536621,8.090863227844238,-22.903118133544922,8.135120391845703,-8.258651733398438,-0.8952471017837524,8.72591495513916,0.3020300269126892,2.007225513458252,7.975283622741699,-25.805213928222656,-3.5940096378326416,12.858546257019043,-5.2049407958984375,-12.07443904876709,22.244354248046875,-15.652542114257812,0.43103915452957153,19.38399314880371,17.094980239868164,8.627737045288086,9.03825569152832,21.661279678344727,15.232516288757324,4.055880546569824,13.980422973632812,1.0543525218963623,-17.80083656311035,19.995498657226562,-21.289363861083984,12.945531845092773,24.86186981201172,10.721944808959961,26.100984573364258,14.128835678100586,-3.762542963027954,8.2691068649292,-6.742335796356201,-6.1910223960876465,-5.25589656829834,-5.214095115661621,7.305239677429199,20.469406127929688,-5.008127212524414,10.363040924072266,25.478012084960938,10.45402717590332,8.547453880310059,8.627857208251953,14.087080955505371,3.607208013534546,18.571847915649414,20.594003677368164,21.733680725097656,8.38463306427002,22.118043899536133,-3.596224069595337,2.4436707496643066,-7.4687275886535645,25.760982513427734,6.256031036376953,3.9870431423187256,2.843353271484375,14.960495948791504,9.538393020629883,8.125752449035645,-9.879908561706543,9.930257797241211,24.929615020751953,-25.96872901916504,-10.329706192016602,-0.8199115991592407,16.006385803222656,-3.522310733795166,16.683504104614258,20.704113006591797,17.29669761657715,0.17858640849590302],\"type\":\"scatter3d\"}],                        {\"margin\":{\"b\":0,\"l\":0,\"r\":0,\"t\":0},\"showlegend\":true,\"template\":{\"data\":{\"barpolar\":[{\"marker\":{\"line\":{\"color\":\"#E5ECF6\",\"width\":0.5},\"pattern\":{\"fillmode\":\"overlay\",\"size\":10,\"solidity\":0.2}},\"type\":\"barpolar\"}],\"bar\":[{\"error_x\":{\"color\":\"#2a3f5f\"},\"error_y\":{\"color\":\"#2a3f5f\"},\"marker\":{\"line\":{\"color\":\"#E5ECF6\",\"width\":0.5},\"pattern\":{\"fillmode\":\"overlay\",\"size\":10,\"solidity\":0.2}},\"type\":\"bar\"}],\"carpet\":[{\"aaxis\":{\"endlinecolor\":\"#2a3f5f\",\"gridcolor\":\"white\",\"linecolor\":\"white\",\"minorgridcolor\":\"white\",\"startlinecolor\":\"#2a3f5f\"},\"baxis\":{\"endlinecolor\":\"#2a3f5f\",\"gridcolor\":\"white\",\"linecolor\":\"white\",\"minorgridcolor\":\"white\",\"startlinecolor\":\"#2a3f5f\"},\"type\":\"carpet\"}],\"choropleth\":[{\"colorbar\":{\"outlinewidth\":0,\"ticks\":\"\"},\"type\":\"choropleth\"}],\"contourcarpet\":[{\"colorbar\":{\"outlinewidth\":0,\"ticks\":\"\"},\"type\":\"contourcarpet\"}],\"contour\":[{\"colorbar\":{\"outlinewidth\":0,\"ticks\":\"\"},\"colorscale\":[[0.0,\"#0d0887\"],[0.1111111111111111,\"#46039f\"],[0.2222222222222222,\"#7201a8\"],[0.3333333333333333,\"#9c179e\"],[0.4444444444444444,\"#bd3786\"],[0.5555555555555556,\"#d8576b\"],[0.6666666666666666,\"#ed7953\"],[0.7777777777777778,\"#fb9f3a\"],[0.8888888888888888,\"#fdca26\"],[1.0,\"#f0f921\"]],\"type\":\"contour\"}],\"heatmapgl\":[{\"colorbar\":{\"outlinewidth\":0,\"ticks\":\"\"},\"colorscale\":[[0.0,\"#0d0887\"],[0.1111111111111111,\"#46039f\"],[0.2222222222222222,\"#7201a8\"],[0.3333333333333333,\"#9c179e\"],[0.4444444444444444,\"#bd3786\"],[0.5555555555555556,\"#d8576b\"],[0.6666666666666666,\"#ed7953\"],[0.7777777777777778,\"#fb9f3a\"],[0.8888888888888888,\"#fdca26\"],[1.0,\"#f0f921\"]],\"type\":\"heatmapgl\"}],\"heatmap\":[{\"colorbar\":{\"outlinewidth\":0,\"ticks\":\"\"},\"colorscale\":[[0.0,\"#0d0887\"],[0.1111111111111111,\"#46039f\"],[0.2222222222222222,\"#7201a8\"],[0.3333333333333333,\"#9c179e\"],[0.4444444444444444,\"#bd3786\"],[0.5555555555555556,\"#d8576b\"],[0.6666666666666666,\"#ed7953\"],[0.7777777777777778,\"#fb9f3a\"],[0.8888888888888888,\"#fdca26\"],[1.0,\"#f0f921\"]],\"type\":\"heatmap\"}],\"histogram2dcontour\":[{\"colorbar\":{\"outlinewidth\":0,\"ticks\":\"\"},\"colorscale\":[[0.0,\"#0d0887\"],[0.1111111111111111,\"#46039f\"],[0.2222222222222222,\"#7201a8\"],[0.3333333333333333,\"#9c179e\"],[0.4444444444444444,\"#bd3786\"],[0.5555555555555556,\"#d8576b\"],[0.6666666666666666,\"#ed7953\"],[0.7777777777777778,\"#fb9f3a\"],[0.8888888888888888,\"#fdca26\"],[1.0,\"#f0f921\"]],\"type\":\"histogram2dcontour\"}],\"histogram2d\":[{\"colorbar\":{\"outlinewidth\":0,\"ticks\":\"\"},\"colorscale\":[[0.0,\"#0d0887\"],[0.1111111111111111,\"#46039f\"],[0.2222222222222222,\"#7201a8\"],[0.3333333333333333,\"#9c179e\"],[0.4444444444444444,\"#bd3786\"],[0.5555555555555556,\"#d8576b\"],[0.6666666666666666,\"#ed7953\"],[0.7777777777777778,\"#fb9f3a\"],[0.8888888888888888,\"#fdca26\"],[1.0,\"#f0f921\"]],\"type\":\"histogram2d\"}],\"histogram\":[{\"marker\":{\"pattern\":{\"fillmode\":\"overlay\",\"size\":10,\"solidity\":0.2}},\"type\":\"histogram\"}],\"mesh3d\":[{\"colorbar\":{\"outlinewidth\":0,\"ticks\":\"\"},\"type\":\"mesh3d\"}],\"parcoords\":[{\"line\":{\"colorbar\":{\"outlinewidth\":0,\"ticks\":\"\"}},\"type\":\"parcoords\"}],\"pie\":[{\"automargin\":true,\"type\":\"pie\"}],\"scatter3d\":[{\"line\":{\"colorbar\":{\"outlinewidth\":0,\"ticks\":\"\"}},\"marker\":{\"colorbar\":{\"outlinewidth\":0,\"ticks\":\"\"}},\"type\":\"scatter3d\"}],\"scattercarpet\":[{\"marker\":{\"colorbar\":{\"outlinewidth\":0,\"ticks\":\"\"}},\"type\":\"scattercarpet\"}],\"scattergeo\":[{\"marker\":{\"colorbar\":{\"outlinewidth\":0,\"ticks\":\"\"}},\"type\":\"scattergeo\"}],\"scattergl\":[{\"marker\":{\"colorbar\":{\"outlinewidth\":0,\"ticks\":\"\"}},\"type\":\"scattergl\"}],\"scattermapbox\":[{\"marker\":{\"colorbar\":{\"outlinewidth\":0,\"ticks\":\"\"}},\"type\":\"scattermapbox\"}],\"scatterpolargl\":[{\"marker\":{\"colorbar\":{\"outlinewidth\":0,\"ticks\":\"\"}},\"type\":\"scatterpolargl\"}],\"scatterpolar\":[{\"marker\":{\"colorbar\":{\"outlinewidth\":0,\"ticks\":\"\"}},\"type\":\"scatterpolar\"}],\"scatter\":[{\"fillpattern\":{\"fillmode\":\"overlay\",\"size\":10,\"solidity\":0.2},\"type\":\"scatter\"}],\"scatterternary\":[{\"marker\":{\"colorbar\":{\"outlinewidth\":0,\"ticks\":\"\"}},\"type\":\"scatterternary\"}],\"surface\":[{\"colorbar\":{\"outlinewidth\":0,\"ticks\":\"\"},\"colorscale\":[[0.0,\"#0d0887\"],[0.1111111111111111,\"#46039f\"],[0.2222222222222222,\"#7201a8\"],[0.3333333333333333,\"#9c179e\"],[0.4444444444444444,\"#bd3786\"],[0.5555555555555556,\"#d8576b\"],[0.6666666666666666,\"#ed7953\"],[0.7777777777777778,\"#fb9f3a\"],[0.8888888888888888,\"#fdca26\"],[1.0,\"#f0f921\"]],\"type\":\"surface\"}],\"table\":[{\"cells\":{\"fill\":{\"color\":\"#EBF0F8\"},\"line\":{\"color\":\"white\"}},\"header\":{\"fill\":{\"color\":\"#C8D4E3\"},\"line\":{\"color\":\"white\"}},\"type\":\"table\"}]},\"layout\":{\"annotationdefaults\":{\"arrowcolor\":\"#2a3f5f\",\"arrowhead\":0,\"arrowwidth\":1},\"autotypenumbers\":\"strict\",\"coloraxis\":{\"colorbar\":{\"outlinewidth\":0,\"ticks\":\"\"}},\"colorscale\":{\"diverging\":[[0,\"#8e0152\"],[0.1,\"#c51b7d\"],[0.2,\"#de77ae\"],[0.3,\"#f1b6da\"],[0.4,\"#fde0ef\"],[0.5,\"#f7f7f7\"],[0.6,\"#e6f5d0\"],[0.7,\"#b8e186\"],[0.8,\"#7fbc41\"],[0.9,\"#4d9221\"],[1,\"#276419\"]],\"sequential\":[[0.0,\"#0d0887\"],[0.1111111111111111,\"#46039f\"],[0.2222222222222222,\"#7201a8\"],[0.3333333333333333,\"#9c179e\"],[0.4444444444444444,\"#bd3786\"],[0.5555555555555556,\"#d8576b\"],[0.6666666666666666,\"#ed7953\"],[0.7777777777777778,\"#fb9f3a\"],[0.8888888888888888,\"#fdca26\"],[1.0,\"#f0f921\"]],\"sequentialminus\":[[0.0,\"#0d0887\"],[0.1111111111111111,\"#46039f\"],[0.2222222222222222,\"#7201a8\"],[0.3333333333333333,\"#9c179e\"],[0.4444444444444444,\"#bd3786\"],[0.5555555555555556,\"#d8576b\"],[0.6666666666666666,\"#ed7953\"],[0.7777777777777778,\"#fb9f3a\"],[0.8888888888888888,\"#fdca26\"],[1.0,\"#f0f921\"]]},\"colorway\":[\"#636efa\",\"#EF553B\",\"#00cc96\",\"#ab63fa\",\"#FFA15A\",\"#19d3f3\",\"#FF6692\",\"#B6E880\",\"#FF97FF\",\"#FECB52\"],\"font\":{\"color\":\"#2a3f5f\"},\"geo\":{\"bgcolor\":\"white\",\"lakecolor\":\"white\",\"landcolor\":\"#E5ECF6\",\"showlakes\":true,\"showland\":true,\"subunitcolor\":\"white\"},\"hoverlabel\":{\"align\":\"left\"},\"hovermode\":\"closest\",\"mapbox\":{\"style\":\"light\"},\"paper_bgcolor\":\"white\",\"plot_bgcolor\":\"#E5ECF6\",\"polar\":{\"angularaxis\":{\"gridcolor\":\"white\",\"linecolor\":\"white\",\"ticks\":\"\"},\"bgcolor\":\"#E5ECF6\",\"radialaxis\":{\"gridcolor\":\"white\",\"linecolor\":\"white\",\"ticks\":\"\"}},\"scene\":{\"xaxis\":{\"backgroundcolor\":\"#E5ECF6\",\"gridcolor\":\"white\",\"gridwidth\":2,\"linecolor\":\"white\",\"showbackground\":true,\"ticks\":\"\",\"zerolinecolor\":\"white\"},\"yaxis\":{\"backgroundcolor\":\"#E5ECF6\",\"gridcolor\":\"white\",\"gridwidth\":2,\"linecolor\":\"white\",\"showbackground\":true,\"ticks\":\"\",\"zerolinecolor\":\"white\"},\"zaxis\":{\"backgroundcolor\":\"#E5ECF6\",\"gridcolor\":\"white\",\"gridwidth\":2,\"linecolor\":\"white\",\"showbackground\":true,\"ticks\":\"\",\"zerolinecolor\":\"white\"}},\"shapedefaults\":{\"line\":{\"color\":\"#2a3f5f\"}},\"ternary\":{\"aaxis\":{\"gridcolor\":\"white\",\"linecolor\":\"white\",\"ticks\":\"\"},\"baxis\":{\"gridcolor\":\"white\",\"linecolor\":\"white\",\"ticks\":\"\"},\"bgcolor\":\"#E5ECF6\",\"caxis\":{\"gridcolor\":\"white\",\"linecolor\":\"white\",\"ticks\":\"\"}},\"title\":{\"x\":0.05},\"xaxis\":{\"automargin\":true,\"gridcolor\":\"white\",\"linecolor\":\"white\",\"ticks\":\"\",\"title\":{\"standoff\":15},\"zerolinecolor\":\"white\",\"zerolinewidth\":2},\"yaxis\":{\"automargin\":true,\"gridcolor\":\"white\",\"linecolor\":\"white\",\"ticks\":\"\",\"title\":{\"standoff\":15},\"zerolinecolor\":\"white\",\"zerolinewidth\":2}}}},                        {\"responsive\": true}                    ).then(function(){\n",
       "                            \n",
       "var gd = document.getElementById('0cf16b89-f883-4bf7-994e-8ec1eddc9ea8');\n",
       "var x = new MutationObserver(function (mutations, observer) {{\n",
       "        var display = window.getComputedStyle(gd).display;\n",
       "        if (!display || display === 'none') {{\n",
       "            console.log([gd, 'removed!']);\n",
       "            Plotly.purge(gd);\n",
       "            observer.disconnect();\n",
       "        }}\n",
       "}});\n",
       "\n",
       "// Listen for the removal of the full notebook cells\n",
       "var notebookContainer = gd.closest('#notebook-container');\n",
       "if (notebookContainer) {{\n",
       "    x.observe(notebookContainer, {childList: true});\n",
       "}}\n",
       "\n",
       "// Listen for the clearing of the current output cell\n",
       "var outputEl = gd.closest('.output');\n",
       "if (outputEl) {{\n",
       "    x.observe(outputEl, {childList: true});\n",
       "}}\n",
       "\n",
       "                        })                };                });            </script>        </div>"
      ]
     },
     "metadata": {},
     "output_type": "display_data"
    }
   ],
   "source": [
    "vis_3d_tsne_interactive(\n",
    "    dataset = 'toy', \n",
    "    mode = 'true',\n",
    "    outlier = 1,\n",
    "    vis_group = true_group,\n",
    "    vis_representation = 'grad',\n",
    "    y = 1,\n",
    ")"
   ]
  },
  {
   "cell_type": "code",
   "execution_count": 67,
   "id": "a902b265",
   "metadata": {},
   "outputs": [
    {
     "data": {
      "image/png": "[encoded data removed]",
      "text/plain": [
       "<Figure size 432x288 with 1 Axes>"
      ]
     },
     "metadata": {
      "needs_background": "light"
     },
     "output_type": "display_data"
    }
   ],
   "source": [
    "fig, ax = plt.subplots(nrows=1, ncols=1, sharex=True, sharey=True)\n",
    "markers = ['o', 'x']\n",
    "colors = [\n",
    "    '#073B4C',\n",
    "    '#FFD166',\n",
    "    '#06D6A0',\n",
    "    '#118AB2',\n",
    "    '#DD3497',\n",
    "]\n",
    "\n",
    "for i in range(num_group):\n",
    "    idx = pred_domain == i\n",
    "    ax.scatter(inputs.T[0][idx], inputs.T[1][idx], color = colors[i])"
   ]
  },
  {
   "cell_type": "code",
   "execution_count": 164,
   "id": "303da0e2",
   "metadata": {},
   "outputs": [
    {
     "data": {
      "text/plain": [
       "0.875"
      ]
     },
     "execution_count": 164,
     "metadata": {},
     "output_type": "execute_result"
    }
   ],
   "source": [
    "(pred_domain[true_domain == 2] == -1).mean()"
   ]
  },
  {
   "cell_type": "code",
   "execution_count": 188,
   "id": "72d35fcc",
   "metadata": {},
   "outputs": [
    {
     "name": "stdout",
     "output_type": "stream",
     "text": [
      "Number of group: 2\n",
      "Number of group: 4\n",
      "ARS:  0.5323721212608802\n",
      "SS:  0.15672729054298906\n"
     ]
    }
   ],
   "source": [
    "pred_domain, num_group = kmeans_results(inputs, use_val_group = 0)"
   ]
  },
  {
   "cell_type": "code",
   "execution_count": 189,
   "id": "05eaef15",
   "metadata": {},
   "outputs": [
    {
     "name": "stdout",
     "output_type": "stream",
     "text": [
      "Number of group: 2\n",
      "Number of group: 4\n",
      "ARS:  0.8025534423673374\n",
      "SS:  0.6048033\n"
     ]
    }
   ],
   "source": [
    "pred_domain, num_group = kmeans_results(grad, use_val_group = 0)"
   ]
  },
  {
   "cell_type": "code",
   "execution_count": null,
   "id": "134c4bd1",
   "metadata": {},
   "outputs": [],
   "source": [
    "ARS(true_domain[true_domain == 2], pred_domain[true_domain == 2])"
   ]
  },
  {
   "cell_type": "markdown",
   "id": "8a3fccf3",
   "metadata": {},
   "source": [
    "# Waterbirds"
   ]
  },
  {
   "cell_type": "code",
   "execution_count": 164,
   "id": "bbd6cc54",
   "metadata": {},
   "outputs": [],
   "source": [
    "dataset_name = 'waterbirds'"
   ]
  },
  {
   "cell_type": "code",
   "execution_count": 165,
   "id": "d147d830",
   "metadata": {},
   "outputs": [
    {
     "name": "stdout",
     "output_type": "stream",
     "text": [
      "Representations are loaded from folder /mnt/cloud/yzeng58/privateDemographics/data/waterbirds_resnet50_outlier_0_representation!\n"
     ]
    }
   ],
   "source": [
    "# This chunk is just to quickly load all the necessary variables...\n",
    "# No need to understand this chunk!\n",
    "\n",
    "(\n",
    "    m,\n",
    "    loader,\n",
    "    optim,\n",
    "    model,\n",
    "    num_domain,\n",
    "    num_group,\n",
    "    lr_scheduler,\n",
    "    device,\n",
    "    n,\n",
    "    num_feature,\n",
    "    num_class,\n",
    ") = exp_init(\n",
    "    dataset_name,\n",
    "    128,\n",
    "    'y',\n",
    "    'a',\n",
    "    0,\n",
    "    0,\n",
    "    'fairness',\n",
    "    0,\n",
    "    True,\n",
    "    '%s/privateDemographics/models/waterbirds/erm_num_epoch_360_batch_size_128_lr_0.001_subsample_0_outlier_1_weight_decay_0.0001_best.model' % root_dir,\n",
    "    123,\n",
    "    'grass',\n",
    "    torch.device('cpu'),\n",
    "    1e-3,\n",
    "    1e-5,\n",
    "    '',\n",
    ")\n"
   ]
  },
  {
   "cell_type": "code",
   "execution_count": 166,
   "id": "82cccdfb",
   "metadata": {},
   "outputs": [
    {
     "name": "stdout",
     "output_type": "stream",
     "text": [
      "Loaded all the gradient information into folder /mnt/cloud/yzeng58/privateDemographics/results/waterbirds/outliers...\n"
     ]
    }
   ],
   "source": [
    "grad, true_domain, idx_class, true_group, idx_mode = collect_gradient(\n",
    "    model,\n",
    "    m,\n",
    "    loader,\n",
    "    device, \n",
    "    optim,\n",
    "    num_domain,\n",
    "    num_group,\n",
    "    'fairness',\n",
    "    lr_scheduler,\n",
    "    dataset_name,\n",
    "    num_class,\n",
    "    outlier = 1\n",
    ")"
   ]
  },
  {
   "cell_type": "code",
   "execution_count": 167,
   "id": "4b56b478",
   "metadata": {},
   "outputs": [
    {
     "name": "stdout",
     "output_type": "stream",
     "text": [
      "Loaded all the input information into folder /mnt/cloud/yzeng58/privateDemographics/results/waterbirds/outliers...\n"
     ]
    }
   ],
   "source": [
    "inputs, true_domain, idx_class, true_group, idx_mode, losses = collect_representations(\n",
    "    dataset_name,\n",
    "    loader,\n",
    "    device,\n",
    "    m,\n",
    "    num_domain,\n",
    "    outlier = 1\n",
    ")"
   ]
  },
  {
   "cell_type": "code",
   "execution_count": 168,
   "id": "b74d839d",
   "metadata": {},
   "outputs": [
    {
     "name": "stdout",
     "output_type": "stream",
     "text": [
      "0.3119631340314817 0.9441607\n",
      "Number of group: 1\n",
      "Best parameter:  {'eps': 0.7, 'min_samples': 5}\n",
      "0.263803997687648 0.6654738\n",
      "Number of group: 2\n",
      "Best parameter:  {'eps': 0.7, 'min_samples': 5}\n",
      "ARS:  0.7303645485247371\n",
      "SS:  0.37668788\n"
     ]
    },
    {
     "data": {
      "text/plain": [
       "(array([0., 1., 0., ..., 0., 0., 0.]), 2)"
      ]
     },
     "execution_count": 168,
     "metadata": {},
     "output_type": "execute_result"
    }
   ],
   "source": [
    "dbscan_results(grad, process_grad=0, outlier=0, use_val_group=0)"
   ]
  },
  {
   "cell_type": "code",
   "execution_count": 169,
   "id": "c3d36bdc",
   "metadata": {},
   "outputs": [
    {
     "name": "stdout",
     "output_type": "stream",
     "text": [
      "0.3722652724009311 0.938823\n",
      "Number of group: 1\n",
      "Best parameter:  {'eps': 0.25, 'min_samples': 50}\n",
      "0.3309498583641263 0.78735757\n",
      "Number of group: 2\n",
      "Best parameter:  {'eps': 0.3, 'min_samples': 50}\n",
      "ARS:  0.7453232323081922\n",
      "SS:  0.48990357\n"
     ]
    },
    {
     "data": {
      "text/plain": [
       "(array([0., 1., 0., ..., 0., 0., 0.]), 2)"
      ]
     },
     "execution_count": 169,
     "metadata": {},
     "output_type": "execute_result"
    }
   ],
   "source": [
    "dbscan_results(grad, process_grad=1, outlier=0, use_val_group=0, metric = 'cosine')"
   ]
  },
  {
   "cell_type": "code",
   "execution_count": 170,
   "id": "262df59d",
   "metadata": {},
   "outputs": [
    {
     "name": "stdout",
     "output_type": "stream",
     "text": [
      "0.0 -1\n",
      "Number of group: 1\n",
      "Best parameter:  {'eps': 0.1, 'min_samples': 5}\n",
      "0.0 -1\n",
      "Number of group: 0\n",
      "Best parameter:  {'eps': 0.1, 'min_samples': 5}\n",
      "ARS:  0.0\n",
      "SS:  -1\n"
     ]
    },
    {
     "data": {
      "text/plain": [
       "(array([-1., -1., -1., ..., -1., -1., -1.]), 0)"
      ]
     },
     "execution_count": 170,
     "metadata": {},
     "output_type": "execute_result"
    }
   ],
   "source": [
    "dbscan_results(inputs, process_grad=0, outlier=0, use_val_group=0)"
   ]
  },
  {
   "cell_type": "code",
   "execution_count": 171,
   "id": "e1b5dda8",
   "metadata": {},
   "outputs": [
    {
     "name": "stdout",
     "output_type": "stream",
     "text": [
      "-0.012427646716093659 0.003431991\n",
      "Number of group: 1\n",
      "Best parameter:  {'eps': 0.6, 'min_samples': 100}\n",
      "0.0 -1\n",
      "Number of group: 2\n",
      "Best parameter:  {'eps': 0.6499999999999999, 'min_samples': 40}\n",
      "ARS:  0.04181326931990819\n",
      "SS:  -0.002442993\n"
     ]
    },
    {
     "data": {
      "text/plain": [
       "(array([-1., -1.,  0., ...,  0.,  0., -1.]), 2)"
      ]
     },
     "execution_count": 171,
     "metadata": {},
     "output_type": "execute_result"
    }
   ],
   "source": [
    "dbscan_results(inputs, process_grad=1, outlier=0, use_val_group=0, metric = 'cosine')"
   ]
  },
  {
   "cell_type": "code",
   "execution_count": 14,
   "id": "4a67755e",
   "metadata": {},
   "outputs": [
    {
     "name": "stdout",
     "output_type": "stream",
     "text": [
      "Number of group: 2\n",
      "Number of group: 4\n"
     ]
    },
    {
     "data": {
      "text/plain": [
       "(0.39315081175484157, 0.026123887)"
      ]
     },
     "execution_count": 14,
     "metadata": {},
     "output_type": "execute_result"
    }
   ],
   "source": [
    "kmeans_results(inputs, use_val_group = 0)"
   ]
  },
  {
   "cell_type": "code",
   "execution_count": 15,
   "id": "ad86c6eb",
   "metadata": {},
   "outputs": [
    {
     "name": "stdout",
     "output_type": "stream",
     "text": [
      "Number of group: 2\n",
      "Number of group: 4\n"
     ]
    },
    {
     "data": {
      "text/plain": [
       "(0.723520852802838, -0.15399548)"
      ]
     },
     "execution_count": 15,
     "metadata": {},
     "output_type": "execute_result"
    }
   ],
   "source": [
    "kmeans_results(grad, use_val_group = 0)"
   ]
  },
  {
   "cell_type": "markdown",
   "id": "798bd863",
   "metadata": {},
   "source": [
    "# Waterbirds w. outliers"
   ]
  },
  {
   "cell_type": "code",
   "execution_count": 8,
   "id": "dbfbf524",
   "metadata": {},
   "outputs": [],
   "source": [
    "dataset_name = 'waterbirds'"
   ]
  },
  {
   "cell_type": "code",
   "execution_count": 172,
   "id": "17cc4ea3",
   "metadata": {},
   "outputs": [
    {
     "name": "stdout",
     "output_type": "stream",
     "text": [
      "Get data from outlier folder!\n",
      "Get data from outlier folder!\n",
      "Get data from outlier folder!\n",
      "Representations are loaded from folder /mnt/cloud/yzeng58/privateDemographics/data/waterbirds_resnet50_outlier_1_representation!\n"
     ]
    }
   ],
   "source": [
    "# This chunk is just to quickly load all the necessary variables...\n",
    "# No need to understand this chunk!\n",
    "\n",
    "(\n",
    "    m,\n",
    "    loader,\n",
    "    optim,\n",
    "    model,\n",
    "    num_domain,\n",
    "    num_group,\n",
    "    lr_scheduler,\n",
    "    device,\n",
    "    n,\n",
    "    num_feature,\n",
    "    num_class,\n",
    ") = exp_init(\n",
    "    dataset_name,\n",
    "    128,\n",
    "    'y',\n",
    "    'a',\n",
    "    0,\n",
    "    0,\n",
    "    'fairness',\n",
    "    outlier = 1,\n",
    "    load_representations = True,\n",
    "    start_model_path = '%s/privateDemographics/models/waterbirds/erm_num_epoch_360_batch_size_128_lr_0.001_subsample_0_outlier_1_weight_decay_0.0001_best.model' % root_dir,\n",
    "    seed = 123,\n",
    "    method = 'grass',\n",
    "    device = torch.device('cpu'),\n",
    "    lr = 1e-3,\n",
    "    weight_decay = 1e-5,\n",
    "    model = '',\n",
    ")\n"
   ]
  },
  {
   "cell_type": "code",
   "execution_count": 173,
   "id": "241130fe",
   "metadata": {},
   "outputs": [
    {
     "name": "stdout",
     "output_type": "stream",
     "text": [
      "Loaded all the gradient information into folder /mnt/cloud/yzeng58/privateDemographics/results/waterbirds/outliers...\n"
     ]
    }
   ],
   "source": [
    "grad, true_domain, idx_class, true_group, idx_mode = collect_gradient(\n",
    "    model,\n",
    "    m,\n",
    "    loader,\n",
    "    device, \n",
    "    optim,\n",
    "    num_domain,\n",
    "    num_group,\n",
    "    'fairness',\n",
    "    lr_scheduler,\n",
    "    dataset_name,\n",
    "    num_class,\n",
    "    outlier = 1,\n",
    ")"
   ]
  },
  {
   "cell_type": "code",
   "execution_count": 174,
   "id": "0cbc98eb",
   "metadata": {},
   "outputs": [
    {
     "name": "stdout",
     "output_type": "stream",
     "text": [
      "Loaded all the input information into folder /mnt/cloud/yzeng58/privateDemographics/results/waterbirds/outliers...\n"
     ]
    }
   ],
   "source": [
    "inputs, true_domain, idx_class, true_group, idx_mode, losses = collect_representations(\n",
    "    dataset_name,\n",
    "    loader,\n",
    "    device,\n",
    "    m,\n",
    "    num_domain,\n",
    "    outlier = 1,\n",
    ")"
   ]
  },
  {
   "cell_type": "code",
   "execution_count": 175,
   "id": "9eb26c2b",
   "metadata": {},
   "outputs": [
    {
     "name": "stdout",
     "output_type": "stream",
     "text": [
      "0.3119631340314817 0.9441607\n",
      "Number of group: 1\n",
      "Best parameter:  {'eps': 0.7, 'min_samples': 5}\n",
      "0.263803997687648 0.6654738\n",
      "Number of group: 2\n",
      "Best parameter:  {'eps': 0.7, 'min_samples': 5}\n",
      "ARS:  0.7303645485247371\n",
      "SS:  0.37668788\n"
     ]
    },
    {
     "data": {
      "text/plain": [
       "(array([0., 1., 0., ..., 0., 0., 0.]), 2)"
      ]
     },
     "execution_count": 175,
     "metadata": {},
     "output_type": "execute_result"
    }
   ],
   "source": [
    "dbscan_results(grad, process_grad=0, outlier=0, use_val_group=0)"
   ]
  },
  {
   "cell_type": "code",
   "execution_count": 176,
   "id": "610a15a1",
   "metadata": {},
   "outputs": [
    {
     "name": "stdout",
     "output_type": "stream",
     "text": [
      "0.3722652724009311 0.938823\n",
      "Number of group: 1\n",
      "Best parameter:  {'eps': 0.25, 'min_samples': 50}\n",
      "0.3309498583641263 0.78735757\n",
      "Number of group: 2\n",
      "Best parameter:  {'eps': 0.3, 'min_samples': 50}\n",
      "ARS:  0.7453232323081922\n",
      "SS:  0.48990357\n"
     ]
    },
    {
     "data": {
      "text/plain": [
       "(array([0., 1., 0., ..., 0., 0., 0.]), 2)"
      ]
     },
     "execution_count": 176,
     "metadata": {},
     "output_type": "execute_result"
    }
   ],
   "source": [
    "dbscan_results(grad, process_grad=1, outlier=0, use_val_group=0, metric = 'cosine')"
   ]
  },
  {
   "cell_type": "code",
   "execution_count": 177,
   "id": "8be61342",
   "metadata": {},
   "outputs": [
    {
     "name": "stdout",
     "output_type": "stream",
     "text": [
      "0.0 -1\n",
      "Number of group: 1\n",
      "Best parameter:  {'eps': 0.1, 'min_samples': 5}\n",
      "0.0 -1\n",
      "Number of group: 0\n",
      "Best parameter:  {'eps': 0.1, 'min_samples': 5}\n",
      "ARS:  0.0\n",
      "SS:  -1\n"
     ]
    },
    {
     "data": {
      "text/plain": [
       "(array([-1., -1., -1., ..., -1., -1., -1.]), 0)"
      ]
     },
     "execution_count": 177,
     "metadata": {},
     "output_type": "execute_result"
    }
   ],
   "source": [
    "dbscan_results(inputs, process_grad=0, outlier=0, use_val_group=0)"
   ]
  },
  {
   "cell_type": "code",
   "execution_count": 178,
   "id": "574256f5",
   "metadata": {},
   "outputs": [
    {
     "name": "stdout",
     "output_type": "stream",
     "text": [
      "-0.012427646716093659 0.003431991\n",
      "Number of group: 1\n",
      "Best parameter:  {'eps': 0.6, 'min_samples': 100}\n",
      "0.0 -1\n",
      "Number of group: 2\n",
      "Best parameter:  {'eps': 0.6499999999999999, 'min_samples': 40}\n",
      "ARS:  0.04181326931990819\n",
      "SS:  -0.002442993\n"
     ]
    },
    {
     "data": {
      "text/plain": [
       "(array([-1., -1.,  0., ...,  0.,  0., -1.]), 2)"
      ]
     },
     "execution_count": 178,
     "metadata": {},
     "output_type": "execute_result"
    }
   ],
   "source": [
    "dbscan_results(inputs, process_grad=1, outlier=0, use_val_group=0, metric = 'cosine')"
   ]
  },
  {
   "cell_type": "code",
   "execution_count": 14,
   "id": "0a3ba7b8",
   "metadata": {},
   "outputs": [
    {
     "name": "stdout",
     "output_type": "stream",
     "text": [
      "Number of group: 2\n",
      "Number of group: 4\n"
     ]
    },
    {
     "data": {
      "text/plain": [
       "(0.39315081175484157, 0.026123887)"
      ]
     },
     "execution_count": 14,
     "metadata": {},
     "output_type": "execute_result"
    }
   ],
   "source": [
    "kmeans_results(inputs, use_val_group = 0)"
   ]
  },
  {
   "cell_type": "code",
   "execution_count": 15,
   "id": "3e09a4ea",
   "metadata": {},
   "outputs": [
    {
     "name": "stdout",
     "output_type": "stream",
     "text": [
      "Number of group: 2\n",
      "Number of group: 4\n"
     ]
    },
    {
     "data": {
      "text/plain": [
       "(0.7170896669457811, 0.48517329)"
      ]
     },
     "execution_count": 15,
     "metadata": {},
     "output_type": "execute_result"
    }
   ],
   "source": [
    "kmeans_results(grad, use_val_group = 0)"
   ]
  },
  {
   "cell_type": "markdown",
   "id": "3386324f",
   "metadata": {},
   "source": [
    "# COMPAS"
   ]
  },
  {
   "cell_type": "code",
   "execution_count": 4,
   "id": "21bd1440",
   "metadata": {},
   "outputs": [],
   "source": [
    "dataset_name = 'compas'"
   ]
  },
  {
   "cell_type": "code",
   "execution_count": 5,
   "id": "b663102a",
   "metadata": {},
   "outputs": [],
   "source": [
    "# This chunk is just to quickly load all the necessary variables...\n",
    "# No need to understand this chunk!\n",
    "\n",
    "(\n",
    "    m,\n",
    "    loader,\n",
    "    optim,\n",
    "    model,\n",
    "    num_domain,\n",
    "    num_group,\n",
    "    lr_scheduler,\n",
    "    device,\n",
    "    n,\n",
    "    num_feature,\n",
    "    num_class,\n",
    ") = exp_init(\n",
    "    dataset_name,\n",
    "    128,\n",
    "    'y',\n",
    "    'a',\n",
    "    0,\n",
    "    0,\n",
    "    'fairness',\n",
    "    outlier = 0,\n",
    "    load_representations = True,\n",
    "    start_model_path = '%s/privateDemographics/models/compas/erm_num_epoch_300_batch_size_128_lr_2e-05_subsample_0_outlier_0_weight_decay_0.001_best.model' % root_dir,\n",
    "    seed = 123,\n",
    "    method = 'grass',\n",
    "    device = torch.device('cpu'),\n",
    "    lr = 1e-3,\n",
    "    weight_decay = 1e-5,\n",
    "    model = '',\n",
    ")\n"
   ]
  },
  {
   "cell_type": "code",
   "execution_count": null,
   "id": "9ceff28d",
   "metadata": {},
   "outputs": [],
   "source": [
    "grad, true_domain, idx_class, true_group, idx_mode = collect_gradient(\n",
    "    model,\n",
    "    m,\n",
    "    loader,\n",
    "    device, \n",
    "    optim,\n",
    "    num_domain,\n",
    "    num_group,\n",
    "    'fairness',\n",
    "    lr_scheduler,\n",
    "    dataset_name,\n",
    "    num_class,\n",
    "    outlier = 0\n",
    ")"
   ]
  },
  {
   "cell_type": "code",
   "execution_count": 7,
   "id": "bd777cf7",
   "metadata": {},
   "outputs": [
    {
     "name": "stdout",
     "output_type": "stream",
     "text": [
      "Loaded all the input information into folder /mnt/cloud/yzeng58/privateDemographics/results/compas...\n"
     ]
    }
   ],
   "source": [
    "inputs, true_domain, idx_class, true_group, idx_mode, losses = collect_representations(\n",
    "    dataset_name,\n",
    "    loader,\n",
    "    device,\n",
    "    m,\n",
    "    num_domain,\n",
    "    outlier = 0,\n",
    ")"
   ]
  },
  {
   "cell_type": "code",
   "execution_count": null,
   "id": "9ced175b",
   "metadata": {},
   "outputs": [],
   "source": [
    "kmeans_results(inputs, use_val_group = 0)"
   ]
  },
  {
   "cell_type": "code",
   "execution_count": null,
   "id": "8cbfae95",
   "metadata": {},
   "outputs": [],
   "source": [
    "kmeans_results(grad, use_val_group = 0)"
   ]
  },
  {
   "cell_type": "markdown",
   "id": "9c7e8bf3",
   "metadata": {},
   "source": [
    "# Civilcomments"
   ]
  },
  {
   "cell_type": "code",
   "execution_count": 10,
   "id": "eb16839e",
   "metadata": {},
   "outputs": [],
   "source": [
    "dataset_name = 'civilcomments'"
   ]
  },
  {
   "cell_type": "code",
   "execution_count": 11,
   "id": "a5fcc19f",
   "metadata": {},
   "outputs": [
    {
     "name": "stderr",
     "output_type": "stream",
     "text": [
      "Some weights of the model checkpoint at bert-base-uncased were not used when initializing BertForSequenceClassification: ['cls.predictions.transform.dense.bias', 'cls.seq_relationship.bias', 'cls.predictions.bias', 'cls.seq_relationship.weight', 'cls.predictions.transform.LayerNorm.bias', 'cls.predictions.transform.LayerNorm.weight', 'cls.predictions.transform.dense.weight', 'cls.predictions.decoder.weight']\n",
      "- This IS expected if you are initializing BertForSequenceClassification from the checkpoint of a model trained on another task or with another architecture (e.g. initializing a BertForSequenceClassification model from a BertForPreTraining model).\n",
      "- This IS NOT expected if you are initializing BertForSequenceClassification from the checkpoint of a model that you expect to be exactly identical (initializing a BertForSequenceClassification model from a BertForSequenceClassification model).\n",
      "Some weights of BertForSequenceClassification were not initialized from the model checkpoint at bert-base-uncased and are newly initialized: ['classifier.weight', 'classifier.bias']\n",
      "You should probably TRAIN this model on a down-stream task to be able to use it for predictions and inference.\n"
     ]
    }
   ],
   "source": [
    "# This chunk is just to quickly load all the necessary variables...\n",
    "# No need to understand this chunk!\n",
    "\n",
    "(\n",
    "    m,\n",
    "    loader,\n",
    "    optim,\n",
    "    model,\n",
    "    num_domain,\n",
    "    num_group,\n",
    "    lr_scheduler,\n",
    "    device,\n",
    "    n,\n",
    "    num_feature,\n",
    "    num_class,\n",
    ") = exp_init(\n",
    "    dataset_name,\n",
    "    128,\n",
    "    'y',\n",
    "    'a',\n",
    "    0,\n",
    "    0,\n",
    "    'fairness',\n",
    "    outlier = 0,\n",
    "    load_representations = True,\n",
    "    start_model_path = '%s/privateDemographics/models/civilcomments/sgd_m_1_num_epoch_10_batch_size_32_lr_1e-05_optimizer_adam_subsample_0_weight_decay_0.01_best.model'  % root_dir,\n",
    "    seed = 123,\n",
    "    method = 'grass',\n",
    "    device = torch.device('cpu'),\n",
    "    lr = 1e-3,\n",
    "    weight_decay = 1e-5,\n",
    "    model = '',\n",
    ")\n"
   ]
  },
  {
   "cell_type": "code",
   "execution_count": 12,
   "id": "d58564ee",
   "metadata": {},
   "outputs": [
    {
     "name": "stdout",
     "output_type": "stream",
     "text": [
      "Loaded all the gradient information into folder /mnt/cloud/yzeng58/privateDemographics/results/civilcomments...\n"
     ]
    }
   ],
   "source": [
    "grad, true_domain, idx_class, true_group, idx_mode = collect_gradient(\n",
    "    model,\n",
    "    m,\n",
    "    loader,\n",
    "    device, \n",
    "    optim,\n",
    "    num_domain,\n",
    "    num_group,\n",
    "    'fairness',\n",
    "    lr_scheduler,\n",
    "    dataset_name,\n",
    "    num_class,\n",
    "    outlier = 0\n",
    ")"
   ]
  },
  {
   "cell_type": "code",
   "execution_count": 13,
   "id": "10997ed4",
   "metadata": {
    "scrolled": true
   },
   "outputs": [
    {
     "name": "stdout",
     "output_type": "stream",
     "text": [
      "Loaded all the input information into folder /mnt/cloud/yzeng58/privateDemographics/results/civilcomments...\n"
     ]
    }
   ],
   "source": [
    "inputs, true_domain, idx_class, true_group, idx_mode, losses = collect_representations(\n",
    "    dataset_name,\n",
    "    loader,\n",
    "    device,\n",
    "    m,\n",
    "    num_domain,\n",
    "    outlier = 0,\n",
    ")"
   ]
  },
  {
   "cell_type": "code",
   "execution_count": 20,
   "id": "de041b30",
   "metadata": {},
   "outputs": [
    {
     "name": "stderr",
     "output_type": "stream",
     "text": [
      "\n",
      "KeyboardInterrupt\n",
      "\n"
     ]
    }
   ],
   "source": [
    "kmeans_results(inputs.reshape(293316,660), use_val_group = 0)"
   ]
  },
  {
   "cell_type": "code",
   "execution_count": null,
   "id": "62ffbd22",
   "metadata": {},
   "outputs": [],
   "source": [
    "kmeans_results(grad, use_val_group = 0)"
   ]
  },
  {
   "cell_type": "code",
   "execution_count": 191,
   "id": "b35b0015",
   "metadata": {},
   "outputs": [
    {
     "data": {
      "text/plain": [
       "array([[1, 2, 3],\n",
       "       [1, 2, 3],\n",
       "       [1, 2, 3]])"
      ]
     },
     "execution_count": 191,
     "metadata": {},
     "output_type": "execute_result"
    }
   ],
   "source": [
    "np.array([\n",
    "    [1,2,3],\n",
    "    [1,2,3],\n",
    "    [1,2,3]\n",
    "])"
   ]
  },
  {
   "cell_type": "code",
   "execution_count": 197,
   "id": "ca5cee71",
   "metadata": {},
   "outputs": [],
   "source": [
    "a = np.random.rand(3,3,3)"
   ]
  },
  {
   "cell_type": "code",
   "execution_count": 198,
   "id": "2a4911c2",
   "metadata": {},
   "outputs": [
    {
     "data": {
      "text/plain": [
       "array([[[0.22826323, 0.29371405, 0.63097612],\n",
       "        [0.09210494, 0.43370117, 0.43086276],\n",
       "        [0.4936851 , 0.42583029, 0.31226122]],\n",
       "\n",
       "       [[0.42635131, 0.89338916, 0.94416002],\n",
       "        [0.50183668, 0.62395295, 0.1156184 ],\n",
       "        [0.31728548, 0.41482621, 0.86630916]],\n",
       "\n",
       "       [[0.25045537, 0.48303426, 0.98555979],\n",
       "        [0.51948512, 0.61289453, 0.12062867],\n",
       "        [0.8263408 , 0.60306013, 0.54506801]]])"
      ]
     },
     "execution_count": 198,
     "metadata": {},
     "output_type": "execute_result"
    }
   ],
   "source": [
    "a\n"
   ]
  },
  {
   "cell_type": "code",
   "execution_count": 201,
   "id": "fc1c3f88",
   "metadata": {},
   "outputs": [
    {
     "data": {
      "text/plain": [
       "3"
      ]
     },
     "execution_count": 201,
     "metadata": {},
     "output_type": "execute_result"
    }
   ],
   "source": [
    "len(a.shape)"
   ]
  },
  {
   "cell_type": "code",
   "execution_count": null,
   "id": "1991ae67",
   "metadata": {},
   "outputs": [],
   "source": []
  }
 ],
 "metadata": {
  "kernelspec": {
   "display_name": "Python 3 (ipykernel)",
   "language": "python",
   "name": "python3"
  },
  "language_info": {
   "codemirror_mode": {
    "name": "ipython",
    "version": 3
   },
   "file_extension": ".py",
   "mimetype": "text/x-python",
   "name": "python",
   "nbconvert_exporter": "python",
   "pygments_lexer": "ipython3",
   "version": "3.8.13"
  }
 },
 "nbformat": 4,
 "nbformat_minor": 5
}
