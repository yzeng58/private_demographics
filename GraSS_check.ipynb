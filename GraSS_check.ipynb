{
 "cells": [
  {
   "cell_type": "code",
   "execution_count": 6,
   "id": "38d3fc6c",
   "metadata": {},
   "outputs": [],
   "source": [
    "import json, os\n",
    "import numpy as np\n",
    "from sklearn.metrics.cluster import adjusted_rand_score\n",
    "from settings import *"
   ]
  },
  {
   "cell_type": "code",
   "execution_count": 2,
   "id": "9e1dd28d",
   "metadata": {},
   "outputs": [],
   "source": [
    "def get_stat(dataset):\n",
    "    try:\n",
    "        with open('%s/privateDemographics/results/%s/pred_dict_outlier_0.json' % (root_dir, dataset), 'r') as f:\n",
    "            pred_dict = json.load(f)\n",
    "    except:\n",
    "        with open('%s/privateDemographics/results/%s/pred_dict.json' % (root_dir, dataset), 'r') as f:\n",
    "            pred_dict = json.load(f)\n",
    "\n",
    "    group = np.load('%s/privateDemographics/results/%s/true_group.npy' % (root_dir, dataset))\n",
    "    idx_mode = np.load('%s/privateDemographics/results/%s/idx_mode.npy' % (root_dir, dataset))\n",
    "\n",
    "    train_group = group[idx_mode == 'train']\n",
    "    train_pred = np.array(pred_dict['train'])\n",
    "    return train_group, train_pred"
   ]
  },
  {
   "cell_type": "markdown",
   "id": "5eb5a630",
   "metadata": {},
   "source": [
    "# Waterbirds"
   ]
  },
  {
   "cell_type": "code",
   "execution_count": 8,
   "id": "3d77bf26",
   "metadata": {},
   "outputs": [
    {
     "name": "stdout",
     "output_type": "stream",
     "text": [
      "[-1  0  1  2  3  4  5  6  7  8  9 10 11 12 13 14 15 16 17 18 19 20 21 22\n",
      " 23 24 25 26 27 28 29 30 31 32 33 34 35 36 37 38 39 40 41 42 43 44 45 46\n",
      " 47 48 49 50 51 52 53 54 55 56 57 58 59 60 61 62 63]\n",
      "[-1  0  1  2  3  4  5  6  7  8  9 10 11 12 13 14 15 16 17 18 19 20 21 22\n",
      " 23 24 25 26 27 28 29 30]\n",
      "[-1  0  1  2  3  4  5  6  7  8  9 10 11 12 13 14]\n",
      "[-1  0  1  2  3  4  5  6  7  8  9]\n",
      "[-1  0  1  2  3  4  5  6]\n",
      "[-1  0  1  2  3  4  5]\n",
      "[-1  0  1  2  3]\n",
      "[-1  0  1  2]\n",
      "[-1  0  1  2  3  4  5  6  7  8  9 10 11 12 13 14 15 16 17 18 19 20 21 22\n",
      " 23 24 25 26 27 28 29 30 31 32 33 34 35 36 37 38 39 40 41 42 43 44 45 46\n",
      " 47 48 49 50 51 52 53 54 55 56 57]\n",
      "[-1  0  1  2  3  4  5  6  7  8  9 10 11 12 13 14 15 16 17 18 19 20 21 22\n",
      " 23 24 25 26 27]\n",
      "[-1  0  1  2  3  4  5  6  7  8  9 10 11]\n",
      "[-1  0  1  2  3  4  5  6  7  8  9]\n",
      "[-1  0  1  2  3  4  5  6  7  8]\n",
      "[-1  0  1  2  3  4  5  6]\n",
      "[-1  0  1  2  3  4]\n",
      "[-1  0  1  2]\n",
      "[-1  0  1  2  3  4  5  6  7  8  9 10 11 12 13 14 15 16 17 18 19 20 21 22\n",
      " 23 24 25 26 27 28 29 30 31 32 33 34 35 36 37 38 39 40 41 42 43 44 45 46\n",
      " 47 48 49 50 51 52 53]\n",
      "[-1  0  1  2  3  4  5  6  7  8  9 10 11 12 13 14 15 16 17 18 19 20 21 22\n",
      " 23 24 25 26 27 28]\n",
      "[-1  0  1  2  3  4  5  6  7  8  9]\n",
      "[-1  0  1  2  3  4  5  6  7  8  9]\n",
      "[-1  0  1  2  3  4  5  6  7]\n",
      "[-1  0  1  2  3  4  5]\n",
      "[-1  0  1  2  3]\n",
      "[-1  0  1  2]\n",
      "[-1  0  1  2  3  4  5  6  7  8  9 10 11 12 13 14 15 16 17 18 19 20 21 22\n",
      " 23 24 25 26 27 28 29 30 31 32 33 34 35 36 37 38 39]\n",
      "[-1  0  1  2  3  4  5  6  7  8  9 10 11 12 13 14 15 16 17]\n",
      "[-1  0  1  2  3  4  5  6  7  8  9]\n",
      "[-1  0  1  2  3  4  5  6]\n",
      "[-1  0  1  2  3  4]\n",
      "[-1  0  1  2  3  4]\n",
      "[-1  0  1  2  3  4  5]\n",
      "[-1  0  1  2]\n",
      "[-1  0  1  2  3  4  5  6  7  8  9 10 11 12 13 14 15 16 17 18 19 20 21 22\n",
      " 23 24 25 26 27 28]\n",
      "[-1  0  1  2  3  4  5  6  7  8  9 10 11 12 13]\n",
      "[-1  0  1  2  3]\n",
      "[-1  0  1  2  3  4  5]\n",
      "[-1  0  1  2  3]\n",
      "[-1  0  1  2  3]\n",
      "[-1  0  1  2]\n",
      "[-1  0  1  2]\n",
      "[-1  0  1  2  3  4  5  6  7  8  9 10 11 12 13 14 15 16]\n",
      "[-1  0  1  2  3  4  5  6  7  8  9]\n",
      "[-1  0  1  2  3]\n",
      "[-1  0  1  2  3]\n",
      "[-1  0  1  2]\n",
      "[-1  0  1]\n",
      "[-1  0  1  2]\n",
      "[-1  0]\n",
      "[-1  0  1]\n",
      "[-1  0  1  2]\n",
      "[-1  0]\n",
      "[-1  0]\n",
      "[-1  0]\n",
      "[-1  0  1]\n",
      "[-1  0  1]\n",
      "[-1  0  1]\n",
      "[-1  0]\n",
      "[-1  0]\n",
      "[-1  0]\n",
      "[-1  0]\n",
      "[-1  0]\n",
      "[-1  0]\n",
      "[-1  0]\n",
      "[-1  0]\n",
      "[-1  0]\n",
      "[-1  0]\n",
      "[-1  0]\n",
      "[-1  0]\n",
      "[-1  0]\n",
      "[-1  0]\n",
      "[-1  0]\n",
      "[-1  0]\n",
      "[-1  0]\n",
      "[-1  0]\n",
      "[-1  0]\n",
      "[-1  0]\n",
      "[-1  0]\n",
      "[-1  0]\n",
      "[-1  0]\n",
      "[-1  0]\n",
      "[0]\n",
      "[0]\n",
      "[0]\n",
      "[0]\n",
      "[0]\n",
      "[0]\n",
      "[0]\n",
      "[-1  0]\n",
      "[0]\n",
      "[0]\n",
      "[0]\n",
      "[0]\n",
      "[0]\n",
      "[0]\n",
      "[0]\n",
      "[0]\n",
      "[0]\n",
      "[0]\n",
      "[0]\n",
      "[0]\n",
      "[0]\n",
      "[0]\n",
      "[0]\n",
      "[0]\n",
      "[-1  0  1  2  3  4  5  6  7  8  9 10 11 12 13 14 15 16 17 18 19 20 21 22\n",
      " 23 24 25 26 27 28 29 30 31 32 33 34 35 36 37 38 39 40 41 42 43 44 45 46\n",
      " 47 48 49 50 51 52 53 54 55 56 57 58 59 60 61 62 63]\n",
      "[-1  0  1  2  3  4  5  6  7  8  9 10 11 12 13 14 15 16 17 18 19 20 21 22\n",
      " 23 24 25 26 27 28 29 30 31 32 33 34 35 36 37 38]\n",
      "[-1  0  1  2  3  4  5  6  7  8  9 10 11 12 13 14 15 16 17 18]\n",
      "[-1  0  1  2  3  4  5  6  7  8  9 10 11 12]\n",
      "[-1  0  1  2  3  4  5  6  7  8]\n",
      "[-1  0  1  2  3  4]\n",
      "[-1  0  1  2  3]\n",
      "[-1  0  1  2]\n",
      "[-1  0  1  2  3  4  5  6  7  8  9 10 11 12 13 14 15 16 17 18 19 20 21 22\n",
      " 23 24 25 26 27 28 29 30 31 32 33 34 35 36 37 38 39 40 41 42 43 44 45 46\n",
      " 47 48 49 50 51 52 53 54 55 56 57 58 59 60 61 62 63 64 65 66]\n",
      "[-1  0  1  2  3  4  5  6  7  8  9 10 11 12 13 14 15 16 17 18 19 20 21 22\n",
      " 23 24 25 26 27 28 29 30 31 32 33 34 35]\n",
      "[-1  0  1  2  3  4  5  6  7  8  9 10 11 12 13 14 15]\n",
      "[-1  0  1  2  3  4  5  6  7  8  9 10]\n",
      "[-1  0  1  2  3  4  5  6  7]\n",
      "[-1  0  1  2  3  4]\n",
      "[-1  0  1  2]\n",
      "[-1  0  1  2]\n",
      "[-1  0  1  2  3  4  5  6  7  8  9 10 11 12 13 14 15 16 17 18 19 20 21 22\n",
      " 23 24 25 26 27 28 29 30 31 32 33 34 35 36 37 38 39 40 41 42 43 44 45 46\n",
      " 47 48 49 50 51 52 53 54 55 56 57 58 59 60 61]\n",
      "[-1  0  1  2  3  4  5  6  7  8  9 10 11 12 13 14 15 16 17 18 19 20 21 22\n",
      " 23 24 25 26 27 28]\n",
      "[-1  0  1  2  3  4  5  6  7  8  9 10 11 12 13 14 15]\n",
      "[-1  0  1  2  3  4  5  6  7  8  9 10]\n",
      "[-1  0  1  2  3  4  5  6  7  8]\n",
      "[-1  0  1  2  3  4]\n",
      "[-1  0  1]\n",
      "[-1  0  1  2]\n",
      "[-1  0  1  2  3  4  5  6  7  8  9 10 11 12 13 14 15 16 17 18 19 20 21 22\n",
      " 23 24 25 26 27 28 29 30 31 32 33 34 35 36 37 38 39 40 41]\n",
      "[-1  0  1  2  3  4  5  6  7  8  9 10 11 12 13 14 15 16 17 18 19]\n",
      "[-1  0  1  2  3  4  5  6  7  8  9 10]\n",
      "[-1  0  1  2  3  4  5  6  7  8]\n",
      "[-1  0  1  2  3  4  5  6  7  8]\n",
      "[-1  0  1  2  3  4]\n",
      "[-1  0  1  2]\n",
      "[-1  0  1]\n",
      "[-1  0  1  2  3  4  5  6  7  8  9 10 11 12 13 14 15 16 17 18 19]\n",
      "[-1  0  1  2  3  4  5  6  7  8  9 10]\n",
      "[-1  0  1  2  3  4  5  6]\n",
      "[-1  0  1  2  3]\n",
      "[-1  0  1  2  3]\n",
      "[-1  0  1  2  3]\n",
      "[-1  0  1  2  3  4]\n",
      "[-1  0  1  2]\n",
      "[-1  0  1  2  3  4  5  6  7]\n",
      "[-1  0  1  2  3]\n",
      "[-1  0  1]\n",
      "[-1  0  1]\n",
      "[-1  0  1  2]\n",
      "[-1  0  1  2]\n",
      "[-1  0  1  2  3  4  5]\n",
      "[-1  0  1  2  3]\n",
      "[-1  0  1  2]\n",
      "[-1  0  1]\n",
      "[-1  0  1]\n",
      "[-1  0  1]\n",
      "[-1  0  1]\n",
      "[-1  0  1]\n",
      "[-1  0  1]\n",
      "[-1  0  1]\n",
      "[-1  0]\n",
      "[-1  0]\n",
      "[-1  0]\n",
      "[-1  0]\n",
      "[-1  0]\n",
      "[-1  0]\n",
      "[-1  0]\n",
      "[-1  0]\n",
      "[-1  0]\n",
      "[-1  0]\n",
      "[-1  0]\n",
      "[-1  0]\n",
      "[-1  0]\n",
      "[-1  0]\n",
      "[-1  0]\n",
      "[-1  0]\n",
      "[0]\n",
      "[0]\n",
      "[0]\n",
      "[0]\n",
      "[0]\n",
      "[0]\n",
      "[0]\n",
      "[0]\n",
      "[0]\n",
      "[0]\n",
      "[0]\n",
      "[0]\n",
      "[0]\n",
      "[0]\n",
      "[0]\n",
      "[0]\n",
      "[0]\n",
      "[0]\n",
      "[0]\n",
      "[0]\n",
      "[0]\n",
      "[0]\n",
      "[0]\n",
      "[0]\n",
      "[0]\n",
      "[0]\n",
      "[0]\n",
      "[0]\n",
      "[0]\n",
      "[0]\n",
      "[0]\n",
      "[0]\n"
     ]
    }
   ],
   "source": [
    "for file in os.listdir('/mnt/cloud/yzeng58/privateDemographics/results/compas'):\n",
    "    if file.startswith('clustering'):\n",
    "        group = np.load(f'/mnt/cloud/yzeng58/privateDemographics/results/compas/{file}')\n",
    "        print(np.unique(group))\n"
   ]
  },
  {
   "cell_type": "code",
   "execution_count": 26,
   "id": "0470c3ef",
   "metadata": {},
   "outputs": [],
   "source": [
    "train_group, train_pred = get_stat(dataset = 'waterbirds')"
   ]
  },
  {
   "cell_type": "code",
   "execution_count": 27,
   "id": "365d3aca",
   "metadata": {},
   "outputs": [
    {
     "data": {
      "text/plain": [
       "(array([0, 1, 2, 3]), array([0.72950991, 0.03837331, 0.01167883, 0.22043796]))"
      ]
     },
     "execution_count": 27,
     "metadata": {},
     "output_type": "execute_result"
    }
   ],
   "source": [
    "# check minority group\n",
    "idx, pro = np.unique(train_group, return_counts = True)\n",
    "idx, pro/pro.sum()"
   ]
  },
  {
   "cell_type": "code",
   "execution_count": 28,
   "id": "7c15a1b4",
   "metadata": {},
   "outputs": [
    {
     "data": {
      "text/plain": [
       "(array([-1.,  0.,  1.,  2.]),\n",
       " array([0.06131387, 0.71345151, 0.19144943, 0.03378519]))"
      ]
     },
     "execution_count": 28,
     "metadata": {},
     "output_type": "execute_result"
    }
   ],
   "source": [
    "idx, pro = np.unique(train_pred, return_counts = True)\n",
    "idx, pro/pro.sum()"
   ]
  },
  {
   "cell_type": "code",
   "execution_count": 29,
   "id": "f73cd0e7",
   "metadata": {
    "scrolled": true
   },
   "outputs": [
    {
     "data": {
      "text/plain": [
       "0.14166666666666666"
      ]
     },
     "execution_count": 29,
     "metadata": {},
     "output_type": "execute_result"
    }
   ],
   "source": [
    "a = (train_group == 1) | (train_group == 2)\n",
    "b = (train_pred == 2)\n",
    "(a & b).sum() / max(a.sum(), b.sum())"
   ]
  },
  {
   "cell_type": "code",
   "execution_count": 30,
   "id": "bca7aeb0",
   "metadata": {},
   "outputs": [
    {
     "data": {
      "text/plain": [
       "0.8084822954916884"
      ]
     },
     "execution_count": 30,
     "metadata": {},
     "output_type": "execute_result"
    }
   ],
   "source": [
    "adjusted_rand_score(train_group, train_pred)"
   ]
  },
  {
   "cell_type": "markdown",
   "id": "28db45c9",
   "metadata": {},
   "source": [
    "# Civilcomments"
   ]
  },
  {
   "cell_type": "code",
   "execution_count": 8,
   "id": "0e0ec9a9",
   "metadata": {},
   "outputs": [],
   "source": [
    "train_group, train_pred = get_stat(dataset = 'civilcomments')"
   ]
  },
  {
   "cell_type": "code",
   "execution_count": 9,
   "id": "edd97940",
   "metadata": {},
   "outputs": [
    {
     "data": {
      "text/plain": [
       "(array([0, 1, 8, 9]), array([0.33577785, 0.55079952, 0.06610219, 0.04732045]))"
      ]
     },
     "execution_count": 9,
     "metadata": {},
     "output_type": "execute_result"
    }
   ],
   "source": [
    "# check minority group\n",
    "idx, pro = np.unique(train_group, return_counts = True)\n",
    "idx, pro/pro.sum()"
   ]
  },
  {
   "cell_type": "code",
   "execution_count": 10,
   "id": "b117916e",
   "metadata": {},
   "outputs": [
    {
     "data": {
      "text/plain": [
       "(array([0., 1., 2., 3.]),\n",
       " array([8.38561839e-01, 4.75880731e-02, 4.27448911e-04, 1.13422639e-01]))"
      ]
     },
     "execution_count": 10,
     "metadata": {},
     "output_type": "execute_result"
    }
   ],
   "source": [
    "idx, pro = np.unique(train_pred, return_counts = True)\n",
    "idx, pro/pro.sum()"
   ]
  },
  {
   "cell_type": "code",
   "execution_count": 11,
   "id": "9e0ca4d0",
   "metadata": {},
   "outputs": [
    {
     "data": {
      "text/plain": [
       "0.0"
      ]
     },
     "execution_count": 11,
     "metadata": {},
     "output_type": "execute_result"
    }
   ],
   "source": [
    "a = (train_group == 8) | (train_group == 9)\n",
    "b = (train_pred == 1) |  (train_pred == 2) \n",
    "(a & b).sum() / max(a.sum(), b.sum())"
   ]
  },
  {
   "cell_type": "code",
   "execution_count": 12,
   "id": "ec36d751",
   "metadata": {},
   "outputs": [
    {
     "data": {
      "text/plain": [
       "0.2862698928952462"
      ]
     },
     "execution_count": 12,
     "metadata": {},
     "output_type": "execute_result"
    }
   ],
   "source": [
    "adjusted_rand_score(train_group, train_pred)"
   ]
  },
  {
   "cell_type": "markdown",
   "id": "14ea9559",
   "metadata": {},
   "source": [
    "# Synthetic"
   ]
  },
  {
   "cell_type": "code",
   "execution_count": 13,
   "id": "be9ee012",
   "metadata": {},
   "outputs": [],
   "source": [
    "train_group, train_pred = get_stat(dataset = 'synthetic')"
   ]
  },
  {
   "cell_type": "code",
   "execution_count": 14,
   "id": "5e777ea5",
   "metadata": {},
   "outputs": [
    {
     "data": {
      "text/plain": [
       "(array([0, 1, 2, 3, 4, 5]),\n",
       " array([0.03846154, 0.07692308, 0.38461538, 0.03846154, 0.07692308,\n",
       "        0.38461538]))"
      ]
     },
     "execution_count": 14,
     "metadata": {},
     "output_type": "execute_result"
    }
   ],
   "source": [
    "# check minority group\n",
    "idx, pro = np.unique(train_group, return_counts = True)\n",
    "idx, pro/pro.sum()"
   ]
  },
  {
   "cell_type": "code",
   "execution_count": 15,
   "id": "686169d2",
   "metadata": {},
   "outputs": [
    {
     "data": {
      "text/plain": [
       "(array([0., 1., 2., 3., 4., 5.]),\n",
       " array([0.00076923, 0.42692308, 0.07230769, 0.02769231, 0.41230769,\n",
       "        0.06      ]))"
      ]
     },
     "execution_count": 15,
     "metadata": {},
     "output_type": "execute_result"
    }
   ],
   "source": [
    "idx, pro = np.unique(train_pred, return_counts = True)\n",
    "idx, pro/pro.sum()"
   ]
  },
  {
   "cell_type": "code",
   "execution_count": 16,
   "id": "1009f38e",
   "metadata": {},
   "outputs": [
    {
     "data": {
      "text/plain": [
       "0.69"
      ]
     },
     "execution_count": 16,
     "metadata": {},
     "output_type": "execute_result"
    }
   ],
   "source": [
    "a = (train_group == 0) | (train_group == 1) | (train_group == 3) | (train_group == 4)\n",
    "b = (train_pred == 3) |  (train_pred == 2) |  (train_pred == 5) |  (train_pred == 6) \n",
    "(a & b).sum() / max(a.sum(), b.sum())"
   ]
  },
  {
   "cell_type": "code",
   "execution_count": 17,
   "id": "8fc2c304",
   "metadata": {},
   "outputs": [
    {
     "data": {
      "text/plain": [
       "0.8539216141954911"
      ]
     },
     "execution_count": 17,
     "metadata": {},
     "output_type": "execute_result"
    }
   ],
   "source": [
    "adjusted_rand_score(train_group, train_pred)"
   ]
  },
  {
   "cell_type": "markdown",
   "id": "cc1f1043",
   "metadata": {},
   "source": [
    "# MultiNLI"
   ]
  },
  {
   "cell_type": "code",
   "execution_count": 18,
   "id": "acbb10cf",
   "metadata": {},
   "outputs": [],
   "source": [
    "train_group, train_pred = get_stat(dataset = 'multinli')"
   ]
  },
  {
   "cell_type": "code",
   "execution_count": 19,
   "id": "358d6665",
   "metadata": {
    "scrolled": true
   },
   "outputs": [
    {
     "data": {
      "text/plain": [
       "(array([0, 1, 2, 3, 4, 5]),\n",
       " array([0.27887959, 0.05411907, 0.32679035, 0.00737723, 0.32317206,\n",
       "        0.0096617 ]))"
      ]
     },
     "execution_count": 19,
     "metadata": {},
     "output_type": "execute_result"
    }
   ],
   "source": [
    "# check minority group\n",
    "idx, pro = np.unique(train_group, return_counts = True)\n",
    "idx, pro/pro.sum()"
   ]
  },
  {
   "cell_type": "code",
   "execution_count": 20,
   "id": "35543ed6",
   "metadata": {},
   "outputs": [
    {
     "data": {
      "text/plain": [
       "(array([ 0.,  1.,  2.,  3.,  4.,  5.,  6.,  7.,  8.,  9., 10., 11., 12.,\n",
       "        13., 14., 15., 16., 17., 18., 19., 20., 22., 23., 24., 25., 27.,\n",
       "        28., 29., 30., 31., 32., 33.]),\n",
       " array([6.75445617e-02, 2.65163090e-01, 1.45507457e-05, 1.94009943e-05,\n",
       "        4.85024858e-06, 1.45507457e-05, 9.70049715e-06, 1.94009943e-05,\n",
       "        1.45507457e-05, 1.45507457e-05, 1.45507457e-05, 4.85024858e-06,\n",
       "        9.70049715e-06, 1.94009943e-05, 9.70049715e-06, 1.45507457e-05,\n",
       "        9.70049715e-06, 1.45507457e-05, 9.70049715e-06, 4.85024858e-06,\n",
       "        1.45507457e-05, 1.45507457e-05, 4.85024858e-06, 4.85024858e-06,\n",
       "        9.70049715e-06, 4.85024858e-06, 4.85024858e-06, 9.70049715e-06,\n",
       "        1.15857888e-01, 2.18309688e-01, 1.10280102e-01, 2.22553656e-01]))"
      ]
     },
     "execution_count": 20,
     "metadata": {},
     "output_type": "execute_result"
    }
   ],
   "source": [
    "idx, pro = np.unique(train_pred, return_counts = True)\n",
    "idx, pro/pro.sum()"
   ]
  },
  {
   "cell_type": "code",
   "execution_count": 21,
   "id": "f838f3df",
   "metadata": {},
   "outputs": [
    {
     "data": {
      "text/plain": [
       "0.1501601799468339"
      ]
     },
     "execution_count": 21,
     "metadata": {},
     "output_type": "execute_result"
    }
   ],
   "source": [
    "a = (train_group == 1) | (train_group == 3) | (train_group == 5)\n",
    "b = np.in1d(train_pred, idx[pro/pro.sum() < 0.1])\n",
    "(a & b).sum() / max(a.sum(), b.sum())"
   ]
  },
  {
   "cell_type": "code",
   "execution_count": 22,
   "id": "fa110847",
   "metadata": {},
   "outputs": [
    {
     "data": {
      "text/plain": [
       "0.6057219637871808"
      ]
     },
     "execution_count": 22,
     "metadata": {},
     "output_type": "execute_result"
    }
   ],
   "source": [
    "adjusted_rand_score(train_group, train_pred)"
   ]
  },
  {
   "cell_type": "code",
   "execution_count": 10,
   "id": "b5b4eb48",
   "metadata": {},
   "outputs": [
    {
     "ename": "NameError",
     "evalue": "name 'pro' is not defined",
     "output_type": "error",
     "traceback": [
      "\u001b[0;31m---------------------------------------------------------------------------\u001b[0m",
      "\u001b[0;31mNameError\u001b[0m                                 Traceback (most recent call last)",
      "Input \u001b[0;32mIn [10]\u001b[0m, in \u001b[0;36m<cell line: 1>\u001b[0;34m()\u001b[0m\n\u001b[0;32m----> 1\u001b[0m \u001b[43mpro\u001b[49m\n",
      "\u001b[0;31mNameError\u001b[0m: name 'pro' is not defined"
     ]
    }
   ],
   "source": [
    "pro"
   ]
  },
  {
   "cell_type": "code",
   "execution_count": null,
   "id": "5be3bee7",
   "metadata": {},
   "outputs": [],
   "source": []
  }
 ],
 "metadata": {
  "kernelspec": {
   "display_name": "Python 3 (ipykernel)",
   "language": "python",
   "name": "python3"
  },
  "language_info": {
   "codemirror_mode": {
    "name": "ipython",
    "version": 3
   },
   "file_extension": ".py",
   "mimetype": "text/x-python",
   "name": "python",
   "nbconvert_exporter": "python",
   "pygments_lexer": "ipython3",
   "version": "3.8.13"
  }
 },
 "nbformat": 4,
 "nbformat_minor": 5
}
