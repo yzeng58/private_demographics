{
 "cells": [
  {
   "cell_type": "code",
   "execution_count": 24,
   "id": "cd73147e",
   "metadata": {},
   "outputs": [],
   "source": [
    "import numpy as np\n",
    "import os, umap, torch\n",
    "os.chdir('..')\n",
    "from settings import *"
   ]
  },
  {
   "cell_type": "code",
   "execution_count": 33,
   "id": "a8b2c8eb",
   "metadata": {},
   "outputs": [],
   "source": [
    "import json\n",
    "\n",
    "with open('/mnt/cloud/yzeng58/privateDemographics/results/waterbirds/pred_dict_outlier_1.json', 'r') as f:\n",
    "    pred = json.load(f)"
   ]
  },
  {
   "cell_type": "code",
   "execution_count": 34,
   "id": "3b39b280",
   "metadata": {},
   "outputs": [],
   "source": [
    "pred_domain = pred['train']"
   ]
  },
  {
   "cell_type": "code",
   "execution_count": 35,
   "id": "2e764e0b",
   "metadata": {},
   "outputs": [
    {
     "data": {
      "text/plain": [
       "3"
      ]
     },
     "execution_count": 35,
     "metadata": {},
     "output_type": "execute_result"
    }
   ],
   "source": [
    "len(np.unique(pred_domain)) - int(-1 in pred_domain)"
   ]
  },
  {
   "cell_type": "code",
   "execution_count": 36,
   "id": "e6d30e23",
   "metadata": {
    "scrolled": true
   },
   "outputs": [
    {
     "data": {
      "text/plain": [
       "(array([-1.,  0.,  1.,  2.]), array([302, 636, 165,  96]))"
      ]
     },
     "execution_count": 36,
     "metadata": {},
     "output_type": "execute_result"
    }
   ],
   "source": [
    "np.unique(np.array(pred['val']), return_counts = True)"
   ]
  },
  {
   "cell_type": "code",
   "execution_count": 27,
   "id": "b92162ad",
   "metadata": {},
   "outputs": [
    {
     "data": {
      "text/plain": [
       "5"
      ]
     },
     "execution_count": 27,
     "metadata": {},
     "output_type": "execute_result"
    }
   ],
   "source": [
    "pred['num_group'] len(np.unique(pred_domain)) - int(-1 in pred_domain)"
   ]
  },
  {
   "cell_type": "code",
   "execution_count": 2,
   "id": "ecf1b03a",
   "metadata": {},
   "outputs": [],
   "source": [
    "dataset_name = 'civilcomments'\n",
    "\n",
    "folder_name = '%s/privateDemographics/results/%s' % (root_dir, dataset_name)\n",
    "\n",
    "with open(os.path.join(folder_name, 'inputs.npy'), 'rb') as f:\n",
    "    inputs = np.load(f)\n",
    "with open(os.path.join(folder_name, 'true_domain.npy'), 'rb') as f:\n",
    "    true_domain = np.load(f)\n",
    "with open(os.path.join(folder_name, 'idx_class.npy'), 'rb') as f:\n",
    "    idx_class = np.load(f)\n",
    "with open(os.path.join(folder_name, 'true_group.npy'), 'rb') as f:\n",
    "    true_group = np.load(f)\n",
    "with open(os.path.join(folder_name, 'idx_mode.npy'), 'rb') as f:\n",
    "    idx_mode = np.load(f)\n",
    "with open(os.path.join(folder_name, 'loss.npy'), 'rb') as f:\n",
    "    losses = np.load(f)"
   ]
  },
  {
   "cell_type": "code",
   "execution_count": 39,
   "id": "c4abb567",
   "metadata": {
    "scrolled": true
   },
   "outputs": [
    {
     "name": "stdout",
     "output_type": "stream",
     "text": [
      "1\n"
     ]
    }
   ],
   "source": [
    "if not None:\n",
    "    print(1)"
   ]
  },
  {
   "cell_type": "code",
   "execution_count": 13,
   "id": "0c6e552a",
   "metadata": {},
   "outputs": [
    {
     "name": "stderr",
     "output_type": "stream",
     "text": [
      "/home/yzeng58/anaconda3/envs/ibm/lib/python3.8/site-packages/sklearn/manifold/_spectral_embedding.py:259: UserWarning: Graph is not fully connected, spectral embedding may not work as expected.\n",
      "  warnings.warn(\n"
     ]
    },
    {
     "ename": "NameError",
     "evalue": "name 'inputs_trans' is not defined",
     "output_type": "error",
     "traceback": [
      "\u001b[0;31m---------------------------------------------------------------------------\u001b[0m",
      "\u001b[0;31mNameError\u001b[0m                                 Traceback (most recent call last)",
      "Input \u001b[0;32mIn [13]\u001b[0m, in \u001b[0;36m<cell line: 4>\u001b[0;34m()\u001b[0m\n\u001b[1;32m      2\u001b[0m y_idx \u001b[38;5;241m=\u001b[39m idx_class \u001b[38;5;241m==\u001b[39m y\n\u001b[1;32m      3\u001b[0m reducer \u001b[38;5;241m=\u001b[39m umap\u001b[38;5;241m.\u001b[39mUMAP(random_state \u001b[38;5;241m=\u001b[39m \u001b[38;5;241m123\u001b[39m, n_components \u001b[38;5;241m=\u001b[39m \u001b[38;5;241m2\u001b[39m, n_neighbors \u001b[38;5;241m=\u001b[39m \u001b[38;5;241m10\u001b[39m, min_dist \u001b[38;5;241m=\u001b[39m \u001b[38;5;241m0\u001b[39m)\n\u001b[0;32m----> 4\u001b[0m \u001b[43minputs_trans\u001b[49m[y_idx] \u001b[38;5;241m=\u001b[39m torch\u001b[38;5;241m.\u001b[39mtensor(reducer\u001b[38;5;241m.\u001b[39mfit_transform(inputs[y_idx]\u001b[38;5;241m.\u001b[39mreshape(inputs[y_idx]\u001b[38;5;241m.\u001b[39mshape[\u001b[38;5;241m0\u001b[39m], np\u001b[38;5;241m.\u001b[39mprod(inputs[y_idx]\u001b[38;5;241m.\u001b[39mshape[\u001b[38;5;241m1\u001b[39m:]))))\n",
      "\u001b[0;31mNameError\u001b[0m: name 'inputs_trans' is not defined"
     ]
    }
   ],
   "source": [
    "y = 0\n",
    "y_idx = idx_class == y\n",
    "reducer = umap.UMAP(random_state = 123, n_components = 2, n_neighbors = 10, min_dist = 0)\n",
    "inputs_trans[y_idx] = torch.tensor(reducer.fit_transform(inputs[y_idx].reshape(inputs[y_idx].shape[0], np.prod(inputs[y_idx].shape[1:]))))\n"
   ]
  },
  {
   "cell_type": "code",
   "execution_count": 7,
   "id": "be73ee67",
   "metadata": {},
   "outputs": [],
   "source": [
    "import sklearn.datasets\n",
    "import pandas as pd\n",
    "\n",
    "pendigits = sklearn.datasets.load_digits()\n",
    "mnist = sklearn.datasets.fetch_openml('mnist_784')\n",
    "fmnist = sklearn.datasets.fetch_openml('Fashion-MNIST')"
   ]
  },
  {
   "cell_type": "code",
   "execution_count": 10,
   "id": "d572c242",
   "metadata": {},
   "outputs": [
    {
     "data": {
      "text/plain": [
       "(70000, 784)"
      ]
     },
     "execution_count": 10,
     "metadata": {},
     "output_type": "execute_result"
    }
   ],
   "source": [
    "mnist.data.shape"
   ]
  },
  {
   "cell_type": "code",
   "execution_count": 8,
   "id": "8ffe72ef",
   "metadata": {
    "scrolled": true
   },
   "outputs": [
    {
     "name": "stderr",
     "output_type": "stream",
     "text": [
      "\n",
      "KeyboardInterrupt\n",
      "\n"
     ]
    }
   ],
   "source": [
    "mapper = umap.UMAP().fit(fmnist.data)"
   ]
  },
  {
   "cell_type": "code",
   "execution_count": 5,
   "id": "03ab4ee2",
   "metadata": {},
   "outputs": [
    {
     "data": {
      "text/plain": [
       "(258514, 220, 3)"
      ]
     },
     "execution_count": 5,
     "metadata": {},
     "output_type": "execute_result"
    }
   ],
   "source": [
    "inputs[y_idx].shape"
   ]
  },
  {
   "cell_type": "code",
   "execution_count": 1,
   "id": "60b00cb4",
   "metadata": {},
   "outputs": [],
   "source": [
    "from methods import *"
   ]
  },
  {
   "cell_type": "code",
   "execution_count": 2,
   "id": "ffc26b6e",
   "metadata": {},
   "outputs": [
    {
     "name": "stdout",
     "output_type": "stream",
     "text": [
      "Representations are loaded from folder /mnt/cloud/yzeng58/privateDemographics/data/waterbirds_resnet50_representation!\n"
     ]
    }
   ],
   "source": [
    "(\n",
    "    m,\n",
    "    loader,\n",
    "    optim,\n",
    "    model,\n",
    "    num_domain,\n",
    "    num_group,\n",
    "    lr_scheduler,\n",
    "    device,\n",
    "    n,\n",
    "    num_feature,\n",
    "    num_class,\n",
    ") = exp_init(\n",
    "    'waterbirds',\n",
    "    128,\n",
    "    'y',\n",
    "    'a',\n",
    "    0,\n",
    "    0,\n",
    "    'fairness',\n",
    "    0,\n",
    "    True,\n",
    "    '%s/privateDemographics/models/waterbirds/erm_num_epoch_360_batch_size_128_lr_1e-05_subsample_False_weight_decay_1_best.model' % root_dir,\n",
    "    123,\n",
    "    'erm',\n",
    "    torch.device('cpu'),\n",
    ")"
   ]
  },
  {
   "cell_type": "code",
   "execution_count": 3,
   "id": "cc1728e1",
   "metadata": {},
   "outputs": [
    {
     "ename": "TypeError",
     "evalue": "get_domain_george() missing 1 required positional argument: 'batch_size'",
     "output_type": "error",
     "traceback": [
      "\u001b[0;31m---------------------------------------------------------------------------\u001b[0m",
      "\u001b[0;31mTypeError\u001b[0m                                 Traceback (most recent call last)",
      "Input \u001b[0;32mIn [3]\u001b[0m, in \u001b[0;36m<cell line: 1>\u001b[0;34m()\u001b[0m\n\u001b[0;32m----> 1\u001b[0m results \u001b[38;5;241m=\u001b[39m \u001b[43mget_domain_george\u001b[49m\u001b[43m(\u001b[49m\n\u001b[1;32m      2\u001b[0m \u001b[43m    \u001b[49m\u001b[43mm\u001b[49m\u001b[43m,\u001b[49m\n\u001b[1;32m      3\u001b[0m \u001b[43m    \u001b[49m\u001b[43mloader\u001b[49m\u001b[43m,\u001b[49m\n\u001b[1;32m      4\u001b[0m \u001b[43m    \u001b[49m\u001b[43mnum_domain\u001b[49m\u001b[43m,\u001b[49m\n\u001b[1;32m      5\u001b[0m \u001b[43m    \u001b[49m\u001b[43mnum_class\u001b[49m\u001b[43m,\u001b[49m\n\u001b[1;32m      6\u001b[0m \u001b[43m    \u001b[49m\u001b[38;5;241;43m4\u001b[39;49m\u001b[43m,\u001b[49m\n\u001b[1;32m      7\u001b[0m \u001b[43m    \u001b[49m\u001b[43mdevice\u001b[49m\u001b[43m,\u001b[49m\n\u001b[1;32m      8\u001b[0m \u001b[43m    \u001b[49m\u001b[38;5;241;43m123\u001b[39;49m\u001b[43m,\u001b[49m\n\u001b[1;32m      9\u001b[0m \u001b[43m    \u001b[49m\u001b[38;5;124;43m'\u001b[39;49m\u001b[38;5;124;43mwaterbirds\u001b[39;49m\u001b[38;5;124;43m'\u001b[39;49m\u001b[43m,\u001b[49m\n\u001b[1;32m     10\u001b[0m \u001b[43m    \u001b[49m\u001b[38;5;28;43;01mFalse\u001b[39;49;00m\u001b[43m,\u001b[49m\n\u001b[1;32m     11\u001b[0m \u001b[43m)\u001b[49m\n",
      "\u001b[0;31mTypeError\u001b[0m: get_domain_george() missing 1 required positional argument: 'batch_size'"
     ]
    }
   ],
   "source": [
    "results = get_domain_george(\n",
    "    m,\n",
    "    loader,\n",
    "    num_domain,\n",
    "    num_class,\n",
    "    4,\n",
    "    device,\n",
    "    123,\n",
    "    'waterbirds',\n",
    "    False,\n",
    ")"
   ]
  }
 ],
 "metadata": {
  "kernelspec": {
   "display_name": "Python 3 (ipykernel)",
   "language": "python",
   "name": "python3"
  },
  "language_info": {
   "codemirror_mode": {
    "name": "ipython",
    "version": 3
   },
   "file_extension": ".py",
   "mimetype": "text/x-python",
   "name": "python",
   "nbconvert_exporter": "python",
   "pygments_lexer": "ipython3",
   "version": "3.8.13"
  }
 },
 "nbformat": 4,
 "nbformat_minor": 5
}
