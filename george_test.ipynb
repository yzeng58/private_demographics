{
 "cells": [
  {
   "cell_type": "code",
   "execution_count": 6,
   "id": "60b00cb4",
   "metadata": {},
   "outputs": [],
   "source": [
    "from methods import *"
   ]
  },
  {
   "cell_type": "code",
   "execution_count": null,
   "id": "ffc26b6e",
   "metadata": {},
   "outputs": [],
   "source": [
    "(\n",
    "    m,\n",
    "    loader,\n",
    "    optim,\n",
    "    model,\n",
    "    num_domain,\n",
    "    num_group,\n",
    "    lr_scheduler,\n",
    "    device,\n",
    "    n,\n",
    "    num_feature,\n",
    "    num_class,\n",
    ") = exp_init(\n",
    "    'waterbirds',\n",
    "    128,\n",
    "    'y',\n",
    "    'a',\n",
    "    0,\n",
    "    0,\n",
    "    'fairness',\n",
    "    0,\n",
    "    True,\n",
    "    '%s/privateDemographics/models/waterbirds/erm_num_epoch_360_batch_size_128_lr_1e-05_subsample_False_weight_decay_1_best.model' % root_dir,\n",
    "    123,\n",
    "    'erm',\n",
    "    torch.device('cpu'),\n",
    ")"
   ]
  },
  {
   "cell_type": "code",
   "execution_count": null,
   "id": "cc1728e1",
   "metadata": {},
   "outputs": [],
   "source": [
    "(inputs, true_domain, idx_class, true_group, idx_mode, seed, num_class) = get_domain_george(\n",
    "    loader,\n",
    "    num_domain,\n",
    "    num_class,\n",
    "    123,\n",
    ")"
   ]
  },
  {
   "cell_type": "code",
   "execution_count": 4,
   "id": "586740fd",
   "metadata": {},
   "outputs": [],
   "source": [
    "import umap"
   ]
  },
  {
   "cell_type": "code",
   "execution_count": 5,
   "id": "e932e9e4",
   "metadata": {},
   "outputs": [
    {
     "data": {
      "text/plain": [
       "array([[0.19409668, 0.30253807, 1.0947558 , ..., 0.10340338, 0.15202864,\n",
       "        0.17909712],\n",
       "       [0.22415236, 0.27610946, 0.23466566, ..., 0.41363725, 0.53521776,\n",
       "        0.22774144],\n",
       "       [0.0500347 , 0.26553   , 0.4852127 , ..., 0.6409124 , 0.3142382 ,\n",
       "        0.27291188],\n",
       "       ...,\n",
       "       [0.79879606, 0.5527432 , 0.19613913, ..., 0.39260328, 0.1316437 ,\n",
       "        0.1376287 ],\n",
       "       [0.6854566 , 0.8681218 , 0.1487032 , ..., 0.3264151 , 0.1716453 ,\n",
       "        0.2419265 ],\n",
       "       [0.9258257 , 0.46162254, 0.32339802, ..., 0.41059202, 0.6768534 ,\n",
       "        0.294721  ]], dtype=float32)"
      ]
     },
     "execution_count": 5,
     "metadata": {},
     "output_type": "execute_result"
    }
   ],
   "source": [
    "inputs"
   ]
  },
  {
   "cell_type": "code",
   "execution_count": null,
   "id": "7d1481e2",
   "metadata": {},
   "outputs": [
    {
     "name": "stderr",
     "output_type": "stream",
     "text": [
      "OMP: Info #271: omp_set_nested routine deprecated, please use omp_set_max_active_levels instead.\n"
     ]
    }
   ],
   "source": [
    "for y in range(num_class):\n",
    "    y_idx = idx_class == y\n",
    "    reducer = umap.UMAP(random_state = seed, n_components = 2, n_neighbors = 10, min_dist = 0)\n",
    "    umap_labels = reducer.fit_transform(inputs[y_idx])\n",
    "#     print(np.unique(umap_labels))"
   ]
  },
  {
   "cell_type": "code",
   "execution_count": 1,
   "id": "a51e6a46",
   "metadata": {},
   "outputs": [],
   "source": [
    "import pandas as pd # for data manipulation\n",
    "import numpy as np # for data manipulation\n",
    "\n",
    "# Visualization\n",
    "import plotly.express as px # for data visualization\n",
    "import matplotlib.pyplot as plt # for showing handwritten digits\n",
    "\n",
    "# Skleran\n",
    "from sklearn.datasets import load_digits # for MNIST data\n",
    "from sklearn.model_selection import train_test_split # for splitting data into train and test samples\n",
    "\n",
    "# UMAP dimensionality reduction\n",
    "from umap import UMAP"
   ]
  },
  {
   "cell_type": "code",
   "execution_count": 2,
   "id": "1391b68c",
   "metadata": {},
   "outputs": [
    {
     "name": "stdout",
     "output_type": "stream",
     "text": [
      "Shape of digit images:  (1797, 8, 8)\n",
      "Shape of X (main data):  (1797, 64)\n",
      "Shape of y (true labels):  (1797,)\n"
     ]
    },
    {
     "data": {
      "image/png": "[encoded data removed]",
      "text/plain": [
       "<Figure size 1200x600 with 10 Axes>"
      ]
     },
     "metadata": {},
     "output_type": "display_data"
    }
   ],
   "source": [
    "# Load digits data \n",
    "digits = load_digits()\n",
    "\n",
    "# Load arrays containing digit data (64 pixels per image) and their true labels\n",
    "X, y = load_digits(return_X_y=True)\n",
    "\n",
    "# Some stats\n",
    "print('Shape of digit images: ', digits.images.shape)\n",
    "print('Shape of X (main data): ', X.shape)\n",
    "print('Shape of y (true labels): ', y.shape)\n",
    "\n",
    "# Display images of the first 10 digits\n",
    "fig, axs = plt.subplots(2, 5, sharey=False, tight_layout=True, figsize=(12,6), facecolor='white')\n",
    "n=0\n",
    "plt.gray() \n",
    "for i in range(0,2):\n",
    "    for j in range(0,5):\n",
    "        axs[i,j].matshow(digits.images[n])\n",
    "        axs[i,j].set(title=y[n])\n",
    "        n=n+1\n",
    "plt.show() "
   ]
  },
  {
   "cell_type": "code",
   "execution_count": 3,
   "id": "ec5aa8c1",
   "metadata": {},
   "outputs": [
    {
     "data": {
      "text/plain": [
       "array([[ 0.,  0.,  5., ...,  0.,  0.,  0.],\n",
       "       [ 0.,  0.,  0., ..., 10.,  0.,  0.],\n",
       "       [ 0.,  0.,  0., ..., 16.,  9.,  0.],\n",
       "       ...,\n",
       "       [ 0.,  0.,  1., ...,  6.,  0.,  0.],\n",
       "       [ 0.,  0.,  2., ..., 12.,  0.,  0.],\n",
       "       [ 0.,  0., 10., ..., 12.,  1.,  0.]])"
      ]
     },
     "execution_count": 3,
     "metadata": {},
     "output_type": "execute_result"
    }
   ],
   "source": [
    "X"
   ]
  },
  {
   "cell_type": "code",
   "execution_count": 4,
   "id": "867a0deb",
   "metadata": {},
   "outputs": [
    {
     "name": "stderr",
     "output_type": "stream",
     "text": [
      "OMP: Info #271: omp_set_nested routine deprecated, please use omp_set_max_active_levels instead.\n"
     ]
    }
   ],
   "source": [
    "# Configure UMAP hyperparameters\n",
    "reducer = UMAP(n_neighbors=100, # default 15, The size of local neighborhood (in terms of number of neighboring sample points) used for manifold approximation.\n",
    "               n_components=3, # default 2, The dimension of the space to embed into.\n",
    "               metric='euclidean', # default 'euclidean', The metric to use to compute distances in high dimensional space.\n",
    "               n_epochs=1000, # default None, The number of training epochs to be used in optimizing the low dimensional embedding. Larger values result in more accurate embeddings. \n",
    "               learning_rate=1.0, # default 1.0, The initial learning rate for the embedding optimization.\n",
    "               init='spectral', # default 'spectral', How to initialize the low dimensional embedding. Options are: {'spectral', 'random', A numpy array of initial embedding positions}.\n",
    "               min_dist=0.1, # default 0.1, The effective minimum distance between embedded points.\n",
    "               spread=1.0, # default 1.0, The effective scale of embedded points. In combination with ``min_dist`` this determines how clustered/clumped the embedded points are.\n",
    "               low_memory=False, # default False, For some datasets the nearest neighbor computation can consume a lot of memory. If you find that UMAP is failing due to memory constraints consider setting this option to True.\n",
    "               set_op_mix_ratio=1.0, # default 1.0, The value of this parameter should be between 0.0 and 1.0; a value of 1.0 will use a pure fuzzy union, while 0.0 will use a pure fuzzy intersection.\n",
    "               local_connectivity=1, # default 1, The local connectivity required -- i.e. the number of nearest neighbors that should be assumed to be connected at a local level.\n",
    "               repulsion_strength=1.0, # default 1.0, Weighting applied to negative samples in low dimensional embedding optimization.\n",
    "               negative_sample_rate=5, # default 5, Increasing this value will result in greater repulsive force being applied, greater optimization cost, but slightly more accuracy.\n",
    "               transform_queue_size=4.0, # default 4.0, Larger values will result in slower performance but more accurate nearest neighbor evaluation.\n",
    "               a=None, # default None, More specific parameters controlling the embedding. If None these values are set automatically as determined by ``min_dist`` and ``spread``.\n",
    "               b=None, # default None, More specific parameters controlling the embedding. If None these values are set automatically as determined by ``min_dist`` and ``spread``.\n",
    "               random_state=42, # default: None, If int, random_state is the seed used by the random number generator;\n",
    "               metric_kwds=None, # default None) Arguments to pass on to the metric, such as the ``p`` value for Minkowski distance.\n",
    "               angular_rp_forest=False, # default False, Whether to use an angular random projection forest to initialise the approximate nearest neighbor search.\n",
    "               target_n_neighbors=-1, # default -1, The number of nearest neighbors to use to construct the target simplcial set. If set to -1 use the ``n_neighbors`` value.\n",
    "               #target_metric='categorical', # default 'categorical', The metric used to measure distance for a target array is using supervised dimension reduction. By default this is 'categorical' which will measure distance in terms of whether categories match or are different. \n",
    "               #target_metric_kwds=None, # dict, default None, Keyword argument to pass to the target metric when performing supervised dimension reduction. If None then no arguments are passed on.\n",
    "               #target_weight=0.5, # default 0.5, weighting factor between data topology and target topology.\n",
    "               transform_seed=42, # default 42, Random seed used for the stochastic aspects of the transform operation.\n",
    "               verbose=False, # default False, Controls verbosity of logging.\n",
    "               unique=False, # default False, Controls if the rows of your data should be uniqued before being embedded. \n",
    "              )\n",
    "\n",
    "# Fit and transform the data\n",
    "X_trans = reducer.fit_transform(X)"
   ]
  },
  {
   "cell_type": "code",
   "execution_count": 5,
   "id": "058c1dff",
   "metadata": {},
   "outputs": [
    {
     "data": {
      "text/plain": [
       "array([[ 8.127952 ,  5.784982 , 10.150145 ],\n",
       "       [-2.240992 ,  6.885745 ,  3.9154088],\n",
       "       [-2.1310394,  7.470133 ,  5.1598935],\n",
       "       ...,\n",
       "       [-2.4755106,  7.9232817,  4.9866757],\n",
       "       [-1.3146932,  9.689214 ,  7.4862304],\n",
       "       [-2.4670372,  8.355571 ,  5.6468906]], dtype=float32)"
      ]
     },
     "execution_count": 5,
     "metadata": {},
     "output_type": "execute_result"
    }
   ],
   "source": [
    "X_trans"
   ]
  },
  {
   "cell_type": "code",
   "execution_count": null,
   "id": "d295eb19",
   "metadata": {},
   "outputs": [],
   "source": []
  }
 ],
 "metadata": {
  "kernelspec": {
   "display_name": "Python 3 (ipykernel)",
   "language": "python",
   "name": "python3"
  },
  "language_info": {
   "codemirror_mode": {
    "name": "ipython",
    "version": 3
   },
   "file_extension": ".py",
   "mimetype": "text/x-python",
   "name": "python",
   "nbconvert_exporter": "python",
   "pygments_lexer": "ipython3",
   "version": "3.8.13"
  }
 },
 "nbformat": 4,
 "nbformat_minor": 5
}
