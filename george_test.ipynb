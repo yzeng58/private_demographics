{
 "cells": [
  {
   "cell_type": "code",
   "execution_count": 1,
   "id": "60b00cb4",
   "metadata": {},
   "outputs": [],
   "source": [
    "from methods import *"
   ]
  },
  {
   "cell_type": "code",
   "execution_count": 2,
   "id": "ffc26b6e",
   "metadata": {},
   "outputs": [
    {
     "name": "stdout",
     "output_type": "stream",
     "text": [
      "Representations are loaded from folder /mnt/cloud/yzeng58/privateDemographics/data/waterbirds_resnet50_representation!\n"
     ]
    }
   ],
   "source": [
    "(\n",
    "    m,\n",
    "    loader,\n",
    "    optim,\n",
    "    model,\n",
    "    num_domain,\n",
    "    num_group,\n",
    "    lr_scheduler,\n",
    "    device,\n",
    "    n,\n",
    "    num_feature,\n",
    "    num_class,\n",
    ") = exp_init(\n",
    "    'waterbirds',\n",
    "    128,\n",
    "    'y',\n",
    "    'a',\n",
    "    0,\n",
    "    0,\n",
    "    'fairness',\n",
    "    0,\n",
    "    True,\n",
    "    '%s/privateDemographics/models/waterbirds/erm_num_epoch_360_batch_size_128_lr_1e-05_subsample_False_weight_decay_1_best.model' % root_dir,\n",
    "    123,\n",
    "    'erm',\n",
    "    torch.device('cpu'),\n",
    ")"
   ]
  },
  {
   "cell_type": "code",
   "execution_count": 3,
   "id": "cc1728e1",
   "metadata": {},
   "outputs": [],
   "source": [
    "(inputs, true_domain, idx_class, true_group, idx_mode, seed, num_class) = get_domain_george(\n",
    "    loader,\n",
    "    num_domain,\n",
    "    num_class,\n",
    "    123,\n",
    ")"
   ]
  },
  {
   "cell_type": "code",
   "execution_count": 4,
   "id": "586740fd",
   "metadata": {},
   "outputs": [],
   "source": [
    "import umap"
   ]
  },
  {
   "cell_type": "code",
   "execution_count": 10,
   "id": "444c21df",
   "metadata": {},
   "outputs": [
    {
     "data": {
      "text/plain": [
       "array([[0., 0.],\n",
       "       [0., 0.]])"
      ]
     },
     "execution_count": 10,
     "metadata": {},
     "output_type": "execute_result"
    }
   ],
   "source": [
    "np.zeros((2,2))"
   ]
  },
  {
   "cell_type": "code",
   "execution_count": 5,
   "id": "e932e9e4",
   "metadata": {},
   "outputs": [
    {
     "data": {
      "text/plain": [
       "array([[0.19409652, 0.30253813, 1.0947552 , ..., 0.10340346, 0.15202883,\n",
       "        0.17909719],\n",
       "       [0.22415239, 0.27610916, 0.23466566, ..., 0.41363716, 0.53521764,\n",
       "        0.22774148],\n",
       "       [0.0500348 , 0.26553   , 0.48521304, ..., 0.6409122 , 0.31423807,\n",
       "        0.27291188],\n",
       "       ...,\n",
       "       [0.798796  , 0.552743  , 0.19613914, ..., 0.39260322, 0.13164362,\n",
       "        0.1376287 ],\n",
       "       [0.68545634, 0.86812115, 0.14870302, ..., 0.32641524, 0.17164503,\n",
       "        0.24192645],\n",
       "       [0.9258263 , 0.46162266, 0.32339785, ..., 0.41059187, 0.67685294,\n",
       "        0.29472074]], dtype=float32)"
      ]
     },
     "execution_count": 5,
     "metadata": {},
     "output_type": "execute_result"
    }
   ],
   "source": [
    "inputs"
   ]
  },
  {
   "cell_type": "code",
   "execution_count": 6,
   "id": "7d1481e2",
   "metadata": {},
   "outputs": [],
   "source": [
    "for y in range(num_class):\n",
    "    y_idx = idx_class == y\n",
    "    reducer = umap.UMAP(random_state = seed, n_components = 2, n_neighbors = 10, min_dist = 0)\n",
    "    umap_labels = reducer.fit_transform(inputs[y_idx])\n",
    "#     print(np.unique(umap_labels))"
   ]
  },
  {
   "cell_type": "code",
   "execution_count": 7,
   "id": "9c33ee4b",
   "metadata": {},
   "outputs": [
    {
     "name": "stdout",
     "output_type": "stream",
     "text": [
      "[ 2.9524755  2.998944   3.016039  ... 12.758354  12.767308  12.779216 ]\n"
     ]
    }
   ],
   "source": [
    "print(np.unique(umap_labels))"
   ]
  },
  {
   "cell_type": "code",
   "execution_count": 8,
   "id": "d295eb19",
   "metadata": {},
   "outputs": [
    {
     "data": {
      "text/plain": [
       "array([[ 9.076679 , 11.984409 ],\n",
       "       [ 8.367124 , 10.402316 ],\n",
       "       [ 7.5135937, 11.094875 ],\n",
       "       ...,\n",
       "       [ 9.7546   , 10.051958 ],\n",
       "       [ 8.216393 ,  9.572042 ],\n",
       "       [ 9.030809 , 12.073336 ]], dtype=float32)"
      ]
     },
     "execution_count": 8,
     "metadata": {},
     "output_type": "execute_result"
    }
   ],
   "source": [
    "umap_labels"
   ]
  },
  {
   "cell_type": "code",
   "execution_count": null,
   "id": "32e5efe1",
   "metadata": {},
   "outputs": [],
   "source": []
  }
 ],
 "metadata": {
  "kernelspec": {
   "display_name": "Python 3 (ipykernel)",
   "language": "python",
   "name": "python3"
  },
  "language_info": {
   "codemirror_mode": {
    "name": "ipython",
    "version": 3
   },
   "file_extension": ".py",
   "mimetype": "text/x-python",
   "name": "python",
   "nbconvert_exporter": "python",
   "pygments_lexer": "ipython3",
   "version": "3.8.13"
  }
 },
 "nbformat": 4,
 "nbformat_minor": 5
}
