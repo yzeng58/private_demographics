{
 "cells": [
  {
   "cell_type": "code",
   "execution_count": 3,
   "id": "f665c66b",
   "metadata": {},
   "outputs": [],
   "source": [
    "import os\n",
    "os.chdir('../')\n",
    "import sklearn.datasets as datasets\n",
    "import pandas as pd\n",
    "from collections import defaultdict\n",
    "import numpy as np\n",
    "import matplotlib.pyplot as plt\n",
    "import matplotlib as mpl\n",
    "from datasets import toyData\n",
    "%matplotlib inline"
   ]
  },
  {
   "cell_type": "code",
   "execution_count": 4,
   "id": "b542cc16",
   "metadata": {},
   "outputs": [],
   "source": [
    "root_dir = '/mnt/cloud/yzeng58'"
   ]
  },
  {
   "cell_type": "code",
   "execution_count": 38,
   "id": "2188eb20",
   "metadata": {},
   "outputs": [],
   "source": [
    "def toyData(train_val_test = (0.6,0.2,0.2), seed = 123, var = 0.001, outlier = 1):\n",
    "    np.random.seed(seed)\n",
    "    X, Y, dfs, centers = {}, {}, {}, defaultdict(dict)\n",
    "    \n",
    "    centers[0][0] = [(0,5), (0,3), (0,2), (0,1)]\n",
    "    centers[0][1] = [(1,5), (1,3), (1,2), (1,1)]\n",
    "\n",
    "    centers[1][0] = [(1,4)]\n",
    "    centers[1][1] = [(0,4)]\n",
    "    \n",
    "    cluster_num = 100\n",
    "    for a in centers:\n",
    "        X[a], Y[a] = [], []\n",
    "        for y in centers[a]:\n",
    "            for center in centers[a][y]:\n",
    "                X[a].append(np.random.multivariate_normal(center, np.eye(2)*var, cluster_num))\n",
    "                Y[a].append(np.ones(cluster_num) * y)\n",
    "        X[a], Y[a] = np.concatenate(X[a]), np.concatenate(Y[a])\n",
    "        dfs[a] = pd.DataFrame(X[a], columns = ['x1', 'x2'])\n",
    "        dfs[a]['y'] = Y[a]\n",
    "        dfs[a]['a'] = a\n",
    "        \n",
    "    data_df = pd.concat([dfs[a] for a in centers], ignore_index = True).sample(frac = 1, random_state = seed).reset_index(drop = True)\n",
    "    \n",
    "    split_df = {}\n",
    "    frac_train, frac_val, frac_test = train_val_test\n",
    "    n_tot = len(data_df)\n",
    "    n_train, n_val = int(frac_train*n_tot), int(frac_val*n_tot)\n",
    "    n_test = n_tot - n_train - n_val\n",
    "    split_df['train'], split_df['val'], split_df['test'] = data_df.iloc[:n_train], data_df.iloc[n_train: (n_train + n_val)], data_df.iloc[(n_train + n_val):], \n",
    "    \n",
    "    if outlier: # randomly flip the labels\n",
    "#         outlier_index = split_df['train'].sample(frac = .05, random_state = 2*seed).index.tolist()\n",
    "#         split_df['train'].loc[outlier_index, 'y'] = 1 - split_df['train'].loc[outlier_index].y\n",
    "#         split_df['train'].loc[outlier_index, 'a'] = 2\n",
    "        X = np.random.multivariate_normal((0.5,2.5), np.eye(2)*10, 20)\n",
    "        keep_idx = (X.T[0] >= 1.5) | (X.T[0] <= -0.5) | (X.T[1] >= 6) | (X.T[1] <= 0)\n",
    "        X = X[keep_idx]\n",
    "        num = keep_idx.sum()\n",
    "        Y = np.random.choice([0,1], num)\n",
    "        A = np.random.choice([0,1], num)\n",
    "        outlier_df = pd.DataFrame(X, columns = ['x1', 'x2'])\n",
    "        outlier_df['y'] = Y\n",
    "        outlier_df['a'] = A\n",
    "        split_df['train'] = pd.concat([split_df['train'], outlier_df]).sample(frac = 1, random_state = seed).reset_index(drop = True)\n",
    "    \n",
    "    for mode in ['train', 'val', 'test']:\n",
    "        file_name = '%s/privateDemographics/data/toy/%s_outlier_%d.csv' % (root_dir, mode, outlier)\n",
    "        split_df[mode].to_csv(file_name, index = False)\n",
    "            \n",
    "    return split_df\n"
   ]
  },
  {
   "cell_type": "code",
   "execution_count": 54,
   "id": "bf46b416",
   "metadata": {},
   "outputs": [],
   "source": [
    "def toyData(train_val_test = (0.6,0.2,0.2), seed = 123, var = 0.001, outlier = 1):\n",
    "    np.random.seed(seed)\n",
    "    X, Y, dfs, centers = {}, {}, {}, defaultdict(dict)\n",
    "    \n",
    "    centers[0][0] = [(0,5), (0,3), (0,2), (0,1)]\n",
    "    centers[0][1] = [(1,5), (1,3), (1,2), (1,1)]\n",
    "\n",
    "    centers[1][0] = [(1,4)]\n",
    "    centers[1][1] = [(0,4)]\n",
    "    \n",
    "    cluster_num = 100\n",
    "    for a in centers:\n",
    "        X[a], Y[a] = [], []\n",
    "        for y in centers[a]:\n",
    "            for center in centers[a][y]:\n",
    "                X[a].append(np.random.multivariate_normal(center, np.eye(2)*var, cluster_num))\n",
    "                Y[a].append(np.ones(cluster_num) * y)\n",
    "        X[a], Y[a] = np.concatenate(X[a]), np.concatenate(Y[a])\n",
    "        dfs[a] = pd.DataFrame(X[a], columns = ['x1', 'x2'])\n",
    "        dfs[a]['y'] = Y[a]\n",
    "        dfs[a]['a'] = a\n",
    "        \n",
    "    data_df = pd.concat([dfs[a] for a in centers], ignore_index = True).sample(frac = 1, random_state = seed).reset_index(drop = True)\n",
    "    \n",
    "    split_df = {}\n",
    "    frac_train, frac_val, frac_test = train_val_test\n",
    "    n_tot = len(data_df)\n",
    "    n_train, n_val = int(frac_train*n_tot), int(frac_val*n_tot)\n",
    "    n_test = n_tot - n_train - n_val\n",
    "    split_df['train'], split_df['val'], split_df['test'] = data_df.iloc[:n_train], data_df.iloc[n_train: (n_train + n_val)], data_df.iloc[(n_train + n_val):], \n",
    "    \n",
    "    if outlier: # randomly flip the labels\n",
    "        outlier_index = split_df['train'].sample(frac = .05, random_state = 2*seed).index.tolist()\n",
    "        split_df['train'].loc[outlier_index, 'y'] = 1 - split_df['train'].loc[outlier_index].y\n",
    "        split_df['train'].loc[outlier_index, 'a'] = np.random.choice([0,1], len(outlier_index))\n",
    "    \n",
    "    for mode in ['train', 'val', 'test']:\n",
    "        file_name = '%s/privateDemographics/data/toy/%s_outlier_%d.csv' % (root_dir, mode, outlier)\n",
    "        split_df[mode].to_csv(file_name, index = False)\n",
    "            \n",
    "    return split_df\n"
   ]
  },
  {
   "cell_type": "code",
   "execution_count": 55,
   "id": "eacd2926",
   "metadata": {},
   "outputs": [],
   "source": [
    "df = toyData(var = 0.1, outlier = 1)"
   ]
  },
  {
   "cell_type": "code",
   "execution_count": 56,
   "id": "a0a16bff",
   "metadata": {},
   "outputs": [
    {
     "data": {
      "text/plain": [
       "(array([0, 1, 2]), array([453, 117,  30]))"
      ]
     },
     "execution_count": 56,
     "metadata": {},
     "output_type": "execute_result"
    }
   ],
   "source": [
    "np.unique(df['train'].a, return_counts = True)"
   ]
  },
  {
   "cell_type": "code",
   "execution_count": 98,
   "id": "d32bb66d",
   "metadata": {},
   "outputs": [
    {
     "data": {
      "image/png": "[encoded data removed]",
      "text/plain": [
       "<Figure size 504x288 with 1 Axes>"
      ]
     },
     "metadata": {
      "needs_background": "light"
     },
     "output_type": "display_data"
    }
   ],
   "source": [
    "width = 7\n",
    "height = 4\n",
    "\n",
    "\n",
    "# plt.rc('font', family='serif', serif='times new roman')\n",
    "# plt.rc('text', usetex=True)\n",
    "plt.rc('xtick', labelsize=28)\n",
    "plt.rc('ytick', labelsize=28)\n",
    "plt.rc('axes', labelsize=28)\n",
    "plt.rc('axes', linewidth=1)\n",
    "mpl.rcParams['patch.linewidth']=0.5 #width of the boundary of legend\n",
    "mpl.rcParams['lines.linewidth'] = 2\n",
    "\n",
    "fig, ax = plt.subplots(nrows=1, ncols=1, sharex=True, sharey=True)\n",
    "fig.subplots_adjust(left=.08, bottom=.12, right=0.68, top=0.95, wspace=0.2, hspace=0.05) #margin of the figure\n",
    "fig.set_size_inches(width, height) #exact size of the figure\n",
    "markers = ['o', 'o','s', 's','o','s']\n",
    "colors = ['#073B4C','#DD3497','#06D6A0','#FFD166', '#7A0177','#7A0177']\n",
    "\n",
    "label = ['g=1,y=0','g=2,y=0','g=3,y=1','g=4,y=1','outlier, y=0', 'outlier, y=1']\n",
    "i = -1\n",
    "for y in [0,1]:\n",
    "    for a in range(2):\n",
    "        i+=1\n",
    "        data = df['train'][(df['train'].y == y) & (df['train'].a == a)]\n",
    "        ax.scatter(data.x1, data.x2, c = colors[i], marker = markers[i], label = label[i])\n",
    "        \n",
    "for y in [0,1]:\n",
    "    for a in [2]:\n",
    "        i+=1\n",
    "        data = df['train'][(df['train'].y == y) & (df['train'].a == a)]\n",
    "        ax.scatter(data.x1, data.x2, c = colors[i], marker = markers[i], label = label[i])\n",
    "\n",
    "            # ax.scatter(data.x1, data.x2, c = colors[a], marker = markers[y])\n",
    "ax.legend(bbox_to_anchor=(1,1),fontsize = 15)\n",
    "plt.savefig('%s/privateDemographics/figures/contaminated_syn.pdf' % root_dir)"
   ]
  },
  {
   "cell_type": "code",
   "execution_count": null,
   "id": "a716e6a7",
   "metadata": {},
   "outputs": [],
   "source": [
    "df = {}\n",
    "df[0] = [(0,0.5,0.7), (-1,0.1,0.6), (-1,1,0.8), (-2,0.5), (-3,0.1),(-3,1)]\n",
    "df[1] = [(2,0.1),(2,1),((3,0.5))]"
   ]
  },
  {
   "cell_type": "code",
   "execution_count": null,
   "id": "16d1b0fb",
   "metadata": {},
   "outputs": [],
   "source": []
  }
 ],
 "metadata": {
  "kernelspec": {
   "display_name": "Python 3 (ipykernel)",
   "language": "python",
   "name": "python3"
  },
  "language_info": {
   "codemirror_mode": {
    "name": "ipython",
    "version": 3
   },
   "file_extension": ".py",
   "mimetype": "text/x-python",
   "name": "python",
   "nbconvert_exporter": "python",
   "pygments_lexer": "ipython3",
   "version": "3.8.13"
  }
 },
 "nbformat": 4,
 "nbformat_minor": 5
}
